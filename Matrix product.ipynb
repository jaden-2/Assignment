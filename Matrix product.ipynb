{
 "cells": [
  {
   "cell_type": "code",
   "execution_count": 118,
   "metadata": {},
   "outputs": [],
   "source": [
    "import numpy as np"
   ]
  },
  {
   "cell_type": "code",
   "execution_count": 150,
   "metadata": {},
   "outputs": [],
   "source": [
    "import numpy as np\n",
    "a = np.array([[-1, 2, 3], [4, -5, 6], [7, 8, -9]])\n",
    "b = np.array([[0, 2, 1], [0, 2, -8], [2, 9, -1]])\n",
    "\n",
    "\n"
   ]
  },
  {
   "cell_type": "markdown",
   "metadata": {},
   "source": [
    "## Problem 1\n",
    "\n",
    "##### Solve the matrix product of A and B by hand\n",
    "\n",
    "To find the matrix product of A and B, the number of columns of A should be equal to the number of columns in B\n",
    "\n",
    "In this case both A and B are 3 by 3  matrices\n",
    "By multiplying each row in A by each column in B\n",
    "#### A.B = {\n",
    "    (-1*0) + (2*0) + (3*2)     (-1*2) + (2*2) + (3*9)    (-1*1) + (2*8) + (3*-1)\n",
    "    (1*0) + (-5*0) + (6*2)     (4*2) + (-5*2) + (6*9)     (4*1) + (-5*-8) + (6*-1)\n",
    "    (7*0) + (8*0) + (-9*2)      (7*2) + (8*2) + (-9*9)     (7*1) + (8*-8) + (-9*-1)\n",
    "}\n",
    "\n",
    "#### A.B = {\n",
    "    0+0+6       -2+4+27     -1-16-3\n",
    "    0+0+12       8-10+27     4+40-6\n",
    "    0+0-18       14+16-81    7-64+9\n",
    "}\n",
    "\n",
    "#### A.B = {\n",
    "    6   29  -20\n",
    "    12  52   38\n",
    "    -18 -51  48\n",
    "}\n"
   ]
  },
  {
   "cell_type": "markdown",
   "metadata": {},
   "source": [
    "### Problem 2"
   ]
  },
  {
   "cell_type": "code",
   "execution_count": 151,
   "metadata": {},
   "outputs": [
    {
     "name": "stdout",
     "output_type": "stream",
     "text": [
      "Using np.matmul: \n",
      " [[  6  29 -20]\n",
      " [ 12  52  38]\n",
      " [-18 -51 -48]]\n",
      "\n",
      "Using dot method: \n",
      " [[  6  29 -20]\n",
      " [ 12  52  38]\n",
      " [-18 -51 -48]]\n",
      "\n",
      "Using @:\n",
      " [[  6  29 -20]\n",
      " [ 12  52  38]\n",
      " [-18 -51 -48]]\n"
     ]
    }
   ],
   "source": [
    "matmul = np.matmul(a, b)\n",
    "\n",
    "dot_product = np.dot(a, b)\n",
    "\n",
    "at = a @ b\n",
    "\n",
    "print(f\"Using np.matmul: \\n {matmul}\\n\")\n",
    "\n",
    "print(f\"Using dot method: \\n {dot_product}\\n\")\n",
    "\n",
    "print(f\"Using @:\\n {at}\")"
   ]
  },
  {
   "cell_type": "markdown",
   "metadata": {},
   "source": [
    "### problem 3"
   ]
  },
  {
   "cell_type": "code",
   "execution_count": 156,
   "metadata": {},
   "outputs": [
    {
     "name": "stdout",
     "output_type": "stream",
     "text": [
      "[[  6  29 -20]\n",
      " [ 12  52  38]\n",
      " [-18 -51 -48]]\n",
      "Verifying my solution by comparing output using numpy inbuilt function \n",
      " [[ True  True  True]\n",
      " [ True  True  True]\n",
      " [ True  True  True]]\n"
     ]
    }
   ],
   "source": [
    "result = []\n",
    "c = b.T #tranposing b to make selection of column values easy\n",
    "outer = 0\n",
    "columns = a.shape[0]\n",
    "\n",
    "\"\"\"The while loop runs (row a * row b.T) times, which is same\n",
    "as (row a * column b) times because each row of a multiplies each column of b\"\"\"\n",
    "while outer < columns:\n",
    "    inner = 0\n",
    "    rows = c.shape[0] # number of columns in transposed b\n",
    "    while inner < rows:\n",
    "        result.append((a[outer] * c[inner]).sum())\n",
    "        inner += 1\n",
    "    outer += 1\n",
    "# because I transposed b, the shape of the new array is (row a, row b) \n",
    "result = np.array(result).reshape((a.shape[0], c.shape[0])) \n",
    "print(result)\n",
    "\n",
    "print(f\"Verifying my solution by comparing output using numpy inbuilt function \\n {result == a@b}\")"
   ]
  },
  {
   "cell_type": "markdown",
   "metadata": {},
   "source": [
    "### Problem 4"
   ]
  },
  {
   "cell_type": "code",
   "execution_count": 157,
   "metadata": {},
   "outputs": [],
   "source": [
    "def mat_multiply(a, b):\n",
    "    \"\"\"Performs a matrix multiplication between a and b\"\"\"\n",
    "    result = []\n",
    "    b = b.T #tranposing b to make selection of column values easy\n",
    "    outer = 0\n",
    "    columns = a.shape[0]\n",
    "    \"\"\"The while loop runs (row a * row b.T) times, which is same\n",
    "    as (row a * column b) times because each row of a multiplies each column of b\"\"\"\n",
    "    while outer < columns:\n",
    "        inner = 0\n",
    "        rows = b.shape[0] # number of columns in transposed b\n",
    "        while inner < rows:\n",
    "            result.append((a[outer] * b[inner]).sum())\n",
    "            inner += 1\n",
    "        outer += 1\n",
    "    # because I transposed b, the shape of the new array is (row a, row b) \n",
    "    result = np.array(result).reshape((a.shape[0], b.shape[0])) \n",
    "    return result\n",
    "\n",
    "   \n"
   ]
  },
  {
   "cell_type": "code",
   "execution_count": 158,
   "metadata": {},
   "outputs": [
    {
     "name": "stdout",
     "output_type": "stream",
     "text": [
      "[[  6  29 -20]\n",
      " [ 12  52  38]\n",
      " [-18 -51 -48]]\n"
     ]
    }
   ],
   "source": [
    "print(mat_multiply(a, b))\n",
    "\n"
   ]
  },
  {
   "cell_type": "markdown",
   "metadata": {},
   "source": [
    "### Problem 5"
   ]
  },
  {
   "cell_type": "code",
   "execution_count": 160,
   "metadata": {},
   "outputs": [
    {
     "name": "stdout",
     "output_type": "stream",
     "text": [
      "Number of columns in A: 3 must be equal to number of rows in B: 4\n"
     ]
    }
   ],
   "source": [
    "def mat_multiply(a, b):\n",
    "    \"\"\"Performs a matrix multiplication between a and b\"\"\"\n",
    "    result = []\n",
    "    c = b.T #tranposing b to make selection of column values easy\n",
    "    outer = 0\n",
    "    columns = a.shape[0]\n",
    "    \"\"\"The while loop runs (row a * row b.T) times, which is same\n",
    "    as (row a * column b) times because each row of a multiplies each column of b\"\"\"\n",
    "    try:\n",
    "        if a.shape[1] != b.shape[0]:\n",
    "            raise ValueError\n",
    "    except ValueError:\n",
    "        \n",
    "        print(f\"Number of columns in A: {a.shape[1]} must be equal to number of rows in B: {b.shape[0]}\")\n",
    "    # because I transposed b, the shape of the new array is (row a, row b) \n",
    "    else:\n",
    "        while outer < columns:\n",
    "            inner = 0\n",
    "            rows = c.shape[0] # number of columns in transposed b\n",
    "            while inner < rows:\n",
    "                result.append((a[outer] * c[inner]).sum())\n",
    "                inner += 1\n",
    "            outer += 1\n",
    "        result = np.array(result).reshape((a.shape[0], b.shape[0])) \n",
    "        return result\n",
    "\n",
    "test = np.random.randint(3, 10, (4, 6))\n",
    "\n",
    "mat_multiply(a, test)"
   ]
  },
  {
   "cell_type": "markdown",
   "metadata": {},
   "source": [
    "### Problem 6"
   ]
  },
  {
   "cell_type": "code",
   "execution_count": 161,
   "metadata": {},
   "outputs": [
    {
     "name": "stdout",
     "output_type": "stream",
     "text": [
      "[[ 15 -48  27]\n",
      " [ -2 -74 -49]\n",
      " [  3  84  69]] \n",
      "\n",
      "[[ True  True  True]\n",
      " [ True  True  True]\n",
      " [ True  True  True]]\n"
     ]
    }
   ],
   "source": [
    "a = a.T\n",
    "b = b.T\n",
    "\n",
    "print(mat_multiply(a, b), \"\\n\")\n",
    "\n",
    "#confirming my answer\n",
    "print(mat_multiply(a, b) == a@b)"
   ]
  }
 ],
 "metadata": {
  "kernelspec": {
   "display_name": "Python 3",
   "language": "python",
   "name": "python3"
  },
  "language_info": {
   "codemirror_mode": {
    "name": "ipython",
    "version": 3
   },
   "file_extension": ".py",
   "mimetype": "text/x-python",
   "name": "python",
   "nbconvert_exporter": "python",
   "pygments_lexer": "ipython3",
   "version": "3.11.6"
  }
 },
 "nbformat": 4,
 "nbformat_minor": 2
}
