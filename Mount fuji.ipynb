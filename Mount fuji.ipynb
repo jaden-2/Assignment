{
 "cells": [
  {
   "cell_type": "code",
   "execution_count": 13,
   "metadata": {},
   "outputs": [
    {
     "name": "stdout",
     "output_type": "stream",
     "text": [
      "It will take 27 folds to exceed mount Fuji\n"
     ]
    }
   ],
   "source": [
    "import math\n",
    "\"\"\"\n",
    "Units are in meter\n",
    "\"\"\"\n",
    "def foldPaper(numOfFolds):\n",
    "    \"\"\"Folds paper numOfFolds number of times and returns the thickness\"\"\"\n",
    "    THICKNESS = 0.00008\n",
    "    folded_thickness = 0\n",
    "\n",
    "    for x in range(numOfFolds):\n",
    "        folded_thickness = THICKNESS*(2**x)\n",
    "    return folded_thickness\n",
    "\n",
    "x = 1\n",
    "while True:\n",
    "    hieght_fuji = 3776\n",
    "\n",
    "    paperThickness = foldPaper(x)\n",
    "    if paperThickness >= hieght_fuji:\n",
    "        break\n",
    "    x+=1\n",
    "\n",
    "print(f\"It will take {x} folds to exceed mount Fuji\")"
   ]
  },
  {
   "cell_type": "code",
   "execution_count": 11,
   "metadata": {},
   "outputs": [
    {
     "name": "stdout",
     "output_type": "stream",
     "text": [
      "It would take 27 folds to exceed 3776m\n",
      "It would take 70 folds to exceed 4.0175e+16m\n",
      "It would take 35 folds to exceed 703687.44m\n"
     ]
    }
   ],
   "source": [
    "def fold2height(height):\n",
    "    \"\"\"Calculates number of times a paper would need to be folded to get to reach height\"\"\"\n",
    "    x = 1\n",
    "    while True:\n",
    "        paperThickness = foldPaper(x)\n",
    "        if paperThickness >= height:\n",
    "            break\n",
    "        x+=1\n",
    "    print(f\"It would take {x} folds to exceed {height}m\")\n",
    "    return x\n",
    "\n",
    "#folds to exceed mount Fuji\n",
    "fuji = fold2height(3776)\n",
    "\n",
    "#folds to exceed the Proxima Centauri\n",
    "proxima = fold2height(4.0175e16)\n",
    "\n",
    "#folds to exceed the moon\n",
    "moon = fold2height(703687.44)"
   ]
  },
  {
   "cell_type": "code",
   "execution_count": 17,
   "metadata": {},
   "outputs": [
    {
     "name": "stdout",
     "output_type": "stream",
     "text": [
      "You will need 5.838321440440139e+37 meters of paper to reach the Proxima Centauri\n",
      "You will need 4.945250617145761e+16 meters of paper to reach the moon\n",
      "You will need 754585377082.66 meters of paper to reach the Mount Fuji\n"
     ]
    }
   ],
   "source": [
    "def req_paper_len(n):\n",
    "    \"\"\"Returns the length of paper needed to get n folds of paper\n",
    "    Unit is in meter\n",
    "    \"\"\"\n",
    "    THICKNESS = 8e-5\n",
    "    b = (pow(2, n) + 4) * (pow(2, n) - 1)\n",
    "    a = (math.pi * THICKNESS)/6\n",
    "\n",
    "    return round(a * b, 2)\n",
    "\n",
    "print(f\"You will need {req_paper_len(proxima)} meters of paper to reach the Proxima Centauri\")\n",
    "\n",
    "print(f\"You will need {req_paper_len(moon)} meters of paper to reach the moon\")\n",
    "\n",
    "print(f\"You will need {req_paper_len(fuji)} meters of paper to reach the Mount Fuji\")"
   ]
  }
 ],
 "metadata": {
  "kernelspec": {
   "display_name": "Python 3",
   "language": "python",
   "name": "python3"
  },
  "language_info": {
   "codemirror_mode": {
    "name": "ipython",
    "version": 3
   },
   "file_extension": ".py",
   "mimetype": "text/x-python",
   "name": "python",
   "nbconvert_exporter": "python",
   "pygments_lexer": "ipython3",
   "version": "3.11.6"
  }
 },
 "nbformat": 4,
 "nbformat_minor": 2
}
