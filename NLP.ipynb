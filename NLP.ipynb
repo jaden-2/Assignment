{
<<<<<<< HEAD
 "cells": [
  {
   "cell_type": "code",
   "execution_count": 1,
   "metadata": {},
   "outputs": [],
   "source": [
    "from sklearn.datasets import load_files\n",
    "import re \n",
    "import pandas as pd\n",
    "import numpy as np\n",
    "pattern = r'https?://\\S+|www\\.\\S+|[.,;/!\\n\\-@#$%^&*()_+=\\[\\]{}|\\\\:\"<>?`~\\']'\n",
    "\n"
   ]
  },
  {
   "cell_type": "code",
   "execution_count": 2,
   "metadata": {},
   "outputs": [
    {
     "data": {
      "text/plain": [
       "['neg', 'pos']"
      ]
     },
     "execution_count": 2,
     "metadata": {},
     "output_type": "execute_result"
    }
   ],
   "source": [
    "train = load_files(\"./data/aclImdb/train\", encoding=\"utf8\")\n",
    "x_train, y_train = train.data, train.target\n",
    "\n",
    "test = load_files(\"./data/aclImdb/test\")\n",
    "x_test, y_test = test.data, test.target\n",
    "\n",
    "train.target_names"
   ]
  },
  {
   "cell_type": "markdown",
   "metadata": {},
   "source": [
    "#### Problem 1"
   ]
  },
  {
   "cell_type": "code",
   "execution_count": 3,
   "metadata": {},
   "outputs": [],
   "source": [
    "sentences = {\n",
    "    \"sent1\": \"This movie is SOOOO funny!!!\", \n",
    "    \"sent2\": \"What a movie! I never\", \n",
    "    \"sent3\": \"best movie ever!!!!! this movie\"\n",
    "}\n",
    "\n",
    "\n",
    "def replace_and_retain_newlines(match):\n",
    "    return '\\n' if match.group(0) == '\\n' else ''\n",
    "\n",
    "#proccessing text\n",
    "def processText(sentences):\n",
    "    word = \"\\n\".join(sentences)\n",
    "    sentences = re.sub(pattern, replace_and_retain_newlines, word).lower().strip().split(\"\\n\")\n",
    "    return sentences\n",
    "\n",
    "\n",
    "\n",
    "#Bag of words algorithm\n",
    "def bagOfWords(words, dimiliter=\" \", max_features=None):\n",
    "    #join sentences without losing position\n",
    "    sentence = \"\\n\".join(words)\n",
    "    word = \" \".join(words)\n",
    "\n",
    "    # get keys \n",
    "    keys = set(word.split(dimiliter)) \n",
    "\n",
    "    # maximum features to be selected\n",
    "    if max_features is None:\n",
    "        max_features = len(keys)     \n",
    "    keys = list(keys)[:max_features]\n",
    "    # stores words in each sentence\n",
    "    temp = pd.Series(sentence.split(\"\\n\")).apply(str.split)\n",
    "    frame = pd.DataFrame(np.zeros((len(words), len(keys))), columns=keys)\n",
    "\n",
    "    #O(t) = max_features\n",
    "    for key in keys:  \n",
    "        frame[key] = temp.apply(lambda x: x.count(key))\n",
    "\n",
    "    return frame\n",
    "\n",
    "#n-gram algorithm\n",
    "def ngram(words, n):\n",
    "    rows = len(words)\n",
    "    result = []\n",
    "    for i in range(rows):#loops through each sentence in list\n",
    "        test = words[i].split()\n",
    "        word = \"\"\n",
    "        loop = len(test) -n + 1\n",
    "        for j in range(loop):# joins the first n words in sentence\n",
    "            word += \" \".join(test[j:j+n]) + \" \"\n",
    "            # if j == loop -1:\n",
    "            #     continue\n",
    "            word += \", \"\n",
    "        \n",
    "        result.append(word)\n",
    "\n",
    "    \n",
    "    return result\n",
    "\n",
    "\n"
   ]
  },
  {
   "cell_type": "code",
   "execution_count": 4,
   "metadata": {},
   "outputs": [
    {
     "data": {
      "text/plain": [
       "['this movie is soooo funny',\n",
       " 'what a movie i never',\n",
       " 'best movie ever this movie']"
      ]
     },
     "execution_count": 4,
     "metadata": {},
     "output_type": "execute_result"
    }
   ],
   "source": [
    "values = processText(list(sentences.values()))\n",
    "values"
   ]
  },
  {
   "cell_type": "code",
   "execution_count": 36,
   "metadata": {},
   "outputs": [
    {
     "data": {
      "text/html": [
       "<div>\n",
       "<style scoped>\n",
       "    .dataframe tbody tr th:only-of-type {\n",
       "        vertical-align: middle;\n",
       "    }\n",
       "\n",
       "    .dataframe tbody tr th {\n",
       "        vertical-align: top;\n",
       "    }\n",
       "\n",
       "    .dataframe thead th {\n",
       "        text-align: right;\n",
       "    }\n",
       "</style>\n",
       "<table border=\"1\" class=\"dataframe\">\n",
       "  <thead>\n",
       "    <tr style=\"text-align: right;\">\n",
       "      <th></th>\n",
       "      <th>is</th>\n",
       "      <th>movie</th>\n",
       "      <th>soooo</th>\n",
       "      <th>i</th>\n",
       "      <th>never</th>\n",
       "      <th>ever</th>\n",
       "      <th>what</th>\n",
       "      <th>this</th>\n",
       "      <th>best</th>\n",
       "      <th>a</th>\n",
       "      <th>funny</th>\n",
       "    </tr>\n",
       "  </thead>\n",
       "  <tbody>\n",
       "    <tr>\n",
       "      <th>0</th>\n",
       "      <td>1</td>\n",
       "      <td>1</td>\n",
       "      <td>1</td>\n",
       "      <td>0</td>\n",
       "      <td>0</td>\n",
       "      <td>0</td>\n",
       "      <td>0</td>\n",
       "      <td>1</td>\n",
       "      <td>0</td>\n",
       "      <td>0</td>\n",
       "      <td>1</td>\n",
       "    </tr>\n",
       "    <tr>\n",
       "      <th>1</th>\n",
       "      <td>0</td>\n",
       "      <td>1</td>\n",
       "      <td>0</td>\n",
       "      <td>1</td>\n",
       "      <td>1</td>\n",
       "      <td>0</td>\n",
       "      <td>1</td>\n",
       "      <td>0</td>\n",
       "      <td>0</td>\n",
       "      <td>1</td>\n",
       "      <td>0</td>\n",
       "    </tr>\n",
       "    <tr>\n",
       "      <th>2</th>\n",
       "      <td>0</td>\n",
       "      <td>2</td>\n",
       "      <td>0</td>\n",
       "      <td>0</td>\n",
       "      <td>0</td>\n",
       "      <td>1</td>\n",
       "      <td>0</td>\n",
       "      <td>1</td>\n",
       "      <td>1</td>\n",
       "      <td>0</td>\n",
       "      <td>0</td>\n",
       "    </tr>\n",
       "  </tbody>\n",
       "</table>\n",
       "</div>"
      ],
      "text/plain": [
       "   is  movie  soooo  i  never  ever  what  this  best  a  funny\n",
       "0   1      1      1  0      0     0     0     1     0  0      1\n",
       "1   0      1      0  1      1     0     1     0     0  1      0\n",
       "2   0      2      0  0      0     1     0     1     1  0      0"
      ]
     },
     "execution_count": 36,
     "metadata": {},
     "output_type": "execute_result"
    }
   ],
   "source": [
    "h = bagOfWords(values)\n",
    "h"
   ]
  },
  {
   "cell_type": "code",
   "execution_count": 12,
   "metadata": {},
   "outputs": [
    {
     "data": {
      "text/plain": [
       "0    1.0\n",
       "1    1.0\n",
       "2    1.0\n",
       "dtype: float64"
      ]
     },
     "execution_count": 12,
     "metadata": {},
     "output_type": "execute_result"
    }
   ],
   "source": [
    "np.sum(h.apply(lambda x: x/np.sum(x), axis=1), axis=1)"
   ]
  },
  {
   "cell_type": "code",
   "execution_count": 46,
   "metadata": {},
   "outputs": [
    {
     "data": {
      "text/html": [
       "<div>\n",
       "<style scoped>\n",
       "    .dataframe tbody tr th:only-of-type {\n",
       "        vertical-align: middle;\n",
       "    }\n",
       "\n",
       "    .dataframe tbody tr th {\n",
       "        vertical-align: top;\n",
       "    }\n",
       "\n",
       "    .dataframe thead th {\n",
       "        text-align: right;\n",
       "    }\n",
       "</style>\n",
       "<table border=\"1\" class=\"dataframe\">\n",
       "  <thead>\n",
       "    <tr style=\"text-align: right;\">\n",
       "      <th></th>\n",
       "      <th></th>\n",
       "      <th>a movie</th>\n",
       "      <th>movie i</th>\n",
       "      <th>what a</th>\n",
       "      <th>movie ever</th>\n",
       "      <th>soooo funny</th>\n",
       "      <th>movie is</th>\n",
       "      <th>this movie</th>\n",
       "      <th>is soooo</th>\n",
       "      <th>i never</th>\n",
       "      <th>best movie</th>\n",
       "      <th>ever this</th>\n",
       "    </tr>\n",
       "  </thead>\n",
       "  <tbody>\n",
       "    <tr>\n",
       "      <th>0</th>\n",
       "      <td>0</td>\n",
       "      <td>0</td>\n",
       "      <td>0</td>\n",
       "      <td>0</td>\n",
       "      <td>0</td>\n",
       "      <td>0</td>\n",
       "      <td>0</td>\n",
       "      <td>0</td>\n",
       "      <td>0</td>\n",
       "      <td>0</td>\n",
       "      <td>0</td>\n",
       "      <td>0</td>\n",
       "    </tr>\n",
       "    <tr>\n",
       "      <th>1</th>\n",
       "      <td>0</td>\n",
       "      <td>0</td>\n",
       "      <td>0</td>\n",
       "      <td>0</td>\n",
       "      <td>0</td>\n",
       "      <td>0</td>\n",
       "      <td>0</td>\n",
       "      <td>0</td>\n",
       "      <td>0</td>\n",
       "      <td>0</td>\n",
       "      <td>0</td>\n",
       "      <td>0</td>\n",
       "    </tr>\n",
       "    <tr>\n",
       "      <th>2</th>\n",
       "      <td>0</td>\n",
       "      <td>0</td>\n",
       "      <td>0</td>\n",
       "      <td>0</td>\n",
       "      <td>0</td>\n",
       "      <td>0</td>\n",
       "      <td>0</td>\n",
       "      <td>0</td>\n",
       "      <td>0</td>\n",
       "      <td>0</td>\n",
       "      <td>0</td>\n",
       "      <td>0</td>\n",
       "    </tr>\n",
       "  </tbody>\n",
       "</table>\n",
       "</div>"
      ],
      "text/plain": [
       "      a movie   movie i    what a   movie ever   soooo funny   movie is   \\\n",
       "0  0         0         0         0            0             0          0   \n",
       "1  0         0         0         0            0             0          0   \n",
       "2  0         0         0         0            0             0          0   \n",
       "\n",
       "   this movie   is soooo   i never    best movie   ever this   \n",
       "0            0          0         0             0           0  \n",
       "1            0          0         0             0           0  \n",
       "2            0          0         0             0           0  "
      ]
     },
     "execution_count": 46,
     "metadata": {},
     "output_type": "execute_result"
    }
   ],
   "source": [
    "\n",
    "bi = ngram(values, 2)\n",
    "\n",
    "bagOfWords(bi, \", \")\n"
   ]
  },
  {
   "cell_type": "markdown",
   "metadata": {},
   "source": [
    "#### Problem 2"
   ]
  },
  {
   "cell_type": "code",
   "execution_count": 47,
   "metadata": {},
   "outputs": [],
   "source": [
    "from sklearn.feature_extraction.text import TfidfTransformer, CountVectorizer\n",
    "from sklearn.linear_model import LogisticRegression\n"
   ]
  },
  {
   "cell_type": "markdown",
   "metadata": {},
   "source": [
    "#### Problem 3"
   ]
  },
  {
   "cell_type": "code",
   "execution_count": 52,
   "metadata": {},
   "outputs": [],
   "source": [
    "vect = CountVectorizer(stop_words=\"english\", max_features=5000)\n",
    "transformer = TfidfTransformer(norm=None)\n",
    "b_train = transformer.fit_transform(vect.fit_transform(x_train).toarray())\n",
    "b_test = transformer.fit_transform(vect.fit_transform(x_test).toarray())\n"
   ]
  },
  {
   "cell_type": "code",
   "execution_count": 216,
   "metadata": {},
   "outputs": [],
   "source": [
    "model = LogisticRegression(penalty=\"l2\", max_iter=500).fit(b_train, y_train)\n",
    "model.score(b_test, y_test)"
   ]
  },
  {
   "cell_type": "markdown",
   "metadata": {},
   "source": [
    "#### Problem 4: Scratch mounting of TF-IDF "
   ]
  },
  {
   "cell_type": "markdown",
   "metadata": {},
   "source": [
    "##### Standard implementation"
   ]
  },
  {
   "cell_type": "code",
   "execution_count": 83,
   "metadata": {},
   "outputs": [],
   "source": [
    "# Standard implementation of TF-IDF\n",
    "\n",
    "# Term frequency = number of repititions of words in sentence /number of words in sentence\n",
    "\n",
    "# Inverse document frequency= log{number of sentences/number of sentences containing word}\n",
    "\n",
    "class TfIdfVectorizer:\n",
    "    def __init__(self) -> None:\n",
    "        pass\n",
    "\n",
    "    def fit_transform(self, words):\n",
    "        self.__bagOfWords(words)\n",
    "        numofsent = self.frame.shape[0] # number of sentences\n",
    "        tf = self.frame.apply(lambda x: x/np.sum(x), axis=1) # frequency of words in sentence / total words in sentence\n",
    "        idf = np.log(numofsent / self.frame.apply(lambda x: np.sum(x!=0), axis=0)) # log {number of sentences / number of sentences containing word}\n",
    "\n",
    "        return tf*idf\n",
    "        \n",
    "    \n",
    "\n",
    "    def __bagOfWords(self, words, dimiliter=\" \", max_features=None):\n",
    "        #join sentences without losing position\n",
    "        sentence = \"\\n\".join(words)\n",
    "        word = \" \".join(words)\n",
    "\n",
    "        # get keys \n",
    "        keys = set(word.split(dimiliter)) \n",
    "\n",
    "        # maximum features to be selected\n",
    "        if max_features is None:\n",
    "            max_features = len(keys)     \n",
    "        self.keys = list(keys)[:max_features]\n",
    "        # stores words in each sentence\n",
    "        temp = pd.Series(sentence.split(\"\\n\")).apply(str.split)\n",
    "        frame = pd.DataFrame(np.zeros((len(words), len(self.keys))), columns=self.keys)\n",
    "\n",
    "        #O(t) = max_features\n",
    "        for key in self.keys:  \n",
    "            frame[key] = temp.apply(lambda x: x.count(key))\n",
    "\n",
    "        self.frame = frame"
   ]
  },
  {
   "cell_type": "code",
   "execution_count": 41,
   "metadata": {},
   "outputs": [
    {
     "data": {
      "text/plain": [
       "['this movie is soooo funny',\n",
       " 'what a movie i never',\n",
       " 'best movie ever this movie']"
      ]
     },
     "execution_count": 41,
     "metadata": {},
     "output_type": "execute_result"
    }
   ],
   "source": [
    "values"
   ]
  },
  {
   "cell_type": "code",
   "execution_count": 84,
   "metadata": {},
   "outputs": [
    {
     "data": {
      "text/html": [
       "<div>\n",
       "<style scoped>\n",
       "    .dataframe tbody tr th:only-of-type {\n",
       "        vertical-align: middle;\n",
       "    }\n",
       "\n",
       "    .dataframe tbody tr th {\n",
       "        vertical-align: top;\n",
       "    }\n",
       "\n",
       "    .dataframe thead th {\n",
       "        text-align: right;\n",
       "    }\n",
       "</style>\n",
       "<table border=\"1\" class=\"dataframe\">\n",
       "  <thead>\n",
       "    <tr style=\"text-align: right;\">\n",
       "      <th></th>\n",
       "      <th>is</th>\n",
       "      <th>movie</th>\n",
       "      <th>soooo</th>\n",
       "      <th>i</th>\n",
       "      <th>never</th>\n",
       "      <th>ever</th>\n",
       "      <th>what</th>\n",
       "      <th>this</th>\n",
       "      <th>best</th>\n",
       "      <th>a</th>\n",
       "      <th>funny</th>\n",
       "    </tr>\n",
       "  </thead>\n",
       "  <tbody>\n",
       "    <tr>\n",
       "      <th>0</th>\n",
       "      <td>0.219722</td>\n",
       "      <td>0.0</td>\n",
       "      <td>0.219722</td>\n",
       "      <td>0.000000</td>\n",
       "      <td>0.000000</td>\n",
       "      <td>0.000000</td>\n",
       "      <td>0.000000</td>\n",
       "      <td>0.081093</td>\n",
       "      <td>0.000000</td>\n",
       "      <td>0.000000</td>\n",
       "      <td>0.219722</td>\n",
       "    </tr>\n",
       "    <tr>\n",
       "      <th>1</th>\n",
       "      <td>0.000000</td>\n",
       "      <td>0.0</td>\n",
       "      <td>0.000000</td>\n",
       "      <td>0.219722</td>\n",
       "      <td>0.219722</td>\n",
       "      <td>0.000000</td>\n",
       "      <td>0.219722</td>\n",
       "      <td>0.000000</td>\n",
       "      <td>0.000000</td>\n",
       "      <td>0.219722</td>\n",
       "      <td>0.000000</td>\n",
       "    </tr>\n",
       "    <tr>\n",
       "      <th>2</th>\n",
       "      <td>0.000000</td>\n",
       "      <td>0.0</td>\n",
       "      <td>0.000000</td>\n",
       "      <td>0.000000</td>\n",
       "      <td>0.000000</td>\n",
       "      <td>0.219722</td>\n",
       "      <td>0.000000</td>\n",
       "      <td>0.081093</td>\n",
       "      <td>0.219722</td>\n",
       "      <td>0.000000</td>\n",
       "      <td>0.000000</td>\n",
       "    </tr>\n",
       "  </tbody>\n",
       "</table>\n",
       "</div>"
      ],
      "text/plain": [
       "         is  movie     soooo         i     never      ever      what  \\\n",
       "0  0.219722    0.0  0.219722  0.000000  0.000000  0.000000  0.000000   \n",
       "1  0.000000    0.0  0.000000  0.219722  0.219722  0.000000  0.219722   \n",
       "2  0.000000    0.0  0.000000  0.000000  0.000000  0.219722  0.000000   \n",
       "\n",
       "       this      best         a     funny  \n",
       "0  0.081093  0.000000  0.000000  0.219722  \n",
       "1  0.000000  0.000000  0.219722  0.000000  \n",
       "2  0.081093  0.219722  0.000000  0.000000  "
      ]
     },
     "execution_count": 84,
     "metadata": {},
     "output_type": "execute_result"
    }
   ],
   "source": [
    "TfIdfVectorizer().fit_transform(values)"
   ]
  },
  {
   "cell_type": "markdown",
   "metadata": {},
   "source": [
    "##### Scikit learn implementation"
   ]
  },
  {
   "cell_type": "code",
   "execution_count": 90,
   "metadata": {},
   "outputs": [],
   "source": [
    "# Scikit learn implementation of TF-IDF\n",
    "\n",
    "# Term frequency = frequency of words \n",
    "\n",
    "# Inverse document frequency= log{1 + number of sentences/ 1 + number of sentences containing word}+1\n",
    "\n",
    "class TfIdfVectorizer2:\n",
    "    def __init__(self) -> None:\n",
    "        pass\n",
    "\n",
    "    def fit_transform(self, words):\n",
    "        self.__bagOfWords(words)\n",
    "        numofsent = self.frame.shape[0] + 1# number of sentences\n",
    "        tf = self.frame # frequency of words\n",
    "        idf = np.log(numofsent / self.frame.apply(lambda x: np.sum(x!=0)+1, axis=0)) + 1 # log {number of sentences / number of sentences containing word}\n",
    "\n",
    "        return tf*idf\n",
    "        \n",
    "    \n",
    "\n",
    "    def __bagOfWords(self, words, dimiliter=\" \", max_features=None):\n",
    "        #join sentences without losing position\n",
    "        sentence = \"\\n\".join(words)\n",
    "        word = \" \".join(words)\n",
    "\n",
    "        # get keys \n",
    "        keys = set(word.split(dimiliter)) \n",
    "\n",
    "        # maximum features to be selected\n",
    "        if max_features is None:\n",
    "            max_features = len(keys)     \n",
    "        self.keys = list(keys)[:max_features]\n",
    "        # stores words in each sentence\n",
    "        temp = pd.Series(sentence.split(\"\\n\")).apply(str.split)\n",
    "        frame = pd.DataFrame(np.zeros((len(words), len(self.keys))), columns=self.keys)\n",
    "\n",
    "        #O(t) = max_features\n",
    "        for key in self.keys:  \n",
    "            frame[key] = temp.apply(lambda x: x.count(key))\n",
    "\n",
    "        self.frame = frame\n"
   ]
  },
  {
   "cell_type": "code",
   "execution_count": 91,
   "metadata": {},
   "outputs": [
    {
     "data": {
      "text/html": [
       "<div>\n",
       "<style scoped>\n",
       "    .dataframe tbody tr th:only-of-type {\n",
       "        vertical-align: middle;\n",
       "    }\n",
       "\n",
       "    .dataframe tbody tr th {\n",
       "        vertical-align: top;\n",
       "    }\n",
       "\n",
       "    .dataframe thead th {\n",
       "        text-align: right;\n",
       "    }\n",
       "</style>\n",
       "<table border=\"1\" class=\"dataframe\">\n",
       "  <thead>\n",
       "    <tr style=\"text-align: right;\">\n",
       "      <th></th>\n",
       "      <th>is</th>\n",
       "      <th>movie</th>\n",
       "      <th>soooo</th>\n",
       "      <th>i</th>\n",
       "      <th>never</th>\n",
       "      <th>ever</th>\n",
       "      <th>what</th>\n",
       "      <th>this</th>\n",
       "      <th>best</th>\n",
       "      <th>a</th>\n",
       "      <th>funny</th>\n",
       "    </tr>\n",
       "  </thead>\n",
       "  <tbody>\n",
       "    <tr>\n",
       "      <th>0</th>\n",
       "      <td>1.693147</td>\n",
       "      <td>1.0</td>\n",
       "      <td>1.693147</td>\n",
       "      <td>0.000000</td>\n",
       "      <td>0.000000</td>\n",
       "      <td>0.000000</td>\n",
       "      <td>0.000000</td>\n",
       "      <td>1.287682</td>\n",
       "      <td>0.000000</td>\n",
       "      <td>0.000000</td>\n",
       "      <td>1.693147</td>\n",
       "    </tr>\n",
       "    <tr>\n",
       "      <th>1</th>\n",
       "      <td>0.000000</td>\n",
       "      <td>1.0</td>\n",
       "      <td>0.000000</td>\n",
       "      <td>1.693147</td>\n",
       "      <td>1.693147</td>\n",
       "      <td>0.000000</td>\n",
       "      <td>1.693147</td>\n",
       "      <td>0.000000</td>\n",
       "      <td>0.000000</td>\n",
       "      <td>1.693147</td>\n",
       "      <td>0.000000</td>\n",
       "    </tr>\n",
       "    <tr>\n",
       "      <th>2</th>\n",
       "      <td>0.000000</td>\n",
       "      <td>2.0</td>\n",
       "      <td>0.000000</td>\n",
       "      <td>0.000000</td>\n",
       "      <td>0.000000</td>\n",
       "      <td>1.693147</td>\n",
       "      <td>0.000000</td>\n",
       "      <td>1.287682</td>\n",
       "      <td>1.693147</td>\n",
       "      <td>0.000000</td>\n",
       "      <td>0.000000</td>\n",
       "    </tr>\n",
       "  </tbody>\n",
       "</table>\n",
       "</div>"
      ],
      "text/plain": [
       "         is  movie     soooo         i     never      ever      what  \\\n",
       "0  1.693147    1.0  1.693147  0.000000  0.000000  0.000000  0.000000   \n",
       "1  0.000000    1.0  0.000000  1.693147  1.693147  0.000000  1.693147   \n",
       "2  0.000000    2.0  0.000000  0.000000  0.000000  1.693147  0.000000   \n",
       "\n",
       "       this      best         a     funny  \n",
       "0  1.287682  0.000000  0.000000  1.693147  \n",
       "1  0.000000  0.000000  1.693147  0.000000  \n",
       "2  1.287682  1.693147  0.000000  0.000000  "
      ]
     },
     "execution_count": 91,
     "metadata": {},
     "output_type": "execute_result"
    }
   ],
   "source": [
    "TfIdfVectorizer2().fit_transform(values)"
   ]
  }
 ],
 "metadata": {
  "kernelspec": {
   "display_name": "Python 3",
   "language": "python",
   "name": "python3"
  },
  "language_info": {
   "codemirror_mode": {
    "name": "ipython",
    "version": 3
   },
   "file_extension": ".py",
   "mimetype": "text/x-python",
   "name": "python",
   "nbconvert_exporter": "python",
   "pygments_lexer": "ipython3",
   "version": "3.12.1"
  }
 },
 "nbformat": 4,
 "nbformat_minor": 2
}
=======
  "cells": [
    {
      "cell_type": "markdown",
      "metadata": {
        "id": "view-in-github",
        "colab_type": "text"
      },
      "source": [
        "<a href=\"https://colab.research.google.com/github/jaden-2/Assignment/blob/master/NLP.ipynb\" target=\"_parent\"><img src=\"https://colab.research.google.com/assets/colab-badge.svg\" alt=\"Open In Colab\"/></a>"
      ]
    },
    {
      "cell_type": "code",
      "execution_count": null,
      "metadata": {
        "colab": {
          "base_uri": "https://localhost:8080/"
        },
        "id": "DOuOH1bzusXb",
        "outputId": "42e60551-0d18-4df1-8ff5-701ef70f8f4b"
      },
      "outputs": [
        {
          "output_type": "stream",
          "name": "stdout",
          "text": [
            "Drive already mounted at /content/drive; to attempt to forcibly remount, call drive.mount(\"/content/drive\", force_remount=True).\n"
          ]
        }
      ],
      "source": [
        "from sklearn.datasets import load_files\n",
        "import re\n",
        "import pandas as pd\n",
        "import numpy as np\n",
        "from google.colab import drive\n",
        "from gensim.models import Word2Vec\n",
        "from matplotlib import pyplot as plt\n",
        "drive.mount(\"/content/drive\")\n",
        "\n",
        "pattern = r'https?://\\S+|www\\.\\S+|[.,;/!\\n\\-@#$%^&*()_+=\\[\\]{}|\\\\:\"<>?`~\\']'\n",
        "\n"
      ]
    },
    {
      "cell_type": "code",
      "source": [
        "!wget http://ai.stanford.edu/~amaas/data/sentiment/aclImdb_v1.tar.gz\n",
        "# Unzip\n",
        "!tar zxf aclImdb_v1.tar.gz\n",
        "# aclImdb/train/unsup removed as unlabeled\n",
        "!rm -rf aclImdb/train/unsup\n",
        "# Show IMDB dataset description\n",
        "!cat aclImdb/README"
      ],
      "metadata": {
        "colab": {
          "base_uri": "https://localhost:8080/"
        },
        "id": "i0adJfDl1yV1",
        "outputId": "3aff7df3-487b-4f89-9997-310b69d75430"
      },
      "execution_count": null,
      "outputs": [
        {
          "output_type": "stream",
          "name": "stdout",
          "text": [
            "--2024-05-26 09:56:01--  http://ai.stanford.edu/~amaas/data/sentiment/aclImdb_v1.tar.gz\n",
            "Resolving ai.stanford.edu (ai.stanford.edu)... 171.64.68.10\n",
            "Connecting to ai.stanford.edu (ai.stanford.edu)|171.64.68.10|:80... connected.\n",
            "HTTP request sent, awaiting response... 200 OK\n",
            "Length: 84125825 (80M) [application/x-gzip]\n",
            "Saving to: ‘aclImdb_v1.tar.gz.3’\n",
            "\n",
            "aclImdb_v1.tar.gz.3 100%[===================>]  80.23M  17.7MB/s    in 7.9s    \n",
            "\n",
            "2024-05-26 09:56:09 (10.1 MB/s) - ‘aclImdb_v1.tar.gz.3’ saved [84125825/84125825]\n",
            "\n",
            "Large Movie Review Dataset v1.0\n",
            "\n",
            "Overview\n",
            "\n",
            "This dataset contains movie reviews along with their associated binary\n",
            "sentiment polarity labels. It is intended to serve as a benchmark for\n",
            "sentiment classification. This document outlines how the dataset was\n",
            "gathered, and how to use the files provided. \n",
            "\n",
            "Dataset \n",
            "\n",
            "The core dataset contains 50,000 reviews split evenly into 25k train\n",
            "and 25k test sets. The overall distribution of labels is balanced (25k\n",
            "pos and 25k neg). We also include an additional 50,000 unlabeled\n",
            "documents for unsupervised learning. \n",
            "\n",
            "In the entire collection, no more than 30 reviews are allowed for any\n",
            "given movie because reviews for the same movie tend to have correlated\n",
            "ratings. Further, the train and test sets contain a disjoint set of\n",
            "movies, so no significant performance is obtained by memorizing\n",
            "movie-unique terms and their associated with observed labels.  In the\n",
            "labeled train/test sets, a negative review has a score <= 4 out of 10,\n",
            "and a positive review has a score >= 7 out of 10. Thus reviews with\n",
            "more neutral ratings are not included in the train/test sets. In the\n",
            "unsupervised set, reviews of any rating are included and there are an\n",
            "even number of reviews > 5 and <= 5.\n",
            "\n",
            "Files\n",
            "\n",
            "There are two top-level directories [train/, test/] corresponding to\n",
            "the training and test sets. Each contains [pos/, neg/] directories for\n",
            "the reviews with binary labels positive and negative. Within these\n",
            "directories, reviews are stored in text files named following the\n",
            "convention [[id]_[rating].txt] where [id] is a unique id and [rating] is\n",
            "the star rating for that review on a 1-10 scale. For example, the file\n",
            "[test/pos/200_8.txt] is the text for a positive-labeled test set\n",
            "example with unique id 200 and star rating 8/10 from IMDb. The\n",
            "[train/unsup/] directory has 0 for all ratings because the ratings are\n",
            "omitted for this portion of the dataset.\n",
            "\n",
            "We also include the IMDb URLs for each review in a separate\n",
            "[urls_[pos, neg, unsup].txt] file. A review with unique id 200 will\n",
            "have its URL on line 200 of this file. Due the ever-changing IMDb, we\n",
            "are unable to link directly to the review, but only to the movie's\n",
            "review page.\n",
            "\n",
            "In addition to the review text files, we include already-tokenized bag\n",
            "of words (BoW) features that were used in our experiments. These \n",
            "are stored in .feat files in the train/test directories. Each .feat\n",
            "file is in LIBSVM format, an ascii sparse-vector format for labeled\n",
            "data.  The feature indices in these files start from 0, and the text\n",
            "tokens corresponding to a feature index is found in [imdb.vocab]. So a\n",
            "line with 0:7 in a .feat file means the first word in [imdb.vocab]\n",
            "(the) appears 7 times in that review.\n",
            "\n",
            "LIBSVM page for details on .feat file format:\n",
            "http://www.csie.ntu.edu.tw/~cjlin/libsvm/\n",
            "\n",
            "We also include [imdbEr.txt] which contains the expected rating for\n",
            "each token in [imdb.vocab] as computed by (Potts, 2011). The expected\n",
            "rating is a good way to get a sense for the average polarity of a word\n",
            "in the dataset.\n",
            "\n",
            "Citing the dataset\n",
            "\n",
            "When using this dataset please cite our ACL 2011 paper which\n",
            "introduces it. This paper also contains classification results which\n",
            "you may want to compare against.\n",
            "\n",
            "\n",
            "@InProceedings{maas-EtAl:2011:ACL-HLT2011,\n",
            "  author    = {Maas, Andrew L.  and  Daly, Raymond E.  and  Pham, Peter T.  and  Huang, Dan  and  Ng, Andrew Y.  and  Potts, Christopher},\n",
            "  title     = {Learning Word Vectors for Sentiment Analysis},\n",
            "  booktitle = {Proceedings of the 49th Annual Meeting of the Association for Computational Linguistics: Human Language Technologies},\n",
            "  month     = {June},\n",
            "  year      = {2011},\n",
            "  address   = {Portland, Oregon, USA},\n",
            "  publisher = {Association for Computational Linguistics},\n",
            "  pages     = {142--150},\n",
            "  url       = {http://www.aclweb.org/anthology/P11-1015}\n",
            "}\n",
            "\n",
            "References\n",
            "\n",
            "Potts, Christopher. 2011. On the negativity of negation. In Nan Li and\n",
            "David Lutz, eds., Proceedings of Semantics and Linguistic Theory 20,\n",
            "636-659.\n",
            "\n",
            "Contact\n",
            "\n",
            "For questions/comments/corrections please contact Andrew Maas\n",
            "amaas@cs.stanford.edu\n"
          ]
        }
      ]
    },
    {
      "cell_type": "code",
      "execution_count": null,
      "metadata": {
        "colab": {
          "base_uri": "https://localhost:8080/"
        },
        "id": "P-V1QuTXusXd",
        "outputId": "0173906a-d1eb-4acc-becf-35d076199ab6"
      },
      "outputs": [
        {
          "output_type": "execute_result",
          "data": {
            "text/plain": [
              "(25000,)"
            ]
          },
          "metadata": {},
          "execution_count": 5
        }
      ],
      "source": [
        "train = load_files(\"./aclImdb/train\", encoding=\"utf8\")\n",
        "x_train, y_train = train.data, train.target\n",
        "\n",
        "test = load_files(\"./aclImdb/test\", encoding=\"utf8\")\n",
        "x_test, y_test = test.data, test.target\n",
        "\n",
        "y_train.shape"
      ]
    },
    {
      "cell_type": "markdown",
      "metadata": {
        "id": "31d7-WBAusXf"
      },
      "source": [
        "#### Problem 1"
      ]
    },
    {
      "cell_type": "code",
      "execution_count": null,
      "metadata": {
        "id": "ciM0TBBgusXi"
      },
      "outputs": [],
      "source": [
        "sentences = {\n",
        "    \"sent1\": \"This movie is SOOOO funny!!!\",\n",
        "    \"sent2\": \"What a movie! I never\",\n",
        "    \"sent3\": \"best movie ever!!!!! this movie\"\n",
        "}\n",
        "\n",
        "\n",
        "def replace_and_retain_newlines(match):\n",
        "    return '\\n' if match.group(0) == '\\n' else ' '\n",
        "\n",
        "#proccessing text\n",
        "def processText(sentences):\n",
        "    word = \"\\n\".join(sentences)\n",
        "    sentences = re.sub(pattern, replace_and_retain_newlines, word).lower().strip().split(\"\\n\")\n",
        "    return sentences\n",
        "\n",
        "\n",
        "\n",
        "#Bag of words algorithm\n",
        "def bagOfWords(words, dimiliter=\" \", max_features=None):\n",
        "    #join sentences without losing position\n",
        "    sentence = \"\\n\".join(words)\n",
        "    word = \" \".join(words)\n",
        "\n",
        "    # get keys\n",
        "    keys = set(word.split(dimiliter))\n",
        "    keys.remove(\"\")\n",
        "\n",
        "    # maximum features to be selected\n",
        "    if max_features is None:\n",
        "        max_features = len(keys)\n",
        "    keys = list(keys)[:max_features]\n",
        "    # stores words in each sentence\n",
        "    temp = pd.Series(sentence.split(\"\\n\")).apply(str.split)\n",
        "    frame = pd.DataFrame(np.zeros((len(words), len(keys))), columns=keys)\n",
        "\n",
        "    #O(t) = max_features\n",
        "    for key in keys:\n",
        "        frame[key] = temp.apply(lambda x: x.count(key))\n",
        "\n",
        "    return frame\n",
        "\n",
        "#n-gram algorithm\n",
        "def ngram(words, n):\n",
        "    rows = len(words)\n",
        "    result = []\n",
        "    for i in range(rows):#loops through each sentence in list\n",
        "        test = words[i].split()\n",
        "        word = \"\"\n",
        "        loop = len(test) -n + 1\n",
        "        for j in range(loop):# joins the first n words in sentence\n",
        "            word += \" \".join(test[j:j+n]) + \" \"\n",
        "            # if j == loop -1:\n",
        "            #     continue\n",
        "            word += \", \"\n",
        "\n",
        "        result.append(word)\n",
        "\n",
        "\n",
        "    return result\n",
        "\n",
        "\n"
      ]
    },
    {
      "cell_type": "code",
      "execution_count": null,
      "metadata": {
        "colab": {
          "base_uri": "https://localhost:8080/"
        },
        "id": "HicN-n80usXj",
        "outputId": "4f7fe2b9-0b78-41f8-f7f2-14265d2258ac"
      },
      "outputs": [
        {
          "output_type": "execute_result",
          "data": {
            "text/plain": [
              "['this movie is soooo funny   ',\n",
              " 'what a movie  i never',\n",
              " 'best movie ever      this movie']"
            ]
          },
          "metadata": {},
          "execution_count": 7
        }
      ],
      "source": [
        "values = processText(list(sentences.values()))\n",
        "values"
      ]
    },
    {
      "cell_type": "code",
      "execution_count": null,
      "metadata": {
        "colab": {
          "base_uri": "https://localhost:8080/",
          "height": 143
        },
        "id": "_ByfTzZzusXk",
        "outputId": "5470514e-b4b9-48ba-e6d3-1f1e2da33304"
      },
      "outputs": [
        {
          "output_type": "execute_result",
          "data": {
            "text/plain": [
              "   is  funny  movie  never  this  best  a  i  ever  what  soooo\n",
              "0   1      1      1      0     1     0  0  0     0     0      1\n",
              "1   0      0      1      1     0     0  1  1     0     1      0\n",
              "2   0      0      2      0     1     1  0  0     1     0      0"
            ],
            "text/html": [
              "\n",
              "  <div id=\"df-e613b1fe-6011-4160-8ab2-ddf958e2879c\" class=\"colab-df-container\">\n",
              "    <div>\n",
              "<style scoped>\n",
              "    .dataframe tbody tr th:only-of-type {\n",
              "        vertical-align: middle;\n",
              "    }\n",
              "\n",
              "    .dataframe tbody tr th {\n",
              "        vertical-align: top;\n",
              "    }\n",
              "\n",
              "    .dataframe thead th {\n",
              "        text-align: right;\n",
              "    }\n",
              "</style>\n",
              "<table border=\"1\" class=\"dataframe\">\n",
              "  <thead>\n",
              "    <tr style=\"text-align: right;\">\n",
              "      <th></th>\n",
              "      <th>is</th>\n",
              "      <th>funny</th>\n",
              "      <th>movie</th>\n",
              "      <th>never</th>\n",
              "      <th>this</th>\n",
              "      <th>best</th>\n",
              "      <th>a</th>\n",
              "      <th>i</th>\n",
              "      <th>ever</th>\n",
              "      <th>what</th>\n",
              "      <th>soooo</th>\n",
              "    </tr>\n",
              "  </thead>\n",
              "  <tbody>\n",
              "    <tr>\n",
              "      <th>0</th>\n",
              "      <td>1</td>\n",
              "      <td>1</td>\n",
              "      <td>1</td>\n",
              "      <td>0</td>\n",
              "      <td>1</td>\n",
              "      <td>0</td>\n",
              "      <td>0</td>\n",
              "      <td>0</td>\n",
              "      <td>0</td>\n",
              "      <td>0</td>\n",
              "      <td>1</td>\n",
              "    </tr>\n",
              "    <tr>\n",
              "      <th>1</th>\n",
              "      <td>0</td>\n",
              "      <td>0</td>\n",
              "      <td>1</td>\n",
              "      <td>1</td>\n",
              "      <td>0</td>\n",
              "      <td>0</td>\n",
              "      <td>1</td>\n",
              "      <td>1</td>\n",
              "      <td>0</td>\n",
              "      <td>1</td>\n",
              "      <td>0</td>\n",
              "    </tr>\n",
              "    <tr>\n",
              "      <th>2</th>\n",
              "      <td>0</td>\n",
              "      <td>0</td>\n",
              "      <td>2</td>\n",
              "      <td>0</td>\n",
              "      <td>1</td>\n",
              "      <td>1</td>\n",
              "      <td>0</td>\n",
              "      <td>0</td>\n",
              "      <td>1</td>\n",
              "      <td>0</td>\n",
              "      <td>0</td>\n",
              "    </tr>\n",
              "  </tbody>\n",
              "</table>\n",
              "</div>\n",
              "    <div class=\"colab-df-buttons\">\n",
              "\n",
              "  <div class=\"colab-df-container\">\n",
              "    <button class=\"colab-df-convert\" onclick=\"convertToInteractive('df-e613b1fe-6011-4160-8ab2-ddf958e2879c')\"\n",
              "            title=\"Convert this dataframe to an interactive table.\"\n",
              "            style=\"display:none;\">\n",
              "\n",
              "  <svg xmlns=\"http://www.w3.org/2000/svg\" height=\"24px\" viewBox=\"0 -960 960 960\">\n",
              "    <path d=\"M120-120v-720h720v720H120Zm60-500h600v-160H180v160Zm220 220h160v-160H400v160Zm0 220h160v-160H400v160ZM180-400h160v-160H180v160Zm440 0h160v-160H620v160ZM180-180h160v-160H180v160Zm440 0h160v-160H620v160Z\"/>\n",
              "  </svg>\n",
              "    </button>\n",
              "\n",
              "  <style>\n",
              "    .colab-df-container {\n",
              "      display:flex;\n",
              "      gap: 12px;\n",
              "    }\n",
              "\n",
              "    .colab-df-convert {\n",
              "      background-color: #E8F0FE;\n",
              "      border: none;\n",
              "      border-radius: 50%;\n",
              "      cursor: pointer;\n",
              "      display: none;\n",
              "      fill: #1967D2;\n",
              "      height: 32px;\n",
              "      padding: 0 0 0 0;\n",
              "      width: 32px;\n",
              "    }\n",
              "\n",
              "    .colab-df-convert:hover {\n",
              "      background-color: #E2EBFA;\n",
              "      box-shadow: 0px 1px 2px rgba(60, 64, 67, 0.3), 0px 1px 3px 1px rgba(60, 64, 67, 0.15);\n",
              "      fill: #174EA6;\n",
              "    }\n",
              "\n",
              "    .colab-df-buttons div {\n",
              "      margin-bottom: 4px;\n",
              "    }\n",
              "\n",
              "    [theme=dark] .colab-df-convert {\n",
              "      background-color: #3B4455;\n",
              "      fill: #D2E3FC;\n",
              "    }\n",
              "\n",
              "    [theme=dark] .colab-df-convert:hover {\n",
              "      background-color: #434B5C;\n",
              "      box-shadow: 0px 1px 3px 1px rgba(0, 0, 0, 0.15);\n",
              "      filter: drop-shadow(0px 1px 2px rgba(0, 0, 0, 0.3));\n",
              "      fill: #FFFFFF;\n",
              "    }\n",
              "  </style>\n",
              "\n",
              "    <script>\n",
              "      const buttonEl =\n",
              "        document.querySelector('#df-e613b1fe-6011-4160-8ab2-ddf958e2879c button.colab-df-convert');\n",
              "      buttonEl.style.display =\n",
              "        google.colab.kernel.accessAllowed ? 'block' : 'none';\n",
              "\n",
              "      async function convertToInteractive(key) {\n",
              "        const element = document.querySelector('#df-e613b1fe-6011-4160-8ab2-ddf958e2879c');\n",
              "        const dataTable =\n",
              "          await google.colab.kernel.invokeFunction('convertToInteractive',\n",
              "                                                    [key], {});\n",
              "        if (!dataTable) return;\n",
              "\n",
              "        const docLinkHtml = 'Like what you see? Visit the ' +\n",
              "          '<a target=\"_blank\" href=https://colab.research.google.com/notebooks/data_table.ipynb>data table notebook</a>'\n",
              "          + ' to learn more about interactive tables.';\n",
              "        element.innerHTML = '';\n",
              "        dataTable['output_type'] = 'display_data';\n",
              "        await google.colab.output.renderOutput(dataTable, element);\n",
              "        const docLink = document.createElement('div');\n",
              "        docLink.innerHTML = docLinkHtml;\n",
              "        element.appendChild(docLink);\n",
              "      }\n",
              "    </script>\n",
              "  </div>\n",
              "\n",
              "\n",
              "<div id=\"df-42405f33-4138-4f57-9271-5250bce4e6fd\">\n",
              "  <button class=\"colab-df-quickchart\" onclick=\"quickchart('df-42405f33-4138-4f57-9271-5250bce4e6fd')\"\n",
              "            title=\"Suggest charts\"\n",
              "            style=\"display:none;\">\n",
              "\n",
              "<svg xmlns=\"http://www.w3.org/2000/svg\" height=\"24px\"viewBox=\"0 0 24 24\"\n",
              "     width=\"24px\">\n",
              "    <g>\n",
              "        <path d=\"M19 3H5c-1.1 0-2 .9-2 2v14c0 1.1.9 2 2 2h14c1.1 0 2-.9 2-2V5c0-1.1-.9-2-2-2zM9 17H7v-7h2v7zm4 0h-2V7h2v10zm4 0h-2v-4h2v4z\"/>\n",
              "    </g>\n",
              "</svg>\n",
              "  </button>\n",
              "\n",
              "<style>\n",
              "  .colab-df-quickchart {\n",
              "      --bg-color: #E8F0FE;\n",
              "      --fill-color: #1967D2;\n",
              "      --hover-bg-color: #E2EBFA;\n",
              "      --hover-fill-color: #174EA6;\n",
              "      --disabled-fill-color: #AAA;\n",
              "      --disabled-bg-color: #DDD;\n",
              "  }\n",
              "\n",
              "  [theme=dark] .colab-df-quickchart {\n",
              "      --bg-color: #3B4455;\n",
              "      --fill-color: #D2E3FC;\n",
              "      --hover-bg-color: #434B5C;\n",
              "      --hover-fill-color: #FFFFFF;\n",
              "      --disabled-bg-color: #3B4455;\n",
              "      --disabled-fill-color: #666;\n",
              "  }\n",
              "\n",
              "  .colab-df-quickchart {\n",
              "    background-color: var(--bg-color);\n",
              "    border: none;\n",
              "    border-radius: 50%;\n",
              "    cursor: pointer;\n",
              "    display: none;\n",
              "    fill: var(--fill-color);\n",
              "    height: 32px;\n",
              "    padding: 0;\n",
              "    width: 32px;\n",
              "  }\n",
              "\n",
              "  .colab-df-quickchart:hover {\n",
              "    background-color: var(--hover-bg-color);\n",
              "    box-shadow: 0 1px 2px rgba(60, 64, 67, 0.3), 0 1px 3px 1px rgba(60, 64, 67, 0.15);\n",
              "    fill: var(--button-hover-fill-color);\n",
              "  }\n",
              "\n",
              "  .colab-df-quickchart-complete:disabled,\n",
              "  .colab-df-quickchart-complete:disabled:hover {\n",
              "    background-color: var(--disabled-bg-color);\n",
              "    fill: var(--disabled-fill-color);\n",
              "    box-shadow: none;\n",
              "  }\n",
              "\n",
              "  .colab-df-spinner {\n",
              "    border: 2px solid var(--fill-color);\n",
              "    border-color: transparent;\n",
              "    border-bottom-color: var(--fill-color);\n",
              "    animation:\n",
              "      spin 1s steps(1) infinite;\n",
              "  }\n",
              "\n",
              "  @keyframes spin {\n",
              "    0% {\n",
              "      border-color: transparent;\n",
              "      border-bottom-color: var(--fill-color);\n",
              "      border-left-color: var(--fill-color);\n",
              "    }\n",
              "    20% {\n",
              "      border-color: transparent;\n",
              "      border-left-color: var(--fill-color);\n",
              "      border-top-color: var(--fill-color);\n",
              "    }\n",
              "    30% {\n",
              "      border-color: transparent;\n",
              "      border-left-color: var(--fill-color);\n",
              "      border-top-color: var(--fill-color);\n",
              "      border-right-color: var(--fill-color);\n",
              "    }\n",
              "    40% {\n",
              "      border-color: transparent;\n",
              "      border-right-color: var(--fill-color);\n",
              "      border-top-color: var(--fill-color);\n",
              "    }\n",
              "    60% {\n",
              "      border-color: transparent;\n",
              "      border-right-color: var(--fill-color);\n",
              "    }\n",
              "    80% {\n",
              "      border-color: transparent;\n",
              "      border-right-color: var(--fill-color);\n",
              "      border-bottom-color: var(--fill-color);\n",
              "    }\n",
              "    90% {\n",
              "      border-color: transparent;\n",
              "      border-bottom-color: var(--fill-color);\n",
              "    }\n",
              "  }\n",
              "</style>\n",
              "\n",
              "  <script>\n",
              "    async function quickchart(key) {\n",
              "      const quickchartButtonEl =\n",
              "        document.querySelector('#' + key + ' button');\n",
              "      quickchartButtonEl.disabled = true;  // To prevent multiple clicks.\n",
              "      quickchartButtonEl.classList.add('colab-df-spinner');\n",
              "      try {\n",
              "        const charts = await google.colab.kernel.invokeFunction(\n",
              "            'suggestCharts', [key], {});\n",
              "      } catch (error) {\n",
              "        console.error('Error during call to suggestCharts:', error);\n",
              "      }\n",
              "      quickchartButtonEl.classList.remove('colab-df-spinner');\n",
              "      quickchartButtonEl.classList.add('colab-df-quickchart-complete');\n",
              "    }\n",
              "    (() => {\n",
              "      let quickchartButtonEl =\n",
              "        document.querySelector('#df-42405f33-4138-4f57-9271-5250bce4e6fd button');\n",
              "      quickchartButtonEl.style.display =\n",
              "        google.colab.kernel.accessAllowed ? 'block' : 'none';\n",
              "    })();\n",
              "  </script>\n",
              "</div>\n",
              "\n",
              "  <div id=\"id_a4e39529-91bf-4f43-9dd9-be2891ea2da3\">\n",
              "    <style>\n",
              "      .colab-df-generate {\n",
              "        background-color: #E8F0FE;\n",
              "        border: none;\n",
              "        border-radius: 50%;\n",
              "        cursor: pointer;\n",
              "        display: none;\n",
              "        fill: #1967D2;\n",
              "        height: 32px;\n",
              "        padding: 0 0 0 0;\n",
              "        width: 32px;\n",
              "      }\n",
              "\n",
              "      .colab-df-generate:hover {\n",
              "        background-color: #E2EBFA;\n",
              "        box-shadow: 0px 1px 2px rgba(60, 64, 67, 0.3), 0px 1px 3px 1px rgba(60, 64, 67, 0.15);\n",
              "        fill: #174EA6;\n",
              "      }\n",
              "\n",
              "      [theme=dark] .colab-df-generate {\n",
              "        background-color: #3B4455;\n",
              "        fill: #D2E3FC;\n",
              "      }\n",
              "\n",
              "      [theme=dark] .colab-df-generate:hover {\n",
              "        background-color: #434B5C;\n",
              "        box-shadow: 0px 1px 3px 1px rgba(0, 0, 0, 0.15);\n",
              "        filter: drop-shadow(0px 1px 2px rgba(0, 0, 0, 0.3));\n",
              "        fill: #FFFFFF;\n",
              "      }\n",
              "    </style>\n",
              "    <button class=\"colab-df-generate\" onclick=\"generateWithVariable('h')\"\n",
              "            title=\"Generate code using this dataframe.\"\n",
              "            style=\"display:none;\">\n",
              "\n",
              "  <svg xmlns=\"http://www.w3.org/2000/svg\" height=\"24px\"viewBox=\"0 0 24 24\"\n",
              "       width=\"24px\">\n",
              "    <path d=\"M7,19H8.4L18.45,9,17,7.55,7,17.6ZM5,21V16.75L18.45,3.32a2,2,0,0,1,2.83,0l1.4,1.43a1.91,1.91,0,0,1,.58,1.4,1.91,1.91,0,0,1-.58,1.4L9.25,21ZM18.45,9,17,7.55Zm-12,3A5.31,5.31,0,0,0,4.9,8.1,5.31,5.31,0,0,0,1,6.5,5.31,5.31,0,0,0,4.9,4.9,5.31,5.31,0,0,0,6.5,1,5.31,5.31,0,0,0,8.1,4.9,5.31,5.31,0,0,0,12,6.5,5.46,5.46,0,0,0,6.5,12Z\"/>\n",
              "  </svg>\n",
              "    </button>\n",
              "    <script>\n",
              "      (() => {\n",
              "      const buttonEl =\n",
              "        document.querySelector('#id_a4e39529-91bf-4f43-9dd9-be2891ea2da3 button.colab-df-generate');\n",
              "      buttonEl.style.display =\n",
              "        google.colab.kernel.accessAllowed ? 'block' : 'none';\n",
              "\n",
              "      buttonEl.onclick = () => {\n",
              "        google.colab.notebook.generateWithVariable('h');\n",
              "      }\n",
              "      })();\n",
              "    </script>\n",
              "  </div>\n",
              "\n",
              "    </div>\n",
              "  </div>\n"
            ],
            "application/vnd.google.colaboratory.intrinsic+json": {
              "type": "dataframe",
              "variable_name": "h",
              "summary": "{\n  \"name\": \"h\",\n  \"rows\": 3,\n  \"fields\": [\n    {\n      \"column\": \"is\",\n      \"properties\": {\n        \"dtype\": \"number\",\n        \"std\": 0,\n        \"min\": 0,\n        \"max\": 1,\n        \"num_unique_values\": 2,\n        \"samples\": [\n          0,\n          1\n        ],\n        \"semantic_type\": \"\",\n        \"description\": \"\"\n      }\n    },\n    {\n      \"column\": \"funny\",\n      \"properties\": {\n        \"dtype\": \"number\",\n        \"std\": 0,\n        \"min\": 0,\n        \"max\": 1,\n        \"num_unique_values\": 2,\n        \"samples\": [\n          0,\n          1\n        ],\n        \"semantic_type\": \"\",\n        \"description\": \"\"\n      }\n    },\n    {\n      \"column\": \"movie\",\n      \"properties\": {\n        \"dtype\": \"number\",\n        \"std\": 0,\n        \"min\": 1,\n        \"max\": 2,\n        \"num_unique_values\": 2,\n        \"samples\": [\n          2,\n          1\n        ],\n        \"semantic_type\": \"\",\n        \"description\": \"\"\n      }\n    },\n    {\n      \"column\": \"never\",\n      \"properties\": {\n        \"dtype\": \"number\",\n        \"std\": 0,\n        \"min\": 0,\n        \"max\": 1,\n        \"num_unique_values\": 2,\n        \"samples\": [\n          1,\n          0\n        ],\n        \"semantic_type\": \"\",\n        \"description\": \"\"\n      }\n    },\n    {\n      \"column\": \"this\",\n      \"properties\": {\n        \"dtype\": \"number\",\n        \"std\": 0,\n        \"min\": 0,\n        \"max\": 1,\n        \"num_unique_values\": 2,\n        \"samples\": [\n          0,\n          1\n        ],\n        \"semantic_type\": \"\",\n        \"description\": \"\"\n      }\n    },\n    {\n      \"column\": \"best\",\n      \"properties\": {\n        \"dtype\": \"number\",\n        \"std\": 0,\n        \"min\": 0,\n        \"max\": 1,\n        \"num_unique_values\": 2,\n        \"samples\": [\n          1,\n          0\n        ],\n        \"semantic_type\": \"\",\n        \"description\": \"\"\n      }\n    },\n    {\n      \"column\": \"a\",\n      \"properties\": {\n        \"dtype\": \"number\",\n        \"std\": 0,\n        \"min\": 0,\n        \"max\": 1,\n        \"num_unique_values\": 2,\n        \"samples\": [\n          1,\n          0\n        ],\n        \"semantic_type\": \"\",\n        \"description\": \"\"\n      }\n    },\n    {\n      \"column\": \"i\",\n      \"properties\": {\n        \"dtype\": \"number\",\n        \"std\": 0,\n        \"min\": 0,\n        \"max\": 1,\n        \"num_unique_values\": 2,\n        \"samples\": [\n          1,\n          0\n        ],\n        \"semantic_type\": \"\",\n        \"description\": \"\"\n      }\n    },\n    {\n      \"column\": \"ever\",\n      \"properties\": {\n        \"dtype\": \"number\",\n        \"std\": 0,\n        \"min\": 0,\n        \"max\": 1,\n        \"num_unique_values\": 2,\n        \"samples\": [\n          1,\n          0\n        ],\n        \"semantic_type\": \"\",\n        \"description\": \"\"\n      }\n    },\n    {\n      \"column\": \"what\",\n      \"properties\": {\n        \"dtype\": \"number\",\n        \"std\": 0,\n        \"min\": 0,\n        \"max\": 1,\n        \"num_unique_values\": 2,\n        \"samples\": [\n          1,\n          0\n        ],\n        \"semantic_type\": \"\",\n        \"description\": \"\"\n      }\n    },\n    {\n      \"column\": \"soooo\",\n      \"properties\": {\n        \"dtype\": \"number\",\n        \"std\": 0,\n        \"min\": 0,\n        \"max\": 1,\n        \"num_unique_values\": 2,\n        \"samples\": [\n          0,\n          1\n        ],\n        \"semantic_type\": \"\",\n        \"description\": \"\"\n      }\n    }\n  ]\n}"
            }
          },
          "metadata": {},
          "execution_count": 8
        }
      ],
      "source": [
        "h = bagOfWords(values)\n",
        "h"
      ]
    },
    {
      "cell_type": "code",
      "execution_count": null,
      "metadata": {
        "colab": {
          "base_uri": "https://localhost:8080/",
          "height": 143
        },
        "id": "yHtM0w67usXl",
        "outputId": "cd06fc62-6f46-4b90-818f-c2ba7c6ee310"
      },
      "outputs": [
        {
          "output_type": "execute_result",
          "data": {
            "text/plain": [
              "   i never   this movie   movie ever   movie is   is soooo   a movie   \\\n",
              "0         0            0            0          0          0         0   \n",
              "1         0            0            0          0          0         0   \n",
              "2         0            0            0          0          0         0   \n",
              "\n",
              "   ever this    what a   movie i   soooo funny    best movie   \n",
              "0           0         0         0             0             0  \n",
              "1           0         0         0             0             0  \n",
              "2           0         0         0             0             0  "
            ],
            "text/html": [
              "\n",
              "  <div id=\"df-0c07f611-de54-41d4-8765-dfdcda8eaf90\" class=\"colab-df-container\">\n",
              "    <div>\n",
              "<style scoped>\n",
              "    .dataframe tbody tr th:only-of-type {\n",
              "        vertical-align: middle;\n",
              "    }\n",
              "\n",
              "    .dataframe tbody tr th {\n",
              "        vertical-align: top;\n",
              "    }\n",
              "\n",
              "    .dataframe thead th {\n",
              "        text-align: right;\n",
              "    }\n",
              "</style>\n",
              "<table border=\"1\" class=\"dataframe\">\n",
              "  <thead>\n",
              "    <tr style=\"text-align: right;\">\n",
              "      <th></th>\n",
              "      <th>i never</th>\n",
              "      <th>this movie</th>\n",
              "      <th>movie ever</th>\n",
              "      <th>movie is</th>\n",
              "      <th>is soooo</th>\n",
              "      <th>a movie</th>\n",
              "      <th>ever this</th>\n",
              "      <th>what a</th>\n",
              "      <th>movie i</th>\n",
              "      <th>soooo funny</th>\n",
              "      <th>best movie</th>\n",
              "    </tr>\n",
              "  </thead>\n",
              "  <tbody>\n",
              "    <tr>\n",
              "      <th>0</th>\n",
              "      <td>0</td>\n",
              "      <td>0</td>\n",
              "      <td>0</td>\n",
              "      <td>0</td>\n",
              "      <td>0</td>\n",
              "      <td>0</td>\n",
              "      <td>0</td>\n",
              "      <td>0</td>\n",
              "      <td>0</td>\n",
              "      <td>0</td>\n",
              "      <td>0</td>\n",
              "    </tr>\n",
              "    <tr>\n",
              "      <th>1</th>\n",
              "      <td>0</td>\n",
              "      <td>0</td>\n",
              "      <td>0</td>\n",
              "      <td>0</td>\n",
              "      <td>0</td>\n",
              "      <td>0</td>\n",
              "      <td>0</td>\n",
              "      <td>0</td>\n",
              "      <td>0</td>\n",
              "      <td>0</td>\n",
              "      <td>0</td>\n",
              "    </tr>\n",
              "    <tr>\n",
              "      <th>2</th>\n",
              "      <td>0</td>\n",
              "      <td>0</td>\n",
              "      <td>0</td>\n",
              "      <td>0</td>\n",
              "      <td>0</td>\n",
              "      <td>0</td>\n",
              "      <td>0</td>\n",
              "      <td>0</td>\n",
              "      <td>0</td>\n",
              "      <td>0</td>\n",
              "      <td>0</td>\n",
              "    </tr>\n",
              "  </tbody>\n",
              "</table>\n",
              "</div>\n",
              "    <div class=\"colab-df-buttons\">\n",
              "\n",
              "  <div class=\"colab-df-container\">\n",
              "    <button class=\"colab-df-convert\" onclick=\"convertToInteractive('df-0c07f611-de54-41d4-8765-dfdcda8eaf90')\"\n",
              "            title=\"Convert this dataframe to an interactive table.\"\n",
              "            style=\"display:none;\">\n",
              "\n",
              "  <svg xmlns=\"http://www.w3.org/2000/svg\" height=\"24px\" viewBox=\"0 -960 960 960\">\n",
              "    <path d=\"M120-120v-720h720v720H120Zm60-500h600v-160H180v160Zm220 220h160v-160H400v160Zm0 220h160v-160H400v160ZM180-400h160v-160H180v160Zm440 0h160v-160H620v160ZM180-180h160v-160H180v160Zm440 0h160v-160H620v160Z\"/>\n",
              "  </svg>\n",
              "    </button>\n",
              "\n",
              "  <style>\n",
              "    .colab-df-container {\n",
              "      display:flex;\n",
              "      gap: 12px;\n",
              "    }\n",
              "\n",
              "    .colab-df-convert {\n",
              "      background-color: #E8F0FE;\n",
              "      border: none;\n",
              "      border-radius: 50%;\n",
              "      cursor: pointer;\n",
              "      display: none;\n",
              "      fill: #1967D2;\n",
              "      height: 32px;\n",
              "      padding: 0 0 0 0;\n",
              "      width: 32px;\n",
              "    }\n",
              "\n",
              "    .colab-df-convert:hover {\n",
              "      background-color: #E2EBFA;\n",
              "      box-shadow: 0px 1px 2px rgba(60, 64, 67, 0.3), 0px 1px 3px 1px rgba(60, 64, 67, 0.15);\n",
              "      fill: #174EA6;\n",
              "    }\n",
              "\n",
              "    .colab-df-buttons div {\n",
              "      margin-bottom: 4px;\n",
              "    }\n",
              "\n",
              "    [theme=dark] .colab-df-convert {\n",
              "      background-color: #3B4455;\n",
              "      fill: #D2E3FC;\n",
              "    }\n",
              "\n",
              "    [theme=dark] .colab-df-convert:hover {\n",
              "      background-color: #434B5C;\n",
              "      box-shadow: 0px 1px 3px 1px rgba(0, 0, 0, 0.15);\n",
              "      filter: drop-shadow(0px 1px 2px rgba(0, 0, 0, 0.3));\n",
              "      fill: #FFFFFF;\n",
              "    }\n",
              "  </style>\n",
              "\n",
              "    <script>\n",
              "      const buttonEl =\n",
              "        document.querySelector('#df-0c07f611-de54-41d4-8765-dfdcda8eaf90 button.colab-df-convert');\n",
              "      buttonEl.style.display =\n",
              "        google.colab.kernel.accessAllowed ? 'block' : 'none';\n",
              "\n",
              "      async function convertToInteractive(key) {\n",
              "        const element = document.querySelector('#df-0c07f611-de54-41d4-8765-dfdcda8eaf90');\n",
              "        const dataTable =\n",
              "          await google.colab.kernel.invokeFunction('convertToInteractive',\n",
              "                                                    [key], {});\n",
              "        if (!dataTable) return;\n",
              "\n",
              "        const docLinkHtml = 'Like what you see? Visit the ' +\n",
              "          '<a target=\"_blank\" href=https://colab.research.google.com/notebooks/data_table.ipynb>data table notebook</a>'\n",
              "          + ' to learn more about interactive tables.';\n",
              "        element.innerHTML = '';\n",
              "        dataTable['output_type'] = 'display_data';\n",
              "        await google.colab.output.renderOutput(dataTable, element);\n",
              "        const docLink = document.createElement('div');\n",
              "        docLink.innerHTML = docLinkHtml;\n",
              "        element.appendChild(docLink);\n",
              "      }\n",
              "    </script>\n",
              "  </div>\n",
              "\n",
              "\n",
              "<div id=\"df-02082523-b87b-4506-ae46-73ebd5abdd9e\">\n",
              "  <button class=\"colab-df-quickchart\" onclick=\"quickchart('df-02082523-b87b-4506-ae46-73ebd5abdd9e')\"\n",
              "            title=\"Suggest charts\"\n",
              "            style=\"display:none;\">\n",
              "\n",
              "<svg xmlns=\"http://www.w3.org/2000/svg\" height=\"24px\"viewBox=\"0 0 24 24\"\n",
              "     width=\"24px\">\n",
              "    <g>\n",
              "        <path d=\"M19 3H5c-1.1 0-2 .9-2 2v14c0 1.1.9 2 2 2h14c1.1 0 2-.9 2-2V5c0-1.1-.9-2-2-2zM9 17H7v-7h2v7zm4 0h-2V7h2v10zm4 0h-2v-4h2v4z\"/>\n",
              "    </g>\n",
              "</svg>\n",
              "  </button>\n",
              "\n",
              "<style>\n",
              "  .colab-df-quickchart {\n",
              "      --bg-color: #E8F0FE;\n",
              "      --fill-color: #1967D2;\n",
              "      --hover-bg-color: #E2EBFA;\n",
              "      --hover-fill-color: #174EA6;\n",
              "      --disabled-fill-color: #AAA;\n",
              "      --disabled-bg-color: #DDD;\n",
              "  }\n",
              "\n",
              "  [theme=dark] .colab-df-quickchart {\n",
              "      --bg-color: #3B4455;\n",
              "      --fill-color: #D2E3FC;\n",
              "      --hover-bg-color: #434B5C;\n",
              "      --hover-fill-color: #FFFFFF;\n",
              "      --disabled-bg-color: #3B4455;\n",
              "      --disabled-fill-color: #666;\n",
              "  }\n",
              "\n",
              "  .colab-df-quickchart {\n",
              "    background-color: var(--bg-color);\n",
              "    border: none;\n",
              "    border-radius: 50%;\n",
              "    cursor: pointer;\n",
              "    display: none;\n",
              "    fill: var(--fill-color);\n",
              "    height: 32px;\n",
              "    padding: 0;\n",
              "    width: 32px;\n",
              "  }\n",
              "\n",
              "  .colab-df-quickchart:hover {\n",
              "    background-color: var(--hover-bg-color);\n",
              "    box-shadow: 0 1px 2px rgba(60, 64, 67, 0.3), 0 1px 3px 1px rgba(60, 64, 67, 0.15);\n",
              "    fill: var(--button-hover-fill-color);\n",
              "  }\n",
              "\n",
              "  .colab-df-quickchart-complete:disabled,\n",
              "  .colab-df-quickchart-complete:disabled:hover {\n",
              "    background-color: var(--disabled-bg-color);\n",
              "    fill: var(--disabled-fill-color);\n",
              "    box-shadow: none;\n",
              "  }\n",
              "\n",
              "  .colab-df-spinner {\n",
              "    border: 2px solid var(--fill-color);\n",
              "    border-color: transparent;\n",
              "    border-bottom-color: var(--fill-color);\n",
              "    animation:\n",
              "      spin 1s steps(1) infinite;\n",
              "  }\n",
              "\n",
              "  @keyframes spin {\n",
              "    0% {\n",
              "      border-color: transparent;\n",
              "      border-bottom-color: var(--fill-color);\n",
              "      border-left-color: var(--fill-color);\n",
              "    }\n",
              "    20% {\n",
              "      border-color: transparent;\n",
              "      border-left-color: var(--fill-color);\n",
              "      border-top-color: var(--fill-color);\n",
              "    }\n",
              "    30% {\n",
              "      border-color: transparent;\n",
              "      border-left-color: var(--fill-color);\n",
              "      border-top-color: var(--fill-color);\n",
              "      border-right-color: var(--fill-color);\n",
              "    }\n",
              "    40% {\n",
              "      border-color: transparent;\n",
              "      border-right-color: var(--fill-color);\n",
              "      border-top-color: var(--fill-color);\n",
              "    }\n",
              "    60% {\n",
              "      border-color: transparent;\n",
              "      border-right-color: var(--fill-color);\n",
              "    }\n",
              "    80% {\n",
              "      border-color: transparent;\n",
              "      border-right-color: var(--fill-color);\n",
              "      border-bottom-color: var(--fill-color);\n",
              "    }\n",
              "    90% {\n",
              "      border-color: transparent;\n",
              "      border-bottom-color: var(--fill-color);\n",
              "    }\n",
              "  }\n",
              "</style>\n",
              "\n",
              "  <script>\n",
              "    async function quickchart(key) {\n",
              "      const quickchartButtonEl =\n",
              "        document.querySelector('#' + key + ' button');\n",
              "      quickchartButtonEl.disabled = true;  // To prevent multiple clicks.\n",
              "      quickchartButtonEl.classList.add('colab-df-spinner');\n",
              "      try {\n",
              "        const charts = await google.colab.kernel.invokeFunction(\n",
              "            'suggestCharts', [key], {});\n",
              "      } catch (error) {\n",
              "        console.error('Error during call to suggestCharts:', error);\n",
              "      }\n",
              "      quickchartButtonEl.classList.remove('colab-df-spinner');\n",
              "      quickchartButtonEl.classList.add('colab-df-quickchart-complete');\n",
              "    }\n",
              "    (() => {\n",
              "      let quickchartButtonEl =\n",
              "        document.querySelector('#df-02082523-b87b-4506-ae46-73ebd5abdd9e button');\n",
              "      quickchartButtonEl.style.display =\n",
              "        google.colab.kernel.accessAllowed ? 'block' : 'none';\n",
              "    })();\n",
              "  </script>\n",
              "</div>\n",
              "\n",
              "    </div>\n",
              "  </div>\n"
            ],
            "application/vnd.google.colaboratory.intrinsic+json": {
              "type": "dataframe",
              "summary": "{\n  \"name\": \"bagOfWords(bi, \\\", \\\")\",\n  \"rows\": 3,\n  \"fields\": [\n    {\n      \"column\": \"i never \",\n      \"properties\": {\n        \"dtype\": \"number\",\n        \"std\": 0,\n        \"min\": 0,\n        \"max\": 0,\n        \"num_unique_values\": 1,\n        \"samples\": [\n          0\n        ],\n        \"semantic_type\": \"\",\n        \"description\": \"\"\n      }\n    },\n    {\n      \"column\": \"this movie \",\n      \"properties\": {\n        \"dtype\": \"number\",\n        \"std\": 0,\n        \"min\": 0,\n        \"max\": 0,\n        \"num_unique_values\": 1,\n        \"samples\": [\n          0\n        ],\n        \"semantic_type\": \"\",\n        \"description\": \"\"\n      }\n    },\n    {\n      \"column\": \"movie ever \",\n      \"properties\": {\n        \"dtype\": \"number\",\n        \"std\": 0,\n        \"min\": 0,\n        \"max\": 0,\n        \"num_unique_values\": 1,\n        \"samples\": [\n          0\n        ],\n        \"semantic_type\": \"\",\n        \"description\": \"\"\n      }\n    },\n    {\n      \"column\": \"movie is \",\n      \"properties\": {\n        \"dtype\": \"number\",\n        \"std\": 0,\n        \"min\": 0,\n        \"max\": 0,\n        \"num_unique_values\": 1,\n        \"samples\": [\n          0\n        ],\n        \"semantic_type\": \"\",\n        \"description\": \"\"\n      }\n    },\n    {\n      \"column\": \"is soooo \",\n      \"properties\": {\n        \"dtype\": \"number\",\n        \"std\": 0,\n        \"min\": 0,\n        \"max\": 0,\n        \"num_unique_values\": 1,\n        \"samples\": [\n          0\n        ],\n        \"semantic_type\": \"\",\n        \"description\": \"\"\n      }\n    },\n    {\n      \"column\": \"a movie \",\n      \"properties\": {\n        \"dtype\": \"number\",\n        \"std\": 0,\n        \"min\": 0,\n        \"max\": 0,\n        \"num_unique_values\": 1,\n        \"samples\": [\n          0\n        ],\n        \"semantic_type\": \"\",\n        \"description\": \"\"\n      }\n    },\n    {\n      \"column\": \"ever this \",\n      \"properties\": {\n        \"dtype\": \"number\",\n        \"std\": 0,\n        \"min\": 0,\n        \"max\": 0,\n        \"num_unique_values\": 1,\n        \"samples\": [\n          0\n        ],\n        \"semantic_type\": \"\",\n        \"description\": \"\"\n      }\n    },\n    {\n      \"column\": \" what a \",\n      \"properties\": {\n        \"dtype\": \"number\",\n        \"std\": 0,\n        \"min\": 0,\n        \"max\": 0,\n        \"num_unique_values\": 1,\n        \"samples\": [\n          0\n        ],\n        \"semantic_type\": \"\",\n        \"description\": \"\"\n      }\n    },\n    {\n      \"column\": \"movie i \",\n      \"properties\": {\n        \"dtype\": \"number\",\n        \"std\": 0,\n        \"min\": 0,\n        \"max\": 0,\n        \"num_unique_values\": 1,\n        \"samples\": [\n          0\n        ],\n        \"semantic_type\": \"\",\n        \"description\": \"\"\n      }\n    },\n    {\n      \"column\": \"soooo funny \",\n      \"properties\": {\n        \"dtype\": \"number\",\n        \"std\": 0,\n        \"min\": 0,\n        \"max\": 0,\n        \"num_unique_values\": 1,\n        \"samples\": [\n          0\n        ],\n        \"semantic_type\": \"\",\n        \"description\": \"\"\n      }\n    },\n    {\n      \"column\": \" best movie \",\n      \"properties\": {\n        \"dtype\": \"number\",\n        \"std\": 0,\n        \"min\": 0,\n        \"max\": 0,\n        \"num_unique_values\": 1,\n        \"samples\": [\n          0\n        ],\n        \"semantic_type\": \"\",\n        \"description\": \"\"\n      }\n    }\n  ]\n}"
            }
          },
          "metadata": {},
          "execution_count": 9
        }
      ],
      "source": [
        "\n",
        "bi = ngram(values, 2)\n",
        "\n",
        "bagOfWords(bi, \", \")\n"
      ]
    },
    {
      "cell_type": "markdown",
      "metadata": {
        "id": "QWAoDmUHusXm"
      },
      "source": [
        "#### Problem 2"
      ]
    },
    {
      "cell_type": "code",
      "execution_count": null,
      "metadata": {
        "id": "mzFCJAfzusXm"
      },
      "outputs": [],
      "source": [
        "from sklearn.feature_extraction.text import TfidfTransformer, CountVectorizer\n",
        "from sklearn.linear_model import LogisticRegression\n",
        "\n",
        "\n",
        "vect = CountVectorizer(stop_words=\"english\", max_features=5000)\n",
        "transformer = TfidfTransformer(norm=None)\n",
        "b_train = transformer.fit_transform(vect.fit_transform(x_train).toarray())\n",
        "b_test = transformer.fit_transform(vect.fit_transform(x_test).toarray())\n"
      ]
    },
    {
      "cell_type": "markdown",
      "metadata": {
        "id": "lPsHDf0KusXm"
      },
      "source": [
        "#### Problem 3"
      ]
    },
    {
      "cell_type": "code",
      "execution_count": null,
      "metadata": {
        "colab": {
          "base_uri": "https://localhost:8080/"
        },
        "id": "XlgsAx0YusXn",
        "outputId": "3477db1e-f6ae-4a15-a8a5-d364567b838c"
      },
      "outputs": [
        {
          "output_type": "execute_result",
          "data": {
            "text/plain": [
              "0.50256"
            ]
          },
          "metadata": {},
          "execution_count": 11
        }
      ],
      "source": [
        "model = LogisticRegression(penalty=\"l2\", max_iter=1000).fit(b_train, y_train)\n",
        "model.score(b_test, y_test)"
      ]
    },
    {
      "cell_type": "markdown",
      "metadata": {
        "id": "ADYOcw1HusXn"
      },
      "source": [
        "#### Problem 4: Scratch mounting of TF-IDF"
      ]
    },
    {
      "cell_type": "markdown",
      "metadata": {
        "id": "0DLEQngVusXo"
      },
      "source": [
        "##### Standard implementation"
      ]
    },
    {
      "cell_type": "code",
      "execution_count": null,
      "metadata": {
        "id": "KHYy_SBlusXo"
      },
      "outputs": [],
      "source": [
        "# Standard implementation of TF-IDF\n",
        "\n",
        "# Term frequency = number of repititions of words in sentence /number of words in sentence\n",
        "\n",
        "# Inverse document frequency= log{number of sentences/number of sentences containing word}\n",
        "\n",
        "class TfIdfVectorizer:\n",
        "    def __init__(self) -> None:\n",
        "        pass\n",
        "\n",
        "    def fit_transform(self, words):\n",
        "        self.__bagOfWords(words)\n",
        "        numofsent = self.frame.shape[0] # number of sentences\n",
        "        tf = self.frame.apply(lambda x: x/np.sum(x), axis=1) # frequency of words in sentence / total words in sentence\n",
        "        idf = np.log(numofsent / self.frame.apply(lambda x: np.sum(x!=0), axis=0)) # log {number of sentences / number of sentences containing word}\n",
        "\n",
        "        return tf*idf\n",
        "\n",
        "\n",
        "\n",
        "    def __bagOfWords(self, words, dimiliter=\" \", max_features=None):\n",
        "        #join sentences without losing position\n",
        "        sentence = \"\\n\".join(words)\n",
        "        word = \" \".join(words)\n",
        "\n",
        "        # get keys\n",
        "        keys = set(word.split(dimiliter))\n",
        "\n",
        "        # maximum features to be selected\n",
        "        if max_features is None:\n",
        "            max_features = len(keys)\n",
        "        self.keys = list(keys)[:max_features]\n",
        "        # stores words in each sentence\n",
        "        temp = pd.Series(sentence.split(\"\\n\")).apply(str.split)\n",
        "        frame = pd.DataFrame(np.zeros((len(words), len(self.keys))), columns=self.keys)\n",
        "\n",
        "        #O(t) = max_features\n",
        "        for key in self.keys:\n",
        "            frame[key] = temp.apply(lambda x: x.count(key))\n",
        "\n",
        "        self.frame = frame"
      ]
    },
    {
      "cell_type": "code",
      "execution_count": null,
      "metadata": {
        "colab": {
          "base_uri": "https://localhost:8080/"
        },
        "id": "Ihbq-c3ausXo",
        "outputId": "0bc85216-ac52-4b48-c0b6-f110e9fc4ff4"
      },
      "outputs": [
        {
          "output_type": "execute_result",
          "data": {
            "text/plain": [
              "['this movie is soooo funny   ',\n",
              " 'what a movie  i never',\n",
              " 'best movie ever      this movie']"
            ]
          },
          "metadata": {},
          "execution_count": 13
        }
      ],
      "source": [
        "values"
      ]
    },
    {
      "cell_type": "code",
      "execution_count": null,
      "metadata": {
        "colab": {
          "base_uri": "https://localhost:8080/",
          "height": 143
        },
        "id": "j2eGJQLcusXo",
        "outputId": "b8cef33e-1340-4610-f7d8-7e0383d3f9da"
      },
      "outputs": [
        {
          "output_type": "execute_result",
          "data": {
            "text/plain": [
              "             is     funny  movie     never      this      best         a  \\\n",
              "0 NaN  0.219722  0.219722    0.0  0.000000  0.081093  0.000000  0.000000   \n",
              "1 NaN  0.000000  0.000000    0.0  0.219722  0.000000  0.000000  0.219722   \n",
              "2 NaN  0.000000  0.000000    0.0  0.000000  0.081093  0.219722  0.000000   \n",
              "\n",
              "          i      ever      what     soooo  \n",
              "0  0.000000  0.000000  0.000000  0.219722  \n",
              "1  0.219722  0.000000  0.219722  0.000000  \n",
              "2  0.000000  0.219722  0.000000  0.000000  "
            ],
            "text/html": [
              "\n",
              "  <div id=\"df-82c86232-fc52-4207-a2d2-c7089a1ab0b5\" class=\"colab-df-container\">\n",
              "    <div>\n",
              "<style scoped>\n",
              "    .dataframe tbody tr th:only-of-type {\n",
              "        vertical-align: middle;\n",
              "    }\n",
              "\n",
              "    .dataframe tbody tr th {\n",
              "        vertical-align: top;\n",
              "    }\n",
              "\n",
              "    .dataframe thead th {\n",
              "        text-align: right;\n",
              "    }\n",
              "</style>\n",
              "<table border=\"1\" class=\"dataframe\">\n",
              "  <thead>\n",
              "    <tr style=\"text-align: right;\">\n",
              "      <th></th>\n",
              "      <th></th>\n",
              "      <th>is</th>\n",
              "      <th>funny</th>\n",
              "      <th>movie</th>\n",
              "      <th>never</th>\n",
              "      <th>this</th>\n",
              "      <th>best</th>\n",
              "      <th>a</th>\n",
              "      <th>i</th>\n",
              "      <th>ever</th>\n",
              "      <th>what</th>\n",
              "      <th>soooo</th>\n",
              "    </tr>\n",
              "  </thead>\n",
              "  <tbody>\n",
              "    <tr>\n",
              "      <th>0</th>\n",
              "      <td>NaN</td>\n",
              "      <td>0.219722</td>\n",
              "      <td>0.219722</td>\n",
              "      <td>0.0</td>\n",
              "      <td>0.000000</td>\n",
              "      <td>0.081093</td>\n",
              "      <td>0.000000</td>\n",
              "      <td>0.000000</td>\n",
              "      <td>0.000000</td>\n",
              "      <td>0.000000</td>\n",
              "      <td>0.000000</td>\n",
              "      <td>0.219722</td>\n",
              "    </tr>\n",
              "    <tr>\n",
              "      <th>1</th>\n",
              "      <td>NaN</td>\n",
              "      <td>0.000000</td>\n",
              "      <td>0.000000</td>\n",
              "      <td>0.0</td>\n",
              "      <td>0.219722</td>\n",
              "      <td>0.000000</td>\n",
              "      <td>0.000000</td>\n",
              "      <td>0.219722</td>\n",
              "      <td>0.219722</td>\n",
              "      <td>0.000000</td>\n",
              "      <td>0.219722</td>\n",
              "      <td>0.000000</td>\n",
              "    </tr>\n",
              "    <tr>\n",
              "      <th>2</th>\n",
              "      <td>NaN</td>\n",
              "      <td>0.000000</td>\n",
              "      <td>0.000000</td>\n",
              "      <td>0.0</td>\n",
              "      <td>0.000000</td>\n",
              "      <td>0.081093</td>\n",
              "      <td>0.219722</td>\n",
              "      <td>0.000000</td>\n",
              "      <td>0.000000</td>\n",
              "      <td>0.219722</td>\n",
              "      <td>0.000000</td>\n",
              "      <td>0.000000</td>\n",
              "    </tr>\n",
              "  </tbody>\n",
              "</table>\n",
              "</div>\n",
              "    <div class=\"colab-df-buttons\">\n",
              "\n",
              "  <div class=\"colab-df-container\">\n",
              "    <button class=\"colab-df-convert\" onclick=\"convertToInteractive('df-82c86232-fc52-4207-a2d2-c7089a1ab0b5')\"\n",
              "            title=\"Convert this dataframe to an interactive table.\"\n",
              "            style=\"display:none;\">\n",
              "\n",
              "  <svg xmlns=\"http://www.w3.org/2000/svg\" height=\"24px\" viewBox=\"0 -960 960 960\">\n",
              "    <path d=\"M120-120v-720h720v720H120Zm60-500h600v-160H180v160Zm220 220h160v-160H400v160Zm0 220h160v-160H400v160ZM180-400h160v-160H180v160Zm440 0h160v-160H620v160ZM180-180h160v-160H180v160Zm440 0h160v-160H620v160Z\"/>\n",
              "  </svg>\n",
              "    </button>\n",
              "\n",
              "  <style>\n",
              "    .colab-df-container {\n",
              "      display:flex;\n",
              "      gap: 12px;\n",
              "    }\n",
              "\n",
              "    .colab-df-convert {\n",
              "      background-color: #E8F0FE;\n",
              "      border: none;\n",
              "      border-radius: 50%;\n",
              "      cursor: pointer;\n",
              "      display: none;\n",
              "      fill: #1967D2;\n",
              "      height: 32px;\n",
              "      padding: 0 0 0 0;\n",
              "      width: 32px;\n",
              "    }\n",
              "\n",
              "    .colab-df-convert:hover {\n",
              "      background-color: #E2EBFA;\n",
              "      box-shadow: 0px 1px 2px rgba(60, 64, 67, 0.3), 0px 1px 3px 1px rgba(60, 64, 67, 0.15);\n",
              "      fill: #174EA6;\n",
              "    }\n",
              "\n",
              "    .colab-df-buttons div {\n",
              "      margin-bottom: 4px;\n",
              "    }\n",
              "\n",
              "    [theme=dark] .colab-df-convert {\n",
              "      background-color: #3B4455;\n",
              "      fill: #D2E3FC;\n",
              "    }\n",
              "\n",
              "    [theme=dark] .colab-df-convert:hover {\n",
              "      background-color: #434B5C;\n",
              "      box-shadow: 0px 1px 3px 1px rgba(0, 0, 0, 0.15);\n",
              "      filter: drop-shadow(0px 1px 2px rgba(0, 0, 0, 0.3));\n",
              "      fill: #FFFFFF;\n",
              "    }\n",
              "  </style>\n",
              "\n",
              "    <script>\n",
              "      const buttonEl =\n",
              "        document.querySelector('#df-82c86232-fc52-4207-a2d2-c7089a1ab0b5 button.colab-df-convert');\n",
              "      buttonEl.style.display =\n",
              "        google.colab.kernel.accessAllowed ? 'block' : 'none';\n",
              "\n",
              "      async function convertToInteractive(key) {\n",
              "        const element = document.querySelector('#df-82c86232-fc52-4207-a2d2-c7089a1ab0b5');\n",
              "        const dataTable =\n",
              "          await google.colab.kernel.invokeFunction('convertToInteractive',\n",
              "                                                    [key], {});\n",
              "        if (!dataTable) return;\n",
              "\n",
              "        const docLinkHtml = 'Like what you see? Visit the ' +\n",
              "          '<a target=\"_blank\" href=https://colab.research.google.com/notebooks/data_table.ipynb>data table notebook</a>'\n",
              "          + ' to learn more about interactive tables.';\n",
              "        element.innerHTML = '';\n",
              "        dataTable['output_type'] = 'display_data';\n",
              "        await google.colab.output.renderOutput(dataTable, element);\n",
              "        const docLink = document.createElement('div');\n",
              "        docLink.innerHTML = docLinkHtml;\n",
              "        element.appendChild(docLink);\n",
              "      }\n",
              "    </script>\n",
              "  </div>\n",
              "\n",
              "\n",
              "<div id=\"df-8f971c73-4135-4304-9038-04470bc99818\">\n",
              "  <button class=\"colab-df-quickchart\" onclick=\"quickchart('df-8f971c73-4135-4304-9038-04470bc99818')\"\n",
              "            title=\"Suggest charts\"\n",
              "            style=\"display:none;\">\n",
              "\n",
              "<svg xmlns=\"http://www.w3.org/2000/svg\" height=\"24px\"viewBox=\"0 0 24 24\"\n",
              "     width=\"24px\">\n",
              "    <g>\n",
              "        <path d=\"M19 3H5c-1.1 0-2 .9-2 2v14c0 1.1.9 2 2 2h14c1.1 0 2-.9 2-2V5c0-1.1-.9-2-2-2zM9 17H7v-7h2v7zm4 0h-2V7h2v10zm4 0h-2v-4h2v4z\"/>\n",
              "    </g>\n",
              "</svg>\n",
              "  </button>\n",
              "\n",
              "<style>\n",
              "  .colab-df-quickchart {\n",
              "      --bg-color: #E8F0FE;\n",
              "      --fill-color: #1967D2;\n",
              "      --hover-bg-color: #E2EBFA;\n",
              "      --hover-fill-color: #174EA6;\n",
              "      --disabled-fill-color: #AAA;\n",
              "      --disabled-bg-color: #DDD;\n",
              "  }\n",
              "\n",
              "  [theme=dark] .colab-df-quickchart {\n",
              "      --bg-color: #3B4455;\n",
              "      --fill-color: #D2E3FC;\n",
              "      --hover-bg-color: #434B5C;\n",
              "      --hover-fill-color: #FFFFFF;\n",
              "      --disabled-bg-color: #3B4455;\n",
              "      --disabled-fill-color: #666;\n",
              "  }\n",
              "\n",
              "  .colab-df-quickchart {\n",
              "    background-color: var(--bg-color);\n",
              "    border: none;\n",
              "    border-radius: 50%;\n",
              "    cursor: pointer;\n",
              "    display: none;\n",
              "    fill: var(--fill-color);\n",
              "    height: 32px;\n",
              "    padding: 0;\n",
              "    width: 32px;\n",
              "  }\n",
              "\n",
              "  .colab-df-quickchart:hover {\n",
              "    background-color: var(--hover-bg-color);\n",
              "    box-shadow: 0 1px 2px rgba(60, 64, 67, 0.3), 0 1px 3px 1px rgba(60, 64, 67, 0.15);\n",
              "    fill: var(--button-hover-fill-color);\n",
              "  }\n",
              "\n",
              "  .colab-df-quickchart-complete:disabled,\n",
              "  .colab-df-quickchart-complete:disabled:hover {\n",
              "    background-color: var(--disabled-bg-color);\n",
              "    fill: var(--disabled-fill-color);\n",
              "    box-shadow: none;\n",
              "  }\n",
              "\n",
              "  .colab-df-spinner {\n",
              "    border: 2px solid var(--fill-color);\n",
              "    border-color: transparent;\n",
              "    border-bottom-color: var(--fill-color);\n",
              "    animation:\n",
              "      spin 1s steps(1) infinite;\n",
              "  }\n",
              "\n",
              "  @keyframes spin {\n",
              "    0% {\n",
              "      border-color: transparent;\n",
              "      border-bottom-color: var(--fill-color);\n",
              "      border-left-color: var(--fill-color);\n",
              "    }\n",
              "    20% {\n",
              "      border-color: transparent;\n",
              "      border-left-color: var(--fill-color);\n",
              "      border-top-color: var(--fill-color);\n",
              "    }\n",
              "    30% {\n",
              "      border-color: transparent;\n",
              "      border-left-color: var(--fill-color);\n",
              "      border-top-color: var(--fill-color);\n",
              "      border-right-color: var(--fill-color);\n",
              "    }\n",
              "    40% {\n",
              "      border-color: transparent;\n",
              "      border-right-color: var(--fill-color);\n",
              "      border-top-color: var(--fill-color);\n",
              "    }\n",
              "    60% {\n",
              "      border-color: transparent;\n",
              "      border-right-color: var(--fill-color);\n",
              "    }\n",
              "    80% {\n",
              "      border-color: transparent;\n",
              "      border-right-color: var(--fill-color);\n",
              "      border-bottom-color: var(--fill-color);\n",
              "    }\n",
              "    90% {\n",
              "      border-color: transparent;\n",
              "      border-bottom-color: var(--fill-color);\n",
              "    }\n",
              "  }\n",
              "</style>\n",
              "\n",
              "  <script>\n",
              "    async function quickchart(key) {\n",
              "      const quickchartButtonEl =\n",
              "        document.querySelector('#' + key + ' button');\n",
              "      quickchartButtonEl.disabled = true;  // To prevent multiple clicks.\n",
              "      quickchartButtonEl.classList.add('colab-df-spinner');\n",
              "      try {\n",
              "        const charts = await google.colab.kernel.invokeFunction(\n",
              "            'suggestCharts', [key], {});\n",
              "      } catch (error) {\n",
              "        console.error('Error during call to suggestCharts:', error);\n",
              "      }\n",
              "      quickchartButtonEl.classList.remove('colab-df-spinner');\n",
              "      quickchartButtonEl.classList.add('colab-df-quickchart-complete');\n",
              "    }\n",
              "    (() => {\n",
              "      let quickchartButtonEl =\n",
              "        document.querySelector('#df-8f971c73-4135-4304-9038-04470bc99818 button');\n",
              "      quickchartButtonEl.style.display =\n",
              "        google.colab.kernel.accessAllowed ? 'block' : 'none';\n",
              "    })();\n",
              "  </script>\n",
              "</div>\n",
              "\n",
              "    </div>\n",
              "  </div>\n"
            ],
            "application/vnd.google.colaboratory.intrinsic+json": {
              "type": "dataframe",
              "summary": "{\n  \"name\": \"TfIdfVectorizer()\",\n  \"rows\": 3,\n  \"fields\": [\n    {\n      \"column\": \"\",\n      \"properties\": {\n        \"dtype\": \"number\",\n        \"std\": null,\n        \"min\": null,\n        \"max\": null,\n        \"num_unique_values\": 0,\n        \"samples\": [],\n        \"semantic_type\": \"\",\n        \"description\": \"\"\n      }\n    },\n    {\n      \"column\": \"is\",\n      \"properties\": {\n        \"dtype\": \"number\",\n        \"std\": 0.1268568201195128,\n        \"min\": 0.0,\n        \"max\": 0.21972245773362198,\n        \"num_unique_values\": 2,\n        \"samples\": [],\n        \"semantic_type\": \"\",\n        \"description\": \"\"\n      }\n    },\n    {\n      \"column\": \"funny\",\n      \"properties\": {\n        \"dtype\": \"number\",\n        \"std\": 0.1268568201195128,\n        \"min\": 0.0,\n        \"max\": 0.21972245773362198,\n        \"num_unique_values\": 2,\n        \"samples\": [],\n        \"semantic_type\": \"\",\n        \"description\": \"\"\n      }\n    },\n    {\n      \"column\": \"movie\",\n      \"properties\": {\n        \"dtype\": \"number\",\n        \"std\": 0.0,\n        \"min\": 0.0,\n        \"max\": 0.0,\n        \"num_unique_values\": 1,\n        \"samples\": [],\n        \"semantic_type\": \"\",\n        \"description\": \"\"\n      }\n    },\n    {\n      \"column\": \"never\",\n      \"properties\": {\n        \"dtype\": \"number\",\n        \"std\": 0.1268568201195128,\n        \"min\": 0.0,\n        \"max\": 0.21972245773362198,\n        \"num_unique_values\": 2,\n        \"samples\": [],\n        \"semantic_type\": \"\",\n        \"description\": \"\"\n      }\n    },\n    {\n      \"column\": \"this\",\n      \"properties\": {\n        \"dtype\": \"number\",\n        \"std\": 0.04681907786264989,\n        \"min\": 0.0,\n        \"max\": 0.08109302162163289,\n        \"num_unique_values\": 2,\n        \"samples\": [],\n        \"semantic_type\": \"\",\n        \"description\": \"\"\n      }\n    },\n    {\n      \"column\": \"best\",\n      \"properties\": {\n        \"dtype\": \"number\",\n        \"std\": 0.1268568201195128,\n        \"min\": 0.0,\n        \"max\": 0.21972245773362198,\n        \"num_unique_values\": 2,\n        \"samples\": [],\n        \"semantic_type\": \"\",\n        \"description\": \"\"\n      }\n    },\n    {\n      \"column\": \"a\",\n      \"properties\": {\n        \"dtype\": \"number\",\n        \"std\": 0.1268568201195128,\n        \"min\": 0.0,\n        \"max\": 0.21972245773362198,\n        \"num_unique_values\": 2,\n        \"samples\": [],\n        \"semantic_type\": \"\",\n        \"description\": \"\"\n      }\n    },\n    {\n      \"column\": \"i\",\n      \"properties\": {\n        \"dtype\": \"number\",\n        \"std\": 0.1268568201195128,\n        \"min\": 0.0,\n        \"max\": 0.21972245773362198,\n        \"num_unique_values\": 2,\n        \"samples\": [],\n        \"semantic_type\": \"\",\n        \"description\": \"\"\n      }\n    },\n    {\n      \"column\": \"ever\",\n      \"properties\": {\n        \"dtype\": \"number\",\n        \"std\": 0.1268568201195128,\n        \"min\": 0.0,\n        \"max\": 0.21972245773362198,\n        \"num_unique_values\": 2,\n        \"samples\": [],\n        \"semantic_type\": \"\",\n        \"description\": \"\"\n      }\n    },\n    {\n      \"column\": \"what\",\n      \"properties\": {\n        \"dtype\": \"number\",\n        \"std\": 0.1268568201195128,\n        \"min\": 0.0,\n        \"max\": 0.21972245773362198,\n        \"num_unique_values\": 2,\n        \"samples\": [],\n        \"semantic_type\": \"\",\n        \"description\": \"\"\n      }\n    },\n    {\n      \"column\": \"soooo\",\n      \"properties\": {\n        \"dtype\": \"number\",\n        \"std\": 0.1268568201195128,\n        \"min\": 0.0,\n        \"max\": 0.21972245773362198,\n        \"num_unique_values\": 2,\n        \"samples\": [],\n        \"semantic_type\": \"\",\n        \"description\": \"\"\n      }\n    }\n  ]\n}"
            }
          },
          "metadata": {},
          "execution_count": 14
        }
      ],
      "source": [
        "TfIdfVectorizer().fit_transform(values)"
      ]
    },
    {
      "cell_type": "markdown",
      "metadata": {
        "id": "85s5206SusXp"
      },
      "source": [
        "##### Scikit learn implementation"
      ]
    },
    {
      "cell_type": "code",
      "execution_count": null,
      "metadata": {
        "id": "WNO4JrKRusXp"
      },
      "outputs": [],
      "source": [
        "# Scikit learn implementation of TF-IDF\n",
        "\n",
        "# Term frequency = frequency of words\n",
        "\n",
        "# Inverse document frequency= log{1 + number of sentences/ 1 + number of sentences containing word}+1\n",
        "\n",
        "class TfIdfVectorizer2:\n",
        "    def __init__(self) -> None:\n",
        "        pass\n",
        "\n",
        "    def fit_transform(self, words):\n",
        "        self.__bagOfWords(words)\n",
        "        numofsent = self.frame.shape[0] + 1# number of sentences\n",
        "        tf = self.frame # frequency of words\n",
        "        idf = np.log(numofsent / self.frame.apply(lambda x: np.sum(x!=0)+1, axis=0)) + 1 # log {number of sentences / number of sentences containing word}\n",
        "\n",
        "        return tf*idf\n",
        "\n",
        "\n",
        "\n",
        "    def __bagOfWords(self, words, dimiliter=\" \", max_features=None):\n",
        "        #join sentences without losing position\n",
        "        sentence = \"\\n\".join(words)\n",
        "        word = \" \".join(words)\n",
        "\n",
        "        # get keys\n",
        "        keys = set(word.split(dimiliter))\n",
        "\n",
        "        # maximum features to be selected\n",
        "        if max_features is None:\n",
        "            max_features = len(keys)\n",
        "        self.keys = list(keys)[:max_features]\n",
        "        # stores words in each sentence\n",
        "        temp = pd.Series(sentence.split(\"\\n\")).apply(str.split)\n",
        "        frame = pd.DataFrame(np.zeros((len(words), len(self.keys))), columns=self.keys)\n",
        "\n",
        "        #O(t) = max_features\n",
        "        for key in self.keys:\n",
        "            frame[key] = temp.apply(lambda x: x.count(key))\n",
        "\n",
        "        self.frame = frame\n"
      ]
    },
    {
      "cell_type": "code",
      "execution_count": null,
      "metadata": {
        "colab": {
          "base_uri": "https://localhost:8080/",
          "height": 143
        },
        "id": "sp73JmeTusXp",
        "outputId": "e00272f2-e6e6-45a5-d25c-486463fc417b"
      },
      "outputs": [
        {
          "output_type": "execute_result",
          "data": {
            "text/plain": [
              "              is     funny  movie     never      this      best         a  \\\n",
              "0  0.0  1.693147  1.693147    1.0  0.000000  1.287682  0.000000  0.000000   \n",
              "1  0.0  0.000000  0.000000    1.0  1.693147  0.000000  0.000000  1.693147   \n",
              "2  0.0  0.000000  0.000000    2.0  0.000000  1.287682  1.693147  0.000000   \n",
              "\n",
              "          i      ever      what     soooo  \n",
              "0  0.000000  0.000000  0.000000  1.693147  \n",
              "1  1.693147  0.000000  1.693147  0.000000  \n",
              "2  0.000000  1.693147  0.000000  0.000000  "
            ],
            "text/html": [
              "\n",
              "  <div id=\"df-8c043636-a06b-473a-a6ce-09f153d64b70\" class=\"colab-df-container\">\n",
              "    <div>\n",
              "<style scoped>\n",
              "    .dataframe tbody tr th:only-of-type {\n",
              "        vertical-align: middle;\n",
              "    }\n",
              "\n",
              "    .dataframe tbody tr th {\n",
              "        vertical-align: top;\n",
              "    }\n",
              "\n",
              "    .dataframe thead th {\n",
              "        text-align: right;\n",
              "    }\n",
              "</style>\n",
              "<table border=\"1\" class=\"dataframe\">\n",
              "  <thead>\n",
              "    <tr style=\"text-align: right;\">\n",
              "      <th></th>\n",
              "      <th></th>\n",
              "      <th>is</th>\n",
              "      <th>funny</th>\n",
              "      <th>movie</th>\n",
              "      <th>never</th>\n",
              "      <th>this</th>\n",
              "      <th>best</th>\n",
              "      <th>a</th>\n",
              "      <th>i</th>\n",
              "      <th>ever</th>\n",
              "      <th>what</th>\n",
              "      <th>soooo</th>\n",
              "    </tr>\n",
              "  </thead>\n",
              "  <tbody>\n",
              "    <tr>\n",
              "      <th>0</th>\n",
              "      <td>0.0</td>\n",
              "      <td>1.693147</td>\n",
              "      <td>1.693147</td>\n",
              "      <td>1.0</td>\n",
              "      <td>0.000000</td>\n",
              "      <td>1.287682</td>\n",
              "      <td>0.000000</td>\n",
              "      <td>0.000000</td>\n",
              "      <td>0.000000</td>\n",
              "      <td>0.000000</td>\n",
              "      <td>0.000000</td>\n",
              "      <td>1.693147</td>\n",
              "    </tr>\n",
              "    <tr>\n",
              "      <th>1</th>\n",
              "      <td>0.0</td>\n",
              "      <td>0.000000</td>\n",
              "      <td>0.000000</td>\n",
              "      <td>1.0</td>\n",
              "      <td>1.693147</td>\n",
              "      <td>0.000000</td>\n",
              "      <td>0.000000</td>\n",
              "      <td>1.693147</td>\n",
              "      <td>1.693147</td>\n",
              "      <td>0.000000</td>\n",
              "      <td>1.693147</td>\n",
              "      <td>0.000000</td>\n",
              "    </tr>\n",
              "    <tr>\n",
              "      <th>2</th>\n",
              "      <td>0.0</td>\n",
              "      <td>0.000000</td>\n",
              "      <td>0.000000</td>\n",
              "      <td>2.0</td>\n",
              "      <td>0.000000</td>\n",
              "      <td>1.287682</td>\n",
              "      <td>1.693147</td>\n",
              "      <td>0.000000</td>\n",
              "      <td>0.000000</td>\n",
              "      <td>1.693147</td>\n",
              "      <td>0.000000</td>\n",
              "      <td>0.000000</td>\n",
              "    </tr>\n",
              "  </tbody>\n",
              "</table>\n",
              "</div>\n",
              "    <div class=\"colab-df-buttons\">\n",
              "\n",
              "  <div class=\"colab-df-container\">\n",
              "    <button class=\"colab-df-convert\" onclick=\"convertToInteractive('df-8c043636-a06b-473a-a6ce-09f153d64b70')\"\n",
              "            title=\"Convert this dataframe to an interactive table.\"\n",
              "            style=\"display:none;\">\n",
              "\n",
              "  <svg xmlns=\"http://www.w3.org/2000/svg\" height=\"24px\" viewBox=\"0 -960 960 960\">\n",
              "    <path d=\"M120-120v-720h720v720H120Zm60-500h600v-160H180v160Zm220 220h160v-160H400v160Zm0 220h160v-160H400v160ZM180-400h160v-160H180v160Zm440 0h160v-160H620v160ZM180-180h160v-160H180v160Zm440 0h160v-160H620v160Z\"/>\n",
              "  </svg>\n",
              "    </button>\n",
              "\n",
              "  <style>\n",
              "    .colab-df-container {\n",
              "      display:flex;\n",
              "      gap: 12px;\n",
              "    }\n",
              "\n",
              "    .colab-df-convert {\n",
              "      background-color: #E8F0FE;\n",
              "      border: none;\n",
              "      border-radius: 50%;\n",
              "      cursor: pointer;\n",
              "      display: none;\n",
              "      fill: #1967D2;\n",
              "      height: 32px;\n",
              "      padding: 0 0 0 0;\n",
              "      width: 32px;\n",
              "    }\n",
              "\n",
              "    .colab-df-convert:hover {\n",
              "      background-color: #E2EBFA;\n",
              "      box-shadow: 0px 1px 2px rgba(60, 64, 67, 0.3), 0px 1px 3px 1px rgba(60, 64, 67, 0.15);\n",
              "      fill: #174EA6;\n",
              "    }\n",
              "\n",
              "    .colab-df-buttons div {\n",
              "      margin-bottom: 4px;\n",
              "    }\n",
              "\n",
              "    [theme=dark] .colab-df-convert {\n",
              "      background-color: #3B4455;\n",
              "      fill: #D2E3FC;\n",
              "    }\n",
              "\n",
              "    [theme=dark] .colab-df-convert:hover {\n",
              "      background-color: #434B5C;\n",
              "      box-shadow: 0px 1px 3px 1px rgba(0, 0, 0, 0.15);\n",
              "      filter: drop-shadow(0px 1px 2px rgba(0, 0, 0, 0.3));\n",
              "      fill: #FFFFFF;\n",
              "    }\n",
              "  </style>\n",
              "\n",
              "    <script>\n",
              "      const buttonEl =\n",
              "        document.querySelector('#df-8c043636-a06b-473a-a6ce-09f153d64b70 button.colab-df-convert');\n",
              "      buttonEl.style.display =\n",
              "        google.colab.kernel.accessAllowed ? 'block' : 'none';\n",
              "\n",
              "      async function convertToInteractive(key) {\n",
              "        const element = document.querySelector('#df-8c043636-a06b-473a-a6ce-09f153d64b70');\n",
              "        const dataTable =\n",
              "          await google.colab.kernel.invokeFunction('convertToInteractive',\n",
              "                                                    [key], {});\n",
              "        if (!dataTable) return;\n",
              "\n",
              "        const docLinkHtml = 'Like what you see? Visit the ' +\n",
              "          '<a target=\"_blank\" href=https://colab.research.google.com/notebooks/data_table.ipynb>data table notebook</a>'\n",
              "          + ' to learn more about interactive tables.';\n",
              "        element.innerHTML = '';\n",
              "        dataTable['output_type'] = 'display_data';\n",
              "        await google.colab.output.renderOutput(dataTable, element);\n",
              "        const docLink = document.createElement('div');\n",
              "        docLink.innerHTML = docLinkHtml;\n",
              "        element.appendChild(docLink);\n",
              "      }\n",
              "    </script>\n",
              "  </div>\n",
              "\n",
              "\n",
              "<div id=\"df-2dc40785-aa29-42f5-9684-cd638ef652d6\">\n",
              "  <button class=\"colab-df-quickchart\" onclick=\"quickchart('df-2dc40785-aa29-42f5-9684-cd638ef652d6')\"\n",
              "            title=\"Suggest charts\"\n",
              "            style=\"display:none;\">\n",
              "\n",
              "<svg xmlns=\"http://www.w3.org/2000/svg\" height=\"24px\"viewBox=\"0 0 24 24\"\n",
              "     width=\"24px\">\n",
              "    <g>\n",
              "        <path d=\"M19 3H5c-1.1 0-2 .9-2 2v14c0 1.1.9 2 2 2h14c1.1 0 2-.9 2-2V5c0-1.1-.9-2-2-2zM9 17H7v-7h2v7zm4 0h-2V7h2v10zm4 0h-2v-4h2v4z\"/>\n",
              "    </g>\n",
              "</svg>\n",
              "  </button>\n",
              "\n",
              "<style>\n",
              "  .colab-df-quickchart {\n",
              "      --bg-color: #E8F0FE;\n",
              "      --fill-color: #1967D2;\n",
              "      --hover-bg-color: #E2EBFA;\n",
              "      --hover-fill-color: #174EA6;\n",
              "      --disabled-fill-color: #AAA;\n",
              "      --disabled-bg-color: #DDD;\n",
              "  }\n",
              "\n",
              "  [theme=dark] .colab-df-quickchart {\n",
              "      --bg-color: #3B4455;\n",
              "      --fill-color: #D2E3FC;\n",
              "      --hover-bg-color: #434B5C;\n",
              "      --hover-fill-color: #FFFFFF;\n",
              "      --disabled-bg-color: #3B4455;\n",
              "      --disabled-fill-color: #666;\n",
              "  }\n",
              "\n",
              "  .colab-df-quickchart {\n",
              "    background-color: var(--bg-color);\n",
              "    border: none;\n",
              "    border-radius: 50%;\n",
              "    cursor: pointer;\n",
              "    display: none;\n",
              "    fill: var(--fill-color);\n",
              "    height: 32px;\n",
              "    padding: 0;\n",
              "    width: 32px;\n",
              "  }\n",
              "\n",
              "  .colab-df-quickchart:hover {\n",
              "    background-color: var(--hover-bg-color);\n",
              "    box-shadow: 0 1px 2px rgba(60, 64, 67, 0.3), 0 1px 3px 1px rgba(60, 64, 67, 0.15);\n",
              "    fill: var(--button-hover-fill-color);\n",
              "  }\n",
              "\n",
              "  .colab-df-quickchart-complete:disabled,\n",
              "  .colab-df-quickchart-complete:disabled:hover {\n",
              "    background-color: var(--disabled-bg-color);\n",
              "    fill: var(--disabled-fill-color);\n",
              "    box-shadow: none;\n",
              "  }\n",
              "\n",
              "  .colab-df-spinner {\n",
              "    border: 2px solid var(--fill-color);\n",
              "    border-color: transparent;\n",
              "    border-bottom-color: var(--fill-color);\n",
              "    animation:\n",
              "      spin 1s steps(1) infinite;\n",
              "  }\n",
              "\n",
              "  @keyframes spin {\n",
              "    0% {\n",
              "      border-color: transparent;\n",
              "      border-bottom-color: var(--fill-color);\n",
              "      border-left-color: var(--fill-color);\n",
              "    }\n",
              "    20% {\n",
              "      border-color: transparent;\n",
              "      border-left-color: var(--fill-color);\n",
              "      border-top-color: var(--fill-color);\n",
              "    }\n",
              "    30% {\n",
              "      border-color: transparent;\n",
              "      border-left-color: var(--fill-color);\n",
              "      border-top-color: var(--fill-color);\n",
              "      border-right-color: var(--fill-color);\n",
              "    }\n",
              "    40% {\n",
              "      border-color: transparent;\n",
              "      border-right-color: var(--fill-color);\n",
              "      border-top-color: var(--fill-color);\n",
              "    }\n",
              "    60% {\n",
              "      border-color: transparent;\n",
              "      border-right-color: var(--fill-color);\n",
              "    }\n",
              "    80% {\n",
              "      border-color: transparent;\n",
              "      border-right-color: var(--fill-color);\n",
              "      border-bottom-color: var(--fill-color);\n",
              "    }\n",
              "    90% {\n",
              "      border-color: transparent;\n",
              "      border-bottom-color: var(--fill-color);\n",
              "    }\n",
              "  }\n",
              "</style>\n",
              "\n",
              "  <script>\n",
              "    async function quickchart(key) {\n",
              "      const quickchartButtonEl =\n",
              "        document.querySelector('#' + key + ' button');\n",
              "      quickchartButtonEl.disabled = true;  // To prevent multiple clicks.\n",
              "      quickchartButtonEl.classList.add('colab-df-spinner');\n",
              "      try {\n",
              "        const charts = await google.colab.kernel.invokeFunction(\n",
              "            'suggestCharts', [key], {});\n",
              "      } catch (error) {\n",
              "        console.error('Error during call to suggestCharts:', error);\n",
              "      }\n",
              "      quickchartButtonEl.classList.remove('colab-df-spinner');\n",
              "      quickchartButtonEl.classList.add('colab-df-quickchart-complete');\n",
              "    }\n",
              "    (() => {\n",
              "      let quickchartButtonEl =\n",
              "        document.querySelector('#df-2dc40785-aa29-42f5-9684-cd638ef652d6 button');\n",
              "      quickchartButtonEl.style.display =\n",
              "        google.colab.kernel.accessAllowed ? 'block' : 'none';\n",
              "    })();\n",
              "  </script>\n",
              "</div>\n",
              "\n",
              "    </div>\n",
              "  </div>\n"
            ],
            "application/vnd.google.colaboratory.intrinsic+json": {
              "type": "dataframe",
              "summary": "{\n  \"name\": \"TfIdfVectorizer2()\",\n  \"rows\": 3,\n  \"fields\": [\n    {\n      \"column\": \"\",\n      \"properties\": {\n        \"dtype\": \"number\",\n        \"std\": 0.0,\n        \"min\": 0.0,\n        \"max\": 0.0,\n        \"num_unique_values\": 1,\n        \"samples\": [\n          0.0\n        ],\n        \"semantic_type\": \"\",\n        \"description\": \"\"\n      }\n    },\n    {\n      \"column\": \"is\",\n      \"properties\": {\n        \"dtype\": \"number\",\n        \"std\": 0.9775389804739404,\n        \"min\": 0.0,\n        \"max\": 1.6931471805599454,\n        \"num_unique_values\": 2,\n        \"samples\": [\n          0.0\n        ],\n        \"semantic_type\": \"\",\n        \"description\": \"\"\n      }\n    },\n    {\n      \"column\": \"funny\",\n      \"properties\": {\n        \"dtype\": \"number\",\n        \"std\": 0.9775389804739404,\n        \"min\": 0.0,\n        \"max\": 1.6931471805599454,\n        \"num_unique_values\": 2,\n        \"samples\": [\n          0.0\n        ],\n        \"semantic_type\": \"\",\n        \"description\": \"\"\n      }\n    },\n    {\n      \"column\": \"movie\",\n      \"properties\": {\n        \"dtype\": \"number\",\n        \"std\": 0.5773502691896257,\n        \"min\": 1.0,\n        \"max\": 2.0,\n        \"num_unique_values\": 2,\n        \"samples\": [\n          2.0\n        ],\n        \"semantic_type\": \"\",\n        \"description\": \"\"\n      }\n    },\n    {\n      \"column\": \"never\",\n      \"properties\": {\n        \"dtype\": \"number\",\n        \"std\": 0.9775389804739404,\n        \"min\": 0.0,\n        \"max\": 1.6931471805599454,\n        \"num_unique_values\": 2,\n        \"samples\": [\n          1.6931471805599454\n        ],\n        \"semantic_type\": \"\",\n        \"description\": \"\"\n      }\n    },\n    {\n      \"column\": \"this\",\n      \"properties\": {\n        \"dtype\": \"number\",\n        \"std\": 0.7434435911606908,\n        \"min\": 0.0,\n        \"max\": 1.2876820724517808,\n        \"num_unique_values\": 2,\n        \"samples\": [\n          0.0\n        ],\n        \"semantic_type\": \"\",\n        \"description\": \"\"\n      }\n    },\n    {\n      \"column\": \"best\",\n      \"properties\": {\n        \"dtype\": \"number\",\n        \"std\": 0.9775389804739404,\n        \"min\": 0.0,\n        \"max\": 1.6931471805599454,\n        \"num_unique_values\": 2,\n        \"samples\": [\n          1.6931471805599454\n        ],\n        \"semantic_type\": \"\",\n        \"description\": \"\"\n      }\n    },\n    {\n      \"column\": \"a\",\n      \"properties\": {\n        \"dtype\": \"number\",\n        \"std\": 0.9775389804739404,\n        \"min\": 0.0,\n        \"max\": 1.6931471805599454,\n        \"num_unique_values\": 2,\n        \"samples\": [\n          1.6931471805599454\n        ],\n        \"semantic_type\": \"\",\n        \"description\": \"\"\n      }\n    },\n    {\n      \"column\": \"i\",\n      \"properties\": {\n        \"dtype\": \"number\",\n        \"std\": 0.9775389804739404,\n        \"min\": 0.0,\n        \"max\": 1.6931471805599454,\n        \"num_unique_values\": 2,\n        \"samples\": [\n          1.6931471805599454\n        ],\n        \"semantic_type\": \"\",\n        \"description\": \"\"\n      }\n    },\n    {\n      \"column\": \"ever\",\n      \"properties\": {\n        \"dtype\": \"number\",\n        \"std\": 0.9775389804739404,\n        \"min\": 0.0,\n        \"max\": 1.6931471805599454,\n        \"num_unique_values\": 2,\n        \"samples\": [\n          1.6931471805599454\n        ],\n        \"semantic_type\": \"\",\n        \"description\": \"\"\n      }\n    },\n    {\n      \"column\": \"what\",\n      \"properties\": {\n        \"dtype\": \"number\",\n        \"std\": 0.9775389804739404,\n        \"min\": 0.0,\n        \"max\": 1.6931471805599454,\n        \"num_unique_values\": 2,\n        \"samples\": [\n          1.6931471805599454\n        ],\n        \"semantic_type\": \"\",\n        \"description\": \"\"\n      }\n    },\n    {\n      \"column\": \"soooo\",\n      \"properties\": {\n        \"dtype\": \"number\",\n        \"std\": 0.9775389804739404,\n        \"min\": 0.0,\n        \"max\": 1.6931471805599454,\n        \"num_unique_values\": 2,\n        \"samples\": [\n          0.0\n        ],\n        \"semantic_type\": \"\",\n        \"description\": \"\"\n      }\n    }\n  ]\n}"
            }
          },
          "metadata": {},
          "execution_count": 16
        }
      ],
      "source": [
        "TfIdfVectorizer2().fit_transform(values)"
      ]
    },
    {
      "cell_type": "markdown",
      "source": [
        "#### Problem 5"
      ],
      "metadata": {
        "id": "m75RFebwi6Xa"
      }
    },
    {
      "cell_type": "code",
      "source": [
        "#unprocessed text\n",
        "x_train[0]"
      ],
      "metadata": {
        "colab": {
          "base_uri": "https://localhost:8080/",
          "height": 108
        },
        "id": "QW8KZeKo4tXU",
        "outputId": "0dd93f6d-2971-4009-f03f-94b66579ef41"
      },
      "execution_count": null,
      "outputs": [
        {
          "output_type": "execute_result",
          "data": {
            "text/plain": [
              "\"Zero Day leads you to think, even re-think why two boys/young men would do what they did - commit mutual suicide via slaughtering their classmates. It captures what must be beyond a bizarre mode of being for two humans who have decided to withdraw from common civility in order to define their own/mutual world via coupled destruction.<br /><br />It is not a perfect movie but given what money/time the filmmaker and actors had - it is a remarkable product. In terms of explaining the motives and actions of the two young suicide/murderers it is better than 'Elephant' - in terms of being a film that gets under our 'rationalistic' skin it is a far, far better film than almost anything you are likely to see. <br /><br />Flawed but honest with a terrible honesty.\""
            ],
            "application/vnd.google.colaboratory.intrinsic+json": {
              "type": "string"
            }
          },
          "metadata": {},
          "execution_count": 17
        }
      ]
    },
    {
      "cell_type": "code",
      "source": [
        "corpus_train = processText(x_train)\n",
        "corpus_test = processText(x_test)\n"
      ],
      "metadata": {
        "id": "19ydG_2fzcHh"
      },
      "execution_count": null,
      "outputs": []
    },
    {
      "cell_type": "code",
      "source": [
        "corpus_train_ = [sentence.split() for sentence in corpus_train]\n",
        "corpus_test_ = [sentence.split() for sentence in corpus_test]\n"
      ],
      "metadata": {
        "id": "Fwm3TmSr7-pS"
      },
      "execution_count": null,
      "outputs": []
    },
    {
      "cell_type": "code",
      "source": [
        "train = corpus_train_ + corpus_test_\n"
      ],
      "metadata": {
        "id": "m2PNL5KTGbEa"
      },
      "execution_count": null,
      "outputs": []
    },
    {
      "cell_type": "markdown",
      "source": [
        "#### Problem 6"
      ],
      "metadata": {
        "id": "K7GneJ-1jDYz"
      }
    },
    {
      "cell_type": "code",
      "source": [
        "model = Word2Vec(sentences=train, vector_size=150)\n",
        "print(model.corpus_total_words)\n",
        "#model.train(corpus_train_, epochs=model.epochs, total_examples=model.corpus_count)"
      ],
      "metadata": {
        "colab": {
          "base_uri": "https://localhost:8080/"
        },
        "id": "fTrpeWvG41ro",
        "outputId": "7aa0cd73-df7d-4ada-c549-8ca13cd8c7ff"
      },
      "execution_count": null,
      "outputs": [
        {
          "output_type": "stream",
          "name": "stdout",
          "text": [
            "11977396\n"
          ]
        }
      ]
    },
    {
      "cell_type": "code",
      "source": [
        "model.wv.most_similar(positive=\"good\", topn=10)"
      ],
      "metadata": {
        "colab": {
          "base_uri": "https://localhost:8080/"
        },
        "id": "Wa8BTR9-8vM5",
        "outputId": "1f546fe6-b285-4402-eec9-36f3af14457f"
      },
      "execution_count": null,
      "outputs": [
        {
          "output_type": "execute_result",
          "data": {
            "text/plain": [
              "[('decent', 0.7353407740592957),\n",
              " ('bad', 0.7089623808860779),\n",
              " ('great', 0.7053672671318054),\n",
              " ('nice', 0.6390978097915649),\n",
              " ('cool', 0.6238341927528381),\n",
              " ('mediocre', 0.6073983311653137),\n",
              " ('fine', 0.6061866283416748),\n",
              " ('solid', 0.5896159410476685),\n",
              " ('funny', 0.5838713645935059),\n",
              " ('weak', 0.5823644399642944)]"
            ]
          },
          "metadata": {},
          "execution_count": 22
        }
      ]
    },
    {
      "cell_type": "code",
      "source": [
        "np.max(model.wv[\"decent\"])"
      ],
      "metadata": {
        "colab": {
          "base_uri": "https://localhost:8080/"
        },
        "id": "LcxQ-YMqwlKY",
        "outputId": "35f9dda0-3616-48db-f18d-6baa3818588c"
      },
      "execution_count": null,
      "outputs": [
        {
          "output_type": "execute_result",
          "data": {
            "text/plain": [
              "2.9946668"
            ]
          },
          "metadata": {},
          "execution_count": 23
        }
      ]
    },
    {
      "cell_type": "code",
      "source": [
        "keys = model.wv.key_to_index.keys()\n",
        "\n",
        "vectors = np.array([model.wv[key] for key in keys])"
      ],
      "metadata": {
        "id": "x5ERzqboH6oc"
      },
      "execution_count": null,
      "outputs": []
    },
    {
      "cell_type": "code",
      "source": [
        "\n",
        "vectors[vectors.argmin()].shape"
      ],
      "metadata": {
        "colab": {
          "base_uri": "https://localhost:8080/"
        },
        "id": "yvfmUvpirLgK",
        "outputId": "be4d2b74-e3c1-4872-dac6-80a93a25b757"
      },
      "execution_count": null,
      "outputs": [
        {
          "output_type": "execute_result",
          "data": {
            "text/plain": [
              "(150,)"
            ]
          },
          "metadata": {},
          "execution_count": 25
        }
      ]
    },
    {
      "cell_type": "markdown",
      "source": [
        "#### Problem 7"
      ],
      "metadata": {
        "id": "ZTEO_KxvjxPa"
      }
    },
    {
      "cell_type": "code",
      "source": [
        "from sklearn.manifold import TSNE\n",
        "tsne_model = TSNE(perplexity=40, n_iter=250, random_state=123)\n",
        "\n",
        "vectors_tsne = tsne_model.fit_transform(vectors)\n",
        "\n"
      ],
      "metadata": {
        "id": "OUOQReNnI7iz"
      },
      "execution_count": 64,
      "outputs": []
    },
    {
      "cell_type": "code",
      "source": [
        "fig, ax = plt.subplots(figsize=(5,5))\n",
        "ax.scatter(vectors_tsne[:, 0], vectors_tsne[:, 1])\n",
        "for i, word in enumerate(list(keys)):\n",
        "    plt.annotate(word, xy=(vectors_tsne[i, 0], vectors_tsne[i, 1]))\n",
        "ax.set_yticklabels([])\n",
        "ax.set_xticklabels([])\n",
        "plt.show()"
      ],
      "metadata": {
        "id": "Ljzpp2llJ8X3",
        "colab": {
          "base_uri": "https://localhost:8080/",
          "height": 635
        },
        "outputId": "38c0ac46-b3e3-4b25-a355-75a06c35f3bb"
      },
      "execution_count": 65,
      "outputs": [
        {
          "output_type": "stream",
          "name": "stderr",
          "text": [
            "/usr/local/lib/python3.10/dist-packages/IPython/core/pylabtools.py:151: UserWarning: Glyph 150 (\\x96) missing from current font.\n",
            "  fig.canvas.print_figure(bytes_io, **kw)\n",
            "/usr/local/lib/python3.10/dist-packages/IPython/core/pylabtools.py:151: UserWarning: Glyph 151 (\\x97) missing from current font.\n",
            "  fig.canvas.print_figure(bytes_io, **kw)\n",
            "/usr/local/lib/python3.10/dist-packages/IPython/core/pylabtools.py:151: UserWarning: Glyph 142 (\\x8e) missing from current font.\n",
            "  fig.canvas.print_figure(bytes_io, **kw)\n",
            "/usr/local/lib/python3.10/dist-packages/IPython/core/pylabtools.py:151: UserWarning: Glyph 158 (\\x9e) missing from current font.\n",
            "  fig.canvas.print_figure(bytes_io, **kw)\n",
            "/usr/local/lib/python3.10/dist-packages/IPython/core/pylabtools.py:151: UserWarning: Glyph 149 (\\x95) missing from current font.\n",
            "  fig.canvas.print_figure(bytes_io, **kw)\n",
            "/usr/local/lib/python3.10/dist-packages/IPython/core/pylabtools.py:151: UserWarning: Glyph 145 (\\x91) missing from current font.\n",
            "  fig.canvas.print_figure(bytes_io, **kw)\n",
            "/usr/local/lib/python3.10/dist-packages/IPython/core/pylabtools.py:151: UserWarning: Glyph 61623 (\\uf0b7) missing from current font.\n",
            "  fig.canvas.print_figure(bytes_io, **kw)\n"
          ]
        },
        {
          "output_type": "display_data",
          "data": {
            "text/plain": [
              "<Figure size 500x500 with 1 Axes>"
            ],
            "image/png": "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\n"
          },
          "metadata": {}
        }
      ]
    },
    {
      "cell_type": "markdown",
      "source": [
        "#### Problem 8"
      ],
      "metadata": {
        "id": "orywChi4j5nP"
      }
    },
    {
      "cell_type": "code",
      "source": [
        "vocab= list(keys)\n"
      ],
      "metadata": {
        "id": "7Ey53eYgUrFU"
      },
      "execution_count": null,
      "outputs": []
    },
    {
      "cell_type": "code",
      "source": [
        "len(model.wv[\"good\"])"
      ],
      "metadata": {
        "colab": {
          "base_uri": "https://localhost:8080/"
        },
        "id": "AVWpJHbZruwr",
        "outputId": "7d400b0d-45d5-46b1-c64c-92b2c28c0d90"
      },
      "execution_count": null,
      "outputs": [
        {
          "output_type": "execute_result",
          "data": {
            "text/plain": [
              "150"
            ]
          },
          "metadata": {},
          "execution_count": 29
        }
      ]
    },
    {
      "cell_type": "code",
      "source": [
        "model.wv.most_similar(positive=\"man\")"
      ],
      "metadata": {
        "colab": {
          "base_uri": "https://localhost:8080/"
        },
        "id": "QAmsvwtq5Ztb",
        "outputId": "599c92c9-09df-42e5-ed43-71444656d48c"
      },
      "execution_count": null,
      "outputs": [
        {
          "output_type": "execute_result",
          "data": {
            "text/plain": [
              "[('woman', 0.6738064885139465),\n",
              " ('guy', 0.62201327085495),\n",
              " ('boy', 0.6192163228988647),\n",
              " ('person', 0.5663447380065918),\n",
              " ('lady', 0.5632669925689697),\n",
              " ('soldier', 0.5564365386962891),\n",
              " ('lad', 0.5226794481277466),\n",
              " ('men', 0.5140239596366882),\n",
              " ('murderer', 0.5112357139587402),\n",
              " ('girl', 0.4870847463607788)]"
            ]
          },
          "metadata": {},
          "execution_count": 30
        }
      ]
    },
    {
      "cell_type": "code",
      "source": [
        "indexes = len(vocab)\n",
        "sample = len(corpus_train_)\n",
        "vector_train = pd.DataFrame(np.zeros((sample, indexes)), columns=vocab)\n",
        "sample = len(corpus_test_)\n",
        "vector_test = pd.DataFrame(np.zeros((sample, indexes)), columns=vocab)\n",
        "\n"
      ],
      "metadata": {
        "id": "BalrgoKYRkWE"
      },
      "execution_count": null,
      "outputs": []
    },
    {
      "cell_type": "code",
      "source": [
        "for row in range(sample):\n",
        "  sentence = corpus_train_[row]\n",
        "  s_len = len(sentence) - 1\n",
        "\n",
        "  for col in range(indexes):\n",
        "    if col > s_len:\n",
        "      break\n",
        "    if vocab[col] not in sentence:\n",
        "      continue\n",
        "\n",
        "    vector_train.iloc[row, col] = np.max(model.wv[vocab[col]])\n",
        "\n",
        "\n",
        "\n"
      ],
      "metadata": {
        "id": "uYcRa8eRQklO"
      },
      "execution_count": null,
      "outputs": []
    },
    {
      "cell_type": "code",
      "source": [
        "from sklearn.model_selection import train_test_split\n",
        "\n",
        "vec_train, vec_test, t_train, t_test  = train_test_split(vector_train.to_numpy(), y_train, test_size=0.2)"
      ],
      "metadata": {
        "id": "fNBhHQYcLcLI"
      },
      "execution_count": null,
      "outputs": []
    },
    {
      "cell_type": "code",
      "source": [
        "class_model = LogisticRegression(penalty=\"l2\", max_iter=1000).fit(vec_train, t_train)\n"
      ],
      "metadata": {
        "colab": {
          "base_uri": "https://localhost:8080/"
        },
        "id": "_pvcbC68dB6s",
        "outputId": "084258e0-b682-4290-f5d2-9abc6f9e2563"
      },
      "execution_count": null,
      "outputs": [
        {
          "output_type": "stream",
          "name": "stderr",
          "text": [
            "/usr/local/lib/python3.10/dist-packages/sklearn/linear_model/_logistic.py:458: ConvergenceWarning: lbfgs failed to converge (status=1):\n",
            "STOP: TOTAL NO. of ITERATIONS REACHED LIMIT.\n",
            "\n",
            "Increase the number of iterations (max_iter) or scale the data as shown in:\n",
            "    https://scikit-learn.org/stable/modules/preprocessing.html\n",
            "Please also refer to the documentation for alternative solver options:\n",
            "    https://scikit-learn.org/stable/modules/linear_model.html#logistic-regression\n",
            "  n_iter_i = _check_optimize_result(\n"
          ]
        }
      ]
    },
    {
      "cell_type": "code",
      "source": [
        "accuracy = class_model.score(vec_test, t_test)\n",
        "pred = class_model.predict(vec_test)\n",
        "print(f\"Accuracy: {accuracy}\")"
      ],
      "metadata": {
        "colab": {
          "base_uri": "https://localhost:8080/"
        },
        "id": "2hcg63nQbOuE",
        "outputId": "80ca62ec-f82d-4136-85c4-800dd57de121"
      },
      "execution_count": null,
      "outputs": [
        {
          "output_type": "stream",
          "name": "stdout",
          "text": [
            "Accuracy: 0.7452\n"
          ]
        }
      ]
    },
    {
      "cell_type": "code",
      "source": [
        "from sklearn.metrics import confusion_matrix, f1_score\n",
        "\n",
        "f1 = f1_score(t_test, pred)\n",
        "print(f\"f1_score: {f1}\")\n",
        "\n",
        "confusion_matrix(t_test, pred)"
      ],
      "metadata": {
        "colab": {
          "base_uri": "https://localhost:8080/"
        },
        "id": "slsLDJfdhI9n",
        "outputId": "55bc8006-f4cd-4fa9-a4cc-379915b58d8a"
      },
      "execution_count": null,
      "outputs": [
        {
          "output_type": "stream",
          "name": "stdout",
          "text": [
            "f1_score: 0.7407407407407407\n"
          ]
        },
        {
          "output_type": "execute_result",
          "data": {
            "text/plain": [
              "array([[1906,  665],\n",
              "       [ 609, 1820]])"
            ]
          },
          "metadata": {},
          "execution_count": 62
        }
      ]
    }
  ],
  "metadata": {
    "kernelspec": {
      "display_name": "Python 3",
      "language": "python",
      "name": "python3"
    },
    "language_info": {
      "codemirror_mode": {
        "name": "ipython",
        "version": 3
      },
      "file_extension": ".py",
      "mimetype": "text/x-python",
      "name": "python",
      "nbconvert_exporter": "python",
      "pygments_lexer": "ipython3",
      "version": "3.12.1"
    },
    "colab": {
      "provenance": [],
      "include_colab_link": true
    }
  },
  "nbformat": 4,
  "nbformat_minor": 0
}
>>>>>>> 691bf1dcd15f244a5a8837afff6ecefd734dbd43
