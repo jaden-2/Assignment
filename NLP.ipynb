{
 "cells": [
  {
   "cell_type": "code",
   "execution_count": 1,
   "metadata": {},
   "outputs": [],
   "source": [
    "from sklearn.datasets import load_files\n",
    "import re \n",
    "import pandas as pd\n",
    "import numpy as np\n",
    "pattern = r'https?://\\S+|www\\.\\S+|[.,;/!\\n\\-@#$%^&*()_+=\\[\\]{}|\\\\:\"<>?`~\\']'\n",
    "\n"
   ]
  },
  {
   "cell_type": "code",
   "execution_count": 2,
   "metadata": {},
   "outputs": [
    {
     "data": {
      "text/plain": [
       "['neg', 'pos']"
      ]
     },
     "execution_count": 2,
     "metadata": {},
     "output_type": "execute_result"
    }
   ],
   "source": [
    "train = load_files(\"./data/aclImdb/train\", encoding=\"utf8\")\n",
    "x_train, y_train = train.data, train.target\n",
    "\n",
    "test = load_files(\"./data/aclImdb/test\")\n",
    "x_test, y_test = test.data, test.target\n",
    "\n",
    "train.target_names"
   ]
  },
  {
   "cell_type": "markdown",
   "metadata": {},
   "source": [
    "#### Problem 1"
   ]
  },
  {
   "cell_type": "code",
   "execution_count": 3,
   "metadata": {},
   "outputs": [],
   "source": [
    "sentences = {\n",
    "    \"sent1\": \"This movie is SOOOO funny!!!\", \n",
    "    \"sent2\": \"What a movie! I never\", \n",
    "    \"sent3\": \"best movie ever!!!!! this movie\"\n",
    "}\n",
    "\n",
    "\n",
    "def replace_and_retain_newlines(match):\n",
    "    return '\\n' if match.group(0) == '\\n' else ''\n",
    "\n",
    "#proccessing text\n",
    "def processText(sentences):\n",
    "    word = \"\\n\".join(sentences)\n",
    "    sentences = re.sub(pattern, replace_and_retain_newlines, word).lower().strip().split(\"\\n\")\n",
    "    return sentences\n",
    "\n",
    "\n",
    "\n",
    "#Bag of words algorithm\n",
    "def bagOfWords(words, dimiliter=\" \", max_features=None):\n",
    "    #join sentences without losing position\n",
    "    sentence = \"\\n\".join(words)\n",
    "    word = \" \".join(words)\n",
    "\n",
    "    # get keys \n",
    "    keys = set(word.split(dimiliter)) \n",
    "\n",
    "    # maximum features to be selected\n",
    "    if max_features is None:\n",
    "        max_features = len(keys)     \n",
    "    keys = list(keys)[:max_features]\n",
    "    # stores words in each sentence\n",
    "    temp = pd.Series(sentence.split(\"\\n\")).apply(str.split)\n",
    "    frame = pd.DataFrame(np.zeros((len(words), len(keys))), columns=keys)\n",
    "\n",
    "    #O(t) = max_features\n",
    "    for key in keys:  \n",
    "        frame[key] = temp.apply(lambda x: x.count(key))\n",
    "\n",
    "    return frame\n",
    "\n",
    "#n-gram algorithm\n",
    "def ngram(words, n):\n",
    "    rows = len(words)\n",
    "    result = []\n",
    "    for i in range(rows):#loops through each sentence in list\n",
    "        test = words[i].split()\n",
    "        word = \"\"\n",
    "        loop = len(test) -n + 1\n",
    "        for j in range(loop):# joins the first n words in sentence\n",
    "            word += \" \".join(test[j:j+n]) + \" \"\n",
    "            # if j == loop -1:\n",
    "            #     continue\n",
    "            word += \", \"\n",
    "        \n",
    "        result.append(word)\n",
    "\n",
    "    \n",
    "    return result\n",
    "\n",
    "\n"
   ]
  },
  {
   "cell_type": "code",
   "execution_count": 4,
   "metadata": {},
   "outputs": [
    {
     "data": {
      "text/plain": [
       "['this movie is soooo funny',\n",
       " 'what a movie i never',\n",
       " 'best movie ever this movie']"
      ]
     },
     "execution_count": 4,
     "metadata": {},
     "output_type": "execute_result"
    }
   ],
   "source": [
    "values = processText(list(sentences.values()))\n",
    "values"
   ]
  },
  {
   "cell_type": "code",
   "execution_count": 36,
   "metadata": {},
   "outputs": [
    {
     "data": {
      "text/html": [
       "<div>\n",
       "<style scoped>\n",
       "    .dataframe tbody tr th:only-of-type {\n",
       "        vertical-align: middle;\n",
       "    }\n",
       "\n",
       "    .dataframe tbody tr th {\n",
       "        vertical-align: top;\n",
       "    }\n",
       "\n",
       "    .dataframe thead th {\n",
       "        text-align: right;\n",
       "    }\n",
       "</style>\n",
       "<table border=\"1\" class=\"dataframe\">\n",
       "  <thead>\n",
       "    <tr style=\"text-align: right;\">\n",
       "      <th></th>\n",
       "      <th>is</th>\n",
       "      <th>movie</th>\n",
       "      <th>soooo</th>\n",
       "      <th>i</th>\n",
       "      <th>never</th>\n",
       "      <th>ever</th>\n",
       "      <th>what</th>\n",
       "      <th>this</th>\n",
       "      <th>best</th>\n",
       "      <th>a</th>\n",
       "      <th>funny</th>\n",
       "    </tr>\n",
       "  </thead>\n",
       "  <tbody>\n",
       "    <tr>\n",
       "      <th>0</th>\n",
       "      <td>1</td>\n",
       "      <td>1</td>\n",
       "      <td>1</td>\n",
       "      <td>0</td>\n",
       "      <td>0</td>\n",
       "      <td>0</td>\n",
       "      <td>0</td>\n",
       "      <td>1</td>\n",
       "      <td>0</td>\n",
       "      <td>0</td>\n",
       "      <td>1</td>\n",
       "    </tr>\n",
       "    <tr>\n",
       "      <th>1</th>\n",
       "      <td>0</td>\n",
       "      <td>1</td>\n",
       "      <td>0</td>\n",
       "      <td>1</td>\n",
       "      <td>1</td>\n",
       "      <td>0</td>\n",
       "      <td>1</td>\n",
       "      <td>0</td>\n",
       "      <td>0</td>\n",
       "      <td>1</td>\n",
       "      <td>0</td>\n",
       "    </tr>\n",
       "    <tr>\n",
       "      <th>2</th>\n",
       "      <td>0</td>\n",
       "      <td>2</td>\n",
       "      <td>0</td>\n",
       "      <td>0</td>\n",
       "      <td>0</td>\n",
       "      <td>1</td>\n",
       "      <td>0</td>\n",
       "      <td>1</td>\n",
       "      <td>1</td>\n",
       "      <td>0</td>\n",
       "      <td>0</td>\n",
       "    </tr>\n",
       "  </tbody>\n",
       "</table>\n",
       "</div>"
      ],
      "text/plain": [
       "   is  movie  soooo  i  never  ever  what  this  best  a  funny\n",
       "0   1      1      1  0      0     0     0     1     0  0      1\n",
       "1   0      1      0  1      1     0     1     0     0  1      0\n",
       "2   0      2      0  0      0     1     0     1     1  0      0"
      ]
     },
     "execution_count": 36,
     "metadata": {},
     "output_type": "execute_result"
    }
   ],
   "source": [
    "h = bagOfWords(values)\n",
    "h"
   ]
  },
  {
   "cell_type": "code",
   "execution_count": 12,
   "metadata": {},
   "outputs": [
    {
     "data": {
      "text/plain": [
       "0    1.0\n",
       "1    1.0\n",
       "2    1.0\n",
       "dtype: float64"
      ]
     },
     "execution_count": 12,
     "metadata": {},
     "output_type": "execute_result"
    }
   ],
   "source": [
    "np.sum(h.apply(lambda x: x/np.sum(x), axis=1), axis=1)"
   ]
  },
  {
   "cell_type": "code",
   "execution_count": 46,
   "metadata": {},
   "outputs": [
    {
     "data": {
      "text/html": [
       "<div>\n",
       "<style scoped>\n",
       "    .dataframe tbody tr th:only-of-type {\n",
       "        vertical-align: middle;\n",
       "    }\n",
       "\n",
       "    .dataframe tbody tr th {\n",
       "        vertical-align: top;\n",
       "    }\n",
       "\n",
       "    .dataframe thead th {\n",
       "        text-align: right;\n",
       "    }\n",
       "</style>\n",
       "<table border=\"1\" class=\"dataframe\">\n",
       "  <thead>\n",
       "    <tr style=\"text-align: right;\">\n",
       "      <th></th>\n",
       "      <th></th>\n",
       "      <th>a movie</th>\n",
       "      <th>movie i</th>\n",
       "      <th>what a</th>\n",
       "      <th>movie ever</th>\n",
       "      <th>soooo funny</th>\n",
       "      <th>movie is</th>\n",
       "      <th>this movie</th>\n",
       "      <th>is soooo</th>\n",
       "      <th>i never</th>\n",
       "      <th>best movie</th>\n",
       "      <th>ever this</th>\n",
       "    </tr>\n",
       "  </thead>\n",
       "  <tbody>\n",
       "    <tr>\n",
       "      <th>0</th>\n",
       "      <td>0</td>\n",
       "      <td>0</td>\n",
       "      <td>0</td>\n",
       "      <td>0</td>\n",
       "      <td>0</td>\n",
       "      <td>0</td>\n",
       "      <td>0</td>\n",
       "      <td>0</td>\n",
       "      <td>0</td>\n",
       "      <td>0</td>\n",
       "      <td>0</td>\n",
       "      <td>0</td>\n",
       "    </tr>\n",
       "    <tr>\n",
       "      <th>1</th>\n",
       "      <td>0</td>\n",
       "      <td>0</td>\n",
       "      <td>0</td>\n",
       "      <td>0</td>\n",
       "      <td>0</td>\n",
       "      <td>0</td>\n",
       "      <td>0</td>\n",
       "      <td>0</td>\n",
       "      <td>0</td>\n",
       "      <td>0</td>\n",
       "      <td>0</td>\n",
       "      <td>0</td>\n",
       "    </tr>\n",
       "    <tr>\n",
       "      <th>2</th>\n",
       "      <td>0</td>\n",
       "      <td>0</td>\n",
       "      <td>0</td>\n",
       "      <td>0</td>\n",
       "      <td>0</td>\n",
       "      <td>0</td>\n",
       "      <td>0</td>\n",
       "      <td>0</td>\n",
       "      <td>0</td>\n",
       "      <td>0</td>\n",
       "      <td>0</td>\n",
       "      <td>0</td>\n",
       "    </tr>\n",
       "  </tbody>\n",
       "</table>\n",
       "</div>"
      ],
      "text/plain": [
       "      a movie   movie i    what a   movie ever   soooo funny   movie is   \\\n",
       "0  0         0         0         0            0             0          0   \n",
       "1  0         0         0         0            0             0          0   \n",
       "2  0         0         0         0            0             0          0   \n",
       "\n",
       "   this movie   is soooo   i never    best movie   ever this   \n",
       "0            0          0         0             0           0  \n",
       "1            0          0         0             0           0  \n",
       "2            0          0         0             0           0  "
      ]
     },
     "execution_count": 46,
     "metadata": {},
     "output_type": "execute_result"
    }
   ],
   "source": [
    "\n",
    "bi = ngram(values, 2)\n",
    "\n",
    "bagOfWords(bi, \", \")\n"
   ]
  },
  {
   "cell_type": "markdown",
   "metadata": {},
   "source": [
    "#### Problem 2"
   ]
  },
  {
   "cell_type": "code",
   "execution_count": 47,
   "metadata": {},
   "outputs": [],
   "source": [
    "from sklearn.feature_extraction.text import TfidfTransformer, CountVectorizer\n",
    "from sklearn.linear_model import LogisticRegression\n"
   ]
  },
  {
   "cell_type": "markdown",
   "metadata": {},
   "source": [
    "#### Problem 3"
   ]
  },
  {
   "cell_type": "code",
   "execution_count": 52,
   "metadata": {},
   "outputs": [],
   "source": [
    "vect = CountVectorizer(stop_words=\"english\", max_features=5000)\n",
    "transformer = TfidfTransformer(norm=None)\n",
    "b_train = transformer.fit_transform(vect.fit_transform(x_train).toarray())\n",
    "b_test = transformer.fit_transform(vect.fit_transform(x_test).toarray())\n"
   ]
  },
  {
   "cell_type": "code",
   "execution_count": 216,
   "metadata": {},
   "outputs": [],
   "source": [
    "model = LogisticRegression(penalty=\"l2\", max_iter=500).fit(b_train, y_train)\n",
    "model.score(b_test, y_test)"
   ]
  },
  {
   "cell_type": "markdown",
   "metadata": {},
   "source": [
    "#### Problem 4: Scratch mounting of TF-IDF "
   ]
  },
  {
   "cell_type": "markdown",
   "metadata": {},
   "source": [
    "##### Standard implementation"
   ]
  },
  {
   "cell_type": "code",
   "execution_count": 83,
   "metadata": {},
   "outputs": [],
   "source": [
    "# Standard implementation of TF-IDF\n",
    "\n",
    "# Term frequency = number of repititions of words in sentence /number of words in sentence\n",
    "\n",
    "# Inverse document frequency= log{number of sentences/number of sentences containing word}\n",
    "\n",
    "class TfIdfVectorizer:\n",
    "    def __init__(self) -> None:\n",
    "        pass\n",
    "\n",
    "    def fit_transform(self, words):\n",
    "        self.__bagOfWords(words)\n",
    "        numofsent = self.frame.shape[0] # number of sentences\n",
    "        tf = self.frame.apply(lambda x: x/np.sum(x), axis=1) # frequency of words in sentence / total words in sentence\n",
    "        idf = np.log(numofsent / self.frame.apply(lambda x: np.sum(x!=0), axis=0)) # log {number of sentences / number of sentences containing word}\n",
    "\n",
    "        return tf*idf\n",
    "        \n",
    "    \n",
    "\n",
    "    def __bagOfWords(self, words, dimiliter=\" \", max_features=None):\n",
    "        #join sentences without losing position\n",
    "        sentence = \"\\n\".join(words)\n",
    "        word = \" \".join(words)\n",
    "\n",
    "        # get keys \n",
    "        keys = set(word.split(dimiliter)) \n",
    "\n",
    "        # maximum features to be selected\n",
    "        if max_features is None:\n",
    "            max_features = len(keys)     \n",
    "        self.keys = list(keys)[:max_features]\n",
    "        # stores words in each sentence\n",
    "        temp = pd.Series(sentence.split(\"\\n\")).apply(str.split)\n",
    "        frame = pd.DataFrame(np.zeros((len(words), len(self.keys))), columns=self.keys)\n",
    "\n",
    "        #O(t) = max_features\n",
    "        for key in self.keys:  \n",
    "            frame[key] = temp.apply(lambda x: x.count(key))\n",
    "\n",
    "        self.frame = frame"
   ]
  },
  {
   "cell_type": "code",
   "execution_count": 41,
   "metadata": {},
   "outputs": [
    {
     "data": {
      "text/plain": [
       "['this movie is soooo funny',\n",
       " 'what a movie i never',\n",
       " 'best movie ever this movie']"
      ]
     },
     "execution_count": 41,
     "metadata": {},
     "output_type": "execute_result"
    }
   ],
   "source": [
    "values"
   ]
  },
  {
   "cell_type": "code",
   "execution_count": 84,
   "metadata": {},
   "outputs": [
    {
     "data": {
      "text/html": [
       "<div>\n",
       "<style scoped>\n",
       "    .dataframe tbody tr th:only-of-type {\n",
       "        vertical-align: middle;\n",
       "    }\n",
       "\n",
       "    .dataframe tbody tr th {\n",
       "        vertical-align: top;\n",
       "    }\n",
       "\n",
       "    .dataframe thead th {\n",
       "        text-align: right;\n",
       "    }\n",
       "</style>\n",
       "<table border=\"1\" class=\"dataframe\">\n",
       "  <thead>\n",
       "    <tr style=\"text-align: right;\">\n",
       "      <th></th>\n",
       "      <th>is</th>\n",
       "      <th>movie</th>\n",
       "      <th>soooo</th>\n",
       "      <th>i</th>\n",
       "      <th>never</th>\n",
       "      <th>ever</th>\n",
       "      <th>what</th>\n",
       "      <th>this</th>\n",
       "      <th>best</th>\n",
       "      <th>a</th>\n",
       "      <th>funny</th>\n",
       "    </tr>\n",
       "  </thead>\n",
       "  <tbody>\n",
       "    <tr>\n",
       "      <th>0</th>\n",
       "      <td>0.219722</td>\n",
       "      <td>0.0</td>\n",
       "      <td>0.219722</td>\n",
       "      <td>0.000000</td>\n",
       "      <td>0.000000</td>\n",
       "      <td>0.000000</td>\n",
       "      <td>0.000000</td>\n",
       "      <td>0.081093</td>\n",
       "      <td>0.000000</td>\n",
       "      <td>0.000000</td>\n",
       "      <td>0.219722</td>\n",
       "    </tr>\n",
       "    <tr>\n",
       "      <th>1</th>\n",
       "      <td>0.000000</td>\n",
       "      <td>0.0</td>\n",
       "      <td>0.000000</td>\n",
       "      <td>0.219722</td>\n",
       "      <td>0.219722</td>\n",
       "      <td>0.000000</td>\n",
       "      <td>0.219722</td>\n",
       "      <td>0.000000</td>\n",
       "      <td>0.000000</td>\n",
       "      <td>0.219722</td>\n",
       "      <td>0.000000</td>\n",
       "    </tr>\n",
       "    <tr>\n",
       "      <th>2</th>\n",
       "      <td>0.000000</td>\n",
       "      <td>0.0</td>\n",
       "      <td>0.000000</td>\n",
       "      <td>0.000000</td>\n",
       "      <td>0.000000</td>\n",
       "      <td>0.219722</td>\n",
       "      <td>0.000000</td>\n",
       "      <td>0.081093</td>\n",
       "      <td>0.219722</td>\n",
       "      <td>0.000000</td>\n",
       "      <td>0.000000</td>\n",
       "    </tr>\n",
       "  </tbody>\n",
       "</table>\n",
       "</div>"
      ],
      "text/plain": [
       "         is  movie     soooo         i     never      ever      what  \\\n",
       "0  0.219722    0.0  0.219722  0.000000  0.000000  0.000000  0.000000   \n",
       "1  0.000000    0.0  0.000000  0.219722  0.219722  0.000000  0.219722   \n",
       "2  0.000000    0.0  0.000000  0.000000  0.000000  0.219722  0.000000   \n",
       "\n",
       "       this      best         a     funny  \n",
       "0  0.081093  0.000000  0.000000  0.219722  \n",
       "1  0.000000  0.000000  0.219722  0.000000  \n",
       "2  0.081093  0.219722  0.000000  0.000000  "
      ]
     },
     "execution_count": 84,
     "metadata": {},
     "output_type": "execute_result"
    }
   ],
   "source": [
    "TfIdfVectorizer().fit_transform(values)"
   ]
  },
  {
   "cell_type": "markdown",
   "metadata": {},
   "source": [
    "##### Scikit learn implementation"
   ]
  },
  {
   "cell_type": "code",
   "execution_count": 90,
   "metadata": {},
   "outputs": [],
   "source": [
    "# Scikit learn implementation of TF-IDF\n",
    "\n",
    "# Term frequency = frequency of words \n",
    "\n",
    "# Inverse document frequency= log{1 + number of sentences/ 1 + number of sentences containing word}+1\n",
    "\n",
    "class TfIdfVectorizer2:\n",
    "    def __init__(self) -> None:\n",
    "        pass\n",
    "\n",
    "    def fit_transform(self, words):\n",
    "        self.__bagOfWords(words)\n",
    "        numofsent = self.frame.shape[0] + 1# number of sentences\n",
    "        tf = self.frame # frequency of words\n",
    "        idf = np.log(numofsent / self.frame.apply(lambda x: np.sum(x!=0)+1, axis=0)) + 1 # log {number of sentences / number of sentences containing word}\n",
    "\n",
    "        return tf*idf\n",
    "        \n",
    "    \n",
    "\n",
    "    def __bagOfWords(self, words, dimiliter=\" \", max_features=None):\n",
    "        #join sentences without losing position\n",
    "        sentence = \"\\n\".join(words)\n",
    "        word = \" \".join(words)\n",
    "\n",
    "        # get keys \n",
    "        keys = set(word.split(dimiliter)) \n",
    "\n",
    "        # maximum features to be selected\n",
    "        if max_features is None:\n",
    "            max_features = len(keys)     \n",
    "        self.keys = list(keys)[:max_features]\n",
    "        # stores words in each sentence\n",
    "        temp = pd.Series(sentence.split(\"\\n\")).apply(str.split)\n",
    "        frame = pd.DataFrame(np.zeros((len(words), len(self.keys))), columns=self.keys)\n",
    "\n",
    "        #O(t) = max_features\n",
    "        for key in self.keys:  \n",
    "            frame[key] = temp.apply(lambda x: x.count(key))\n",
    "\n",
    "        self.frame = frame\n"
   ]
  },
  {
   "cell_type": "code",
   "execution_count": 91,
   "metadata": {},
   "outputs": [
    {
     "data": {
      "text/html": [
       "<div>\n",
       "<style scoped>\n",
       "    .dataframe tbody tr th:only-of-type {\n",
       "        vertical-align: middle;\n",
       "    }\n",
       "\n",
       "    .dataframe tbody tr th {\n",
       "        vertical-align: top;\n",
       "    }\n",
       "\n",
       "    .dataframe thead th {\n",
       "        text-align: right;\n",
       "    }\n",
       "</style>\n",
       "<table border=\"1\" class=\"dataframe\">\n",
       "  <thead>\n",
       "    <tr style=\"text-align: right;\">\n",
       "      <th></th>\n",
       "      <th>is</th>\n",
       "      <th>movie</th>\n",
       "      <th>soooo</th>\n",
       "      <th>i</th>\n",
       "      <th>never</th>\n",
       "      <th>ever</th>\n",
       "      <th>what</th>\n",
       "      <th>this</th>\n",
       "      <th>best</th>\n",
       "      <th>a</th>\n",
       "      <th>funny</th>\n",
       "    </tr>\n",
       "  </thead>\n",
       "  <tbody>\n",
       "    <tr>\n",
       "      <th>0</th>\n",
       "      <td>1.693147</td>\n",
       "      <td>1.0</td>\n",
       "      <td>1.693147</td>\n",
       "      <td>0.000000</td>\n",
       "      <td>0.000000</td>\n",
       "      <td>0.000000</td>\n",
       "      <td>0.000000</td>\n",
       "      <td>1.287682</td>\n",
       "      <td>0.000000</td>\n",
       "      <td>0.000000</td>\n",
       "      <td>1.693147</td>\n",
       "    </tr>\n",
       "    <tr>\n",
       "      <th>1</th>\n",
       "      <td>0.000000</td>\n",
       "      <td>1.0</td>\n",
       "      <td>0.000000</td>\n",
       "      <td>1.693147</td>\n",
       "      <td>1.693147</td>\n",
       "      <td>0.000000</td>\n",
       "      <td>1.693147</td>\n",
       "      <td>0.000000</td>\n",
       "      <td>0.000000</td>\n",
       "      <td>1.693147</td>\n",
       "      <td>0.000000</td>\n",
       "    </tr>\n",
       "    <tr>\n",
       "      <th>2</th>\n",
       "      <td>0.000000</td>\n",
       "      <td>2.0</td>\n",
       "      <td>0.000000</td>\n",
       "      <td>0.000000</td>\n",
       "      <td>0.000000</td>\n",
       "      <td>1.693147</td>\n",
       "      <td>0.000000</td>\n",
       "      <td>1.287682</td>\n",
       "      <td>1.693147</td>\n",
       "      <td>0.000000</td>\n",
       "      <td>0.000000</td>\n",
       "    </tr>\n",
       "  </tbody>\n",
       "</table>\n",
       "</div>"
      ],
      "text/plain": [
       "         is  movie     soooo         i     never      ever      what  \\\n",
       "0  1.693147    1.0  1.693147  0.000000  0.000000  0.000000  0.000000   \n",
       "1  0.000000    1.0  0.000000  1.693147  1.693147  0.000000  1.693147   \n",
       "2  0.000000    2.0  0.000000  0.000000  0.000000  1.693147  0.000000   \n",
       "\n",
       "       this      best         a     funny  \n",
       "0  1.287682  0.000000  0.000000  1.693147  \n",
       "1  0.000000  0.000000  1.693147  0.000000  \n",
       "2  1.287682  1.693147  0.000000  0.000000  "
      ]
     },
     "execution_count": 91,
     "metadata": {},
     "output_type": "execute_result"
    }
   ],
   "source": [
    "TfIdfVectorizer2().fit_transform(values)"
   ]
  }
 ],
 "metadata": {
  "kernelspec": {
   "display_name": "Python 3",
   "language": "python",
   "name": "python3"
  },
  "language_info": {
   "codemirror_mode": {
    "name": "ipython",
    "version": 3
   },
   "file_extension": ".py",
   "mimetype": "text/x-python",
   "name": "python",
   "nbconvert_exporter": "python",
   "pygments_lexer": "ipython3",
   "version": "3.12.1"
  }
 },
 "nbformat": 4,
 "nbformat_minor": 2
}
