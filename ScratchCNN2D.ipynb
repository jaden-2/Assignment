{
 "cells": [
  {
   "cell_type": "code",
   "execution_count": 119,
   "metadata": {},
   "outputs": [],
   "source": [
    "import numpy as np\n",
    "from keras.datasets import mnist\n",
    "from matplotlib import pyplot as plt\n",
    "\n",
    "from sklearn.preprocessing import OneHotEncoder\n",
    "from sklearn.model_selection import train_test_split\n",
    "from sklearn.metrics import accuracy_score"
   ]
  },
  {
   "cell_type": "markdown",
   "metadata": {},
   "source": [
    "### Problem 1"
   ]
  },
  {
   "cell_type": "code",
   "execution_count": 120,
   "metadata": {},
   "outputs": [],
   "source": [
    "class Conv2D:\n",
    "    def __init__(self, n_filter, f_size, initializer, optimizer, activation, p =1, stride=1, n_channel_in = 1, n_channel_out= 1, debug = False):\n",
    "        self.init = initializer\n",
    "        self.optimizer = optimizer\n",
    "        self.n_channel_in = n_channel_in\n",
    "        self.n_channel_out = n_channel_out\n",
    "        self.stride = stride\n",
    "        self.pad = p\n",
    "        self.n_out = None\n",
    "        self.f_size = f_size\n",
    "        self.activate = activation\n",
    "        self.n_filter = n_filter\n",
    "        self.debug = debug\n",
    "    \n",
    "    def forward(self, X):\n",
    "        \n",
    "        self.n_samples, channels, im_rows, im_col = X.shape\n",
    "        \n",
    "        channels = self.n_channel_in\n",
    "        #X = X.reshape(self.n_samples, self.n_channel_in, im_rows, im_col)\n",
    "        \n",
    "        self.X = X\n",
    "        # initialization of weights and biases\n",
    "        self.w = self.init.W((self.n_filter, self.n_channel_in, self.f_size, self.f_size))\n",
    "        self.b = self.init.B((self.n_filter,))\n",
    "        \n",
    "        \n",
    "        self.n_out_row = num_out(im_rows, self.pad, self.f_size, self.stride)\n",
    "        self.n_out_col = num_out(im_col, self.pad, self.f_size, self.stride)\n",
    "\n",
    "        result = np.zeros((self.n_samples, self.n_filter, self.n_out_row, self.n_out_col), dtype=np.float64)\n",
    "        \n",
    "        # padding of samples and kernel\n",
    "        nx = im_rows + self.f_size - 1\n",
    "        ny = im_col + self.f_size - 1\n",
    "\n",
    "        #self.x_new = np.pad(X, ((0, 0), (0, 0), (self.pad, self.pad), (self.pad, self.pad)), mode=\"constant\")\n",
    "        self.x_new = np.pad(X, ((0, 0), (0, 0), (0, nx - im_rows), (0, ny - im_col)), mode=\"constant\")\n",
    "        self.w_new = np.pad(self.w, ((0, 0), (0, 0), (0, nx - self.f_size), (0, ny - self.f_size)), mode=\"constant\")\n",
    "\n",
    "        # loops through samples of images\n",
    "\n",
    "        \"\"\"convolution theorem states that under suitable conditions \n",
    "        the Fourier transform of a convolution of two functions (or signals) \n",
    "        is the pointwise product of their Fourier transforms.\"\"\"\n",
    "\n",
    "        for i in range(self.n_samples):\n",
    "            for f in range(self.n_filter):\n",
    "                for ch in range(channels):\n",
    "                    for row in range(0, self.n_out_row, self.stride):\n",
    "                        row_n = row + self.f_size\n",
    "                        if row + row_n > im_rows:\n",
    "                            break\n",
    "                        for col in range(0, self.n_out_col, self.stride):\n",
    "                            col_n = col + self.f_size\n",
    "                            if col_n + col > im_col:\n",
    "                                break   \n",
    "                                              \n",
    "                            result[i, f, row, col] = np.sum(self.x_new[i, ch, row:row_n, col: col_n] * self.w[f, ch]) + self.b[f]\n",
    "                            \n",
    "\n",
    "        # for i in range(self.n_samples):\n",
    "        #     sample = self.x_new[i]\n",
    "        #     for ch in range(channels):\n",
    "        #         channel = np.fft.fft2(sample[ch])\n",
    "        #         weight = np.conj(np.fft.fft2(self.w_new[:, ch])) \n",
    "                      \n",
    "        #         s = self.f_size - 2\n",
    "        #         out = np.fft.ifft2(channel * weight)\n",
    "        #         out = np.real(out)[:, s:-s:self.stride, s:-s:self.stride]\n",
    "                \n",
    "        #         out += self.b\n",
    "                \n",
    "        #         result[i] = out\n",
    "                \n",
    "        if self.debug == True:\n",
    "            return result\n",
    "        \n",
    "        return self.activate.forward(result)\n",
    "    \n",
    "    def backward(self, dA, debug = False):\n",
    "        \n",
    "        \n",
    "        if debug == False:\n",
    "            dZ = dA\n",
    "        else:\n",
    "            dZ = self.activate.backward(dA)\n",
    "\n",
    "        n_samples, n_filter, height, width = dA.shape\n",
    "        x = self.x_new\n",
    "        _, _, XH, XW = x.shape\n",
    "        s = self.stride\n",
    "        f_size = self.f_size\n",
    "        Nh, Nw = num_out(XH, 0, height, s), num_out(XW, 0, width, s)\n",
    "        \n",
    "        a = 0\n",
    "        dw = np.zeros((n_samples, n_filter, f_size, f_size))\n",
    "        #self.dB = np.sum(dA, dtype=np.float_, axis=(0, 2, 3))\n",
    "        dB = np.zeros_like(self.b)\n",
    "        for i in range(n_samples):\n",
    "            for f in range(n_filter):\n",
    "                for ch in range(self.n_channel_in):\n",
    "                    dB[ch] = np.sum(dA[:, ch, :, :])\n",
    "                    for h in range(Nh):\n",
    "                        h_i = h * s # index going through image height at a given stride\n",
    "                        h_n = h_i + height # height range selected by filter\n",
    "                        if h_i + h > Nh:\n",
    "                            break\n",
    "                        for w in range(Nw):\n",
    "                            w_i = w * s # index going through image height at a given stride\n",
    "                            w_n = w_i + width # height range selected by filter\n",
    "                            if w_n + w > Nw:\n",
    "                                break\n",
    "\n",
    "                            dw[i, f, h, w] = np.sum(x[i, ch, h_i:h_n, w_i:w_n] * dA[i, f])\n",
    "                   \n",
    "        self.dW = dw.sum(0)[:, np.newaxis, :, :]\n",
    "        self.dB = dB\n",
    "\n",
    "        \n",
    "        weights = self.w\n",
    "        dZ = np.pad(dZ, ((0, 0), (0, 0), (self.pad, self.pad), (self.pad, self.pad)))\n",
    "        samp, filt, rows, cols = dZ.shape\n",
    "        dx = np.zeros_like(dZ)\n",
    "        \n",
    "        for i in range(samp):\n",
    "            for f in range(filt):\n",
    "                    for row in range(0, rows, s): \n",
    "                        row_n = row + f_size\n",
    "                        if row_n + row > rows:\n",
    "                            break\n",
    "                        for col in range(0, cols, s):\n",
    "                            col_n = col + f_size\n",
    "                            if col_n + col > cols:\n",
    "                                break\n",
    "                            \n",
    "                            dx[i, :, row: row_n, col:col_n] += weights[f, :, :, :] * dZ[i, f, row, col]\n",
    "        \n",
    "        self.optimizer.update(self)\n",
    "        return dx\n",
    "\n",
    "\n",
    "\n",
    "## Problem 3\n",
    "\n",
    "def num_out(n_in, pad, f, s):\n",
    "    \"\"\"\n",
    "    ##### self.n_in: number of features\n",
    "    ##### pad: Number of padding on one side\n",
    "    ##### s: stride value\n",
    "\n",
    "    ##### Returns: Number of output of convolution\n",
    "    \"\"\"\n",
    "    n_out = ((n_in + 2*pad - f)/ s) +1\n",
    "    return int(n_out)\n",
    "\n",
    "\n",
    "    \n",
    "\n"
   ]
  },
  {
   "cell_type": "code",
   "execution_count": 121,
   "metadata": {},
   "outputs": [],
   "source": [
    "class AdaGrad:\n",
    "    def __init__(self, lr):\n",
    "        self.lr = lr \n",
    "        self.HW = 1\n",
    "        self.HB = 1\n",
    "\n",
    "    def update(self, layer):\n",
    "\n",
    "        self.HW += layer.dW**2\n",
    "        self.HB += layer.dB**2\n",
    "\n",
    "        layer.w -= self.lr * np.sqrt(1/self.HW) * (layer.dW)\n",
    "        layer.b -= self.lr * np.sqrt(1/self.HB) *  layer.dB\n",
    "\n",
    "\n",
    "class SGD:\n",
    "    \"\"\"\n",
    "    Stochastic gradient descent\n",
    "    Parameters\n",
    "    ----------\n",
    "    lr : Learning rate\n",
    "    \"\"\"\n",
    "    def __init__(self, lr):\n",
    "        self.lr = lr\n",
    "    def update(self, layer):\n",
    "        \"\"\"\n",
    "        The weight or bias of a certain layer\n",
    "        Parameters\n",
    "        ----------\n",
    "        layer : Instance of the layer before update\n",
    "        \"\"\"\n",
    "\n",
    "        layer.w -= self.lr * layer.dW\n",
    "        layer.b -= self.lr * layer.dB\n",
    "    "
   ]
  },
  {
   "cell_type": "markdown",
   "metadata": {},
   "source": [
    "### Problem 2"
   ]
  },
  {
   "cell_type": "code",
   "execution_count": 122,
   "metadata": {},
   "outputs": [
    {
     "data": {
      "text/plain": [
       "array([[[[ 0.        ,  0.        ,  0.        ,  0.        ,\n",
       "           0.        ,  0.        ],\n",
       "         [ 0.        ,  0.        ,  0.        ,  0.        ,\n",
       "           0.        ,  0.        ],\n",
       "         [ 0.        ,  0.        , -1.76092346,  0.76159416,\n",
       "           0.        ,  0.        ],\n",
       "         [ 0.        ,  0.        ,  0.9993293 ,  0.        ,\n",
       "           0.        ,  0.        ],\n",
       "         [ 0.        ,  0.        ,  0.        ,  0.        ,\n",
       "           0.        ,  0.        ],\n",
       "         [ 0.        ,  0.        ,  0.        ,  0.        ,\n",
       "           0.        ,  0.        ]],\n",
       "\n",
       "        [[ 0.        ,  0.        ,  0.        ,  0.        ,\n",
       "           0.        ,  0.        ],\n",
       "         [ 0.        ,  0.        ,  0.        ,  0.        ,\n",
       "           0.        ,  0.        ],\n",
       "         [ 0.        ,  0.        , -1.76092346,  0.76159416,\n",
       "           0.        ,  0.        ],\n",
       "         [ 0.        ,  0.        ,  0.9993293 ,  0.        ,\n",
       "           0.        ,  0.        ],\n",
       "         [ 0.        ,  0.        ,  0.        ,  0.        ,\n",
       "           0.        ,  0.        ],\n",
       "         [ 0.        ,  0.        ,  0.        ,  0.        ,\n",
       "           0.        ,  0.        ]]]])"
      ]
     },
     "execution_count": 122,
     "metadata": {},
     "output_type": "execute_result"
    }
   ],
   "source": [
    "x = np.array([[[[ 1,  2,  3,  4],\n",
    "                [ 5,  6,  7,  8],\n",
    "                [ 9, 10, 11, 12],\n",
    "                [13, 14, 15, 16]]]])\n",
    "\n",
    "\n",
    "class Initialize:\n",
    "    def __init__(self,)-> None:\n",
    "            pass\n",
    "    \n",
    "    def W(self, shape):\n",
    "          \n",
    "          w = np.array([[[ 0.,  0.,  0.],\n",
    "               [ 0.,  1.,  0.],\n",
    "               [ 0., -1.,  0.]],\n",
    "\n",
    "              [[ 0.,  0.,  0.],\n",
    "               [ 0., -1.,  1.],\n",
    "               [ 0.,  0.,  0.]]])\n",
    "          return w[:, np.newaxis, :, :]\n",
    "\n",
    "    def B(self, shape):\n",
    "          return np.zeros(*shape)\n",
    "\n",
    "class Tanh:\n",
    "    def forward(self, A):\n",
    "        self.A = A\n",
    "        return np.tanh(A)\n",
    "    def backward(self, dZ):\n",
    "        return dZ * (1 - (np.tanh(self.A))**2)\n",
    "\n",
    "CNN2 = Conv2D(2, 3, Initialize(), SGD(0.01), Tanh())\n",
    "\n",
    "data = CNN2.forward(x)\n",
    "\n",
    "CNN2.backward(data)"
   ]
  },
  {
   "cell_type": "markdown",
   "metadata": {},
   "source": [
    "### Problem 5"
   ]
  },
  {
   "cell_type": "code",
   "execution_count": 123,
   "metadata": {},
   "outputs": [],
   "source": [
    "class MaxPool2D():\n",
    "    def __init__(self, P):\n",
    "        self.P = P\n",
    "        self.PA = None\n",
    "        self.Pindex = None\n",
    "    \n",
    "    def forward(self,A):\n",
    "        N,F,OH,OW = A.shape\n",
    "        PH,PW = int(OH/self.P),int(OW/self.P)\n",
    "        self.params = N,F,OH,OW,self.P,PH,PW\n",
    "        self.PA = np.zeros([N,F,PH,PW])\n",
    "        self.Pindex = np.zeros([N,F,PH,PW])\n",
    "        for n in range(N):\n",
    "            for ch in range(F):\n",
    "                for row in range(PH):\n",
    "                    for col in range(PW):\n",
    "                        self.PA[n,ch,row,col] = np.max(A[n,ch,row*self.P:row*self.P+self.P,col*self.P:col*self.P+self.P])\n",
    "                        self.Pindex[n,ch,row,col] = np.argmax(A[n,ch,row*self.P:row*self.P+self.P,col*self.P:col*self.P+self.P])\n",
    "        return self.PA\n",
    "    \n",
    "    def backward(self,dA):\n",
    "        \n",
    "        N,F,OH,OW,PS,PH,PW = self.params\n",
    "        \n",
    "        dP = np.zeros([N,F,OH,OW])\n",
    "        for n in range(N): \n",
    "            for ch in range(F):\n",
    "                for row in range(PH):\n",
    "                    for col in range(PW):\n",
    "                        idx = self.Pindex[n,ch,row,col]\n",
    "                        tmp = np.zeros((PS*PS))\n",
    "                        \n",
    "                        for i in range(PS*PS):\n",
    "                            if i == idx:\n",
    "                                \n",
    "                                tmp[i] = dA[n,ch,row,col]\n",
    "                            else:\n",
    "                                tmp[i] = 0\n",
    "                        dP[n,ch,row*PS:row*PS+PS,col*PS:col*PS+PS] = tmp.reshape(PS,PS)\n",
    "        return dP\n"
   ]
  },
  {
   "cell_type": "markdown",
   "metadata": {},
   "source": [
    "### Problem 6"
   ]
  },
  {
   "cell_type": "code",
   "execution_count": 124,
   "metadata": {},
   "outputs": [],
   "source": [
    "class Flatten:\n",
    "    def __init__(self):\n",
    "        pass\n",
    "    def forward(self, X):\n",
    "        self.shape = X.shape\n",
    "        return X.reshape(self.shape[0], -1)\n",
    "    \n",
    "    def backward(self,X):\n",
    "        return X.reshape(self.shape)  "
   ]
  },
  {
   "cell_type": "code",
   "execution_count": 125,
   "metadata": {},
   "outputs": [],
   "source": [
    "class FC:\n",
    "    \"\"\"\n",
    "    Number of nodes Fully connected layer from n_nodes1 to n_nodes2\n",
    "    Parameters\n",
    "    ----------\n",
    "    n_nodes1 : int\n",
    "      Number of nodes in the previous layer\n",
    "    n_nodes2 : int\n",
    "      Number of nodes in the later layer\n",
    "    initializer: instance of initialization method\n",
    "    optimizer: instance of optimization method\n",
    "    \"\"\"\n",
    "    \n",
    "    def __init__(self, n_nodes1, n_nodes2, initializer, optimizer, activator):\n",
    "        self.optimizer = optimizer\n",
    "        self.w = initializer.W((n_nodes1, n_nodes2))\n",
    "        self.b = initializer.B((n_nodes2,))\n",
    "        self.activator = activator\n",
    "        \n",
    "        \n",
    "    \n",
    "    def forward(self, X):\n",
    "        \"\"\"\n",
    "        forward\n",
    "        Parameters\n",
    "        ----------\n",
    "        X : The following forms of ndarray, shape (batch_size, n_nodes1)\n",
    "            入力\n",
    "        Returns\n",
    "        ----------\n",
    "        A : The following forms of ndarray, shape (batch_size, n_nodes2)\n",
    "            output\n",
    "        \"\"\"        \n",
    "        self.Z = X\n",
    "        A = X @ self.w + self.b\n",
    "        \n",
    "        return self.activator.forward(A)\n",
    "    \n",
    "    def backward(self, dA):\n",
    "        \"\"\"\n",
    "        Backward\n",
    "        Parameters\n",
    "        ----------\n",
    "        dA : The following forms of ndarray, shape (batch_size, n_nodes2)\n",
    "            Gradient flowing from behind\n",
    "        Returns\n",
    "        ----------\n",
    "        dZ : The following forms of ndarray, shape (batch_size, n_nodes1)\n",
    "            Gradient to flow forward\n",
    "        \"\"\"\n",
    "        dA = self.activator.backward(dA)\n",
    "        # update\n",
    "        self.dB = np.sum(dA, axis=0)\n",
    "\n",
    "       # print(self.dB)\n",
    "        self.dW = self.Z.T @ dA \n",
    "        self.dZ = dA @ self.w.T\n",
    "        \n",
    "        self.optimizer.update(self)\n",
    "        \n",
    "        return self.dZ\n"
   ]
  },
  {
   "cell_type": "code",
   "execution_count": 126,
   "metadata": {},
   "outputs": [],
   "source": [
    "class SimpleInitializer:\n",
    "    \"\"\"\n",
    "    Simple initialization with Gaussian distribution\n",
    "    Parameters\n",
    "    ----------\n",
    "    sigma : float\n",
    "      Standard deviation of Gaussian distribution\n",
    "    \"\"\"\n",
    "    def __init__(self, sigma):\n",
    "        self.sigma = sigma\n",
    "        \n",
    "    def W(self, shape):\n",
    "        \"\"\"\n",
    "        Weight initialization\n",
    "        Parameters\n",
    "        ----------\n",
    "        Shape: tuple\n",
    "        Returns\n",
    "        ----------\n",
    "        W :\n",
    "        \"\"\"\n",
    "        w = self.sigma * np.random.randn(*shape)\n",
    "        \n",
    "        return w\n",
    "    \n",
    "    def B(self, shape):\n",
    "        \"\"\"\n",
    "        Bias initialization\n",
    "        Parameters\n",
    "        ----------\n",
    "        shape : tuple\n",
    "          Number of nodes in the later layer\n",
    "\n",
    "        Returns\n",
    "        ----------\n",
    "        B :\n",
    "        \"\"\"\n",
    "        B = np.zeros(*shape)\n",
    "        return B"
   ]
  },
  {
   "cell_type": "code",
   "execution_count": 127,
   "metadata": {},
   "outputs": [],
   "source": [
    "class AdaGrad:\n",
    "    def __init__(self, lr):\n",
    "        self.lr = lr \n",
    "        self.HW = 1\n",
    "        self.HB = 1\n",
    "\n",
    "    def update(self, layer):\n",
    "\n",
    "        self.HW += layer.dW**2\n",
    "        self.HB += layer.dB**2\n",
    "\n",
    "        layer.w -= self.lr * np.sqrt(1/self.HW) * (layer.dW)\n",
    "        layer.b -= self.lr * np.sqrt(1/self.HB) *  layer.dB\n",
    "\n",
    "\n",
    "class SGD:\n",
    "    \"\"\"\n",
    "    Stochastic gradient descent\n",
    "    Parameters\n",
    "    ----------\n",
    "    lr : Learning rate\n",
    "    \"\"\"\n",
    "    def __init__(self, lr):\n",
    "        self.lr = lr\n",
    "    def update(self, layer):\n",
    "        \"\"\"\n",
    "        The weight or bias of a certain layer\n",
    "        Parameters\n",
    "        ----------\n",
    "        layer : Instance of the layer before update\n",
    "        \"\"\"\n",
    "\n",
    "        layer.w -= self.lr * layer.dW\n",
    "        layer.b -= self.lr * layer.dB\n",
    "    "
   ]
  },
  {
   "cell_type": "code",
   "execution_count": 128,
   "metadata": {},
   "outputs": [],
   "source": [
    "class Relu:\n",
    "    def __init__(self) -> None:\n",
    "        pass\n",
    "\n",
    "    def forward(self, X):\n",
    "        self.A = X\n",
    "        return np.clip(X, 0, None)\n",
    "    \n",
    "    def backward(self, X):\n",
    "        a = X > 0\n",
    "        return X * np.clip(np.sign(self.A), 0, None)\n",
    "\n",
    "class Softmax():\n",
    "        def __init__(self) -> None:\n",
    "            pass\n",
    "\n",
    "\n",
    "        def forward(self, a):\n",
    "            numerator = np.exp(a)\n",
    "            self.dZ = numerator / np.sum(np.exp(a), axis=1, keepdims=True).reshape(-1, 1)\n",
    "            \n",
    "            return self.dZ\n",
    "        \n",
    "        def backward(self, Y):\n",
    "             self.loss = self.loss_func(Y)   \n",
    "                      \n",
    "             return self.dZ - Y\n",
    "        \n",
    "        def loss_func(self, Y, Z = None):             \n",
    "            if type(Z) == type(None):\n",
    "                Z = self.dZ\n",
    "            \n",
    "            loss = -1* np.sum(Y * np.log(Z + 1e-7))\n",
    "\n",
    "            return loss/len(Y)\n",
    "\n",
    "            "
   ]
  },
  {
   "cell_type": "code",
   "execution_count": 129,
   "metadata": {},
   "outputs": [],
   "source": [
    "class GetMiniBatch:\n",
    "    \"\"\"\n",
    "Iterator to get a mini-batch\n",
    "\n",
    "    Parameters\n",
    "    ----------\n",
    "    X : The following forms of ndarray, shape (n_samples, n_features)\n",
    "      Training data\n",
    "    y : The following form of ndarray, shape (n_samples, 1)\n",
    "      Correct answer value\n",
    "    batch_size : int\n",
    "      Batch size\n",
    "    seed : int\n",
    "      NumPy random seed\n",
    "    \"\"\"\n",
    "    def __init__(self, X, y, batch_size = 20, seed=0):\n",
    "        self.batch_size = batch_size\n",
    "        np.random.seed(seed)\n",
    "        shuffle_index = np.random.permutation(np.arange(X.shape[0]))\n",
    "        self._X = X[shuffle_index]\n",
    "        self._y = y[shuffle_index]\n",
    "        self._stop = np.ceil(X.shape[0]/self.batch_size).astype(np.int_)\n",
    "\n",
    "    def __len__(self):\n",
    "        return self._stop\n",
    "\n",
    "    def __getitem__(self,item):\n",
    "        p0 = item*self.batch_size\n",
    "        p1 = item*self.batch_size + self.batch_size\n",
    "        return self._X[p0:p1], self._y[p0:p1]        \n",
    "\n",
    "    def __iter__(self):\n",
    "        self._counter = 0\n",
    "        return self\n",
    "\n",
    "    def __next__(self):\n",
    "        if self._counter >= self._stop:\n",
    "            raise StopIteration()\n",
    "        p0 = self._counter*self.batch_size\n",
    "        p1 = self._counter*self.batch_size + self.batch_size\n",
    "        self._counter += 1\n",
    "        return self._X[p0:p1], self._y[p0:p1]"
   ]
  },
  {
   "cell_type": "code",
   "execution_count": 130,
   "metadata": {},
   "outputs": [],
   "source": [
    "\n",
    "class ScratchConvolutionalNeuralNetwork2D:\n",
    "    def __init__(self, NN, CNN, epoch=20, batch_size=20, verbose = False):\n",
    "        self.epoch = epoch\n",
    "        self.NN = NN\n",
    "        self.CNN = CNN\n",
    "        self.batch_size = batch_size\n",
    "        self.verbose = verbose\n",
    "        self.log_loss = np.zeros(self.batch_size)\n",
    "        self.log_acc = np.zeros(self.batch_size)\n",
    "\n",
    "        \n",
    "    def loss_function(self, y, yt):\n",
    "        delta = 1e-7\n",
    "        loss = -1 * np.sum(yt * np.log(y + delta))\n",
    "\n",
    "        #print(yt.shape)\n",
    "        #print(y)\n",
    "        return loss / len(yt)\n",
    "    \n",
    "\n",
    "    def accuracy(self,Z,Y):\n",
    "        return accuracy_score(Y,Z)\n",
    "\n",
    "    def fit(self, X, y, x_val = None, y_val= None):\n",
    "        for epoch in range(self.epoch):\n",
    "            get_mini_batch = GetMiniBatch(X, y, batch_size=self.batch_size)\n",
    "            self.loss = 0\n",
    "            for mini_x_train, mini_y_train in get_mini_batch:\n",
    "                # forward propagation\n",
    "                forward_data = mini_x_train\n",
    "                \n",
    "                for layer in range(len(self.CNN)):\n",
    "                    forward_data = self.CNN[layer].forward(forward_data)\n",
    "                flt = Flatten()\n",
    "                forward_data = flt.forward(forward_data)\n",
    "                \n",
    "                for layer in range(len(self.NN)):\n",
    "                    forward_data = self.NN[layer].forward(forward_data)\n",
    "\n",
    "                z = forward_data\n",
    "                        \n",
    "                \n",
    "            backward_data = (z- mini_y_train)/ self.batch_size\n",
    "            layers = len(self.NN) - 1\n",
    "            for layer in range(len(self.NN)):\n",
    "                backward_data = self.NN[layers - layer].backward(backward_data)\n",
    "            \n",
    "            backward_data = flt.backward(backward_data)\n",
    "\n",
    "            layers = len(self.CNN) - 1\n",
    "            for layer in range(len(self.CNN)):\n",
    "                backward_data = self.CNN[layers - layer].backward(backward_data)\n",
    "            \n",
    "            self.loss += self.loss_function(z, mini_y_train)\n",
    "\n",
    "            self.log_loss[epoch] = self.loss / self.batch_size\n",
    "            self.log_acc[epoch] = self.accuracy(self.predict(X), np.argmax(y, axis=1))\n",
    "            if self.verbose:\n",
    "                print(self.loss/self.batch_size,self.accuracy(self.predict(X),np.argmax(y,axis=1)))\n",
    "\n",
    "        return self\n",
    "\n",
    "    def predict(self, X):\n",
    "        pred_data = X[:, :, :]\n",
    "        for layer in range(len(self.CNN)):\n",
    "            pred_data = self.CNN[layer].forward(pred_data)\n",
    "            \n",
    "        pred_data = Flatten().forward(pred_data)\n",
    "        for layer in range(len(self.NN)):\n",
    "            pred_data = self.NN[layer].forward(pred_data)\n",
    "\n",
    "        return np.argmax(pred_data,axis=1)\n",
    "\n"
   ]
  },
  {
   "cell_type": "code",
   "execution_count": 131,
   "metadata": {},
   "outputs": [],
   "source": [
    "class HeInitializer:\n",
    "    def __init__(self, n):\n",
    "        \"\"\"\n",
    "        n: Length of dataset\n",
    "        \"\"\"\n",
    "        \n",
    "        self.sigma = (2 / n) ** 0.5\n",
    "        \n",
    "    \n",
    "    def W(self, nodes):\n",
    "        return np.random.normal(0, self.sigma, nodes)\n",
    "    \n",
    "    def B(self, nodes):\n",
    "        return np.random.normal(0, self.sigma, nodes)"
   ]
  },
  {
   "cell_type": "code",
   "execution_count": 132,
   "metadata": {},
   "outputs": [
    {
     "name": "stdout",
     "output_type": "stream",
     "text": [
      "(300, 1, 28, 28)\n"
     ]
    }
   ],
   "source": [
    "(x_train, y_train), (x_test, y_test) = mnist.load_data()\n",
    "\n",
    "x_train, x_test = x_train.astype(np.float_), x_test.astype(np.float_)\n",
    "x_train /= 255\n",
    "x_test /= 255\n",
    "\n",
    "onv = OneHotEncoder(handle_unknown=\"ignore\", sparse_output=False)\n",
    "one_hot_y_train = onv.fit_transform(y_train[:, np.newaxis])\n",
    "#one_hot_y_test = onv.fit_transform(y_test[:, np.newaxis])\n",
    "\n",
    "x_train, x_val, y_train, y_val = train_test_split(x_train, one_hot_y_train, test_size=0.7)\n",
    "\n",
    "x_train = x_train[:300][:, np.newaxis, :, :]\n",
    "y_train = y_train[:300]\n",
    "y_test = y_test[:300]\n",
    "\n",
    "\n",
    "print(x_train.shape)"
   ]
  },
  {
   "cell_type": "markdown",
   "metadata": {},
   "source": [
    "### Problem 7"
   ]
  },
  {
   "cell_type": "code",
   "execution_count": 133,
   "metadata": {},
   "outputs": [],
   "source": [
    "\n",
    "NN = {\n",
    "    0:FC(1960, 200, HeInitializer(1960), AdaGrad(0.01), Relu()),\n",
    "    1:FC(200, 200, HeInitializer(200), AdaGrad(0.01), Relu()),\n",
    "    2:FC(200, 10, SimpleInitializer(0.01), AdaGrad(0.01), Softmax()),\n",
    "}\n",
    "\n",
    "CNN = {\n",
    "    0: Conv2D(n_filter=10, n_channel_in=1, f_size=3, p=1, stride=1 ,initializer=SimpleInitializer(0.01),optimizer=SGD(0.01), activation = Relu()),\n",
    "    1: MaxPool2D(2),\n",
    "}\n",
    "\n",
    "model = ScratchConvolutionalNeuralNetwork2D(NN=NN, CNN=CNN, epoch=10).fit(x_train, y_train)\n",
    "\n"
   ]
  },
  {
   "cell_type": "code",
   "execution_count": 134,
   "metadata": {},
   "outputs": [
    {
     "data": {
      "text/plain": [
       "[<matplotlib.lines.Line2D at 0x284e06097f0>]"
      ]
     },
     "execution_count": 134,
     "metadata": {},
     "output_type": "execute_result"
    },
    {
     "data": {
      "image/png": "[encoded data removed]",
      "text/plain": [
       "<Figure size 640x480 with 1 Axes>"
      ]
     },
     "metadata": {},
     "output_type": "display_data"
    }
   ],
   "source": [
    "plt.plot(model.log_loss)"
   ]
  },
  {
   "cell_type": "code",
   "execution_count": 135,
   "metadata": {},
   "outputs": [
    {
     "data": {
      "text/plain": [
       "[<matplotlib.lines.Line2D at 0x284e068c320>]"
      ]
     },
     "execution_count": 135,
     "metadata": {},
     "output_type": "execute_result"
    },
    {
     "data": {
      "image/png": "[encoded data removed]",
      "text/plain": [
       "<Figure size 640x480 with 1 Axes>"
      ]
     },
     "metadata": {},
     "output_type": "display_data"
    }
   ],
   "source": [
    "plt.plot(model.log_acc)"
   ]
  },
  {
   "cell_type": "code",
   "execution_count": 136,
   "metadata": {},
   "outputs": [
    {
     "data": {
      "text/plain": [
       "0.08"
      ]
     },
     "execution_count": 136,
     "metadata": {},
     "output_type": "execute_result"
    }
   ],
   "source": [
    "pred = model.predict(x_train)\n",
    "\n",
    "accuracy_score(y_test, pred)"
   ]
  },
  {
   "cell_type": "markdown",
   "metadata": {},
   "source": [
    "### Problem 8"
   ]
  },
  {
   "cell_type": "code",
   "execution_count": 137,
   "metadata": {},
   "outputs": [],
   "source": [
    "\n",
    "NN = {\n",
    "    0:FC(400, 120, HeInitializer(1960), AdaGrad(0.01), Relu()),\n",
    "    1:FC(120, 84, HeInitializer(200), AdaGrad(0.01), Relu()),\n",
    "    2:FC(84, 10, SimpleInitializer(0.01), AdaGrad(0.01), Softmax()),\n",
    "}\n",
    "\n",
    "CNN = {\n",
    "    0: Conv2D(n_filter=6, n_channel_in=1, f_size=5, p=1, stride=1 ,initializer=SimpleInitializer(0.01),optimizer=SGD(0.01), activation = Relu()),\n",
    "    1: MaxPool2D(2),\n",
    "    2: Conv2D(n_filter=16, n_channel_in=1, f_size=5, p=1, stride=1 ,initializer=SimpleInitializer(0.01),optimizer=SGD(0.01), activation = Relu()),\n",
    "    3: MaxPool2D(2),\n",
    "}\n",
    "\n",
    "\n",
    "model = ScratchConvolutionalNeuralNetwork2D(NN=NN, CNN=CNN, epoch=10).fit(x_train, y_train)\n",
    "\n",
    "#(20, 16, 11, 11)"
   ]
  },
  {
   "cell_type": "code",
   "execution_count": 138,
   "metadata": {},
   "outputs": [
    {
     "data": {
      "text/plain": [
       "[<matplotlib.lines.Line2D at 0x284dda5da90>]"
      ]
     },
     "execution_count": 138,
     "metadata": {},
     "output_type": "execute_result"
    },
    {
     "data": {
      "image/png": "[encoded data removed]",
      "text/plain": [
       "<Figure size 640x480 with 1 Axes>"
      ]
     },
     "metadata": {},
     "output_type": "display_data"
    }
   ],
   "source": [
    "plt.plot(model.log_acc)"
   ]
  },
  {
   "cell_type": "code",
   "execution_count": 139,
   "metadata": {},
   "outputs": [
    {
     "data": {
      "text/plain": [
       "[<matplotlib.lines.Line2D at 0x284ddaafda0>]"
      ]
     },
     "execution_count": 139,
     "metadata": {},
     "output_type": "execute_result"
    },
    {
     "data": {
      "image/png": "[encoded data removed]",
      "text/plain": [
       "<Figure size 640x480 with 1 Axes>"
      ]
     },
     "metadata": {},
     "output_type": "display_data"
    }
   ],
   "source": [
    "plt.plot(model.log_loss)"
   ]
  },
  {
   "cell_type": "markdown",
   "metadata": {},
   "source": [
    "### Problme 9"
   ]
  },
  {
   "cell_type": "markdown",
   "metadata": {},
   "source": [
    "#### AlexNet (2012):\n",
    "\n",
    "##### 1. Developed by Alex Krizhevsky et al. in 2012.\n",
    "##### 2. Achieved breakthrough performance in the ImageNet Large Scale Visual Recognition Challenge (ILSVRC) 2012, significantly surpassing previous methods.\n",
    "##### 3. Introduced key components like ReLU activation functions, dropout for regularization, and overlapping pooling.\n",
    "##### 4. Had a relatively deep architecture for its time, with stacked convolutional and pooling layers followed by fully connected layers for classification.\n",
    "\n",
    "#### VGG16 (2014):\n",
    "\n",
    "##### 1. Proposed by Karen Simonyan and Andrew Zisserman in 2014.\n",
    "##### 2. Built upon the success of AlexNet, focusing on a simpler architecture with only 3x3 convolutional filters with a stride of 1 and padding to preserve spatial information.\n",
    "##### 3. Increased the depth of the network significantly compared to AlexNet, using multiple stacked 3x3 convolutional layers.\n",
    "##### 4. Achieved even better accuracy than AlexNet on ILSVRC 2014."
   ]
  },
  {
   "cell_type": "markdown",
   "metadata": {},
   "source": [
    "### Problem 10"
   ]
  },
  {
   "cell_type": "markdown",
   "metadata": {},
   "source": [
    "##### 1.\n",
    "\n",
    "##### Input size : 144 x 144, 3 channels\n",
    "##### Filter size: 3 x 3, 6 channels\n",
    "##### Stride : 1\n",
    "##### Padding: none"
   ]
  },
  {
   "cell_type": "code",
   "execution_count": 140,
   "metadata": {},
   "outputs": [
    {
     "data": {
      "text/plain": [
       "(6, 142, 142)"
      ]
     },
     "execution_count": 140,
     "metadata": {},
     "output_type": "execute_result"
    }
   ],
   "source": [
    "output_rows = num_out(144, 0, 3, 1)\n",
    "\n",
    "output_cols = num_out(144, 0, 3, 1)\n",
    "\n",
    "output_shape = (6, output_rows, output_cols)\n",
    "output_shape"
   ]
  },
  {
   "cell_type": "markdown",
   "metadata": {},
   "source": [
    "##### Input size : 60x60, 24 channels\n",
    "##### Filter size: 3 x 3, 48 channels\n",
    "##### Stride : 1\n",
    "##### Padding: none"
   ]
  },
  {
   "cell_type": "code",
   "execution_count": 141,
   "metadata": {},
   "outputs": [
    {
     "data": {
      "text/plain": [
       "(48, 58, 58)"
      ]
     },
     "execution_count": 141,
     "metadata": {},
     "output_type": "execute_result"
    }
   ],
   "source": [
    "output_rows = num_out(60, 0, 3, 1)\n",
    "\n",
    "output_cols = num_out(60, 0, 3, 1)\n",
    "\n",
    "output_shape = (48, output_rows, output_cols)\n",
    "output_shape"
   ]
  },
  {
   "cell_type": "markdown",
   "metadata": {},
   "source": [
    "##### Input size : 20x20, 10 channels\n",
    "##### Filter size: 3 x 3, 20 channels\n",
    "##### Stride : 2\n",
    "##### Padding: none"
   ]
  },
  {
   "cell_type": "code",
   "execution_count": 142,
   "metadata": {},
   "outputs": [
    {
     "data": {
      "text/plain": [
       "(20, 9, 9)"
      ]
     },
     "execution_count": 142,
     "metadata": {},
     "output_type": "execute_result"
    }
   ],
   "source": [
    "output_rows = num_out(20, 0, 3, 2)\n",
    "\n",
    "output_cols = num_out(20, 0, 3, 2)\n",
    "\n",
    "output_shape = (20, output_rows, output_cols)\n",
    "output_shape"
   ]
  },
  {
   "cell_type": "markdown",
   "metadata": {},
   "source": [
    "### Problem 11"
   ]
  },
  {
   "cell_type": "markdown",
   "metadata": {},
   "source": [
    "##### 3 x 3 filter size is commonly used over larger ones such as 7 x 7 to preserve spatial information. Large filters can lead to information loss. "
   ]
  }
 ],
 "metadata": {
  "kernelspec": {
   "display_name": "Python 3",
   "language": "python",
   "name": "python3"
  },
  "language_info": {
   "codemirror_mode": {
    "name": "ipython",
    "version": 3
   },
   "file_extension": ".py",
   "mimetype": "text/x-python",
   "name": "python",
   "nbconvert_exporter": "python",
   "pygments_lexer": "ipython3",
   "version": "3.12.1"
  }
 },
 "nbformat": 4,
 "nbformat_minor": 2
}
