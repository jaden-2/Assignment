{
 "cells": [
  {
   "cell_type": "code",
   "execution_count": 79,
   "metadata": {},
   "outputs": [],
   "source": [
    "import numpy as np \n",
    "import pandas as pd\n",
    "from sklearn.datasets import load_iris\n",
    "from sklearn.model_selection import train_test_split\n",
    "from sklearn.metrics import (\n",
    "    accuracy_score, \n",
    "    recall_score, \n",
    "    precision_score\n",
    ")\n",
    "from matplotlib.colors import ListedColormap \n",
    "\n",
    "from matplotlib import pyplot as plt\n",
    "iris_dataset = load_iris()\n",
    "\n",
    "data = np.hstack([iris_dataset.data, iris_dataset.target.reshape(-1, 1)])\n",
    "\n",
    "x_train, x_test, y_train, y_test = train_test_split(data[data[:, -1] != 2, 0:2], data[data[:, -1] != 2, -1],test_size=0.3, random_state=0)"
   ]
  },
  {
   "cell_type": "code",
   "execution_count": 61,
   "metadata": {},
   "outputs": [],
   "source": [
    "class ScratchDecesionTreeClassifierDepth1():\n",
    "    \"\"\"\n",
    "    Depth 1 decision tree classifier scratch implementation\n",
    "\n",
    "    Parameters\n",
    "    ----------\n",
    "    verbose : bool\n",
    "      True to output the learning process\n",
    "    \"\"\"\n",
    "\n",
    "    def __init__(self, verbose=False, max_depth = 1):\n",
    "        # Record hyperparameters as attributes\n",
    "        self.verbose = verbose\n",
    "        self.max_depth = max_depth\n",
    "\n",
    "    def fit(self, X, y):\n",
    "        \"\"\"\n",
    "        Learn the decision tree classifier\n",
    "        Parameters\n",
    "        ----------\n",
    "        X : The following forms of ndarray, shape (n_samples, n_features)\n",
    "            Features of training data\n",
    "        y : The following form of ndarray, shape (n_samples,)\n",
    "            Correct answer value of training data\n",
    "        \"\"\"\n",
    "        \n",
    "        \n",
    "        \n",
    "        for i in range(self.max_depth): \n",
    "            self._calc_information_gain(X, y)\n",
    "\n",
    "\n",
    "\n",
    "        return self\n",
    "\n",
    "      \n",
    "\n",
    "    def predict(self, X):\n",
    "        \"\"\"\n",
    "        Estimate the label using a decision tree classifier\n",
    "        \"\"\"\n",
    "\n",
    "        y_pred = np.where(X[:, self.best_feature] < self.criteria, self.left_major, self.right_major)\n",
    "        return y_pred\n",
    "    \n",
    "    def _calc_gini(self, y):\n",
    "        classes, counts = np.unique(y, return_counts=True)\n",
    "        total = len(y)\n",
    "\n",
    "        _gini = 0\n",
    "        for i in zip(classes, counts):\n",
    "            _gini += np.power(i[1]/total, 2)\n",
    "        \n",
    "        return 1 - _gini\n",
    "    \n",
    "    def _calc_information_gain(self, features, labels):\n",
    "        total = len(labels)\n",
    "        p_gini = self._calc_gini(labels)\n",
    "        self.entropy = 0\n",
    "        for x in range(features.shape[1]):\n",
    "            criteria = np.unique(features[:, x])\n",
    "\n",
    "            for criterion in criteria:\n",
    "                l_node = labels[features[:, x] < criterion]\n",
    "                r_node = labels[features[:, x] >= criterion]\n",
    "                l_gini = (len(l_node)/total) * self._calc_gini(l_node)\n",
    "                r_gini = (len(r_node)/total) * self._calc_gini(r_node)\n",
    "                _gini = p_gini - l_gini - r_gini\n",
    "\n",
    "                if _gini > self.entropy:\n",
    "                    self.entropy = _gini\n",
    "                    self.best_feature = x\n",
    "                    self.criteria = criterion\n",
    "                    left, left_count = np.unique(l_node, return_counts=True)\n",
    "                    right, right_count = np.unique(r_node, return_counts=True)\n",
    "                    self.right_major = right[right_count.argmax()]\n",
    "                    self.left_major = left[left_count.argmax()]\n",
    "                \n",
    "        "
   ]
  },
  {
   "cell_type": "code",
   "execution_count": 80,
   "metadata": {},
   "outputs": [],
   "source": [
    "model = ScratchDecesionTreeClassifierDepth1().fit(x_train, y_train)\n",
    "\n",
    "pred = model.predict(x_test)"
   ]
  },
  {
   "cell_type": "code",
   "execution_count": 81,
   "metadata": {},
   "outputs": [
    {
     "data": {
      "text/plain": [
       "(70, 2)"
      ]
     },
     "execution_count": 81,
     "metadata": {},
     "output_type": "execute_result"
    }
   ],
   "source": [
    "x_train.shape"
   ]
  },
  {
   "cell_type": "code",
   "execution_count": 96,
   "metadata": {},
   "outputs": [
    {
     "name": "stdout",
     "output_type": "stream",
     "text": [
      "Confusion Matrix: \n",
      " [[14  1]\n",
      " [ 1 14]]\n"
     ]
    }
   ],
   "source": [
    "from matplotlib import pyplot as plt\n",
    "from sklearn.metrics import confusion_matrix\n",
    "\n",
    "print(f\"Confusion Matrix: \\n {confusion_matrix(y_test, pred)}\")\n"
   ]
  },
  {
   "cell_type": "code",
   "execution_count": 88,
   "metadata": {},
   "outputs": [
    {
     "name": "stdout",
     "output_type": "stream",
     "text": [
      "Accuracy: 0.9333333333333333\n",
      "Recall_ score: 0.9333333333333333\n",
      "precision_score: 0.9333333333333333\n"
     ]
    }
   ],
   "source": [
    "print(f\"Accuracy: { accuracy_score(y_test, pred)}\")\n",
    "print(f\"Recall_ score: { recall_score(y_test, pred)}\")\n",
    "print(f\"precision_score: {precision_score(y_test, pred)}\")"
   ]
  },
  {
   "cell_type": "code",
   "execution_count": 76,
   "metadata": {},
   "outputs": [],
   "source": [
    "def decision_region(X,y,slr, xlabel=\"xlabe\", ylabel=\"ylabel\", label=[0, 1]):\n",
    "    mesh_f0, mesh_f1  = np.meshgrid(\n",
    "        np.arange(np.min(X[:,0]), np.max(X[:,0]), 0.01), \n",
    "        np.arange(np.min(X[:,1]), np.max(X[:,1]), 0.01)\n",
    "    )\n",
    "    mesh = np.c_[np.ravel(mesh_f0),np.ravel(mesh_f1)]\n",
    "    print(mesh.shape)\n",
    "    y_pred = slr.predict(mesh).reshape(mesh_f0.shape)\n",
    "    \n",
    "    plt.title('decision region')\n",
    "    plt.xlabel(xlabel)\n",
    "    plt.ylabel(ylabel)\n",
    "    plt.contourf(mesh_f0, mesh_f1, y_pred,cmap=ListedColormap(['pink', 'skyblue']))\n",
    "    plt.contour(mesh_f0, mesh_f1, y_pred,colors='red')\n",
    "    plt.scatter(X[y==0][:, 0], X[y==0][:, 1],label=label[0])\n",
    "    plt.scatter(X[y==1][:, 0], X[y==1][:, 1],label=label[1])\n",
    "    plt.legend()\n",
    "    plt.show()"
   ]
  },
  {
   "cell_type": "code",
   "execution_count": 86,
   "metadata": {},
   "outputs": [
    {
     "name": "stdout",
     "output_type": "stream",
     "text": [
      "(50000, 2)\n"
     ]
    },
    {
     "data": {
      "image/png": "[encoded data removed]",
      "text/plain": [
       "<Figure size 640x480 with 1 Axes>"
      ]
     },
     "metadata": {},
     "output_type": "display_data"
    }
   ],
   "source": [
    "decision_region(x_test, y_test, model, \"Sepal lenght\", \"Petal length\", ['setosa' ,'versicolor'] )"
   ]
  },
  {
   "cell_type": "code",
   "execution_count": null,
   "metadata": {},
   "outputs": [],
   "source": []
  }
 ],
 "metadata": {
  "kernelspec": {
   "display_name": "Python 3",
   "language": "python",
   "name": "python3"
  },
  "language_info": {
   "codemirror_mode": {
    "name": "ipython",
    "version": 3
   },
   "file_extension": ".py",
   "mimetype": "text/x-python",
   "name": "python",
   "nbconvert_exporter": "python",
   "pygments_lexer": "ipython3",
   "version": "3.12.1"
  }
 },
 "nbformat": 4,
 "nbformat_minor": 2
}
