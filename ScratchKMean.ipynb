{
 "cells": [
  {
   "cell_type": "code",
   "execution_count": 25,
   "metadata": {},
   "outputs": [],
   "source": [
    "import numpy as np \n",
    "\n",
    "from sklearn.datasets import make_blobs\n",
    "from sklearn.model_selection import train_test_split\n",
    "from matplotlib import pyplot as plt"
   ]
  },
  {
   "cell_type": "code",
   "execution_count": 11,
   "metadata": {},
   "outputs": [],
   "source": [
    "class ScratchKMeans():\n",
    "    \"\"\"\n",
    "    K-means scratch implementation\n",
    "\n",
    "    Parameters\n",
    "    ----------\n",
    "    n_clusters : int\n",
    "      Number of clusters\n",
    "    n_init : int\n",
    "      How many times to change the initial value of the center point for calculation\n",
    "    max_iter : int\n",
    "      Maximum number of iterations in one calculation\n",
    "    tol : float\n",
    "      Margin of error between the center point and the center of gravity, which is the reference for ending the iteration\n",
    "    verbose : bool\n",
    "      True to output the learning process\n",
    "\n",
    "    \"\"\"\n",
    "\n",
    "    def __init__(self, n_clusters, n_init, max_iter, tol, verbose=False):\n",
    "        # Record hyperparameters as attributes\n",
    "        self.n_clusters = n_clusters\n",
    "        self.n_init = n_init\n",
    "        self.max_iter = max_iter\n",
    "        self.tol = tol\n",
    "        self.verbose = verbose\n",
    "\n",
    "        self.best_sse = 10**20\n",
    "\n",
    "\n",
    "    def fit(self, X):\n",
    "        \"\"\"\n",
    "        Calculate clustering by K-means\n",
    "        Parameters\n",
    "        ----------\n",
    "        X : The following forms of ndarray, shape (n_samples, n_features)\n",
    "            Features of training data\n",
    "        \"\"\"\n",
    "        #problem 1\n",
    "          \n",
    "\n",
    "        self.myu = X[np.random.choice(len(X), self.n_clusters, False)]\n",
    "\n",
    "        for j in range(self.max_iter):\n",
    "            self._update_cluster(X)\n",
    "            self._update_centroid()   \n",
    "            self._SSE_(X)\n",
    "\n",
    "            if self.verbose:\n",
    "                print(f\" interation: {j}, best SSE: {self.best_sse}\")\n",
    "\n",
    "            if np.mean(self.myu) <= self.tol:\n",
    "                break\n",
    "        \n",
    "            \n",
    "\n",
    "\n",
    "        return self\n",
    "\n",
    "    def predict(self, X):\n",
    "        \"\"\"\n",
    "        Calculate which cluster the input data belongs to\n",
    "        \"\"\"\n",
    "        y_pred = np.array([])\n",
    "        # loop through all test data set\n",
    "        for i in range(len(X)):\n",
    "            d = 10**20\n",
    "            for j in range(self.record_cluster):\n",
    "                dist = np.linalg.norm(X[i] - self.record_myu[j])\n",
    "\n",
    "                if dist < d:\n",
    "                    d = dist \n",
    "                    y_pred = np.append(y_pred, j)\n",
    "        return y_pred\n",
    "\n",
    "    \n",
    "    def _SSE_(self, X):\n",
    "        sse = 0\n",
    "        for n in range(len(X)):\n",
    "            for k in range(self.n_clusters):\n",
    "                sse += np.sum((X[n] - self.myu[k])**2)            \n",
    "        if self.best_sse > sse:\n",
    "          self.best_sse = sse\n",
    "          self.record_myu = self.myu\n",
    "          self.record_cluster = self.n_clusters\n",
    "\n",
    "    def _update_cluster(self, X):\n",
    "        a = np.ones(X.shape[0]).reshape(-1, 1)\n",
    "        self.X_cluster = np.hstack([X, a])\n",
    "        # loop through all data point\n",
    "        for i in range(len(X)):\n",
    "            d = 10 ** 20\n",
    "            # loop through the centroids\n",
    "            for j in range(self.n_clusters):\n",
    "                \n",
    "                #calculates euclidean distance between point and center\n",
    "                dist = np.linalg.norm(X[i] - self.myu[j])\n",
    "\n",
    "                #assign data point to closest cluster\n",
    "                if dist < d:\n",
    "                    d = dist\n",
    "                    self.X_cluster[i, -1] = j\n",
    "\n",
    "    def _update_centroid(self):\n",
    "        \n",
    "        for i in range(self.n_clusters):\n",
    "            self.myu[i] = np.mean(self.X_cluster[self.X_cluster[:, -1]== i, : -1], axis=0)\n",
    "\n",
    "\n",
    "        \n",
    "\n",
    "        \n",
    "    \n",
    "            \n",
    "                \n",
    "            \n",
    "        \n",
    "\n"
   ]
  },
  {
   "cell_type": "code",
   "execution_count": 27,
   "metadata": {},
   "outputs": [],
   "source": [
    "X, _ = make_blobs(n_samples=200, n_features=2, centers=4, cluster_std=0.5, random_state=0, shuffle=True)\n",
    "\n",
    "x_train, x_test, y_train, y_test = train_test_split(X, _, test_size=0.3)"
   ]
  },
  {
   "cell_type": "code",
   "execution_count": 4,
   "metadata": {},
   "outputs": [],
   "source": [
    "clusters = X[np.random.choice(len(X), 4, replace=False)]"
   ]
  },
  {
   "cell_type": "code",
   "execution_count": 9,
   "metadata": {},
   "outputs": [],
   "source": [
    "a = np.ones(len(X)).reshape(-1, 1)\n",
    "\n",
    "xa = np.hstack([X, a])\n"
   ]
  },
  {
   "cell_type": "code",
   "execution_count": 13,
   "metadata": {},
   "outputs": [],
   "source": [
    "sse = 0\n",
    "for x in range(len(X)):\n",
    "    d = 100000\n",
    "    for j in range(len(clusters)): \n",
    "        dist = np.linalg.norm(X[x] - clusters[j])\n",
    "        if dist < d:\n",
    "            d = dist\n",
    "            xa[x, -1] = j\n",
    "      \n"
   ]
  },
  {
   "cell_type": "code",
   "execution_count": 5,
   "metadata": {},
   "outputs": [],
   "source": [
    "test = {\n",
    "    0: X[0: 10], \n",
    "    1: X[10: 20], \n",
    "    2: X[20: 30]\n",
    "}\n"
   ]
  },
  {
   "cell_type": "code",
   "execution_count": 70,
   "metadata": {},
   "outputs": [],
   "source": [
    "a = np.ones(X.shape[0]).reshape(-1, 1)\n",
    "\n",
    "test = np.hstack([X, a])"
   ]
  },
  {
   "cell_type": "code",
   "execution_count": 29,
   "metadata": {},
   "outputs": [
    {
     "data": {
      "text/plain": [
       "(140, 2)"
      ]
     },
     "execution_count": 29,
     "metadata": {},
     "output_type": "execute_result"
    }
   ],
   "source": [
    "x_train.shape"
   ]
  },
  {
   "cell_type": "code",
   "execution_count": 19,
   "metadata": {},
   "outputs": [
    {
     "data": {
      "text/plain": [
       "<matplotlib.collections.PathCollection at 0x1dd47167260>"
      ]
     },
     "execution_count": 19,
     "metadata": {},
     "output_type": "execute_result"
    },
    {
     "data": {
      "image/png": "[encoded data removed]",
      "text/plain": [
       "<Figure size 640x480 with 1 Axes>"
      ]
     },
     "metadata": {},
     "output_type": "display_data"
    }
   ],
   "source": [
    "plt.scatter(X[:, 0], X[:, 1])"
   ]
  },
  {
   "cell_type": "code",
   "execution_count": 30,
   "metadata": {},
   "outputs": [],
   "source": [
    "model = ScratchKMeans(3, 4, 500, 0.5).fit(x_train)"
   ]
  },
  {
   "cell_type": "code",
   "execution_count": 34,
   "metadata": {},
   "outputs": [
    {
     "data": {
      "text/plain": [
       "array([[ 1.60522798,  2.50199981],\n",
       "       [-1.30793625,  7.75384319],\n",
       "       [-1.33186072,  3.17522924]])"
      ]
     },
     "execution_count": 34,
     "metadata": {},
     "output_type": "execute_result"
    }
   ],
   "source": [
    "model.predict(x_test).shape\n",
    "model.record_myu"
   ]
  },
  {
   "cell_type": "code",
   "execution_count": 18,
   "metadata": {},
   "outputs": [
    {
     "data": {
      "text/plain": [
       "[<matplotlib.lines.Line2D at 0x1dd47467ce0>]"
      ]
     },
     "execution_count": 18,
     "metadata": {},
     "output_type": "execute_result"
    },
    {
     "data": {
      "image/png": "[encoded data removed]",
      "text/plain": [
       "<Figure size 640x480 with 1 Axes>"
      ]
     },
     "metadata": {},
     "output_type": "display_data"
    }
   ],
   "source": [
    "losses = []\n",
    "for i in range(1, 15):\n",
    "    m = ScratchKMeans(i, 4, 500, 0.5).fit(X)\n",
    "    losses.append(m.best_sse)\n",
    "\n",
    "plt.plot(losses)"
   ]
  }
 ],
 "metadata": {
  "kernelspec": {
   "display_name": "Python 3",
   "language": "python",
   "name": "python3"
  },
  "language_info": {
   "codemirror_mode": {
    "name": "ipython",
    "version": 3
   },
   "file_extension": ".py",
   "mimetype": "text/x-python",
   "name": "python",
   "nbconvert_exporter": "python",
   "pygments_lexer": "ipython3",
   "version": "3.12.1"
  }
 },
 "nbformat": 4,
 "nbformat_minor": 2
}
