{
 "cells": [
  {
   "cell_type": "code",
   "execution_count": 1,
   "metadata": {},
   "outputs": [],
   "source": [
    "import numpy as np"
   ]
  },
  {
   "cell_type": "code",
   "execution_count": 2,
   "metadata": {},
   "outputs": [],
   "source": [
    "class FC:\n",
    "    def __init__(self, row=None, col=None, sigma = 0.01, debug=False, val= None):\n",
    "        if debug:\n",
    "            self.w = val\n",
    "        else:\n",
    "            self.w = sigma * np.random.randn(row, col)\n",
    "    \n",
    "    def forward(self, x):\n",
    "        return x @ self.w \n",
    "    \n",
    "\n",
    "\n",
    "class ScratchRNN:\n",
    "    def __init__(self, b_size, n_sequence, n_features, n_nodes, sigma = 0.01, debug=False):\n",
    "\n",
    "        self.b_size = b_size\n",
    "        self.n_sequence = n_sequence\n",
    "        self.n_features = n_features\n",
    "        self.n_nodes = n_nodes\n",
    "        if debug:\n",
    "            w_x = np.array([[1, 3, 5, 7], [3, 5, 7, 8]])/100 # (n_features, n_nodes)\n",
    "            w_h = np.array([[1, 3, 5, 7], [2, 4, 6, 8], [3, 5, 7, 8], [4, 6, 8, 10]])/100 # (n_nodes, n_nodes)\n",
    "            self.bais = np.array([1, 1, 1, 1]) # (n_nodes,)\n",
    "            self.node1 = FC(debug=True, val=w_x)\n",
    "            self.node2 = FC(debug=True, val=w_h)\n",
    "        else: \n",
    "            self.node1 = FC(self.n_features, self.n_nodes, sigma)\n",
    "            self.node2 = FC(self.n_nodes, self.n_nodes, sigma)\n",
    "            self.bais = sigma * np.random.randn(n_nodes)\n",
    "            \n",
    "\n",
    "    def forward(self, x_input):\n",
    "        h = np.zeros((self.b_size, self.n_nodes))\n",
    "        \n",
    "        self.x = x_input\n",
    "        for i in range(self.n_sequence):\n",
    "            \n",
    "            a = self.node1.forward(x_input[:, i, :])\n",
    "            h = self.node2.forward(h)\n",
    "            h = np.tanh(a + h + self.bais)\n",
    "            \n",
    "        self.a = h \n",
    "        return h \n",
    "    \n",
    "    \n",
    "    \n",
    "\n"
   ]
  },
  {
   "cell_type": "code",
   "execution_count": 3,
   "metadata": {},
   "outputs": [
    {
     "data": {
      "text/plain": [
       "array([[0.79494228, 0.81839002, 0.83939649, 0.85584174]])"
      ]
     },
     "execution_count": 3,
     "metadata": {},
     "output_type": "execute_result"
    }
   ],
   "source": [
    "x = np.array([[[1, 2], [2, 3], [3, 4]]])/100 # (batch_size, n_sequences, n_features)\n",
    "w_x = np.array([[1, 3, 5, 7], [3, 5, 7, 8]])/100 # (n_features, n_nodes)\n",
    "\n",
    "x.shape\n",
    "b_size = x.shape[0]\n",
    "sequence = x.shape[1]\n",
    "n_nodes = w_x.shape[1]\n",
    "n_feat = x.shape[2]\n",
    "\n",
    "model = ScratchRNN(b_size=b_size, n_sequence=sequence, n_features=n_feat, n_nodes=n_nodes, debug=True)\n",
    "model.forward(x)"
   ]
  }
 ],
 "metadata": {
  "kernelspec": {
   "display_name": "Python 3",
   "language": "python",
   "name": "python3"
  },
  "language_info": {
   "codemirror_mode": {
    "name": "ipython",
    "version": 3
   },
   "file_extension": ".py",
   "mimetype": "text/x-python",
   "name": "python",
   "nbconvert_exporter": "python",
   "pygments_lexer": "ipython3",
   "version": "3.12.1"
  }
 },
 "nbformat": 4,
 "nbformat_minor": 2
}
