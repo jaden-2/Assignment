{
 "cells": [
  {
   "cell_type": "code",
   "execution_count": 7,
   "metadata": {},
   "outputs": [],
   "source": [
    "def growth_time(object, space):\n",
    "    \"\"\"Calculates how long it would take for object to occupy space when object doubles at 5 minutes intervals\"\"\"\n",
    "    x = 0\n",
    "    #run a loop to double the size of the object till it is equal or exceeds the size of the space\n",
    "    while True:\n",
    "        size = object * pow(2, x)\n",
    "        if size >= space:\n",
    "            break\n",
    "        x += 1\n",
    "       \n",
    "    \n",
    "    #since the object doubles at 5 minutes intervals, total time it would take to occupy space\n",
    "    # is equal to interval * number of times size doubles\n",
    "    timeTaken = 5 * x\n",
    "    return timeTaken\n",
    "\n"
   ]
  },
  {
   "cell_type": "code",
   "execution_count": 13,
   "metadata": {},
   "outputs": [
    {
     "name": "stdout",
     "output_type": "stream",
     "text": [
      "It will take 4 hours and 45 minutes for bun to occupy the universe\n"
     ]
    }
   ],
   "source": [
    "\"\"\"\n",
    "The diameter of the universe is 9.461e12 km\n",
    "The diameter of a bun 0.102e-3 km\n",
    "\n",
    "\n",
    "\"\"\"\n",
    "\n",
    "time2Grow = growth_time(.102e-3, 9.461e12) \n",
    "hour = time2Grow // 60\n",
    "minutes = time2Grow % 60\n",
    "\n",
    "\n",
    "\n",
    "print(f\"It will take {hour} hours and {minutes} minutes for bun to occupy the universe\")"
   ]
  }
 ],
 "metadata": {
  "kernelspec": {
   "display_name": "Python 3",
   "language": "python",
   "name": "python3"
  },
  "language_info": {
   "codemirror_mode": {
    "name": "ipython",
    "version": 3
   },
   "file_extension": ".py",
   "mimetype": "text/x-python",
   "name": "python",
   "nbconvert_exporter": "python",
   "pygments_lexer": "ipython3",
   "version": "3.11.6"
  }
 },
 "nbformat": 4,
 "nbformat_minor": 2
}
