{
 "cells": [
  {
   "cell_type": "code",
   "execution_count": 3,
   "metadata": {},
   "outputs": [],
   "source": [
    "def growth_time(object, space):\n",
    "    \"\"\"Calculates how long it would take for object to occupy space when object doubles at 5 minutes intervals\"\"\"\n",
    "    x = 0\n",
    "    #run a loop to double the size of the object till it is equal or exceeds the size of the space\n",
    "    while True:\n",
    "        size = object * pow(2, x)\n",
    "        if size >= space:\n",
    "            break\n",
    "        x += 1\n",
    "       \n",
    "    \n",
    "    #since the object doubles at 5 minutes intervals, total time it would take to occupy space\n",
    "    # is equal to interval * number of times size doubles\n",
    "    timeTaken = 5 * x\n",
    "    return timeTaken\n",
    "\n"
   ]
  },
  {
   "cell_type": "code",
   "execution_count": 4,
   "metadata": {},
   "outputs": [
    {
     "name": "stdout",
     "output_type": "stream",
     "text": [
      "It will take 4 hours and 45 minutes for bun to occupy the universe\n"
     ]
    }
   ],
   "source": [
    "\"\"\"\n",
    "The diameter of the universe is 9.461e12 km\n",
    "The diameter of a bun 0.102e-3 km\n",
    "\n",
    "\n",
    "\"\"\"\n",
    "\n",
    "time2Grow = growth_time(.102e-3, 9.461e12) \n",
    "hour = time2Grow // 60\n",
    "minutes = time2Grow % 60\n",
    "\n",
    "\n",
    "\n",
    "print(f\"It will take {hour} hours and {minutes} minutes for bun to occupy the universe\")"
   ]
  },
  {
   "cell_type": "code",
   "execution_count": 7,
   "metadata": {},
   "outputs": [
    {
     "name": "stdout",
     "output_type": "stream",
     "text": [
      "It will take 1 hours and 30 minutes for a ball to engulf the Tokyo dome\n"
     ]
    }
   ],
   "source": [
    "\"\"\" \n",
    "Surface area of a standard FIFA football = 0.1520squaremeters (ChatGpt)\n",
    "Surface area of the Tokyo dome = 35069.6squaremeters (ChatGpt)\n",
    "\"\"\"\n",
    "\n",
    "\n",
    "ball_area = 0.1520\n",
    "\n",
    "dome_area = 35069.6\n",
    "\n",
    "time2Grow = growth_time(ball_area, dome_area) \n",
    "hour = time2Grow // 60\n",
    "minutes = time2Grow % 60\n",
    "\n",
    "print(f\"It will take {hour} hours and {minutes} minutes for a ball to engulf the Tokyo dome\")"
   ]
  }
 ],
 "metadata": {
  "kernelspec": {
   "display_name": "Python 3",
   "language": "python",
   "name": "python3"
  },
  "language_info": {
   "codemirror_mode": {
    "name": "ipython",
    "version": 3
   },
   "file_extension": ".py",
   "mimetype": "text/x-python",
   "name": "python",
   "nbconvert_exporter": "python",
   "pygments_lexer": "ipython3",
   "version": "3.11.6"
  }
 },
 "nbformat": 4,
 "nbformat_minor": 2
}
