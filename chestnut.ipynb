{
 "cells": [
  {
   "cell_type": "code",
   "execution_count": 3,
   "metadata": {},
   "outputs": [],
   "source": [
    "def growth_time(object, space):\n",
    "    \"\"\"Calculates how long it would take for object to occupy space when object doubles at 5 minutes intervals\"\"\"\n",
    "    x = 0\n",
    "    #run a loop to double the size of the object till it is equal or exceeds the size of the space\n",
    "    while True:\n",
    "        size = object * pow(2, x)\n",
    "        if size >= space:\n",
    "            break\n",
    "        x += 1\n",
    "       \n",
    "    \n",
    "    #since the object doubles at 5 minutes intervals, total time it would take to occupy space\n",
    "    # is equal to interval * number of times size doubles\n",
    "    timeTaken = 5 * x\n",
    "    return timeTaken\n",
    "\n"
   ]
  },
  {
   "cell_type": "code",
   "execution_count": 4,
   "metadata": {},
   "outputs": [
    {
     "name": "stdout",
     "output_type": "stream",
     "text": [
      "It will take 4 hours and 45 minutes for bun to occupy the universe\n"
     ]
    }
   ],
   "source": [
    "\"\"\"\n",
    "The diameter of the universe is 9.461e12 km\n",
    "The diameter of a bun 0.102e-3 km\n",
    "\n",
    "\n",
    "\"\"\"\n",
    "\n",
    "time2Grow = growth_time(.102e-3, 9.461e12) \n",
    "hour = time2Grow // 60\n",
    "minutes = time2Grow % 60\n",
    "\n",
    "\n",
    "\n",
    "print(f\"It will take {hour} hours and {minutes} minutes for bun to occupy the universe\")"
   ]
  },
  {
   "cell_type": "code",
   "execution_count": 6,
   "metadata": {},
   "outputs": [
    {
     "name": "stdout",
     "output_type": "stream",
     "text": [
      "It will take 1 hours and 55 minutes for bun to cover the Tokyo Dome building\n"
     ]
    }
   ],
   "source": [
    "\"\"\" \n",
    "The diameter of a bun 0.102e-3 km\n",
    "Area of bun = Pi * (D^2/4)\n",
    "Area of the Tokyo dome building is 0.046755 Km2 (Contributors to Wikimedia projects, 2023)\n",
    "\"\"\"\n",
    "\n",
    "\n",
    "bun_area = 3.142 * (pow(0.102e-3, 2)/4)\n",
    "\n",
    "dome_area = 0.046755\n",
    "\n",
    "# time it will take for the bun's area to double till it completely engulf the Tokyo dome building\n",
    "\n",
    "time2Grow = growth_time(bun_area, dome_area) \n",
    "hour = time2Grow // 60\n",
    "minutes = time2Grow % 60\n",
    "\n",
    "print(f\"It will take {hour} hours and {minutes} minutes for bun to cover the Tokyo Dome building\")"
   ]
  }
 ],
 "metadata": {
  "kernelspec": {
   "display_name": "Python 3",
   "language": "python",
   "name": "python3"
  },
  "language_info": {
   "codemirror_mode": {
    "name": "ipython",
    "version": 3
   },
   "file_extension": ".py",
   "mimetype": "text/x-python",
   "name": "python",
   "nbconvert_exporter": "python",
   "pygments_lexer": "ipython3",
   "version": "3.11.6"
  }
 },
 "nbformat": 4,
 "nbformat_minor": 2
}
