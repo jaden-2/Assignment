{
 "cells": [
  {
   "cell_type": "code",
   "execution_count": 2,
   "metadata": {},
   "outputs": [],
   "source": [
    "import pandas as pd \n",
    "import numpy as np \n",
    "\n",
    "import missingno as msn\n",
    "from sklearn import metrics, neighbors, model_selection, preprocessing, pipeline, compose\n",
    "from matplotlib import pyplot as plt \n",
    "import warnings\n",
    "\n",
    "warnings.filterwarnings(\"ignore\")"
   ]
  },
  {
   "cell_type": "markdown",
   "metadata": {},
   "source": [
    "### Problem 1"
   ]
  },
  {
   "cell_type": "markdown",
   "metadata": {},
   "source": [
    "#### 1. What to learn and predict?\n",
    "##### Ans: Learning user transaction information, telco information and other relevant information and use this to predict a users repayment ability\n",
    "\n",
    "### 2. What kind of file to create and submit to kaggle?\n",
    "#### Ans: A csv file containing the user ID and probability of repayment \n",
    "\n",
    "### 3. What kind of index value will be used to evaluate submission?\n",
    "#### Ans: Area under the ROC curve"
   ]
  },
  {
   "cell_type": "markdown",
   "metadata": {},
   "source": [
    "### Base model"
   ]
  },
  {
   "cell_type": "code",
   "execution_count": 3,
   "metadata": {},
   "outputs": [],
   "source": [
    "data = pd.read_csv(\"./data/application_train.csv\")\n",
    "\n",
    "data.head()\n",
    "\n",
    "application = data.dropna(axis=0, how=\"any\")\n"
   ]
  },
  {
   "cell_type": "code",
   "execution_count": 4,
   "metadata": {},
   "outputs": [
    {
     "data": {
      "text/html": [
       "<div>\n",
       "<style scoped>\n",
       "    .dataframe tbody tr th:only-of-type {\n",
       "        vertical-align: middle;\n",
       "    }\n",
       "\n",
       "    .dataframe tbody tr th {\n",
       "        vertical-align: top;\n",
       "    }\n",
       "\n",
       "    .dataframe thead th {\n",
       "        text-align: right;\n",
       "    }\n",
       "</style>\n",
       "<table border=\"1\" class=\"dataframe\">\n",
       "  <thead>\n",
       "    <tr style=\"text-align: right;\">\n",
       "      <th></th>\n",
       "      <th>TARGET</th>\n",
       "      <th>NAME_CONTRACT_TYPE</th>\n",
       "      <th>CODE_GENDER</th>\n",
       "      <th>FLAG_OWN_CAR</th>\n",
       "      <th>FLAG_OWN_REALTY</th>\n",
       "      <th>CNT_CHILDREN</th>\n",
       "      <th>AMT_INCOME_TOTAL</th>\n",
       "      <th>AMT_CREDIT</th>\n",
       "      <th>AMT_ANNUITY</th>\n",
       "    </tr>\n",
       "  </thead>\n",
       "  <tbody>\n",
       "    <tr>\n",
       "      <th>71</th>\n",
       "      <td>0</td>\n",
       "      <td>Cash loans</td>\n",
       "      <td>M</td>\n",
       "      <td>Y</td>\n",
       "      <td>Y</td>\n",
       "      <td>0</td>\n",
       "      <td>103500.0</td>\n",
       "      <td>573628.5</td>\n",
       "      <td>24435.0</td>\n",
       "    </tr>\n",
       "    <tr>\n",
       "      <th>124</th>\n",
       "      <td>0</td>\n",
       "      <td>Cash loans</td>\n",
       "      <td>F</td>\n",
       "      <td>Y</td>\n",
       "      <td>Y</td>\n",
       "      <td>1</td>\n",
       "      <td>202500.0</td>\n",
       "      <td>260725.5</td>\n",
       "      <td>16789.5</td>\n",
       "    </tr>\n",
       "    <tr>\n",
       "      <th>152</th>\n",
       "      <td>0</td>\n",
       "      <td>Cash loans</td>\n",
       "      <td>F</td>\n",
       "      <td>Y</td>\n",
       "      <td>N</td>\n",
       "      <td>0</td>\n",
       "      <td>202500.0</td>\n",
       "      <td>675000.0</td>\n",
       "      <td>53329.5</td>\n",
       "    </tr>\n",
       "    <tr>\n",
       "      <th>161</th>\n",
       "      <td>0</td>\n",
       "      <td>Cash loans</td>\n",
       "      <td>M</td>\n",
       "      <td>Y</td>\n",
       "      <td>N</td>\n",
       "      <td>0</td>\n",
       "      <td>162000.0</td>\n",
       "      <td>263686.5</td>\n",
       "      <td>24781.5</td>\n",
       "    </tr>\n",
       "    <tr>\n",
       "      <th>255</th>\n",
       "      <td>1</td>\n",
       "      <td>Cash loans</td>\n",
       "      <td>M</td>\n",
       "      <td>Y</td>\n",
       "      <td>N</td>\n",
       "      <td>1</td>\n",
       "      <td>225000.0</td>\n",
       "      <td>1019205.0</td>\n",
       "      <td>31032.0</td>\n",
       "    </tr>\n",
       "  </tbody>\n",
       "</table>\n",
       "</div>"
      ],
      "text/plain": [
       "     TARGET NAME_CONTRACT_TYPE CODE_GENDER FLAG_OWN_CAR FLAG_OWN_REALTY  \\\n",
       "71        0         Cash loans           M            Y               Y   \n",
       "124       0         Cash loans           F            Y               Y   \n",
       "152       0         Cash loans           F            Y               N   \n",
       "161       0         Cash loans           M            Y               N   \n",
       "255       1         Cash loans           M            Y               N   \n",
       "\n",
       "     CNT_CHILDREN  AMT_INCOME_TOTAL  AMT_CREDIT  AMT_ANNUITY  \n",
       "71              0          103500.0    573628.5      24435.0  \n",
       "124             1          202500.0    260725.5      16789.5  \n",
       "152             0          202500.0    675000.0      53329.5  \n",
       "161             0          162000.0    263686.5      24781.5  \n",
       "255             1          225000.0   1019205.0      31032.0  "
      ]
     },
     "execution_count": 4,
     "metadata": {},
     "output_type": "execute_result"
    }
   ],
   "source": [
    "features = ['NAME_CONTRACT_TYPE', 'CODE_GENDER',\n",
    "       'FLAG_OWN_CAR', 'FLAG_OWN_REALTY', 'CNT_CHILDREN', 'AMT_INCOME_TOTAL',\n",
    "       'AMT_CREDIT', 'AMT_ANNUITY']\n",
    "target = ['TARGET']\n",
    "application.drop([x for x in application.keys() if x not in features + target] , inplace=True, axis=1)\n",
    "\n",
    "application.head()"
   ]
  },
  {
   "cell_type": "code",
   "execution_count": 5,
   "metadata": {},
   "outputs": [
    {
     "data": {
      "text/html": [
       "<div>\n",
       "<style scoped>\n",
       "    .dataframe tbody tr th:only-of-type {\n",
       "        vertical-align: middle;\n",
       "    }\n",
       "\n",
       "    .dataframe tbody tr th {\n",
       "        vertical-align: top;\n",
       "    }\n",
       "\n",
       "    .dataframe thead th {\n",
       "        text-align: right;\n",
       "    }\n",
       "</style>\n",
       "<table border=\"1\" class=\"dataframe\">\n",
       "  <thead>\n",
       "    <tr style=\"text-align: right;\">\n",
       "      <th></th>\n",
       "      <th>TARGET</th>\n",
       "      <th>NAME_CONTRACT_TYPE</th>\n",
       "      <th>CODE_GENDER</th>\n",
       "      <th>FLAG_OWN_CAR</th>\n",
       "      <th>FLAG_OWN_REALTY</th>\n",
       "      <th>CNT_CHILDREN</th>\n",
       "      <th>AMT_INCOME_TOTAL</th>\n",
       "      <th>AMT_CREDIT</th>\n",
       "      <th>AMT_ANNUITY</th>\n",
       "    </tr>\n",
       "  </thead>\n",
       "  <tbody>\n",
       "    <tr>\n",
       "      <th>71</th>\n",
       "      <td>0</td>\n",
       "      <td>0</td>\n",
       "      <td>1</td>\n",
       "      <td>0</td>\n",
       "      <td>1</td>\n",
       "      <td>0</td>\n",
       "      <td>103500.0</td>\n",
       "      <td>573628.5</td>\n",
       "      <td>24435.0</td>\n",
       "    </tr>\n",
       "    <tr>\n",
       "      <th>124</th>\n",
       "      <td>0</td>\n",
       "      <td>0</td>\n",
       "      <td>0</td>\n",
       "      <td>0</td>\n",
       "      <td>1</td>\n",
       "      <td>1</td>\n",
       "      <td>202500.0</td>\n",
       "      <td>260725.5</td>\n",
       "      <td>16789.5</td>\n",
       "    </tr>\n",
       "    <tr>\n",
       "      <th>152</th>\n",
       "      <td>0</td>\n",
       "      <td>0</td>\n",
       "      <td>0</td>\n",
       "      <td>0</td>\n",
       "      <td>0</td>\n",
       "      <td>0</td>\n",
       "      <td>202500.0</td>\n",
       "      <td>675000.0</td>\n",
       "      <td>53329.5</td>\n",
       "    </tr>\n",
       "    <tr>\n",
       "      <th>161</th>\n",
       "      <td>0</td>\n",
       "      <td>0</td>\n",
       "      <td>1</td>\n",
       "      <td>0</td>\n",
       "      <td>0</td>\n",
       "      <td>0</td>\n",
       "      <td>162000.0</td>\n",
       "      <td>263686.5</td>\n",
       "      <td>24781.5</td>\n",
       "    </tr>\n",
       "    <tr>\n",
       "      <th>255</th>\n",
       "      <td>1</td>\n",
       "      <td>0</td>\n",
       "      <td>1</td>\n",
       "      <td>0</td>\n",
       "      <td>0</td>\n",
       "      <td>1</td>\n",
       "      <td>225000.0</td>\n",
       "      <td>1019205.0</td>\n",
       "      <td>31032.0</td>\n",
       "    </tr>\n",
       "  </tbody>\n",
       "</table>\n",
       "</div>"
      ],
      "text/plain": [
       "     TARGET  NAME_CONTRACT_TYPE  CODE_GENDER  FLAG_OWN_CAR  FLAG_OWN_REALTY  \\\n",
       "71        0                   0            1             0                1   \n",
       "124       0                   0            0             0                1   \n",
       "152       0                   0            0             0                0   \n",
       "161       0                   0            1             0                0   \n",
       "255       1                   0            1             0                0   \n",
       "\n",
       "     CNT_CHILDREN  AMT_INCOME_TOTAL  AMT_CREDIT  AMT_ANNUITY  \n",
       "71              0          103500.0    573628.5      24435.0  \n",
       "124             1          202500.0    260725.5      16789.5  \n",
       "152             0          202500.0    675000.0      53329.5  \n",
       "161             0          162000.0    263686.5      24781.5  \n",
       "255             1          225000.0   1019205.0      31032.0  "
      ]
     },
     "execution_count": 5,
     "metadata": {},
     "output_type": "execute_result"
    }
   ],
   "source": [
    "categorical = [\"NAME_CONTRACT_TYPE\", \"CODE_GENDER\", \"FLAG_OWN_CAR\", \"FLAG_OWN_REALTY\"]\n",
    "lb = preprocessing.LabelEncoder()\n",
    "for category in categorical:\n",
    "    application[category] = lb.fit_transform(application[category])\n",
    "\n",
    "application.head()"
   ]
  },
  {
   "cell_type": "code",
   "execution_count": 6,
   "metadata": {},
   "outputs": [
    {
     "name": "stdout",
     "output_type": "stream",
     "text": [
      "Base ROC scrore: 0.5\n"
     ]
    },
    {
     "data": {
      "text/plain": [
       "Text(0, 0.5, 'Prediction')"
      ]
     },
     "execution_count": 6,
     "metadata": {},
     "output_type": "execute_result"
    },
    {
     "data": {
      "image/png": "[encoded data removed]",
      "text/plain": [
       "<Figure size 640x480 with 1 Axes>"
      ]
     },
     "metadata": {},
     "output_type": "display_data"
    }
   ],
   "source": [
    "x_train, x_test, y_train, y_test = model_selection.train_test_split(application[features], application[target], test_size=0.2, random_state=0)\n",
    "\n",
    "y_train, y_test = np.ravel(y_train), np.ravel(y_test)\n",
    "\n",
    "base_model = neighbors.KNeighborsClassifier(int(np.sqrt(len(x_train)))).fit(x_train, y_train)\n",
    "\n",
    "base_prediction = base_model.predict(x_test)\n",
    "\n",
    "base_score = metrics.roc_auc_score(y_test, base_prediction)\n",
    "\n",
    "print(f\"Base ROC scrore: {base_score}\")\n",
    "\n",
    "\n",
    "plt.scatter(y_test, base_prediction)\n",
    "plt.xlabel(\"True value\")\n",
    "plt.ylabel(\"Prediction\")"
   ]
  },
  {
   "cell_type": "markdown",
   "metadata": {},
   "source": [
    "#### As indicated by the ROC score, the base model only correctly half of the time. "
   ]
  },
  {
   "cell_type": "markdown",
   "metadata": {},
   "source": [
    "### Problem 2"
   ]
  },
  {
   "cell_type": "code",
   "execution_count": 7,
   "metadata": {},
   "outputs": [],
   "source": [
    "# Preprocessing, standardization and label encoding\n",
    "\n",
    "def preprocessor(data):\n",
    "    \"\"\"\n",
    "    Standardizes numerical data and encodes categorical data\n",
    "    \"\"\"\n",
    "\n",
    "    #scaler and encoder\n",
    "    scaler = preprocessing.StandardScaler()\n",
    "    encoder = preprocessing.LabelEncoder()\n",
    "    data = data.copy()\n",
    "\n",
    "    for label in data.keys():\n",
    "        dtype = data[label].dtype\n",
    "        \n",
    "        if dtype == \"O\":\n",
    "           data[label] = encoder.fit_transform(data[label])\n",
    "        \"\"\"else:\n",
    "            val = data[label].values\n",
    "            data[label] =scaler.fit_transform([val]).reshape((-1, 1))\n",
    "        \"\"\"\n",
    "\n",
    "    return data\n",
    "       \n",
    "            \n"
   ]
  },
  {
   "cell_type": "code",
   "execution_count": 8,
   "metadata": {},
   "outputs": [
    {
     "name": "stdout",
     "output_type": "stream",
     "text": [
      "<class 'pandas.core.frame.DataFrame'>\n",
      "RangeIndex: 307511 entries, 0 to 307510\n",
      "Data columns (total 121 columns):\n",
      " #    Column                        Dtype  \n",
      "---   ------                        -----  \n",
      " 0    NAME_CONTRACT_TYPE            int32  \n",
      " 1    CODE_GENDER                   int32  \n",
      " 2    FLAG_OWN_CAR                  int32  \n",
      " 3    FLAG_OWN_REALTY               int32  \n",
      " 4    CNT_CHILDREN                  int64  \n",
      " 5    AMT_INCOME_TOTAL              float64\n",
      " 6    AMT_CREDIT                    float64\n",
      " 7    AMT_ANNUITY                   float64\n",
      " 8    AMT_GOODS_PRICE               float64\n",
      " 9    NAME_TYPE_SUITE               int32  \n",
      " 10   NAME_INCOME_TYPE              int32  \n",
      " 11   NAME_EDUCATION_TYPE           int32  \n",
      " 12   NAME_FAMILY_STATUS            int32  \n",
      " 13   NAME_HOUSING_TYPE             int32  \n",
      " 14   REGION_POPULATION_RELATIVE    float64\n",
      " 15   DAYS_BIRTH                    int64  \n",
      " 16   DAYS_EMPLOYED                 int64  \n",
      " 17   DAYS_REGISTRATION             float64\n",
      " 18   DAYS_ID_PUBLISH               int64  \n",
      " 19   OWN_CAR_AGE                   float64\n",
      " 20   FLAG_MOBIL                    int64  \n",
      " 21   FLAG_EMP_PHONE                int64  \n",
      " 22   FLAG_WORK_PHONE               int64  \n",
      " 23   FLAG_CONT_MOBILE              int64  \n",
      " 24   FLAG_PHONE                    int64  \n",
      " 25   FLAG_EMAIL                    int64  \n",
      " 26   OCCUPATION_TYPE               int32  \n",
      " 27   CNT_FAM_MEMBERS               float64\n",
      " 28   REGION_RATING_CLIENT          int64  \n",
      " 29   REGION_RATING_CLIENT_W_CITY   int64  \n",
      " 30   WEEKDAY_APPR_PROCESS_START    int32  \n",
      " 31   HOUR_APPR_PROCESS_START       int64  \n",
      " 32   REG_REGION_NOT_LIVE_REGION    int64  \n",
      " 33   REG_REGION_NOT_WORK_REGION    int64  \n",
      " 34   LIVE_REGION_NOT_WORK_REGION   int64  \n",
      " 35   REG_CITY_NOT_LIVE_CITY        int64  \n",
      " 36   REG_CITY_NOT_WORK_CITY        int64  \n",
      " 37   LIVE_CITY_NOT_WORK_CITY       int64  \n",
      " 38   ORGANIZATION_TYPE             int32  \n",
      " 39   EXT_SOURCE_1                  float64\n",
      " 40   EXT_SOURCE_2                  float64\n",
      " 41   EXT_SOURCE_3                  float64\n",
      " 42   APARTMENTS_AVG                float64\n",
      " 43   BASEMENTAREA_AVG              float64\n",
      " 44   YEARS_BEGINEXPLUATATION_AVG   float64\n",
      " 45   YEARS_BUILD_AVG               float64\n",
      " 46   COMMONAREA_AVG                float64\n",
      " 47   ELEVATORS_AVG                 float64\n",
      " 48   ENTRANCES_AVG                 float64\n",
      " 49   FLOORSMAX_AVG                 float64\n",
      " 50   FLOORSMIN_AVG                 float64\n",
      " 51   LANDAREA_AVG                  float64\n",
      " 52   LIVINGAPARTMENTS_AVG          float64\n",
      " 53   LIVINGAREA_AVG                float64\n",
      " 54   NONLIVINGAPARTMENTS_AVG       float64\n",
      " 55   NONLIVINGAREA_AVG             float64\n",
      " 56   APARTMENTS_MODE               float64\n",
      " 57   BASEMENTAREA_MODE             float64\n",
      " 58   YEARS_BEGINEXPLUATATION_MODE  float64\n",
      " 59   YEARS_BUILD_MODE              float64\n",
      " 60   COMMONAREA_MODE               float64\n",
      " 61   ELEVATORS_MODE                float64\n",
      " 62   ENTRANCES_MODE                float64\n",
      " 63   FLOORSMAX_MODE                float64\n",
      " 64   FLOORSMIN_MODE                float64\n",
      " 65   LANDAREA_MODE                 float64\n",
      " 66   LIVINGAPARTMENTS_MODE         float64\n",
      " 67   LIVINGAREA_MODE               float64\n",
      " 68   NONLIVINGAPARTMENTS_MODE      float64\n",
      " 69   NONLIVINGAREA_MODE            float64\n",
      " 70   APARTMENTS_MEDI               float64\n",
      " 71   BASEMENTAREA_MEDI             float64\n",
      " 72   YEARS_BEGINEXPLUATATION_MEDI  float64\n",
      " 73   YEARS_BUILD_MEDI              float64\n",
      " 74   COMMONAREA_MEDI               float64\n",
      " 75   ELEVATORS_MEDI                float64\n",
      " 76   ENTRANCES_MEDI                float64\n",
      " 77   FLOORSMAX_MEDI                float64\n",
      " 78   FLOORSMIN_MEDI                float64\n",
      " 79   LANDAREA_MEDI                 float64\n",
      " 80   LIVINGAPARTMENTS_MEDI         float64\n",
      " 81   LIVINGAREA_MEDI               float64\n",
      " 82   NONLIVINGAPARTMENTS_MEDI      float64\n",
      " 83   NONLIVINGAREA_MEDI            float64\n",
      " 84   FONDKAPREMONT_MODE            int32  \n",
      " 85   HOUSETYPE_MODE                int32  \n",
      " 86   TOTALAREA_MODE                float64\n",
      " 87   WALLSMATERIAL_MODE            int32  \n",
      " 88   EMERGENCYSTATE_MODE           int32  \n",
      " 89   OBS_30_CNT_SOCIAL_CIRCLE      float64\n",
      " 90   DEF_30_CNT_SOCIAL_CIRCLE      float64\n",
      " 91   OBS_60_CNT_SOCIAL_CIRCLE      float64\n",
      " 92   DEF_60_CNT_SOCIAL_CIRCLE      float64\n",
      " 93   DAYS_LAST_PHONE_CHANGE        float64\n",
      " 94   FLAG_DOCUMENT_2               int64  \n",
      " 95   FLAG_DOCUMENT_3               int64  \n",
      " 96   FLAG_DOCUMENT_4               int64  \n",
      " 97   FLAG_DOCUMENT_5               int64  \n",
      " 98   FLAG_DOCUMENT_6               int64  \n",
      " 99   FLAG_DOCUMENT_7               int64  \n",
      " 100  FLAG_DOCUMENT_8               int64  \n",
      " 101  FLAG_DOCUMENT_9               int64  \n",
      " 102  FLAG_DOCUMENT_10              int64  \n",
      " 103  FLAG_DOCUMENT_11              int64  \n",
      " 104  FLAG_DOCUMENT_12              int64  \n",
      " 105  FLAG_DOCUMENT_13              int64  \n",
      " 106  FLAG_DOCUMENT_14              int64  \n",
      " 107  FLAG_DOCUMENT_15              int64  \n",
      " 108  FLAG_DOCUMENT_16              int64  \n",
      " 109  FLAG_DOCUMENT_17              int64  \n",
      " 110  FLAG_DOCUMENT_18              int64  \n",
      " 111  FLAG_DOCUMENT_19              int64  \n",
      " 112  FLAG_DOCUMENT_20              int64  \n",
      " 113  FLAG_DOCUMENT_21              int64  \n",
      " 114  AMT_REQ_CREDIT_BUREAU_HOUR    float64\n",
      " 115  AMT_REQ_CREDIT_BUREAU_DAY     float64\n",
      " 116  AMT_REQ_CREDIT_BUREAU_WEEK    float64\n",
      " 117  AMT_REQ_CREDIT_BUREAU_MON     float64\n",
      " 118  AMT_REQ_CREDIT_BUREAU_QRT     float64\n",
      " 119  AMT_REQ_CREDIT_BUREAU_YEAR    float64\n",
      " 120  TARGET                        int64  \n",
      "dtypes: float64(65), int32(16), int64(40)\n",
      "memory usage: 265.1 MB\n"
     ]
    }
   ],
   "source": [
    "credit_info = data.copy()\n",
    "\n",
    "scaler = preprocessing.StandardScaler()\n",
    "credit_info.drop([\"SK_ID_CURR\", \"TARGET\"], axis=1, inplace=True)\n",
    "\n",
    "\n",
    "credit_info = pd.concat((preprocessor(credit_info), data[\"TARGET\"]), axis=1)\n",
    "\n",
    "credit_info.info(verbose=4)"
   ]
  },
  {
   "cell_type": "code",
   "execution_count": 9,
   "metadata": {},
   "outputs": [],
   "source": [
    "# select features with over 50% null values\n",
    "thresh = 0.7\n",
    "\n",
    "empty_features = credit_info.keys()[((credit_info.isna().sum() / len(credit_info) ) >= thresh).values]\n",
    "\n",
    "#dropping unwated features\n",
    "credit_info.drop(empty_features, axis=1, inplace=True)\n"
   ]
  },
  {
   "cell_type": "code",
   "execution_count": 10,
   "metadata": {},
   "outputs": [
    {
     "data": {
      "text/plain": [
       "<Axes: >"
      ]
     },
     "execution_count": 10,
     "metadata": {},
     "output_type": "execute_result"
    },
    {
     "data": {
      "image/png": "[encoded data removed]",
      "text/plain": [
       "<Figure size 2500x1000 with 2 Axes>"
      ]
     },
     "metadata": {},
     "output_type": "display_data"
    }
   ],
   "source": [
    "thresh = 0\n",
    "\n",
    "null_features = credit_info.keys()[((credit_info.isna().sum() / len(credit_info) ) > thresh).values]\n",
    "\n",
    "for feat in null_features:\n",
    "    credit_info[feat].fillna(credit_info[feat].mean(), inplace =True)\n",
    "\n",
    "msn.matrix(credit_info)"
   ]
  },
  {
   "cell_type": "code",
   "execution_count": 11,
   "metadata": {},
   "outputs": [],
   "source": [
    "import seaborn as sns\n",
    "# feature selection\n",
    "\n",
    "#FEATURES THAT CORRELATE WITH TARGET VARIABLE\n",
    "mat= credit_info.corr(numeric_only=True)"
   ]
  },
  {
   "cell_type": "code",
   "execution_count": 12,
   "metadata": {},
   "outputs": [],
   "source": [
    "# extracting features with the best correlation with target variable\n",
    "thresh = 0.05\n",
    "\n",
    "potential_feat = (mat[(np.abs(mat) > thresh) & (np.abs(mat) < 1)][\"TARGET\"]).keys()\n",
    "\n",
    "condition = (np.abs(mat[\"TARGET\"]) > thresh) & ( np.abs(mat[\"TARGET\"] )< 1)\n",
    "\n",
    "interest_feat = potential_feat[condition]"
   ]
  },
  {
   "cell_type": "code",
   "execution_count": 13,
   "metadata": {},
   "outputs": [],
   "source": [
    "#train test split and model training \n",
    "\n",
    "\n",
    "target = credit_info[\"TARGET\"]\n",
    "\n",
    "credit_info.drop([x for x in credit_info.keys() if x not in interest_feat], axis=1, inplace=True)\n",
    "\n",
    "x_train, x_test, y_train, y_test = model_selection.train_test_split(credit_info, target, test_size=0.2, random_state=0)\n"
   ]
  },
  {
   "cell_type": "code",
   "execution_count": 14,
   "metadata": {},
   "outputs": [],
   "source": [
    "model = neighbors.KNeighborsClassifier(algorithm=\"kd_tree\", n_neighbors=11, p=1, weights=\"distance\").fit(x_train, y_train)\n",
    "\n",
    "prediction = model.predict(x_test)\n"
   ]
  },
  {
   "cell_type": "code",
   "execution_count": 15,
   "metadata": {},
   "outputs": [
    {
     "data": {
      "text/plain": [
       "0.5019450921810895"
      ]
     },
     "execution_count": 15,
     "metadata": {},
     "output_type": "execute_result"
    }
   ],
   "source": [
    "metrics.roc_auc_score(y_test, prediction)"
   ]
  },
  {
   "cell_type": "code",
   "execution_count": 16,
   "metadata": {},
   "outputs": [
    {
     "name": "stdout",
     "output_type": "stream",
     "text": [
      "              precision    recall  f1-score   support\n",
      "\n",
      "           0       0.92      1.00      0.96     56648\n",
      "           1       0.20      0.01      0.01      4855\n",
      "\n",
      "    accuracy                           0.92     61503\n",
      "   macro avg       0.56      0.50      0.48     61503\n",
      "weighted avg       0.86      0.92      0.88     61503\n",
      "\n"
     ]
    }
   ],
   "source": [
    "print(metrics.classification_report(y_test, prediction))"
   ]
  },
  {
   "cell_type": "code",
   "execution_count": 17,
   "metadata": {},
   "outputs": [
    {
     "data": {
      "text/plain": [
       "array([[56530,   118],\n",
       "       [ 4826,    29]], dtype=int64)"
      ]
     },
     "execution_count": 17,
     "metadata": {},
     "output_type": "execute_result"
    }
   ],
   "source": [
    "metrics.confusion_matrix(y_test, prediction)"
   ]
  },
  {
   "cell_type": "code",
   "execution_count": 27,
   "metadata": {},
   "outputs": [],
   "source": [
    "test_data = pd.read_csv(\"./data/application_test.csv\")\n",
    "\n",
    "test_data[\"SK_ID_CURR\"]\n",
    "\n",
    "test_data = preprocessor(test_data)\n",
    "\n",
    "\n",
    "test_data.dropna(axis=0, how=\"any\", inplace=True)\n",
    "id = test_data[\"SK_ID_CURR\"]\n",
    "\n",
    "test_data.drop([x for x in test_data.keys() if x not in interest_feat], axis=1, inplace=True)"
   ]
  },
  {
   "cell_type": "code",
   "execution_count": 60,
   "metadata": {},
   "outputs": [
    {
     "data": {
      "text/plain": [
       "(2396, 2)"
      ]
     },
     "execution_count": 60,
     "metadata": {},
     "output_type": "execute_result"
    }
   ],
   "source": [
    "predict = model.predict_proba(test_data)\n",
    "\n",
    "x = np.vstack((id, predict[:, 0])).T\n",
    "\n",
    "result = pd.DataFrame(x, columns=[\"ID\", \"Prob\"])\n",
    "\n",
    "\n"
   ]
  },
  {
   "cell_type": "code",
   "execution_count": 61,
   "metadata": {},
   "outputs": [],
   "source": [
    "result.to_csv(\"./data/result.csv\")"
   ]
  },
  {
   "cell_type": "code",
   "execution_count": null,
   "metadata": {},
   "outputs": [],
   "source": []
  }
 ],
 "metadata": {
  "kernelspec": {
   "display_name": "Python 3",
   "language": "python",
   "name": "python3"
  },
  "language_info": {
   "codemirror_mode": {
    "name": "ipython",
    "version": 3
   },
   "file_extension": ".py",
   "mimetype": "text/x-python",
   "name": "python",
   "nbconvert_exporter": "python",
   "pygments_lexer": "ipython3",
   "version": "3.12.1"
  }
 },
 "nbformat": 4,
 "nbformat_minor": 2
}
