{
 "cells": [
  {
   "cell_type": "code",
   "execution_count": 2,
   "metadata": {},
   "outputs": [],
   "source": [
    "import numpy as np \n",
    "import pandas as pd\n",
    "from sklearn.datasets import load_iris"
   ]
  },
  {
   "cell_type": "code",
   "execution_count": 1,
   "metadata": {},
   "outputs": [],
   "source": [
    "def train_test_split(X, Y, train_size = 0.8, randomState = None):\n",
    "    np.random.seed(randomState)\n",
    "    Y = np.reshape(Y, (-1, 1))\n",
    "    XY = np.hstack((X, Y))\n",
    "    size = len(XY)\n",
    "\n",
    "\n",
    "    trainSize = round(size *train_size)\n",
    "    train_pick = np.random.choice(np.arange(size), trainSize, replace=False)\n",
    "    test_pick = np.delete(np.arange(size), train_pick)\n",
    "\n",
    "    train = XY[train_pick]\n",
    "    test = XY[test_pick]\n",
    "    x_train, y_train = train[:, 0:-1], train[:, -1]\n",
    "    x_test, y_test = test[:, 0:-1], test[:, -1]\n",
    "\n",
    "    return x_train, x_test, y_train, y_test\n",
    "\n",
    "# Scratch train_test split\n"
   ]
  },
  {
   "cell_type": "code",
   "execution_count": null,
   "metadata": {},
   "outputs": [],
   "source": []
  }
 ],
 "metadata": {
  "kernelspec": {
   "display_name": "Python 3",
   "language": "python",
   "name": "python3"
  },
  "language_info": {
   "codemirror_mode": {
    "name": "ipython",
    "version": 3
   },
   "file_extension": ".py",
   "mimetype": "text/x-python",
   "name": "python",
   "nbconvert_exporter": "python",
   "pygments_lexer": "ipython3",
   "version": "3.12.1"
  }
 },
 "nbformat": 4,
 "nbformat_minor": 2
}
