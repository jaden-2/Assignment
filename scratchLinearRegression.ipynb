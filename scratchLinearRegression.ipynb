{
 "cells": [
  {
   "cell_type": "code",
   "execution_count": 175,
   "metadata": {},
   "outputs": [],
   "source": [
    "import numpy as np"
   ]
  },
  {
   "cell_type": "code",
   "execution_count": 283,
   "metadata": {},
   "outputs": [],
   "source": [
    "class ScratchLinearRegression:\n",
    "    \"\"\"\n",
    "    Scratch implementation of linear regression\n",
    "    \n",
    "    Parameters\n",
    "    ----------\n",
    "    num_iter : int\n",
    "      Number of iterations\n",
    "    lr : float\n",
    "      Learning rate\n",
    "    no_bias : bool\n",
    "      True if no bias term is included\n",
    "    verbose : bool\n",
    "      True to output the learning process\n",
    "    \n",
    "    Attributes\n",
    "    ----------\n",
    "    self.coef_ : of the following form. ndarray, shape (n_features,)\n",
    "      Parameters\n",
    "    self.loss : of the following form. ndarray, shape (self.iter,)\n",
    "      Record losses on training data\n",
    "    self.val_loss : of the following form. ndarray, shape (self.iter,)\n",
    "      Record loss on validation data\n",
    "\n",
    "    self.theta : \n",
    "    \"\"\"\n",
    "    def __init__(self, num_iter, no_bias, lr=1e-3, verbose=False):\n",
    "        self.num_iter = num_iter\n",
    "        self.no_bias = no_bias\n",
    "        self.lr = lr\n",
    "        self.verbose = verbose\n",
    "\n",
    "        #attributes\n",
    "        #self.coef_ = np.array([])\n",
    "        self.loss = np.array([])\n",
    "        self.val_loss = np.array([])\n",
    "        self.theta = np.array([])\n",
    "\n",
    "    def fit(self, X, y, X_val=None, y_val=None):\n",
    "        \"\"\"\n",
    "        Learn linear regression. If validation data is entered, the loss and accuracy for it are also calculated for each iteration.\n",
    "        Parameters\n",
    "        ----------\n",
    "        X : of the following form. ndarray, shape (n_samples, n_features)\n",
    "            Features of training data\n",
    "        y : of the following form. ndarray, shape (n_samples, )\n",
    "            Correct answer value of training data\n",
    "        X_val : of the following form. ndarray, shape (n_samples, n_features)\n",
    "            Features of verification data\n",
    "        y_val : of the following form. ndarray, shape (n_samples, )\n",
    "            Correct value of verification data\n",
    "        \"\"\"\n",
    "\n",
    "        if self.no_bias == True:\n",
    "            a = np.ones(X.shape[0]).reshape((-1, 1))\n",
    "            X = np.hstack([a, X])\n",
    "\n",
    "        self.theta = np.zeros(X.shape[1]).reshape((-1, 1))\n",
    "        for i in range(self.num_iter):\n",
    "            self.gradient_descent(X, y)  \n",
    "            pred =  self._linear_hypothesis(X)\n",
    "                \n",
    "            mse = self.MSE(pred, y)\n",
    "            self.loss = np.append(self.loss, mse)\n",
    "            if self.verbose:\n",
    "                #Output learning process when verbose is set to True\n",
    "                print(f\"At {i} iteration learning mse {mse}\")\n",
    "        \n",
    "    def predict(self, X):\n",
    "        \"\"\"\n",
    "        Estimate using linear regression.\n",
    "        Parameters\n",
    "        ----------\n",
    "        X : of the following form. ndarray, shape (n_samples, n_features)\n",
    "            sample\n",
    "        Returns\n",
    "        -------\n",
    "            of the following form. ndarray, shape (n_samples, 1)\n",
    "            Estimated result by linear regression\n",
    "        \"\"\"\n",
    "        if self.no_bias == True:\n",
    "            a = np.ones(X.shape[0]).reshape((-1, 1))\n",
    "            X = np.hstack([a, X])\n",
    "        pred = self._linear_hypothesis(X)\n",
    "\n",
    "        pred = pred.ravel()\n",
    "        return pred\n",
    "\n",
    "\n",
    "    def _linear_hypothesis(self, x):\n",
    "        \"\"\"\n",
    "        Compute a linear hypothetical function\n",
    "\n",
    "        Parameters\n",
    "        ----------\n",
    "        X : of the following form. ndarray, shape (n_samples, n_features)\n",
    "        Training data\n",
    "\n",
    "        Returns\n",
    "        -------\n",
    "        of the following form. ndarray, shape (n_samples, 1)\n",
    "        Estimated result by linear hypothetical function\n",
    "\n",
    "        \"\"\"\n",
    "        return x @ self.theta\n",
    "    \n",
    "    def gradient_descent(self, x, y):\n",
    "        \"\"\"\n",
    "        Compute the hypothetical values of the linear function\n",
    "\n",
    "        Parameters\n",
    "        ------\n",
    "        x: Features for model training\n",
    "        y: Target variable\n",
    "\n",
    "        Returns\n",
    "        ------\n",
    "        None\n",
    "        \"\"\"\n",
    "        rows = x.shape[0]\n",
    "        columns = x.shape[1]\n",
    "        pred = self._linear_hypothesis(x)\n",
    "\n",
    "        for column in range(columns):\n",
    "            gradient = np.array([])\n",
    "            for row in range(rows):\n",
    "                a = (pred[row] - y[row]) * x[row, column]\n",
    "                gradient = np.append(gradient, a)\n",
    "            gradient = gradient.sum()\n",
    "            self.theta[column] = self.theta[column] - ((self.lr * gradient)/rows)\n",
    "    \n",
    "    def MSE(self, y_pred, y):\n",
    "        \"\"\"\n",
    "        Calculation of mean square error\n",
    "\n",
    "        Parameters\n",
    "        ----------\n",
    "        y_pred : of the following form. ndarray, shape (n_samples,)\n",
    "        Estimated value\n",
    "        y : of the following form. ndarray, shape (n_samples,)\n",
    "        Correct answer value\n",
    "\n",
    "        Returns\n",
    "        ----------\n",
    "        mse : numpy.float\n",
    "        Mean squared error\n",
    "        \"\"\"\n",
    "        error = (y_pred - y)**2\n",
    "        mse = np.average(error)\n",
    "        return mse\n",
    "    \n",
    "    \n",
    "                \n",
    "                \n",
    "    \n",
    "\n",
    "\n",
    "    \n"
   ]
  },
  {
   "cell_type": "code",
   "execution_count": 284,
   "metadata": {},
   "outputs": [],
   "source": [
    "model = ScratchLinearRegression(5000, True)"
   ]
  },
  {
   "cell_type": "code",
   "execution_count": 227,
   "metadata": {},
   "outputs": [],
   "source": [
    "from sklearn.datasets import load_iris\n",
    "from sklearn.model_selection import train_test_split\n",
    "\n",
    "iris = load_iris()\n",
    "\n",
    "x_train, x_test, y_train, y_test = train_test_split(iris.data, iris.target, test_size=0.2)"
   ]
  },
  {
   "cell_type": "code",
   "execution_count": 285,
   "metadata": {},
   "outputs": [],
   "source": [
    "model.fit(x_train, y_train)"
   ]
  },
  {
   "cell_type": "code",
   "execution_count": 288,
   "metadata": {},
   "outputs": [],
   "source": [
    "pred = model.predict(x_test)\n"
   ]
  },
  {
   "cell_type": "code",
   "execution_count": 286,
   "metadata": {},
   "outputs": [
    {
     "data": {
      "text/plain": [
       "[<matplotlib.lines.Line2D at 0x1fc93d336b0>]"
      ]
     },
     "execution_count": 286,
     "metadata": {},
     "output_type": "execute_result"
    },
    {
     "data": {
      "image/png": "[encoded data removed]",
      "text/plain": [
       "<Figure size 640x480 with 1 Axes>"
      ]
     },
     "metadata": {},
     "output_type": "display_data"
    }
   ],
   "source": [
    "from matplotlib import pyplot as plt\n",
    "plt.plot(model.loss)"
   ]
  },
  {
   "cell_type": "code",
   "execution_count": 289,
   "metadata": {},
   "outputs": [
    {
     "data": {
      "text/plain": [
       "<matplotlib.collections.PathCollection at 0x1fc92bf4350>"
      ]
     },
     "execution_count": 289,
     "metadata": {},
     "output_type": "execute_result"
    },
    {
     "data": {
      "image/png": "[encoded data removed]",
      "text/plain": [
       "<Figure size 640x480 with 1 Axes>"
      ]
     },
     "metadata": {},
     "output_type": "display_data"
    }
   ],
   "source": [
    "plt.scatter(pred, y_test)"
   ]
  },
  {
   "cell_type": "code",
   "execution_count": 290,
   "metadata": {},
   "outputs": [
    {
     "data": {
      "text/plain": [
       "0.06275254660807959"
      ]
     },
     "execution_count": 290,
     "metadata": {},
     "output_type": "execute_result"
    }
   ],
   "source": [
    "model.MSE(pred, y_test)\n"
   ]
  },
  {
   "cell_type": "code",
   "execution_count": 291,
   "metadata": {},
   "outputs": [
    {
     "data": {
      "text/plain": [
       "array([[-0.02989333],\n",
       "       [-0.04838418],\n",
       "       [-0.09404732],\n",
       "       [ 0.34290115],\n",
       "       [ 0.2427807 ]])"
      ]
     },
     "execution_count": 291,
     "metadata": {},
     "output_type": "execute_result"
    }
   ],
   "source": [
    "model.theta"
   ]
  },
  {
   "cell_type": "code",
   "execution_count": null,
   "metadata": {},
   "outputs": [],
   "source": []
  },
  {
   "cell_type": "code",
   "execution_count": null,
   "metadata": {},
   "outputs": [],
   "source": []
  }
 ],
 "metadata": {
  "kernelspec": {
   "display_name": "Python 3",
   "language": "python",
   "name": "python3"
  },
  "language_info": {
   "codemirror_mode": {
    "name": "ipython",
    "version": 3
   },
   "file_extension": ".py",
   "mimetype": "text/x-python",
   "name": "python",
   "nbconvert_exporter": "python",
   "pygments_lexer": "ipython3",
   "version": "3.12.1"
  }
 },
 "nbformat": 4,
 "nbformat_minor": 2
}
