{
 "cells": [
  {
   "cell_type": "code",
   "execution_count": 4,
   "metadata": {},
   "outputs": [],
   "source": [
    "import numpy as np"
   ]
  },
  {
   "cell_type": "code",
   "execution_count": 5,
   "metadata": {},
   "outputs": [],
   "source": [
    "class ScratchLinearRegression:\n",
    "    \"\"\"\n",
    "    Scratch implementation of linear regression\n",
    "    \n",
    "    Parameters\n",
    "    ----------\n",
    "    num_iter : int\n",
    "      Number of iterations\n",
    "    lr : float\n",
    "      Learning rate\n",
    "    no_bias : bool\n",
    "      True if no bias term is included\n",
    "    verbose : bool\n",
    "      True to output the learning process\n",
    "    \n",
    "    Attributes\n",
    "    ----------\n",
    "    self.coef_ : of the following form. ndarray, shape (n_features,)\n",
    "      Parameters\n",
    "    self.loss : of the following form. ndarray, shape (self.iter,)\n",
    "      Record losses on training data\n",
    "    self.val_loss : of the following form. ndarray, shape (self.iter,)\n",
    "      Record loss on validation data\n",
    "\n",
    "    self.theta : \n",
    "    \"\"\"\n",
    "    def __init__(self, num_iter, no_bias, lr, verbose):\n",
    "        self.num_iter = num_iter\n",
    "        self.no_bias = no_bias\n",
    "        self.lr = lr\n",
    "        self.verbose = verbose\n",
    "\n",
    "        #attributes\n",
    "        #self.coef_ = np.array([])\n",
    "        self.loss = np.array([])\n",
    "        self.val_loss = np.array([])\n",
    "        self.theta = np.array([])\n",
    "\n",
    "    def fit(x_train, y_train):\n",
    "        pass\n",
    "    \n",
    "    def fit(self, X, y, X_val=None, y_val=None):\n",
    "        \"\"\"\n",
    "        Learn linear regression. If validation data is entered, the loss and accuracy for it are also calculated for each iteration.\n",
    "        Parameters\n",
    "        ----------\n",
    "        X : of the following form. ndarray, shape (n_samples, n_features)\n",
    "            Features of training data\n",
    "        y : of the following form. ndarray, shape (n_samples, )\n",
    "            Correct answer value of training data\n",
    "        X_val : of the following form. ndarray, shape (n_samples, n_features)\n",
    "            Features of verification data\n",
    "        y_val : of the following form. ndarray, shape (n_samples, )\n",
    "            Correct value of verification data\n",
    "        \"\"\"\n",
    "\n",
    "        if self.no_bias == True:\n",
    "            a = np.ones(X.shape[0]).reshape((-1, 1))\n",
    "            X = np.hstack([a, X])\n",
    "\n",
    "            if X_val != None:\n",
    "                a = np.ones(X_val.shape[0]).reshape((-1,1))\n",
    "                X_val = np.hstack([a, X_val])\n",
    "        pred = 0\n",
    "        self.theta = np.zeros(X.shape[1]).reshape((-1, 1))\n",
    "        \n",
    "        for i in range(self.num_iter):\n",
    "            pred =  self._linear_hypothesis(X) \n",
    "\n",
    "            self.gradient_descent(X, y)      \n",
    "            mse = self.MSE(pred, y)\n",
    "            self.loss = np.append(self.loss, mse)\n",
    "            if self.verbose:\n",
    "                #Output learning process when verbose is set to True\n",
    "                print(f\"At {i} iteration learning mse {mse}\")\n",
    "        \n",
    "    def predict(self, X):\n",
    "        \"\"\"\n",
    "        Estimate using linear regression.\n",
    "        Parameters\n",
    "        ----------\n",
    "        X : of the following form. ndarray, shape (n_samples, n_features)\n",
    "            sample\n",
    "        Returns\n",
    "        -------\n",
    "            of the following form. ndarray, shape (n_samples, 1)\n",
    "            Estimated result by linear regression\n",
    "        \"\"\"\n",
    "        pred = self._linear_hypothesis(X)\n",
    "\n",
    "        pred = pred.reshape((-1, 1))\n",
    "        return pred\n",
    "\n",
    "    def _linear_hypothesis(self, x):\n",
    "        \"\"\"\n",
    "        Compute a linear hypothetical function\n",
    "\n",
    "        Parameters\n",
    "        ----------\n",
    "        X : of the following form. ndarray, shape (n_samples, n_features)\n",
    "        Training data\n",
    "\n",
    "        Returns\n",
    "        -------\n",
    "        of the following form. ndarray, shape (n_samples, 1)\n",
    "        Estimated result by linear hypothetical function\n",
    "\n",
    "        \"\"\"\n",
    "        return x @ self.theta\n",
    "    \n",
    "    def gradient_descent(self, x, y):\n",
    "        \"\"\"\n",
    "        Compute the hypothetical values of the linear function\n",
    "\n",
    "        Parameters\n",
    "        ------\n",
    "        x: Features for model training\n",
    "        y: Target variable\n",
    "\n",
    "        Returns\n",
    "        ------\n",
    "        None\n",
    "        \"\"\"\n",
    "        rows = x.shape[0]\n",
    "        columns = x.shape[1]\n",
    "        pred = self._linear_hypothesis(x)\n",
    "\n",
    "        for column in range(columns):\n",
    "            gradient = np.array([])\n",
    "            for row in range(rows):\n",
    "                a = (pred[row] - y[row]) * x[row, column]\n",
    "                gradient = np.append(gradient, a)\n",
    "            gradient = gradient.sum()\n",
    "            self.theta[column] = self.theta[column] - ((self.lr * gradient)/rows)\n",
    "    \n",
    "    def MSE(self, y_pred, y):\n",
    "        \"\"\"\n",
    "        Calculation of mean square error\n",
    "\n",
    "        Parameters\n",
    "        ----------\n",
    "        y_pred : of the following form. ndarray, shape (n_samples,)\n",
    "        Estimated value\n",
    "        y : of the following form. ndarray, shape (n_samples,)\n",
    "        Correct answer value\n",
    "\n",
    "        Returns\n",
    "        ----------\n",
    "        mse : numpy.float\n",
    "        Mean squared error\n",
    "        \"\"\"\n",
    "        mse = np.sum((y_pred - y)**2)/ (2*y.shape[0])\n",
    "\n",
    "        return mse\n",
    "    \n",
    "    \n",
    "                \n",
    "                \n",
    "    \n",
    "\n",
    "\n",
    "    \n"
   ]
  },
  {
   "cell_type": "code",
   "execution_count": 13,
   "metadata": {},
   "outputs": [],
   "source": [
    "model = ScratchLinearRegression(100, False, 1e-5, False)"
   ]
  },
  {
   "cell_type": "code",
   "execution_count": 7,
   "metadata": {},
   "outputs": [],
   "source": [
    "from sklearn.datasets import load_iris\n",
    "from sklearn.model_selection import train_test_split\n",
    "\n",
    "iris = load_iris()\n",
    "\n",
    "x_train, x_test, y_train, y_test = train_test_split(iris.data, iris.target, test_size=0.2)"
   ]
  },
  {
   "cell_type": "code",
   "execution_count": 8,
   "metadata": {},
   "outputs": [
    {
     "data": {
      "text/plain": [
       "(120, 4)"
      ]
     },
     "execution_count": 8,
     "metadata": {},
     "output_type": "execute_result"
    }
   ],
   "source": [
    "x_train.shape"
   ]
  },
  {
   "cell_type": "code",
   "execution_count": 14,
   "metadata": {},
   "outputs": [],
   "source": [
    "model.fit(x_train, y_train)"
   ]
  },
  {
   "cell_type": "code",
   "execution_count": 15,
   "metadata": {},
   "outputs": [
    {
     "data": {
      "text/plain": [
       "array([[0.00655096],\n",
       "       [0.0029763 ],\n",
       "       [0.00531928],\n",
       "       [0.00185899]])"
      ]
     },
     "execution_count": 15,
     "metadata": {},
     "output_type": "execute_result"
    }
   ],
   "source": [
    "model.theta"
   ]
  },
  {
   "cell_type": "code",
   "execution_count": 16,
   "metadata": {},
   "outputs": [
    {
     "data": {
      "text/plain": [
       "array([107.5       , 107.40781003, 107.31574439, 107.22380291,\n",
       "       107.13198544, 107.04029181, 106.94872187, 106.85727545,\n",
       "       106.7659524 , 106.67475255, 106.58367574, 106.49272182,\n",
       "       106.40189063, 106.311182  , 106.22059577, 106.1301318 ,\n",
       "       106.03978991, 105.94956996, 105.85947178, 105.76949522,\n",
       "       105.67964011, 105.58990631, 105.50029364, 105.41080197,\n",
       "       105.32143112, 105.23218094, 105.14305128, 105.05404198,\n",
       "       104.96515289, 104.87638384, 104.78773468, 104.69920526,\n",
       "       104.61079541, 104.522505  , 104.43433385, 104.34628182,\n",
       "       104.25834875, 104.17053449, 104.08283889, 103.99526178,\n",
       "       103.90780301, 103.82046244, 103.73323991, 103.64613526,\n",
       "       103.55914834, 103.472279  , 103.38552709, 103.29889246,\n",
       "       103.21237495, 103.1259744 , 103.03969068, 102.95352362,\n",
       "       102.86747308, 102.7815389 , 102.69572093, 102.61001903,\n",
       "       102.52443304, 102.43896281, 102.35360819, 102.26836904,\n",
       "       102.18324519, 102.0982365 , 102.01334283, 101.92856402,\n",
       "       101.84389992, 101.75935039, 101.67491527, 101.59059443,\n",
       "       101.50638769, 101.42229494, 101.338316  , 101.25445074,\n",
       "       101.170699  , 101.08706065, 101.00353553, 100.92012349,\n",
       "       100.83682439, 100.75363809, 100.67056443, 100.58760327,\n",
       "       100.50475447, 100.42201787, 100.33939333, 100.25688071,\n",
       "       100.17447986, 100.09219064, 100.0100129 ,  99.92794649,\n",
       "        99.84599127,  99.76414711,  99.68241384,  99.60079133,\n",
       "        99.51927944,  99.43787802,  99.35658692,  99.27540601,\n",
       "        99.19433514,  99.11337417,  99.03252296,  98.95178136])"
      ]
     },
     "execution_count": 16,
     "metadata": {},
     "output_type": "execute_result"
    }
   ],
   "source": [
    "model.loss"
   ]
  },
  {
   "cell_type": "code",
   "execution_count": 19,
   "metadata": {},
   "outputs": [
    {
     "data": {
      "text/plain": [
       "<matplotlib.collections.PathCollection at 0x13766f21670>"
      ]
     },
     "execution_count": 19,
     "metadata": {},
     "output_type": "execute_result"
    },
    {
     "data": {
      "image/png": "[encoded data removed]",
      "text/plain": [
       "<Figure size 640x480 with 1 Axes>"
      ]
     },
     "metadata": {},
     "output_type": "display_data"
    }
   ],
   "source": [
    "pred = model.predict(x_test)\n",
    "plt.scatter(pred, y_test)"
   ]
  },
  {
   "cell_type": "code",
   "execution_count": 23,
   "metadata": {},
   "outputs": [
    {
     "data": {
      "text/plain": [
       "1.0506799261165285"
      ]
     },
     "execution_count": 23,
     "metadata": {},
     "output_type": "execute_result"
    }
   ],
   "source": [
    "from sklearn.metrics import mean_squared_error\n",
    "\n",
    "\n",
    "mean_squared_error(y_test, pred)"
   ]
  },
  {
   "cell_type": "code",
   "execution_count": 24,
   "metadata": {},
   "outputs": [
    {
     "data": {
      "text/plain": [
       "array([107.5       , 107.40781003, 107.31574439, 107.22380291,\n",
       "       107.13198544, 107.04029181, 106.94872187, 106.85727545,\n",
       "       106.7659524 , 106.67475255, 106.58367574, 106.49272182,\n",
       "       106.40189063, 106.311182  , 106.22059577, 106.1301318 ,\n",
       "       106.03978991, 105.94956996, 105.85947178, 105.76949522,\n",
       "       105.67964011, 105.58990631, 105.50029364, 105.41080197,\n",
       "       105.32143112, 105.23218094, 105.14305128, 105.05404198,\n",
       "       104.96515289, 104.87638384, 104.78773468, 104.69920526,\n",
       "       104.61079541, 104.522505  , 104.43433385, 104.34628182,\n",
       "       104.25834875, 104.17053449, 104.08283889, 103.99526178,\n",
       "       103.90780301, 103.82046244, 103.73323991, 103.64613526,\n",
       "       103.55914834, 103.472279  , 103.38552709, 103.29889246,\n",
       "       103.21237495, 103.1259744 , 103.03969068, 102.95352362,\n",
       "       102.86747308, 102.7815389 , 102.69572093, 102.61001903,\n",
       "       102.52443304, 102.43896281, 102.35360819, 102.26836904,\n",
       "       102.18324519, 102.0982365 , 102.01334283, 101.92856402,\n",
       "       101.84389992, 101.75935039, 101.67491527, 101.59059443,\n",
       "       101.50638769, 101.42229494, 101.338316  , 101.25445074,\n",
       "       101.170699  , 101.08706065, 101.00353553, 100.92012349,\n",
       "       100.83682439, 100.75363809, 100.67056443, 100.58760327,\n",
       "       100.50475447, 100.42201787, 100.33939333, 100.25688071,\n",
       "       100.17447986, 100.09219064, 100.0100129 ,  99.92794649,\n",
       "        99.84599127,  99.76414711,  99.68241384,  99.60079133,\n",
       "        99.51927944,  99.43787802,  99.35658692,  99.27540601,\n",
       "        99.19433514,  99.11337417,  99.03252296,  98.95178136])"
      ]
     },
     "execution_count": 24,
     "metadata": {},
     "output_type": "execute_result"
    }
   ],
   "source": [
    "model.loss"
   ]
  },
  {
   "cell_type": "code",
   "execution_count": null,
   "metadata": {},
   "outputs": [],
   "source": []
  }
 ],
 "metadata": {
  "kernelspec": {
   "display_name": "Python 3",
   "language": "python",
   "name": "python3"
  },
  "language_info": {
   "codemirror_mode": {
    "name": "ipython",
    "version": 3
   },
   "file_extension": ".py",
   "mimetype": "text/x-python",
   "name": "python",
   "nbconvert_exporter": "python",
   "pygments_lexer": "ipython3",
   "version": "3.12.1"
  }
 },
 "nbformat": 4,
 "nbformat_minor": 2
}
