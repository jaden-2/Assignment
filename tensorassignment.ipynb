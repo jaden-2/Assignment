{
 "cells": [
  {
   "cell_type": "code",
   "execution_count": 4,
   "metadata": {},
   "outputs": [],
   "source": [
    "import numpy as np\n",
    "import tensorflow as tf \n",
    "import pandas as pd\n",
    "from matplotlib import pyplot as plt \n",
    "from sklearn.datasets import load_iris\n",
    "from sklearn.preprocessing import OneHotEncoder\n",
    "from sklearn.model_selection import train_test_split"
   ]
  },
  {
   "cell_type": "markdown",
   "metadata": {},
   "source": [
    "<h3>Problem 1</h3>\n",
    "<p>Things I needed to implment for deep learing:</p>\n",
    "<ol>\n",
    "<li>I had to initilizew weights and baises</li>\n",
    "<li>I have to perform initlize the nodes of each hidden layer of the network</li>\n",
    "<li>I performed forward propagation for each layer</li>\n",
    "<li>I had to implement an activation function and applied it on the output of each layer</li>\n",
    "<li>I had to implement a loss function</li>\n",
    "<li>I had to implement back propagaiton method for the network</li>\n",
    "<li>I had to train the model using a fit  method</li>\n",
    "<li>I had to implement an optimizer to update the values of weights and baises</li>\n",
    "<li>I had to implement a predict method</li>\n",
    "</ol>"
   ]
  },
  {
   "cell_type": "markdown",
   "metadata": {},
   "source": [
    "<h3>Problem 2</h3>\n",
    "\n",
    "<p>&emsp;The sample code is a deep learning logistic regression model implemented using tensor flow version 1. The model is trained to learn to distinguish between species of flowers, specifically iris flowers of the <b><i>versicolor and virginica </i></b> class.<br/>\n",
    "&emsp; The sample code begins by performing feature selection and data processing on the iris dataset, followed by the definition of the mini batch class. Further down, the paramters for the layers in the class were initilized and assigned values. The exmaple_net function defines the forward propagation operation for the network. Loss_op, train_op, optimizer, and accuracy are used to calculate the loss, forward, backward propagation, and accuracy of the model respectively. <br/>\n",
    "&emsp; TensorFlow version one by default using graph computation, therefore a session has to be created for the training of the model. This session was created using the tf.session method. Within this session, the model is trained. \n",
    "\n",
    "</p>"
   ]
  },
  {
   "cell_type": "code",
   "execution_count": 5,
   "metadata": {},
   "outputs": [],
   "source": [
    "class GetMiniBatch:\n",
    "    \"\"\"\n",
    "Iterator to get a mini-batch\n",
    "\n",
    "    Parameters\n",
    "    ----------\n",
    "    X : The following forms of ndarray, shape (n_samples, n_features)\n",
    "      Training data\n",
    "    y : The following form of ndarray, shape (n_samples, 1)\n",
    "      Correct answer value\n",
    "    batch_size : int\n",
    "      Batch size\n",
    "    seed : int\n",
    "      NumPy random seed\n",
    "    \"\"\"\n",
    "    def __init__(self, X, y, batch_size = 20, seed=0):\n",
    "        self.batch_size = batch_size\n",
    "        np.random.seed(seed)\n",
    "        shuffle_index = np.random.permutation(np.arange(X.shape[0]))\n",
    "        self._X = X[shuffle_index]\n",
    "        self._y = y[shuffle_index]\n",
    "        self._stop = np.ceil(X.shape[0]/self.batch_size).astype(np.int_)\n",
    "\n",
    "    def __len__(self):\n",
    "        return self._stop\n",
    "\n",
    "    def __getitem__(self,item):\n",
    "        p0 = item*self.batch_size\n",
    "        p1 = item*self.batch_size + self.batch_size\n",
    "        return self._X[p0:p1], self._y[p0:p1]        \n",
    "\n",
    "    def __iter__(self):\n",
    "        self._counter = 0\n",
    "        return self\n",
    "\n",
    "    def __next__(self):\n",
    "        if self._counter >= self._stop:\n",
    "            raise StopIteration()\n",
    "        p0 = self._counter*self.batch_size\n",
    "        p1 = self._counter*self.batch_size + self.batch_size\n",
    "        self._counter += 1\n",
    "        return self._X[p0:p1], self._y[p0:p1]"
   ]
  },
  {
   "cell_type": "code",
   "execution_count": 6,
   "metadata": {},
   "outputs": [],
   "source": [
    "iris = load_iris()\n",
    "features = iris[\"data\"]\n",
    "target = iris[\"target\"]\n",
    "\n",
    "x_train, x_test, y_train, y_test = train_test_split(features, target, test_size=0.2)\n",
    "\n",
    "x_train, y_train, x_test, y_test = x_train.astype(np.float32), y_train.astype(np.float32), x_test.astype(np.float32), y_test.astype(np.float32)\n",
    "y_train = y_train.reshape(-1, 1)\n",
    "onv = OneHotEncoder(sparse_output=False)\n",
    "y_train = onv.fit_transform(y_train)\n",
    "\n",
    "x_train, x_val, y_train, y_val = train_test_split(x_train, y_train, test_size=0.2)\n"
   ]
  },
  {
   "cell_type": "markdown",
   "metadata": {},
   "source": [
    "<h3>Problem 3</h3>"
   ]
  },
  {
   "cell_type": "code",
   "execution_count": 7,
   "metadata": {},
   "outputs": [],
   "source": [
    "\n",
    "\n",
    "# network parameters\n",
    "\n",
    "\n",
    "class Layer(tf.Module):\n",
    "    def __init__(self, n_input, n_output, activation=None, name=None):\n",
    "        super().__init__(name=name)\n",
    "        self.weight = tf.Variable(tf.random.normal([n_input, n_output]))\n",
    "        self.bais = tf.Variable(tf.random.normal([n_output]))\n",
    "        self.activation = activation\n",
    "    \n",
    "    def __call__(self, x):\n",
    "        y = tf.add(tf.matmul(x, self.weight), self.bais)\n",
    "        if self.activation == None:\n",
    "            return y\n",
    "        return self.activation(y)\n",
    "\n",
    "\n",
    "class LogisticRegression:\n",
    "    def __init__(self, n_input = 4, n_classes=3,  lr=0.01, epoch=100, batch_size = 20):\n",
    "        self.lr = lr\n",
    "        self.epoch = epoch\n",
    "        self.batch = batch_size\n",
    "        self.optimizer = tf.keras.optimizers.Adam(learning_rate=self.lr)\n",
    "        self.inputlayer = Layer(n_input, 100, tf.nn.relu, \"InputLayer\")\n",
    "        self.hidden1 = Layer(100, 50, tf.nn.relu, \"hidden1\")\n",
    "        self.output = Layer(50,n_classes , name=\"outputLayer\")\n",
    "    \n",
    "    #@tf.function\n",
    "    def forward(self, x):\n",
    "        logit = self.inputlayer(x)\n",
    "        logit = self.hidden1(logit)\n",
    "        logit = self.output(logit)\n",
    "\n",
    "        return logit\n",
    "    \n",
    "    def fit(self, x_train, y_train, x_val=None, y_val=None):\n",
    "        if x_val is None:\n",
    "            x_val = x_train\n",
    "            y_val = y_train\n",
    "        for i in range(self.epoch):\n",
    "            total_loss = 0\n",
    "            for mini_x, mini_y in GetMiniBatch(x_train, y_train, self.batch):\n",
    "                with tf.GradientTape() as tape:\n",
    "                    logit = self.forward(mini_x)\n",
    "                    loss = tf.reduce_mean(tf.nn.softmax_cross_entropy_with_logits(mini_y, logit))\n",
    "                \n",
    "                gradient = tape.gradient(loss, tape.watched_variables())\n",
    "                self.optimizer.apply_gradients(zip(gradient, tape.watched_variables()))\n",
    "                total_loss+= loss\n",
    "            total_loss/=self.batch\n",
    "            \n",
    "            with tf.GradientTape() as tape:\n",
    "                logit = self.forward(x_val)\n",
    "                loss_val = tf.reduce_mean(tf.nn.softmax_cross_entropy_with_logits(y_val, logit))\n",
    "            accuracy = accuracy_score(np.argmax(y_train, 1), self.predict(x_train))\n",
    "            gradient = tape.gradient(loss_val, tape.watched_variables())\n",
    "            self.optimizer.apply_gradients(zip(gradient, tape.watched_variables()))\n",
    "            \n",
    "            print(f\"Num epoch: {i} loss: {total_loss}: loss_val: {loss_val} accuracy: {accuracy}\")\n",
    "        return self\n",
    "    \n",
    "    def predict(self, x):\n",
    "        y = tf.nn.softmax(self.forward(x)).numpy()\n",
    "\n",
    "        return np.argmax(y, 1)\n",
    "        \n",
    "                \n",
    "def accuracy_score(y_true, pred):\n",
    "    correct = np.sum(y_true == pred)\n",
    "    total = y_true.shape[0]\n",
    "    return correct/total\n",
    "\n"
   ]
  },
  {
   "cell_type": "code",
   "execution_count": 8,
   "metadata": {},
   "outputs": [
    {
     "name": "stdout",
     "output_type": "stream",
     "text": [
      "Num epoch: 0 loss: 28.493799209594727: loss_val: 52.74528884887695 accuracy: 0.3125\n",
      "Num epoch: 1 loss: 3.5783190727233887: loss_val: 7.895389556884766 accuracy: 0.53125\n",
      "Num epoch: 2 loss: 2.451474666595459: loss_val: 0.5017829537391663 accuracy: 0.8229166666666666\n",
      "Num epoch: 3 loss: 1.2774614095687866: loss_val: 2.6528990268707275 accuracy: 0.7291666666666666\n",
      "Num epoch: 4 loss: 0.4592839777469635: loss_val: 2.2945945262908936 accuracy: 0.6979166666666666\n",
      "Num epoch: 5 loss: 0.6124843955039978: loss_val: 0.49357154965400696 accuracy: 0.84375\n",
      "Num epoch: 6 loss: 0.16607555747032166: loss_val: 0.03533080592751503 accuracy: 0.90625\n",
      "Num epoch: 7 loss: 0.16326455771923065: loss_val: 0.0040787891484797 accuracy: 0.9583333333333334\n",
      "Num epoch: 8 loss: 0.1018194928765297: loss_val: 0.020120345056056976 accuracy: 0.9166666666666666\n",
      "Num epoch: 9 loss: 0.208950474858284: loss_val: 0.11343839019536972 accuracy: 0.9270833333333334\n",
      "Num epoch: 10 loss: 0.14738142490386963: loss_val: 0.09493869543075562 accuracy: 0.90625\n",
      "Num epoch: 11 loss: 0.2506597936153412: loss_val: 0.40598881244659424 accuracy: 0.8958333333333334\n",
      "Num epoch: 12 loss: 0.1375838965177536: loss_val: 0.399306982755661 accuracy: 0.875\n",
      "Num epoch: 13 loss: 0.31971922516822815: loss_val: 0.6373676657676697 accuracy: 0.8645833333333334\n",
      "Num epoch: 14 loss: 0.09674159437417984: loss_val: 0.4438299238681793 accuracy: 0.875\n",
      "Num epoch: 15 loss: 0.3206084668636322: loss_val: 0.6771945357322693 accuracy: 0.8645833333333334\n",
      "Num epoch: 16 loss: 0.08933091163635254: loss_val: 0.6762412190437317 accuracy: 0.84375\n",
      "Num epoch: 17 loss: 0.2910241484642029: loss_val: 0.5489975810050964 accuracy: 0.8854166666666666\n",
      "Num epoch: 18 loss: 0.09208108484745026: loss_val: 0.5668620467185974 accuracy: 0.875\n",
      "Num epoch: 19 loss: 0.32487544417381287: loss_val: 0.9430616497993469 accuracy: 0.875\n",
      "Num epoch: 20 loss: 0.0861888974905014: loss_val: 0.959613025188446 accuracy: 0.8229166666666666\n",
      "Num epoch: 21 loss: 0.3039840757846832: loss_val: 1.0530887842178345 accuracy: 0.875\n",
      "Num epoch: 22 loss: 0.08220551908016205: loss_val: 0.8995037078857422 accuracy: 0.8333333333333334\n",
      "Num epoch: 23 loss: 0.2913140654563904: loss_val: 1.1374868154525757 accuracy: 0.875\n",
      "Num epoch: 24 loss: 0.08958993852138519: loss_val: 0.9634650349617004 accuracy: 0.8333333333333334\n",
      "Num epoch: 25 loss: 0.31406378746032715: loss_val: 1.4106131792068481 accuracy: 0.8645833333333334\n",
      "Num epoch: 26 loss: 0.09784730523824692: loss_val: 0.8734310269355774 accuracy: 0.84375\n",
      "Num epoch: 27 loss: 0.3013171851634979: loss_val: 1.5025588274002075 accuracy: 0.8645833333333334\n",
      "Num epoch: 28 loss: 0.11463375389575958: loss_val: 0.2430664747953415 accuracy: 0.8854166666666666\n",
      "Num epoch: 29 loss: 0.2722489833831787: loss_val: 0.8943057060241699 accuracy: 0.8958333333333334\n",
      "Num epoch: 30 loss: 0.1762244999408722: loss_val: 0.04068199172616005 accuracy: 0.90625\n",
      "Num epoch: 31 loss: 0.30980080366134644: loss_val: 0.8180088996887207 accuracy: 0.90625\n",
      "Num epoch: 32 loss: 0.2259594202041626: loss_val: 0.04190489649772644 accuracy: 0.90625\n",
      "Num epoch: 33 loss: 0.33427757024765015: loss_val: 1.0357710123062134 accuracy: 0.8958333333333334\n",
      "Num epoch: 34 loss: 0.2131452113389969: loss_val: 0.27481773495674133 accuracy: 0.8854166666666666\n",
      "Num epoch: 35 loss: 0.28599587082862854: loss_val: 0.6903643608093262 accuracy: 0.9270833333333334\n",
      "Num epoch: 36 loss: 0.24806728959083557: loss_val: 1.3857239537173882e-05 accuracy: 0.9270833333333334\n",
      "Num epoch: 37 loss: 0.2481319010257721: loss_val: 0.43710359930992126 accuracy: 0.9583333333333334\n",
      "Num epoch: 38 loss: 0.2355232685804367: loss_val: 2.4835264511580135e-08 accuracy: 0.96875\n",
      "Num epoch: 39 loss: 0.2821803689002991: loss_val: 0.023058878257870674 accuracy: 0.96875\n",
      "Num epoch: 40 loss: 0.22307129204273224: loss_val: 7.087382982717827e-06 accuracy: 0.9791666666666666\n",
      "Num epoch: 41 loss: 0.1134190782904625: loss_val: 8.439907833235338e-05 accuracy: 0.9791666666666666\n",
      "Num epoch: 42 loss: 0.15171773731708527: loss_val: 0.00022240621910896152 accuracy: 0.9791666666666666\n",
      "Num epoch: 43 loss: 0.07475389540195465: loss_val: 1.3835969184583519e-05 accuracy: 0.96875\n",
      "Num epoch: 44 loss: 0.06592542678117752: loss_val: 1.6391254575864878e-07 accuracy: 0.9791666666666666\n",
      "Num epoch: 45 loss: 0.06457677483558655: loss_val: 3.79962307306414e-06 accuracy: 0.9791666666666666\n",
      "Num epoch: 46 loss: 0.06427957117557526: loss_val: 5.3321957238949835e-05 accuracy: 0.9791666666666666\n",
      "Num epoch: 47 loss: 0.06387470662593842: loss_val: 2.8247990485397168e-05 accuracy: 0.9791666666666666\n",
      "Num epoch: 48 loss: 0.0633247047662735: loss_val: 7.350592113652965e-06 accuracy: 0.9791666666666666\n",
      "Num epoch: 49 loss: 0.06290517747402191: loss_val: 4.842596808884991e-06 accuracy: 0.9791666666666666\n",
      "Num epoch: 50 loss: 0.06243307515978813: loss_val: 6.054399364074925e-06 accuracy: 0.9791666666666666\n",
      "Num epoch: 51 loss: 0.061932481825351715: loss_val: 1.0141490747628268e-05 accuracy: 0.9791666666666666\n",
      "Num epoch: 52 loss: 0.06144136190414429: loss_val: 1.6457566744065844e-05 accuracy: 0.9791666666666666\n",
      "Num epoch: 53 loss: 0.060967374593019485: loss_val: 1.9793973478954285e-05 accuracy: 0.9791666666666666\n",
      "Num epoch: 54 loss: 0.060481928288936615: loss_val: 1.750518822518643e-05 accuracy: 0.9791666666666666\n",
      "Num epoch: 55 loss: 0.05998792499303818: loss_val: 1.4560858289769385e-05 accuracy: 0.9791666666666666\n",
      "Num epoch: 56 loss: 0.05949040502309799: loss_val: 1.3518128980649635e-05 accuracy: 0.9791666666666666\n",
      "Num epoch: 57 loss: 0.058987755328416824: loss_val: 1.400970450049499e-05 accuracy: 0.9791666666666666\n",
      "Num epoch: 58 loss: 0.058481067419052124: loss_val: 1.5052421986183617e-05 accuracy: 0.9791666666666666\n",
      "Num epoch: 59 loss: 0.05797082185745239: loss_val: 1.568797233630903e-05 accuracy: 0.9791666666666666\n",
      "Num epoch: 60 loss: 0.057456500828266144: loss_val: 1.560356395202689e-05 accuracy: 0.9791666666666666\n",
      "Num epoch: 61 loss: 0.05693748593330383: loss_val: 1.5206347597995773e-05 accuracy: 0.9791666666666666\n",
      "Num epoch: 62 loss: 0.0564134418964386: loss_val: 1.4963049579819199e-05 accuracy: 0.9791666666666666\n",
      "Num epoch: 63 loss: 0.05588478595018387: loss_val: 1.5002773579908535e-05 accuracy: 0.9791666666666666\n",
      "Num epoch: 64 loss: 0.05535221844911575: loss_val: 1.517159125796752e-05 accuracy: 0.9791666666666666\n",
      "Num epoch: 65 loss: 0.054815083742141724: loss_val: 1.531558700662572e-05 accuracy: 0.9791666666666666\n",
      "Num epoch: 66 loss: 0.05427365377545357: loss_val: 1.5345378415076993e-05 accuracy: 0.9791666666666666\n",
      "Num epoch: 67 loss: 0.05372754856944084: loss_val: 1.53205528476974e-05 accuracy: 0.9791666666666666\n",
      "Num epoch: 68 loss: 0.05317719653248787: loss_val: 1.5310622984543443e-05 accuracy: 0.9791666666666666\n",
      "Num epoch: 69 loss: 0.0526227243244648: loss_val: 1.53453820530558e-05 accuracy: 0.9791666666666666\n",
      "Num epoch: 70 loss: 0.05206342414021492: loss_val: 1.540496486995835e-05 accuracy: 0.9791666666666666\n",
      "Num epoch: 71 loss: 0.051499735563993454: loss_val: 1.5464547686860897e-05 accuracy: 0.9791666666666666\n",
      "Num epoch: 72 loss: 0.05093224719166756: loss_val: 1.550427077745553e-05 accuracy: 0.9791666666666666\n",
      "Num epoch: 73 loss: 0.0503598153591156: loss_val: 1.5543997506028973e-05 accuracy: 0.9791666666666666\n",
      "Num epoch: 74 loss: 0.049782972782850266: loss_val: 1.5583720596623607e-05 accuracy: 0.9791666666666666\n",
      "Num epoch: 75 loss: 0.049201369285583496: loss_val: 1.5628411347279325e-05 accuracy: 0.9791666666666666\n",
      "Num epoch: 76 loss: 0.04861557111144066: loss_val: 1.5678064301027916e-05 accuracy: 0.9791666666666666\n",
      "Num epoch: 77 loss: 0.048025380820035934: loss_val: 1.5727720892755315e-05 accuracy: 0.9791666666666666\n",
      "Num epoch: 78 loss: 0.04743105545639992: loss_val: 1.5777377484482713e-05 accuracy: 0.9791666666666666\n",
      "Num epoch: 79 loss: 0.04683179035782814: loss_val: 1.582206823513843e-05 accuracy: 0.9791666666666666\n",
      "Num epoch: 80 loss: 0.04622818902134895: loss_val: 1.5866760804783553e-05 accuracy: 0.9791666666666666\n",
      "Num epoch: 81 loss: 0.04561972990632057: loss_val: 1.5906487533356994e-05 accuracy: 0.9791666666666666\n",
      "Num epoch: 82 loss: 0.04500680789351463: loss_val: 1.595118192199152e-05 accuracy: 0.9791666666666666\n",
      "Num epoch: 83 loss: 0.04438909515738487: loss_val: 1.5985946447472088e-05 accuracy: 0.9791666666666666\n",
      "Num epoch: 84 loss: 0.04376719146966934: loss_val: 1.6015743312891573e-05 accuracy: 0.9791666666666666\n",
      "Num epoch: 85 loss: 0.04314994439482689: loss_val: 2.3646525733056478e-05 accuracy: 0.9791666666666666\n",
      "Num epoch: 86 loss: 0.04279574006795883: loss_val: 4.4179119868204e-05 accuracy: 0.9791666666666666\n",
      "Num epoch: 87 loss: 0.0421442911028862: loss_val: 1.7829037460614927e-05 accuracy: 0.9791666666666666\n",
      "Num epoch: 88 loss: 0.041544560343027115: loss_val: 1.6354881154256873e-05 accuracy: 0.9791666666666666\n",
      "Num epoch: 89 loss: 0.04091360792517662: loss_val: 1.8852702851290815e-05 accuracy: 0.9791666666666666\n",
      "Num epoch: 90 loss: 0.0402623750269413: loss_val: 2.4140384994097985e-05 accuracy: 0.9791666666666666\n",
      "Num epoch: 91 loss: 0.039658404886722565: loss_val: 3.1636303901905194e-05 accuracy: 0.9791666666666666\n",
      "Num epoch: 92 loss: 0.03903934732079506: loss_val: 3.724558700923808e-05 accuracy: 0.9791666666666666\n",
      "Num epoch: 93 loss: 0.038390956819057465: loss_val: 3.254234616179019e-05 accuracy: 0.9791666666666666\n",
      "Num epoch: 94 loss: 0.037730660289525986: loss_val: 3.6321074730949476e-05 accuracy: 0.9791666666666666\n",
      "Num epoch: 95 loss: 0.03706233575940132: loss_val: 4.1087234421866015e-05 accuracy: 0.9791666666666666\n",
      "Num epoch: 96 loss: 0.03639429435133934: loss_val: 4.624040229828097e-05 accuracy: 0.9791666666666666\n",
      "Num epoch: 97 loss: 0.035733357071876526: loss_val: 5.265393338049762e-05 accuracy: 0.9791666666666666\n",
      "Num epoch: 98 loss: 0.03506371006369591: loss_val: 6.278764340095222e-05 accuracy: 0.9791666666666666\n",
      "Num epoch: 99 loss: 0.03438342362642288: loss_val: 7.726869080215693e-05 accuracy: 0.9791666666666666\n"
     ]
    },
    {
     "data": {
      "text/plain": [
       "<__main__.LogisticRegression at 0x2df663b9820>"
      ]
     },
     "execution_count": 8,
     "metadata": {},
     "output_type": "execute_result"
    }
   ],
   "source": [
    "model = LogisticRegression()\n",
    "model.fit(x_train, y_train, x_val, y_val)"
   ]
  },
  {
   "cell_type": "code",
   "execution_count": 9,
   "metadata": {},
   "outputs": [
    {
     "data": {
      "text/plain": [
       "0.9333333333333333"
      ]
     },
     "execution_count": 9,
     "metadata": {},
     "output_type": "execute_result"
    }
   ],
   "source": [
    "pred = model.predict(x_test)\n",
    "\n",
    "accuracy_score(y_test, pred)"
   ]
  },
  {
   "cell_type": "code",
   "execution_count": 10,
   "metadata": {},
   "outputs": [
    {
     "data": {
      "text/plain": [
       "Text(0, 0.5, 'True value')"
      ]
     },
     "execution_count": 10,
     "metadata": {},
     "output_type": "execute_result"
    },
    {
     "data": {
      "image/png": "[encoded data removed]",
      "text/plain": [
       "<Figure size 640x480 with 1 Axes>"
      ]
     },
     "metadata": {},
     "output_type": "display_data"
    }
   ],
   "source": [
    "plt.scatter(pred, y_test)\n",
    "plt.xlabel(\"prediction\")\n",
    "plt.ylabel(\"True value\")"
   ]
  },
  {
   "cell_type": "markdown",
   "metadata": {},
   "source": [
    "<h3>Problem 4</h3>"
   ]
  },
  {
   "cell_type": "code",
   "execution_count": 11,
   "metadata": {},
   "outputs": [],
   "source": [
    "house_train = pd.read_csv(\"./data/train.csv\")"
   ]
  },
  {
   "cell_type": "code",
   "execution_count": 12,
   "metadata": {},
   "outputs": [
    {
     "data": {
      "text/plain": [
       "<Axes: ylabel='SalePrice'>"
      ]
     },
     "execution_count": 12,
     "metadata": {},
     "output_type": "execute_result"
    },
    {
     "data": {
      "image/png": "[encoded data removed]",
      "text/plain": [
       "<Figure size 800x500 with 1 Axes>"
      ]
     },
     "metadata": {},
     "output_type": "display_data"
    }
   ],
   "source": [
    "import seaborn as sns\n",
    "\n",
    "test = house_train.dropna(axis=1).corr(numeric_only=True)\n",
    "test = test[\"SalePrice\"]\n",
    "test = test[test > 0.6]\n",
    "\n",
    "plt.figure(figsize=(8, 5))\n",
    "sns.barplot(test)"
   ]
  },
  {
   "cell_type": "code",
   "execution_count": 13,
   "metadata": {},
   "outputs": [],
   "source": [
    "def standardScaler(x):# standardization\n",
    "    num = x - np.mean(x)\n",
    "    return num/np.std(x)\n",
    "\n",
    "features = [\"OverallQual\",\"GrLivArea\", \"YearBuilt\"]\n",
    "target = [\"SalePrice\"]\n",
    "\n",
    "y = house_train[target]\n",
    "x = house_train[features]\n",
    "\n",
    "# standardization of data\n",
    "x = x.apply(standardScaler).to_numpy().astype(np.float32)\n",
    "y = y.apply(standardScaler).to_numpy().astype(np.float32)\n",
    "\n",
    "x_train, x_val, y_train, y_val = train_test_split(x, y, test_size=0.2)\n"
   ]
  },
  {
   "cell_type": "code",
   "execution_count": 16,
   "metadata": {},
   "outputs": [],
   "source": [
    "class LinearRegression:\n",
    "    def __init__(self, n_input=3, lr=0.001, epoch= 100, batch_size=20):\n",
    "        self.lr = lr\n",
    "        self.batch_size = batch_size\n",
    "        self.epoch = epoch\n",
    "        self.optimizer = tf.keras.optimizers.Adam(learning_rate=self.lr)\n",
    "        self.inputLayer = Layer(n_input, 100, name= \"inputLayer\")\n",
    "        self.middleLayer = Layer(100, 50, name=\"middleLayer\")\n",
    "        self.outputLayer = Layer(50, 1, name=\"outputLayer\")\n",
    "    \n",
    "    def forward(self, x):\n",
    "        logit = self.inputLayer(x)\n",
    "        logit = self.middleLayer(logit)\n",
    "        logit = self.outputLayer(logit)\n",
    "\n",
    "        return logit\n",
    "\n",
    "    def predict(self, x):\n",
    "        return self.forward(x)\n",
    "    \n",
    "    def fit(self, x_train, y_train, x_val=None, y_val=None):\n",
    "        if x_val is None:\n",
    "            x_val = x_train\n",
    "            y_val = y_train\n",
    "\n",
    "        for i in range(self.epoch):\n",
    "            totalLoss = 0\n",
    "            for mini_x, mini_y in GetMiniBatch(x_train, y_train, batch_size= self.batch_size):\n",
    "                with tf.GradientTape() as tape:\n",
    "                    y = self.forward(mini_x)\n",
    "                    #MSE loss function\n",
    "                    loss = tf.reduce_mean(tf.pow(y - mini_y, 2))\n",
    "                    totalLoss += loss \n",
    "            \n",
    "                gradient = tape.gradient(loss, tape.watched_variables())\n",
    "                self.optimizer.apply_gradients(zip(gradient, tape.watched_variables()))\n",
    "            totalLoss/=self.batch_size\n",
    "            with tf.GradientTape() as tape:\n",
    "                y = self.forward(x_val)\n",
    "                loss_val = tf.reduce_mean(tf.pow(y - y_val, 2))\n",
    "            \n",
    "            gradient = tape.gradient(loss_val, y)\n",
    "            self.optimizer.apply_gradients(zip(gradient, tape.watched_variables()))\n",
    "            accuracy = accuracy_score(y_train, self.predict(x_train))\n",
    "\n",
    "            print(f\"Epoch: {i} loss: {totalLoss} Loss_val: {loss_val} accuracy: {accuracy}\")\n",
    "        \n",
    "        return self\n",
    "\n",
    "        \n",
    "\n",
    "\n",
    "        \n",
    "        \n"
   ]
  },
  {
   "cell_type": "code",
   "execution_count": 15,
   "metadata": {},
   "outputs": [
    {
     "ename": "AttributeError",
     "evalue": "'LinearRegression' object has no attribute 'outputLayer'",
     "output_type": "error",
     "traceback": [
      "\u001b[1;31m---------------------------------------------------------------------------\u001b[0m",
      "\u001b[1;31mAttributeError\u001b[0m                            Traceback (most recent call last)",
      "Cell \u001b[1;32mIn[15], line 3\u001b[0m\n\u001b[0;32m      1\u001b[0m linearModel \u001b[38;5;241m=\u001b[39m LinearRegression()\n\u001b[1;32m----> 3\u001b[0m \u001b[43mlinearModel\u001b[49m\u001b[38;5;241;43m.\u001b[39;49m\u001b[43mfit\u001b[49m\u001b[43m(\u001b[49m\u001b[43mx_train\u001b[49m\u001b[43m,\u001b[49m\u001b[43m \u001b[49m\u001b[43my_train\u001b[49m\u001b[43m,\u001b[49m\u001b[43m \u001b[49m\u001b[43mx_val\u001b[49m\u001b[43m,\u001b[49m\u001b[43m \u001b[49m\u001b[43my_val\u001b[49m\u001b[43m)\u001b[49m\n",
      "Cell \u001b[1;32mIn[14], line 30\u001b[0m, in \u001b[0;36mLinearRegression.fit\u001b[1;34m(self, x_train, y_train, x_val, y_val)\u001b[0m\n\u001b[0;32m     28\u001b[0m \u001b[38;5;28;01mfor\u001b[39;00m mini_x, mini_y \u001b[38;5;129;01min\u001b[39;00m GetMiniBatch(x_train, y_train, batch_size\u001b[38;5;241m=\u001b[39m \u001b[38;5;28mself\u001b[39m\u001b[38;5;241m.\u001b[39mbatch_size):\n\u001b[0;32m     29\u001b[0m     \u001b[38;5;28;01mwith\u001b[39;00m tf\u001b[38;5;241m.\u001b[39mGradientTape() \u001b[38;5;28;01mas\u001b[39;00m tape:\n\u001b[1;32m---> 30\u001b[0m         y \u001b[38;5;241m=\u001b[39m \u001b[38;5;28;43mself\u001b[39;49m\u001b[38;5;241;43m.\u001b[39;49m\u001b[43mforward\u001b[49m\u001b[43m(\u001b[49m\u001b[43mmini_x\u001b[49m\u001b[43m)\u001b[49m\n\u001b[0;32m     31\u001b[0m         \u001b[38;5;66;03m#MSE loss function\u001b[39;00m\n\u001b[0;32m     32\u001b[0m         loss \u001b[38;5;241m=\u001b[39m tf\u001b[38;5;241m.\u001b[39mreduce_mean(tf\u001b[38;5;241m.\u001b[39mpow(y \u001b[38;5;241m-\u001b[39m mini_y, \u001b[38;5;241m2\u001b[39m))\n",
      "Cell \u001b[1;32mIn[14], line 14\u001b[0m, in \u001b[0;36mLinearRegression.forward\u001b[1;34m(self, x)\u001b[0m\n\u001b[0;32m     12\u001b[0m logit \u001b[38;5;241m=\u001b[39m \u001b[38;5;28mself\u001b[39m\u001b[38;5;241m.\u001b[39minputLayer(x)\n\u001b[0;32m     13\u001b[0m logit \u001b[38;5;241m=\u001b[39m \u001b[38;5;28mself\u001b[39m\u001b[38;5;241m.\u001b[39mmiddleLayer(logit)\n\u001b[1;32m---> 14\u001b[0m logit \u001b[38;5;241m=\u001b[39m \u001b[38;5;28;43mself\u001b[39;49m\u001b[38;5;241;43m.\u001b[39;49m\u001b[43moutputLayer\u001b[49m(logit)\n\u001b[0;32m     16\u001b[0m \u001b[38;5;28;01mreturn\u001b[39;00m logit\n",
      "\u001b[1;31mAttributeError\u001b[0m: 'LinearRegression' object has no attribute 'outputLayer'"
     ]
    }
   ],
   "source": [
    "linearModel = LinearRegression()\n",
    "\n",
    "linearModel.fit(x_train, y_train, x_val, y_val)"
   ]
  }
 ],
 "metadata": {
  "kernelspec": {
   "display_name": "Python 3",
   "language": "python",
   "name": "python3"
  },
  "language_info": {
   "codemirror_mode": {
    "name": "ipython",
    "version": 3
   },
   "file_extension": ".py",
   "mimetype": "text/x-python",
   "name": "python",
   "nbconvert_exporter": "python",
   "pygments_lexer": "ipython3",
   "version": "3.12.1"
  }
 },
 "nbformat": 4,
 "nbformat_minor": 2
}
