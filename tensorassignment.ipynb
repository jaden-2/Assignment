{
  "cells": [
    {
      "cell_type": "markdown",
      "metadata": {
        "id": "view-in-github",
        "colab_type": "text"
      },
      "source": [
        "<a href=\"https://colab.research.google.com/github/jaden-2/Assignment/blob/master/tensorassignment.ipynb\" target=\"_parent\"><img src=\"https://colab.research.google.com/assets/colab-badge.svg\" alt=\"Open In Colab\"/></a>"
      ]
    },
    {
      "cell_type": "code",
      "execution_count": 17,
      "metadata": {
        "id": "8b1_xaGO1YXO"
      },
      "outputs": [],
      "source": [
        "import numpy as np\n",
        "import tensorflow as tf\n",
        "import pandas as pd\n",
        "from matplotlib import pyplot as plt\n",
        "from sklearn.datasets import load_iris\n",
        "from sklearn.preprocessing import OneHotEncoder\n",
        "from sklearn.model_selection import train_test_split\n",
        "from keras.datasets import mnist\n"
      ]
    },
    {
      "cell_type": "markdown",
      "metadata": {
        "id": "y_LVRU0i1YXP"
      },
      "source": [
        "<h3>Problem 1</h3>\n",
        "<p>Things I needed to implment for deep learing:</p>\n",
        "<ol>\n",
        "<li>I had to initilizew weights and baises</li>\n",
        "<li>I have to perform initlize the nodes of each hidden layer of the network</li>\n",
        "<li>I performed forward propagation for each layer</li>\n",
        "<li>I had to implement an activation function and applied it on the output of each layer</li>\n",
        "<li>I had to implement a loss function</li>\n",
        "<li>I had to implement back propagaiton method for the network</li>\n",
        "<li>I had to train the model using a fit  method</li>\n",
        "<li>I had to implement an optimizer to update the values of weights and baises</li>\n",
        "<li>I had to implement a predict method</li>\n",
        "</ol>"
      ]
    },
    {
      "cell_type": "markdown",
      "metadata": {
        "id": "yave33wX1YXR"
      },
      "source": [
        "<h3>Problem 2</h3>\n",
        "\n",
        "<p>&emsp;The sample code is a deep learning logistic regression model implemented using tensor flow version 1. The model is trained to learn to distinguish between species of flowers, specifically iris flowers of the <b><i>versicolor and virginica </i></b> class.<br/>\n",
        "&emsp; The sample code begins by performing feature selection and data processing on the iris dataset, followed by the definition of the mini batch class. Further down, the paramters for the layers in the class were initilized and assigned values. The exmaple_net function defines the forward propagation operation for the network. Loss_op, train_op, optimizer, and accuracy are used to calculate the loss, forward, backward propagation, and accuracy of the model respectively. <br/>\n",
        "&emsp; TensorFlow version one by default using graph computation, therefore a session has to be created for the training of the model. This session was created using the tf.session method. Within this session, the model is trained.\n",
        "\n",
        "</p>"
      ]
    },
    {
      "cell_type": "code",
      "execution_count": 18,
      "metadata": {
        "id": "itYNI_tl1YXR"
      },
      "outputs": [],
      "source": [
        "class GetMiniBatch:\n",
        "    \"\"\"\n",
        "Iterator to get a mini-batch\n",
        "\n",
        "    Parameters\n",
        "    ----------\n",
        "    X : The following forms of ndarray, shape (n_samples, n_features)\n",
        "      Training data\n",
        "    y : The following form of ndarray, shape (n_samples, 1)\n",
        "      Correct answer value\n",
        "    batch_size : int\n",
        "      Batch size\n",
        "    seed : int\n",
        "      NumPy random seed\n",
        "    \"\"\"\n",
        "    def __init__(self, X, y, batch_size = 20, seed=0):\n",
        "        self.batch_size = batch_size\n",
        "        np.random.seed(seed)\n",
        "        shuffle_index = np.random.permutation(np.arange(X.shape[0]))\n",
        "        self._X = X[shuffle_index]\n",
        "        self._y = y[shuffle_index]\n",
        "        self._stop = np.ceil(X.shape[0]/self.batch_size).astype(np.int_)\n",
        "\n",
        "    def __len__(self):\n",
        "        return self._stop\n",
        "\n",
        "    def __getitem__(self,item):\n",
        "        p0 = item*self.batch_size\n",
        "        p1 = item*self.batch_size + self.batch_size\n",
        "        return self._X[p0:p1], self._y[p0:p1]\n",
        "\n",
        "    def __iter__(self):\n",
        "        self._counter = 0\n",
        "        return self\n",
        "\n",
        "    def __next__(self):\n",
        "        if self._counter >= self._stop:\n",
        "            raise StopIteration()\n",
        "        p0 = self._counter*self.batch_size\n",
        "        p1 = self._counter*self.batch_size + self.batch_size\n",
        "        self._counter += 1\n",
        "        return self._X[p0:p1], self._y[p0:p1]"
      ]
    },
    {
      "cell_type": "code",
      "execution_count": 19,
      "metadata": {
        "id": "vG4--dKC1YXS"
      },
      "outputs": [],
      "source": [
        "iris = load_iris()\n",
        "features = iris[\"data\"]\n",
        "target = iris[\"target\"]\n",
        "\n",
        "x_train, x_test, y_train, y_test = train_test_split(features, target, test_size=0.2)\n",
        "\n",
        "x_train, y_train, x_test, y_test = x_train.astype(np.float32), y_train.astype(np.float32), x_test.astype(np.float32), y_test.astype(np.float32)\n",
        "y_train = y_train.reshape(-1, 1)\n",
        "onv = OneHotEncoder(sparse_output=False)\n",
        "y_train = onv.fit_transform(y_train)\n",
        "\n",
        "x_train, x_val, y_train, y_val = train_test_split(x_train, y_train, test_size=0.2)\n"
      ]
    },
    {
      "cell_type": "markdown",
      "metadata": {
        "id": "QN960jnY1YXS"
      },
      "source": [
        "<h3>Problem 3</h3>"
      ]
    },
    {
      "cell_type": "code",
      "execution_count": 20,
      "metadata": {
        "id": "6iRPC1FY1YXS"
      },
      "outputs": [],
      "source": [
        "\n",
        "\n",
        "# network parameters\n",
        "\n",
        "\n",
        "class Layer(tf.Module):\n",
        "    def __init__(self, n_input, n_output, activation=None, name=None):\n",
        "        super().__init__(name=name)\n",
        "        self.weight = tf.Variable(tf.random.normal([n_input, n_output]))\n",
        "        self.bais = tf.Variable(tf.random.normal([n_output]))\n",
        "        self.activation = activation\n",
        "\n",
        "    def __call__(self, x):\n",
        "        y = tf.add(tf.matmul(x, self.weight), self.bais)\n",
        "        if self.activation == None:\n",
        "            return y\n",
        "        return self.activation(y)\n",
        "\n",
        "\n",
        "class LogisticRegression:\n",
        "    def __init__(self, n_input = 4, n_classes=3,  lr=0.01, epoch=100, batch_size = 20):\n",
        "        self.lr = lr\n",
        "        self.epoch = epoch\n",
        "        self.batch = batch_size\n",
        "        self.optimizer = tf.keras.optimizers.Adam(learning_rate=self.lr)\n",
        "        self.inputlayer = Layer(n_input, 100, tf.nn.relu, \"InputLayer\")\n",
        "        self.hidden1 = Layer(100, 50, tf.nn.relu, \"hidden1\")\n",
        "        self.output = Layer(50,n_classes , name=\"outputLayer\")\n",
        "\n",
        "    #@tf.function\n",
        "    def forward(self, x):\n",
        "        logit = self.inputlayer(x)\n",
        "        logit = self.hidden1(logit)\n",
        "        logit = self.output(logit)\n",
        "\n",
        "        return logit\n",
        "\n",
        "    def fit(self, x_train, y_train, x_val=None, y_val=None):\n",
        "        if x_val is None:\n",
        "            x_val = x_train\n",
        "            y_val = y_train\n",
        "        for i in range(self.epoch):\n",
        "            total_loss = 0\n",
        "            for mini_x, mini_y in GetMiniBatch(x_train, y_train, self.batch):\n",
        "                with tf.GradientTape() as tape:\n",
        "                    logit = self.forward(mini_x)\n",
        "                    loss = tf.reduce_mean(tf.nn.softmax_cross_entropy_with_logits(mini_y, logit))\n",
        "\n",
        "                gradient = tape.gradient(loss, tape.watched_variables())\n",
        "                self.optimizer.apply_gradients(zip(gradient, tape.watched_variables()))\n",
        "                total_loss+= loss\n",
        "            total_loss/=self.batch\n",
        "\n",
        "            with tf.GradientTape() as tape:\n",
        "                logit = self.forward(x_val)\n",
        "                loss_val = tf.reduce_mean(tf.nn.softmax_cross_entropy_with_logits(y_val, logit))\n",
        "            accuracy = accuracy_score(np.argmax(y_train, 1), self.predict(x_train))\n",
        "            gradient = tape.gradient(loss_val, tape.watched_variables())\n",
        "            self.optimizer.apply_gradients(zip(gradient, tape.watched_variables()))\n",
        "\n",
        "            print(f\"Num epoch: {i} loss: {total_loss}: loss_val: {loss_val} accuracy: {accuracy}\")\n",
        "        return self\n",
        "\n",
        "    def predict(self, x):\n",
        "        y = tf.nn.softmax(self.forward(x)).numpy()\n",
        "\n",
        "        return np.argmax(y, 1)\n",
        "\n",
        "\n",
        "def accuracy_score(y_true, pred):\n",
        "    correct = np.sum(np.round(y_true) == np.round(pred))\n",
        "    total = y_true.shape[0]\n",
        "    return correct/total\n",
        "\n"
      ]
    },
    {
      "cell_type": "code",
      "execution_count": 21,
      "metadata": {
        "colab": {
          "base_uri": "https://localhost:8080/"
        },
        "id": "t53RCd0T1YXS",
        "outputId": "6dc0ab80-8579-4acb-9624-0c200e417336"
      },
      "outputs": [
        {
          "output_type": "stream",
          "name": "stdout",
          "text": [
            "Num epoch: 0 loss: 21.597835540771484: loss_val: 18.280704498291016 accuracy: 0.6979166666666666\n",
            "Num epoch: 1 loss: 5.388648509979248: loss_val: 2.204501152038574 accuracy: 0.78125\n",
            "Num epoch: 2 loss: 2.791081190109253: loss_val: 1.6895052194595337 accuracy: 0.8541666666666666\n",
            "Num epoch: 3 loss: 0.7661638259887695: loss_val: 1.7485237121582031 accuracy: 0.8645833333333334\n",
            "Num epoch: 4 loss: 0.293768972158432: loss_val: 1.8758119344711304 accuracy: 0.875\n",
            "Num epoch: 5 loss: 0.11983370780944824: loss_val: 0.14640755951404572 accuracy: 0.9479166666666666\n",
            "Num epoch: 6 loss: 0.10248859226703644: loss_val: 0.8635269999504089 accuracy: 0.8958333333333334\n",
            "Num epoch: 7 loss: 0.07533581554889679: loss_val: 0.1449752300977707 accuracy: 0.9583333333333334\n",
            "Num epoch: 8 loss: 0.07736452668905258: loss_val: 0.8932039737701416 accuracy: 0.90625\n",
            "Num epoch: 9 loss: 0.0696650892496109: loss_val: 0.23529575765132904 accuracy: 0.9583333333333334\n",
            "Num epoch: 10 loss: 0.07337808609008789: loss_val: 0.9098072052001953 accuracy: 0.90625\n",
            "Num epoch: 11 loss: 0.06815735995769501: loss_val: 0.2915060818195343 accuracy: 0.9479166666666666\n",
            "Num epoch: 12 loss: 0.06078946590423584: loss_val: 0.8617158532142639 accuracy: 0.90625\n",
            "Num epoch: 13 loss: 0.06763522326946259: loss_val: 0.30421581864356995 accuracy: 0.9583333333333334\n",
            "Num epoch: 14 loss: 0.05394715070724487: loss_val: 0.7697402834892273 accuracy: 0.90625\n",
            "Num epoch: 15 loss: 0.06983968615531921: loss_val: 0.246696338057518 accuracy: 0.96875\n",
            "Num epoch: 16 loss: 0.05146302655339241: loss_val: 0.589275062084198 accuracy: 0.9583333333333334\n",
            "Num epoch: 17 loss: 0.0637931078672409: loss_val: 0.10441454499959946 accuracy: 0.9791666666666666\n",
            "Num epoch: 18 loss: 0.04184529930353165: loss_val: 0.346871018409729 accuracy: 0.9583333333333334\n",
            "Num epoch: 19 loss: 0.05398933216929436: loss_val: 0.15183906257152557 accuracy: 0.9791666666666666\n",
            "Num epoch: 20 loss: 0.03775700181722641: loss_val: 0.061397481709718704 accuracy: 0.9895833333333334\n",
            "Num epoch: 21 loss: 0.03388230875134468: loss_val: 0.27071115374565125 accuracy: 0.9583333333333334\n",
            "Num epoch: 22 loss: 0.04511258751153946: loss_val: 0.07337728142738342 accuracy: 0.9791666666666666\n",
            "Num epoch: 23 loss: 0.033568620681762695: loss_val: 0.23621894419193268 accuracy: 0.9583333333333334\n",
            "Num epoch: 24 loss: 0.04374634847044945: loss_val: 0.1322573721408844 accuracy: 0.9791666666666666\n",
            "Num epoch: 25 loss: 0.03606017678976059: loss_val: 0.21535493433475494 accuracy: 0.9583333333333334\n",
            "Num epoch: 26 loss: 0.04231289401650429: loss_val: 0.16222511231899261 accuracy: 0.9791666666666666\n",
            "Num epoch: 27 loss: 0.03860458359122276: loss_val: 0.17252881824970245 accuracy: 0.9791666666666666\n",
            "Num epoch: 28 loss: 0.040811896324157715: loss_val: 0.21877819299697876 accuracy: 0.9583333333333334\n",
            "Num epoch: 29 loss: 0.04289725050330162: loss_val: 0.2512708604335785 accuracy: 0.9583333333333334\n",
            "Num epoch: 30 loss: 0.04356738552451134: loss_val: 0.26400211453437805 accuracy: 0.9583333333333334\n",
            "Num epoch: 31 loss: 0.04412467032670975: loss_val: 0.3013650178909302 accuracy: 0.9583333333333334\n",
            "Num epoch: 32 loss: 0.044751256704330444: loss_val: 0.30567511916160583 accuracy: 0.9583333333333334\n",
            "Num epoch: 33 loss: 0.04490567743778229: loss_val: 0.33936548233032227 accuracy: 0.9583333333333334\n",
            "Num epoch: 34 loss: 0.04522194340825081: loss_val: 0.3347846567630768 accuracy: 0.9583333333333334\n",
            "Num epoch: 35 loss: 0.04519098252058029: loss_val: 0.3784749507904053 accuracy: 0.9583333333333334\n",
            "Num epoch: 36 loss: 0.045386411249637604: loss_val: 0.35189878940582275 accuracy: 0.9583333333333334\n",
            "Num epoch: 37 loss: 0.04512917995452881: loss_val: 0.42694225907325745 accuracy: 0.9583333333333334\n",
            "Num epoch: 38 loss: 0.04561265930533409: loss_val: 0.35013654828071594 accuracy: 0.9583333333333334\n",
            "Num epoch: 39 loss: 0.044931717216968536: loss_val: 0.49841198325157166 accuracy: 0.9583333333333334\n",
            "Num epoch: 40 loss: 0.04736509174108505: loss_val: 0.31218284368515015 accuracy: 0.9583333333333334\n",
            "Num epoch: 41 loss: 0.04406660050153732: loss_val: 0.5997092127799988 accuracy: 0.9479166666666666\n",
            "Num epoch: 42 loss: 0.053606290370225906: loss_val: 0.17231260240077972 accuracy: 0.9791666666666666\n",
            "Num epoch: 43 loss: 0.03605968505144119: loss_val: 0.5367385149002075 accuracy: 0.9583333333333334\n",
            "Num epoch: 44 loss: 0.047089993953704834: loss_val: 0.4642847776412964 accuracy: 0.9583333333333334\n",
            "Num epoch: 45 loss: 0.042479533702135086: loss_val: 0.4835302531719208 accuracy: 0.9583333333333334\n",
            "Num epoch: 46 loss: 0.04399580508470535: loss_val: 0.5379427075386047 accuracy: 0.9583333333333334\n",
            "Num epoch: 47 loss: 0.044377245008945465: loss_val: 0.46816709637641907 accuracy: 0.9583333333333334\n",
            "Num epoch: 48 loss: 0.04364979267120361: loss_val: 0.6061948537826538 accuracy: 0.9479166666666666\n",
            "Num epoch: 49 loss: 0.04807625710964203: loss_val: 0.40426719188690186 accuracy: 0.9583333333333334\n",
            "Num epoch: 50 loss: 0.043439045548439026: loss_val: 0.7349157333374023 accuracy: 0.9583333333333334\n",
            "Num epoch: 51 loss: 0.06080843135714531: loss_val: 0.07468274980783463 accuracy: 0.9791666666666666\n",
            "Num epoch: 52 loss: 0.027469947934150696: loss_val: 0.5368003249168396 accuracy: 0.9479166666666666\n",
            "Num epoch: 53 loss: 0.05648680776357651: loss_val: 0.6458130478858948 accuracy: 0.9479166666666666\n",
            "Num epoch: 54 loss: 0.05088657885789871: loss_val: 0.358617901802063 accuracy: 0.9583333333333334\n",
            "Num epoch: 55 loss: 0.04276956617832184: loss_val: 0.9105821251869202 accuracy: 0.9166666666666666\n",
            "Num epoch: 56 loss: 0.06674590706825256: loss_val: 0.04124666377902031 accuracy: 0.9791666666666666\n",
            "Num epoch: 57 loss: 0.029542848467826843: loss_val: 0.038197677582502365 accuracy: 0.9791666666666666\n",
            "Num epoch: 58 loss: 0.04071204736828804: loss_val: 0.04398861527442932 accuracy: 0.9895833333333334\n",
            "Num epoch: 59 loss: 0.04134674370288849: loss_val: 0.8349114060401917 accuracy: 0.9270833333333334\n",
            "Num epoch: 60 loss: 0.06611455976963043: loss_val: 0.10702800750732422 accuracy: 0.9791666666666666\n",
            "Num epoch: 61 loss: 0.028472432866692543: loss_val: 0.704308032989502 accuracy: 0.9583333333333334\n",
            "Num epoch: 62 loss: 0.056672465056180954: loss_val: 0.43769291043281555 accuracy: 0.9583333333333334\n",
            "Num epoch: 63 loss: 0.04493320733308792: loss_val: 0.9302963614463806 accuracy: 0.8958333333333334\n",
            "Num epoch: 64 loss: 0.07177175581455231: loss_val: 0.050331633538007736 accuracy: 0.9895833333333334\n",
            "Num epoch: 65 loss: 0.02610630914568901: loss_val: 0.2942085862159729 accuracy: 0.9791666666666666\n",
            "Num epoch: 66 loss: 0.06196459382772446: loss_val: 0.7702338695526123 accuracy: 0.9479166666666666\n",
            "Num epoch: 67 loss: 0.07734580338001251: loss_val: 0.7720367312431335 accuracy: 0.9479166666666666\n",
            "Num epoch: 68 loss: 0.06094589829444885: loss_val: 0.14891372621059418 accuracy: 0.9791666666666666\n",
            "Num epoch: 69 loss: 0.0317724272608757: loss_val: 0.8871700167655945 accuracy: 0.9166666666666666\n",
            "Num epoch: 70 loss: 0.07118760794401169: loss_val: 0.10449563711881638 accuracy: 0.9791666666666666\n",
            "Num epoch: 71 loss: 0.02416585572063923: loss_val: 0.6674326062202454 accuracy: 0.9583333333333334\n",
            "Num epoch: 72 loss: 0.05955244228243828: loss_val: 0.5884161591529846 accuracy: 0.9583333333333334\n",
            "Num epoch: 73 loss: 0.03774062544107437: loss_val: 0.8748353123664856 accuracy: 0.9166666666666666\n",
            "Num epoch: 74 loss: 0.06176965683698654: loss_val: 0.19333656132221222 accuracy: 0.9791666666666666\n",
            "Num epoch: 75 loss: 0.028678536415100098: loss_val: 0.8121640086174011 accuracy: 0.9375\n",
            "Num epoch: 76 loss: 0.054617006331682205: loss_val: 0.5694871544837952 accuracy: 0.9583333333333334\n",
            "Num epoch: 77 loss: 0.04092816263437271: loss_val: 0.9591159224510193 accuracy: 0.8854166666666666\n",
            "Num epoch: 78 loss: 0.07120004296302795: loss_val: 0.10825654864311218 accuracy: 0.9895833333333334\n",
            "Num epoch: 79 loss: 0.022129135206341743: loss_val: 0.5302597880363464 accuracy: 0.9583333333333334\n",
            "Num epoch: 80 loss: 0.05486361309885979: loss_val: 1.0536441802978516 accuracy: 0.875\n",
            "Num epoch: 81 loss: 0.07674883306026459: loss_val: 0.10475077480077744 accuracy: 0.9895833333333334\n",
            "Num epoch: 82 loss: 0.022007983177900314: loss_val: 0.5436791181564331 accuracy: 0.9583333333333334\n",
            "Num epoch: 83 loss: 0.057418860495090485: loss_val: 0.9898848533630371 accuracy: 0.8854166666666666\n",
            "Num epoch: 84 loss: 0.06911666691303253: loss_val: 0.09993774443864822 accuracy: 0.9895833333333334\n",
            "Num epoch: 85 loss: 0.022846082225441933: loss_val: 0.08079715818166733 accuracy: 0.9895833333333334\n",
            "Num epoch: 86 loss: 0.0433918721973896: loss_val: 0.5468987822532654 accuracy: 0.9583333333333334\n",
            "Num epoch: 87 loss: 0.06597297638654709: loss_val: 0.9694004058837891 accuracy: 0.8854166666666666\n",
            "Num epoch: 88 loss: 0.07809960842132568: loss_val: 0.17413870990276337 accuracy: 0.9791666666666666\n",
            "Num epoch: 89 loss: 0.026392202824354172: loss_val: 0.5597155094146729 accuracy: 0.9583333333333334\n",
            "Num epoch: 90 loss: 0.06214916706085205: loss_val: 0.7787017822265625 accuracy: 0.9375\n",
            "Num epoch: 91 loss: 0.04840708151459694: loss_val: 0.6533969044685364 accuracy: 0.9583333333333334\n",
            "Num epoch: 92 loss: 0.04182502254843712: loss_val: 0.9753127694129944 accuracy: 0.8854166666666666\n",
            "Num epoch: 93 loss: 0.06638842821121216: loss_val: 0.1869083195924759 accuracy: 0.9791666666666666\n",
            "Num epoch: 94 loss: 0.02346881292760372: loss_val: 0.5409448742866516 accuracy: 0.9583333333333334\n",
            "Num epoch: 95 loss: 0.056480009108781815: loss_val: 1.1083420515060425 accuracy: 0.875\n",
            "Num epoch: 96 loss: 0.0806315541267395: loss_val: 0.18682807683944702 accuracy: 0.9791666666666666\n",
            "Num epoch: 97 loss: 0.021721724420785904: loss_val: 0.629986584186554 accuracy: 0.9583333333333334\n",
            "Num epoch: 98 loss: 0.06015338376164436: loss_val: 0.8481124043464661 accuracy: 0.9375\n",
            "Num epoch: 99 loss: 0.04738287627696991: loss_val: 0.6352949142456055 accuracy: 0.9583333333333334\n"
          ]
        },
        {
          "output_type": "execute_result",
          "data": {
            "text/plain": [
              "<__main__.LogisticRegression at 0x7d5969a7c580>"
            ]
          },
          "metadata": {},
          "execution_count": 21
        }
      ],
      "source": [
        "model = LogisticRegression()\n",
        "model.fit(x_train, y_train, x_val, y_val)"
      ]
    },
    {
      "cell_type": "code",
      "execution_count": 22,
      "metadata": {
        "colab": {
          "base_uri": "https://localhost:8080/"
        },
        "id": "3_CVYflU1YXU",
        "outputId": "b8b8744d-0aef-4cc0-d640-cff2db4cbede"
      },
      "outputs": [
        {
          "output_type": "execute_result",
          "data": {
            "text/plain": [
              "1.0"
            ]
          },
          "metadata": {},
          "execution_count": 22
        }
      ],
      "source": [
        "pred = model.predict(x_test)\n",
        "\n",
        "accuracy_score(y_test, pred)"
      ]
    },
    {
      "cell_type": "code",
      "execution_count": 23,
      "metadata": {
        "colab": {
          "base_uri": "https://localhost:8080/",
          "height": 467
        },
        "id": "EwMgGcN61YXU",
        "outputId": "55741444-5998-4d29-ae1a-dde01e64db43"
      },
      "outputs": [
        {
          "output_type": "execute_result",
          "data": {
            "text/plain": [
              "Text(0, 0.5, 'True value')"
            ]
          },
          "metadata": {},
          "execution_count": 23
        },
        {
          "output_type": "display_data",
          "data": {
            "text/plain": [
              "<Figure size 640x480 with 1 Axes>"
            ],
            "image/png": "[encoded data removed]"
          },
          "metadata": {}
        }
      ],
      "source": [
        "plt.scatter(pred, y_test)\n",
        "plt.xlabel(\"prediction\")\n",
        "plt.ylabel(\"True value\")"
      ]
    },
    {
      "cell_type": "markdown",
      "metadata": {
        "id": "k1EsVdNo1YXU"
      },
      "source": [
        "<h3>Problem 4</h3>"
      ]
    },
    {
      "cell_type": "code",
      "execution_count": 24,
      "metadata": {
        "id": "DKyD5XWf1YXU"
      },
      "outputs": [],
      "source": [
        "house_train = pd.read_csv(\"/content/train.csv\")"
      ]
    },
    {
      "cell_type": "code",
      "execution_count": 25,
      "metadata": {
        "colab": {
          "base_uri": "https://localhost:8080/",
          "height": 463
        },
        "id": "vOble4AN1YXV",
        "outputId": "74e0a052-81c6-4d87-ef31-4e9657a9be68"
      },
      "outputs": [
        {
          "output_type": "execute_result",
          "data": {
            "text/plain": [
              "<Axes: ylabel='SalePrice'>"
            ]
          },
          "metadata": {},
          "execution_count": 25
        },
        {
          "output_type": "display_data",
          "data": {
            "text/plain": [
              "<Figure size 800x500 with 1 Axes>"
            ],
            "image/png": "[encoded data removed]"
          },
          "metadata": {}
        }
      ],
      "source": [
        "import seaborn as sns\n",
        "\n",
        "test = house_train.dropna(axis=1).corr(numeric_only=True)\n",
        "test = test[\"SalePrice\"]\n",
        "test = test[test > 0.6]\n",
        "\n",
        "plt.figure(figsize=(8, 5))\n",
        "sns.barplot(test)"
      ]
    },
    {
      "cell_type": "code",
      "execution_count": 26,
      "metadata": {
        "id": "XMczPaj81YXV"
      },
      "outputs": [],
      "source": [
        "def standardScaler(x):# standardization\n",
        "    num = x - np.mean(x)\n",
        "    return num/np.std(x)\n",
        "\n",
        "def normalization(x):\n",
        "    num = x - np.min(x)\n",
        "    denum = np.max(x) - np.min(x)\n",
        "    return num/denum\n",
        "\n",
        "features = [\"OverallQual\",\"GrLivArea\", \"YearBuilt\"]\n",
        "target = [\"SalePrice\"]\n",
        "\n",
        "y = house_train[target]\n",
        "x = house_train[features]\n",
        "\n",
        "x_train, x_test, y_train, y_test = train_test_split(x, y, test_size=0.2)\n",
        "\n",
        "# standardization of data\n",
        "#x_train = x.apply(standardScaler).to_numpy().astype(np.float32)\n",
        "#y_train = y.apply(standardScaler).to_numpy().astype(np.float32)\n",
        "\n",
        "x_train = x.to_numpy().astype(np.float32)\n",
        "y_train = y.to_numpy().astype(np.float32)\n",
        "\n",
        "# normalization\n",
        "# x_train = x.apply(normalization).to_numpy().astype(np.float32)\n",
        "# y_train = y.apply(normalization).to_numpy().astype(np.float32)\n",
        "\n",
        "x_train, x_val, y_train, y_val = train_test_split(x_train, y_train, test_size=0.2)\n",
        "\n",
        "x_test, y_test = x_test.to_numpy().astype(np.float32), y_test.to_numpy().astype(np.float32)"
      ]
    },
    {
      "cell_type": "code",
      "execution_count": 27,
      "metadata": {
        "id": "hnXSKuBN1YXV"
      },
      "outputs": [],
      "source": [
        "class LinearRegression:\n",
        "    def __init__(self, n_input=3, lr=0.001, epoch= 100, batch_size=20):\n",
        "        self.lr = lr\n",
        "        self.batch_size = batch_size\n",
        "        self.epoch = epoch\n",
        "        self.optimizer = tf.keras.optimizers.Adam(learning_rate=self.lr)\n",
        "        self.inputLayer = Layer(n_input, 200, name= \"inputLayer\")\n",
        "        self.middleLayer1 = Layer(200, 100, name=\"middleLayer\")\n",
        "        self.middleLayer = Layer(100, 50, name=\"middleLayer\")\n",
        "        self.outputLayer = Layer(50, 1, name=\"outputLayer\")\n",
        "        self.loss = np.array([])\n",
        "\n",
        "    def forward(self, x):\n",
        "        logit = self.inputLayer(x)\n",
        "        logit = self.middleLayer1(logit)\n",
        "        logit = self.middleLayer(logit)\n",
        "        logit = self.outputLayer(logit)\n",
        "\n",
        "        return logit\n",
        "\n",
        "    def predict(self, x):\n",
        "        return self.forward(x)\n",
        "\n",
        "    def fit(self, x_train, y_train, x_val=None, y_val=None):\n",
        "        if x_val is None:\n",
        "            x_val = x_train\n",
        "            y_val = y_train\n",
        "\n",
        "        for i in range(self.epoch):\n",
        "            totalLoss = 0\n",
        "            for mini_x, mini_y in GetMiniBatch(x_train, y_train, batch_size= self.batch_size):\n",
        "                with tf.GradientTape() as tape:\n",
        "                    y = self.forward(mini_x)\n",
        "                    #MSE loss function\n",
        "                    loss = tf.reduce_mean(tf.pow(y - mini_y, 2))\n",
        "                    totalLoss += loss\n",
        "\n",
        "                gradient = tape.gradient(loss, tape.watched_variables())\n",
        "                self.optimizer.apply_gradients(zip(gradient, tape.watched_variables()))\n",
        "\n",
        "            totalLoss/=self.batch_size\n",
        "            self.loss = np.append(self.loss, totalLoss)\n",
        "\n",
        "            with tf.GradientTape() as tape:\n",
        "                y = self.forward(x_val)\n",
        "\n",
        "                loss_val = tf.reduce_mean(tf.pow(y-y_val, 2))\n",
        "\n",
        "            gradient = tape.gradient(loss_val, y)\n",
        "\n",
        "            self.optimizer.apply_gradients(zip(gradient, tape.watched_variables()))\n",
        "            accuracy = accuracy_score(y_val, self.predict(x_val))\n",
        "\n",
        "            print(f\"Epoch: {i} loss: {totalLoss} Loss_val: {loss_val}\")\n",
        "\n",
        "        return self\n",
        "\n",
        "\n",
        "\n",
        "\n",
        "\n",
        "\n"
      ]
    },
    {
      "cell_type": "code",
      "execution_count": 28,
      "metadata": {
        "colab": {
          "base_uri": "https://localhost:8080/"
        },
        "id": "CfLXmN-71YXW",
        "outputId": "f7dcd27d-5d74-482a-a5e6-da7e3032c5d8"
      },
      "outputs": [
        {
          "output_type": "stream",
          "name": "stdout",
          "text": [
            "Epoch: 0 loss: 11492017569792.0 Loss_val: 3471315042304.0\n",
            "Epoch: 1 loss: 9304560107520.0 Loss_val: 2790485655552.0\n",
            "Epoch: 2 loss: 7465355182080.0 Loss_val: 2221414547456.0\n",
            "Epoch: 3 loss: 5936969154560.0 Loss_val: 1751714103296.0\n",
            "Epoch: 4 loss: 4683109236736.0 Loss_val: 1369154519040.0\n",
            "Epoch: 5 loss: 3668482195456.0 Loss_val: 1061996593152.0\n",
            "Epoch: 6 loss: 2859353243648.0 Loss_val: 819104907264.0\n",
            "Epoch: 7 loss: 2223990112256.0 Loss_val: 630107275264.0\n",
            "Epoch: 8 loss: 1733066096640.0 Loss_val: 485487575040.0\n",
            "Epoch: 9 loss: 1359927705600.0 Loss_val: 376690573312.0\n",
            "Epoch: 10 loss: 1080860409856.0 Loss_val: 296189231104.0\n",
            "Epoch: 11 loss: 875265720320.0 Loss_val: 237533904896.0\n",
            "Epoch: 12 loss: 725719252992.0 Loss_val: 195338977280.0\n",
            "Epoch: 13 loss: 617880027136.0 Loss_val: 165240815616.0\n",
            "Epoch: 14 loss: 540297297920.0 Loss_val: 143805448192.0\n",
            "Epoch: 15 loss: 484099227648.0 Loss_val: 128416317440.0\n",
            "Epoch: 16 loss: 442634141696.0 Loss_val: 117141020672.0\n",
            "Epoch: 17 loss: 411067744256.0 Loss_val: 108597026816.0\n",
            "Epoch: 18 loss: 386002616320.0 Loss_val: 101828567040.0\n",
            "Epoch: 19 loss: 365128515584.0 Loss_val: 96195018752.0\n",
            "Epoch: 20 loss: 346924318720.0 Loss_val: 91280130048.0\n",
            "Epoch: 21 loss: 330423271424.0 Loss_val: 86823288832.0\n",
            "Epoch: 22 loss: 315031715840.0 Loss_val: 82666258432.0\n",
            "Epoch: 23 loss: 300397887488.0 Loss_val: 78715691008.0\n",
            "Epoch: 24 loss: 286322196480.0 Loss_val: 74919477248.0\n",
            "Epoch: 25 loss: 272697131008.0 Loss_val: 71249313792.0\n",
            "Epoch: 26 loss: 259468460032.0 Loss_val: 67690745856.0\n",
            "Epoch: 27 loss: 246611017728.0 Loss_val: 64237338624.0\n",
            "Epoch: 28 loss: 234116694016.0 Loss_val: 60886298624.0\n",
            "Epoch: 29 loss: 221984587776.0 Loss_val: 57637224448.0\n",
            "Epoch: 30 loss: 210217304064.0 Loss_val: 54490525696.0\n",
            "Epoch: 31 loss: 198819217408.0 Loss_val: 51447148544.0\n",
            "Epoch: 32 loss: 187794440192.0 Loss_val: 48507895808.0\n",
            "Epoch: 33 loss: 177146855424.0 Loss_val: 45673631744.0\n",
            "Epoch: 34 loss: 166880149504.0 Loss_val: 42945142784.0\n",
            "Epoch: 35 loss: 156996419584.0 Loss_val: 40322621440.0\n",
            "Epoch: 36 loss: 147496747008.0 Loss_val: 37806358528.0\n",
            "Epoch: 37 loss: 138381770752.0 Loss_val: 35396145152.0\n",
            "Epoch: 38 loss: 129650917376.0 Loss_val: 33091801088.0\n",
            "Epoch: 39 loss: 121302786048.0 Loss_val: 30892625920.0\n",
            "Epoch: 40 loss: 113335033856.0 Loss_val: 28797857792.0\n",
            "Epoch: 41 loss: 105744220160.0 Loss_val: 26806329344.0\n",
            "Epoch: 42 loss: 98526281728.0 Loss_val: 24916809728.0\n",
            "Epoch: 43 loss: 91676491776.0 Loss_val: 23127842816.0\n",
            "Epoch: 44 loss: 85189459968.0 Loss_val: 21437687808.0\n",
            "Epoch: 45 loss: 79058452480.0 Loss_val: 19844263936.0\n",
            "Epoch: 46 loss: 73276235776.0 Loss_val: 18345715712.0\n",
            "Epoch: 47 loss: 67835494400.0 Loss_val: 16939567104.0\n",
            "Epoch: 48 loss: 62727401472.0 Loss_val: 15623372800.0\n",
            "Epoch: 49 loss: 57942978560.0 Loss_val: 14394464256.0\n",
            "Epoch: 50 loss: 53472395264.0 Loss_val: 13250065408.0\n",
            "Epoch: 51 loss: 49305411584.0 Loss_val: 12187175936.0\n",
            "Epoch: 52 loss: 45431644160.0 Loss_val: 11202882560.0\n",
            "Epoch: 53 loss: 41840029696.0 Loss_val: 10293998592.0\n",
            "Epoch: 54 loss: 38519377920.0 Loss_val: 9457348608.0\n",
            "Epoch: 55 loss: 35457949696.0 Loss_val: 8689585152.0\n",
            "Epoch: 56 loss: 32643813376.0 Loss_val: 7987364352.0\n",
            "Epoch: 57 loss: 30064771072.0 Loss_val: 7347220480.0\n",
            "Epoch: 58 loss: 27708739584.0 Loss_val: 6765864448.0\n",
            "Epoch: 59 loss: 25563527168.0 Loss_val: 6239819264.0\n",
            "Epoch: 60 loss: 23616778240.0 Loss_val: 5765587968.0\n",
            "Epoch: 61 loss: 21856305152.0 Loss_val: 5339924480.0\n",
            "Epoch: 62 loss: 20270000128.0 Loss_val: 4959367680.0\n",
            "Epoch: 63 loss: 18845898752.0 Loss_val: 4620720128.0\n",
            "Epoch: 64 loss: 17572605952.0 Loss_val: 4320786432.0\n",
            "Epoch: 65 loss: 16438596608.0 Loss_val: 4056397824.0\n",
            "Epoch: 66 loss: 15432674304.0 Loss_val: 3824567808.0\n",
            "Epoch: 67 loss: 14544301056.0 Loss_val: 3622433280.0\n",
            "Epoch: 68 loss: 13763196928.0 Loss_val: 3447152384.0\n",
            "Epoch: 69 loss: 13079434240.0 Loss_val: 3296121344.0\n",
            "Epoch: 70 loss: 12483813376.0 Loss_val: 3166805248.0\n",
            "Epoch: 71 loss: 11967502336.0 Loss_val: 3056927744.0\n",
            "Epoch: 72 loss: 11522152448.0 Loss_val: 2964216576.0\n",
            "Epoch: 73 loss: 11140016128.0 Loss_val: 2886655744.0\n",
            "Epoch: 74 loss: 10813873152.0 Loss_val: 2822349824.0\n",
            "Epoch: 75 loss: 10537057280.0 Loss_val: 2769540352.0\n",
            "Epoch: 76 loss: 10303439872.0 Loss_val: 2726672128.0\n",
            "Epoch: 77 loss: 10107438080.0 Loss_val: 2692282624.0\n",
            "Epoch: 78 loss: 9944032256.0 Loss_val: 2665130752.0\n",
            "Epoch: 79 loss: 9808631808.0 Loss_val: 2644023808.0\n",
            "Epoch: 80 loss: 9697136640.0 Loss_val: 2627956224.0\n",
            "Epoch: 81 loss: 9606007808.0 Loss_val: 2616062208.0\n",
            "Epoch: 82 loss: 9532065792.0 Loss_val: 2607547648.0\n",
            "Epoch: 83 loss: 9472485376.0 Loss_val: 2601732864.0\n",
            "Epoch: 84 loss: 9424825344.0 Loss_val: 2598083840.0\n",
            "Epoch: 85 loss: 9386981376.0 Loss_val: 2596072192.0\n",
            "Epoch: 86 loss: 9357274112.0 Loss_val: 2595325184.0\n",
            "Epoch: 87 loss: 9334118400.0 Loss_val: 2595493120.0\n",
            "Epoch: 88 loss: 9316276224.0 Loss_val: 2596340480.0\n",
            "Epoch: 89 loss: 9302733824.0 Loss_val: 2597638656.0\n",
            "Epoch: 90 loss: 9292570624.0 Loss_val: 2599211520.0\n",
            "Epoch: 91 loss: 9285094400.0 Loss_val: 2600910336.0\n",
            "Epoch: 92 loss: 9279662080.0 Loss_val: 2602663680.0\n",
            "Epoch: 93 loss: 9275877376.0 Loss_val: 2604406784.0\n",
            "Epoch: 94 loss: 9273350144.0 Loss_val: 2606054656.0\n",
            "Epoch: 95 loss: 9271769088.0 Loss_val: 2607588608.0\n",
            "Epoch: 96 loss: 9270912000.0 Loss_val: 2608972032.0\n",
            "Epoch: 97 loss: 9270615040.0 Loss_val: 2610219520.0\n",
            "Epoch: 98 loss: 9270716416.0 Loss_val: 2611332352.0\n",
            "Epoch: 99 loss: 9271177216.0 Loss_val: 2612301568.0\n"
          ]
        },
        {
          "output_type": "execute_result",
          "data": {
            "text/plain": [
              "<__main__.LinearRegression at 0x7d596a445300>"
            ]
          },
          "metadata": {},
          "execution_count": 28
        }
      ],
      "source": [
        "linearModel = LinearRegression(epoch=100, lr=1e-5)\n",
        "\n",
        "linearModel.fit(x_train, y_train, x_val, y_val)"
      ]
    },
    {
      "cell_type": "code",
      "execution_count": 29,
      "metadata": {
        "colab": {
          "base_uri": "https://localhost:8080/",
          "height": 490
        },
        "id": "EdkJ4CYZ1YXW",
        "outputId": "f9616f9f-f7a8-4683-fdcb-ae8d143c6e2e"
      },
      "outputs": [
        {
          "output_type": "execute_result",
          "data": {
            "text/plain": [
              "Text(0, 0.5, 'true value')"
            ]
          },
          "metadata": {},
          "execution_count": 29
        },
        {
          "output_type": "display_data",
          "data": {
            "text/plain": [
              "<Figure size 640x480 with 1 Axes>"
            ],
            "image/png": "[encoded data removed]"
          },
          "metadata": {}
        }
      ],
      "source": [
        "pred = linearModel.predict(x_test)\n",
        "\n",
        "plt.scatter(pred, y_test)\n",
        "plt.title(\"Housing price analysis\")\n",
        "plt.xlabel(\"prediction\")\n",
        "plt.ylabel(\"true value\")"
      ]
    },
    {
      "cell_type": "code",
      "execution_count": 30,
      "metadata": {
        "colab": {
          "base_uri": "https://localhost:8080/",
          "height": 463
        },
        "id": "i1F0Hfz51YXW",
        "outputId": "4b14777e-453a-43d2-be3b-886258f5f933"
      },
      "outputs": [
        {
          "output_type": "execute_result",
          "data": {
            "text/plain": [
              "[<matplotlib.lines.Line2D at 0x7d596a4db9a0>]"
            ]
          },
          "metadata": {},
          "execution_count": 30
        },
        {
          "output_type": "display_data",
          "data": {
            "text/plain": [
              "<Figure size 640x480 with 1 Axes>"
            ],
            "image/png": "[encoded data removed]"
          },
          "metadata": {}
        }
      ],
      "source": [
        "plt.plot(linearModel.loss)"
      ]
    },
    {
      "cell_type": "markdown",
      "source": [
        "<p>\n",
        "The difference between a classification and regression problem is in the use of activation functions. In a linear regression problem, the model tries to fit the data into a straight line, an activation function is not required. However, in a classification problem an activation function is required to output into probability distribution which is used to determine the class of a dataset.\n",
        "</p>\n",
        "\n",
        "\n"
      ],
      "metadata": {
        "id": "rwixrkgj7fYi"
      }
    },
    {
      "cell_type": "markdown",
      "source": [
        "<h3>Problem 5</h3>"
      ],
      "metadata": {
        "id": "jkwnjkTr8l7X"
      }
    },
    {
      "cell_type": "code",
      "execution_count": 31,
      "metadata": {
        "id": "bfAhDCqW1YXX"
      },
      "outputs": [],
      "source": [
        "class DeepNeuralNetwork:\n",
        "    def __init__(self, n_input = 4, n_classes=3,  lr=0.01, epoch=100, batch_size = 20):\n",
        "        self.lr = lr\n",
        "        self.epoch = epoch\n",
        "        self.batch = batch_size\n",
        "        self.optimizer = tf.keras.optimizers.Adam(learning_rate=self.lr)\n",
        "        self.inputlayer = Layer(n_input, 400, tf.nn.relu, \"InputLayer\")\n",
        "        self.hidden1 = Layer(400, 200, tf.nn.relu, \"hidden1\")\n",
        "        self.output = Layer(200, n_classes, name=\"outputLayer\")\n",
        "\n",
        "    #@tf.function\n",
        "    def forward(self, x):\n",
        "        logit = self.inputlayer(x)\n",
        "        logit = self.hidden1(logit)\n",
        "        logit = self.output(logit)\n",
        "\n",
        "        return logit\n",
        "\n",
        "    def fit(self, x_train, y_train, x_val=None, y_val=None):\n",
        "        if x_val is None:\n",
        "            x_val = x_train\n",
        "            y_val = y_train\n",
        "        for i in range(self.epoch):\n",
        "            total_loss = 0\n",
        "            for mini_x, mini_y in GetMiniBatch(x_train, y_train, self.batch):\n",
        "                with tf.GradientTape() as tape:\n",
        "                    logit = self.forward(mini_x)\n",
        "                    loss = tf.reduce_mean(tf.nn.softmax_cross_entropy_with_logits(mini_y, logit))\n",
        "\n",
        "                gradient = tape.gradient(loss, tape.watched_variables())\n",
        "                self.optimizer.apply_gradients(zip(gradient, tape.watched_variables()))\n",
        "                total_loss+= loss\n",
        "            total_loss/=self.batch\n",
        "\n",
        "            with tf.GradientTape() as tape:\n",
        "                logit = self.forward(x_val)\n",
        "                loss_val = tf.reduce_mean(tf.nn.softmax_cross_entropy_with_logits(y_val, logit))\n",
        "            accuracy = accuracy_score(np.argmax(y_train, 1), self.predict(x_train))\n",
        "            gradient = tape.gradient(loss_val, tape.watched_variables())\n",
        "            self.optimizer.apply_gradients(zip(gradient, tape.watched_variables()))\n",
        "\n",
        "            print(f\"Num epoch: {i} loss: {total_loss}: loss_val: {loss_val} accuracy: {accuracy}\")\n",
        "        return self\n",
        "\n",
        "    def predict(self, x):\n",
        "        y = tf.nn.softmax(self.forward(x)).numpy()\n",
        "\n",
        "        return np.argmax(y, 1)\n",
        "\n",
        "\n",
        "def accuracy_score(y_true, pred):\n",
        "    correct = np.sum(np.round(y_true) == np.round(pred))\n",
        "    total = y_true.shape[0]\n",
        "    return correct/total"
      ]
    },
    {
      "cell_type": "code",
      "execution_count": 43,
      "metadata": {
        "id": "5qJIJmt31YXX"
      },
      "outputs": [],
      "source": [
        "(x_train, y_train), (x_test, y_test) = mnist.load_data()\n",
        "y_train, y_test = y_train.reshape(-1, 1), y_test.reshape(-1, 1)\n",
        "x_train, x_test = x_train.reshape(-1, 784).astype(np.float32), x_test.reshape(-1, 784).astype(np.float32)\n",
        "\n",
        "x_train /= 255\n",
        "x_test /= 255\n",
        "\n",
        "y_train = onv.fit_transform(y_train)\n",
        "\n",
        "x_train, x_val, y_train, y_val = train_test_split(x_train, y_train, test_size=0.2)"
      ]
    },
    {
      "cell_type": "code",
      "execution_count": 33,
      "metadata": {
        "id": "-zt7fzV51YXX"
      },
      "outputs": [],
      "source": [
        "x_train.shape\n",
        "#y_train.shape\n",
        "n_input = x_train.shape[1]\n",
        "n_classes = y_train.shape[1]"
      ]
    },
    {
      "cell_type": "code",
      "execution_count": 34,
      "metadata": {
        "colab": {
          "base_uri": "https://localhost:8080/"
        },
        "id": "rp260WPY1YXX",
        "outputId": "2ddef97b-7690-4bf9-8766-d50de7a4ef88"
      },
      "outputs": [
        {
          "output_type": "stream",
          "name": "stdout",
          "text": [
            "Num epoch: 0 loss: 11395.6142578125: loss_val: 37.25117111206055 accuracy: 0.9132916666666666\n",
            "Num epoch: 1 loss: 2703.834228515625: loss_val: 24.505062103271484 accuracy: 0.9467708333333333\n",
            "Num epoch: 2 loss: 1412.4647216796875: loss_val: 20.322420120239258 accuracy: 0.95925\n",
            "Num epoch: 3 loss: 782.0758056640625: loss_val: 18.732431411743164 accuracy: 0.9658958333333333\n",
            "Num epoch: 4 loss: 505.71710205078125: loss_val: 16.69442367553711 accuracy: 0.9701041666666667\n",
            "Num epoch: 5 loss: 351.2389221191406: loss_val: 15.478032112121582 accuracy: 0.9795416666666666\n",
            "Num epoch: 6 loss: 269.8404846191406: loss_val: 14.831217765808105 accuracy: 0.9851458333333334\n",
            "Num epoch: 7 loss: 209.45187377929688: loss_val: 13.600619316101074 accuracy: 0.9871458333333333\n",
            "Num epoch: 8 loss: 162.71311950683594: loss_val: 13.610244750976562 accuracy: 0.9862083333333334\n",
            "Num epoch: 9 loss: 149.6765899658203: loss_val: 12.473906517028809 accuracy: 0.9895625\n"
          ]
        }
      ],
      "source": [
        "model = DeepNeuralNetwork(lr=0.001, n_input=n_input, n_classes=n_classes, epoch=10).fit(x_train, y_train, x_val, y_val)"
      ]
    },
    {
      "cell_type": "code",
      "source": [
        "pred = model.predict(x_test)\n",
        "\n"
      ],
      "metadata": {
        "id": "tWFA5ckp5lOn"
      },
      "execution_count": 46,
      "outputs": []
    },
    {
      "cell_type": "code",
      "source": [
        "print(pred.shape)\n",
        "y_test.shape\n"
      ],
      "metadata": {
        "colab": {
          "base_uri": "https://localhost:8080/"
        },
        "id": "EuNF_Kso6Scl",
        "outputId": "71d11092-3882-4aee-8601-e767e7595094"
      },
      "execution_count": 51,
      "outputs": [
        {
          "output_type": "stream",
          "name": "stdout",
          "text": [
            "(10000,)\n"
          ]
        },
        {
          "output_type": "execute_result",
          "data": {
            "text/plain": [
              "(10000, 1)"
            ]
          },
          "metadata": {},
          "execution_count": 51
        }
      ]
    },
    {
      "cell_type": "code",
      "source": [
        "from sklearn.metrics import confusion_matrix, accuracy_score\n",
        "\n",
        "confusion_matrix(y_test, pred)"
      ],
      "metadata": {
        "colab": {
          "base_uri": "https://localhost:8080/"
        },
        "id": "ATEVx6Gx564k",
        "outputId": "83e80386-1a92-4086-c786-376452cab683"
      },
      "execution_count": 48,
      "outputs": [
        {
          "output_type": "execute_result",
          "data": {
            "text/plain": [
              "array([[ 968,    1,    0,    2,    0,    5,    2,    1,    0,    1],\n",
              "       [   0, 1108,    4,    3,    3,    3,    4,    1,    6,    3],\n",
              "       [   5,    3,  974,   17,    4,    3,    7,    7,   11,    1],\n",
              "       [   0,    0,    7,  963,    1,   20,    0,    5,    4,   10],\n",
              "       [   0,    0,    0,    0,  947,    2,    9,    5,    3,   16],\n",
              "       [   4,    0,    0,   13,    2,  856,    4,    1,    6,    6],\n",
              "       [   7,    2,    0,    1,    5,   11,  926,    1,    4,    1],\n",
              "       [   1,    5,    9,    6,   12,    2,    0,  968,    6,   19],\n",
              "       [   0,    2,    5,   19,    8,   19,    2,    5,  904,   10],\n",
              "       [   3,    2,    0,   10,   27,    2,    0,   11,    9,  945]])"
            ]
          },
          "metadata": {},
          "execution_count": 48
        }
      ]
    },
    {
      "cell_type": "code",
      "source": [
        "accuracy_score(y_test, pred)\n"
      ],
      "metadata": {
        "colab": {
          "base_uri": "https://localhost:8080/"
        },
        "id": "KCwt1reN6-3m",
        "outputId": "7ed814d0-68d4-492f-a75b-2e7631823b23"
      },
      "execution_count": 49,
      "outputs": [
        {
          "output_type": "execute_result",
          "data": {
            "text/plain": [
              "0.9559"
            ]
          },
          "metadata": {},
          "execution_count": 49
        }
      ]
    }
  ],
  "metadata": {
    "kernelspec": {
      "display_name": "Python 3",
      "language": "python",
      "name": "python3"
    },
    "language_info": {
      "codemirror_mode": {
        "name": "ipython",
        "version": 3
      },
      "file_extension": ".py",
      "mimetype": "text/x-python",
      "name": "python",
      "nbconvert_exporter": "python",
      "pygments_lexer": "ipython3",
      "version": "3.12.1"
    },
    "colab": {
      "provenance": [],
      "include_colab_link": true
    }
  },
  "nbformat": 4,
  "nbformat_minor": 0
}