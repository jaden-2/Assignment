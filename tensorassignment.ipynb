{
 "cells": [
  {
   "cell_type": "code",
   "execution_count": 199,
   "metadata": {},
   "outputs": [],
   "source": [
    "import numpy as np\n",
    "import tensorflow as tf \n",
    "import pandas as pd\n",
    "from matplotlib import pyplot as plt \n",
    "from sklearn.datasets import load_iris\n",
    "from sklearn.preprocessing import OneHotEncoder\n",
    "from sklearn.model_selection import train_test_split\n",
    "from keras.datasets import mnist\n"
   ]
  },
  {
   "cell_type": "markdown",
   "metadata": {},
   "source": [
    "<h3>Problem 1</h3>\n",
    "<p>Things I needed to implment for deep learing:</p>\n",
    "<ol>\n",
    "<li>I had to initilizew weights and baises</li>\n",
    "<li>I have to perform initlize the nodes of each hidden layer of the network</li>\n",
    "<li>I performed forward propagation for each layer</li>\n",
    "<li>I had to implement an activation function and applied it on the output of each layer</li>\n",
    "<li>I had to implement a loss function</li>\n",
    "<li>I had to implement back propagaiton method for the network</li>\n",
    "<li>I had to train the model using a fit  method</li>\n",
    "<li>I had to implement an optimizer to update the values of weights and baises</li>\n",
    "<li>I had to implement a predict method</li>\n",
    "</ol>"
   ]
  },
  {
   "cell_type": "markdown",
   "metadata": {},
   "source": [
    "<h3>Problem 2</h3>\n",
    "\n",
    "<p>&emsp;The sample code is a deep learning logistic regression model implemented using tensor flow version 1. The model is trained to learn to distinguish between species of flowers, specifically iris flowers of the <b><i>versicolor and virginica </i></b> class.<br/>\n",
    "&emsp; The sample code begins by performing feature selection and data processing on the iris dataset, followed by the definition of the mini batch class. Further down, the paramters for the layers in the class were initilized and assigned values. The exmaple_net function defines the forward propagation operation for the network. Loss_op, train_op, optimizer, and accuracy are used to calculate the loss, forward, backward propagation, and accuracy of the model respectively. <br/>\n",
    "&emsp; TensorFlow version one by default using graph computation, therefore a session has to be created for the training of the model. This session was created using the tf.session method. Within this session, the model is trained. \n",
    "\n",
    "</p>"
   ]
  },
  {
   "cell_type": "code",
   "execution_count": 200,
   "metadata": {},
   "outputs": [],
   "source": [
    "class GetMiniBatch:\n",
    "    \"\"\"\n",
    "Iterator to get a mini-batch\n",
    "\n",
    "    Parameters\n",
    "    ----------\n",
    "    X : The following forms of ndarray, shape (n_samples, n_features)\n",
    "      Training data\n",
    "    y : The following form of ndarray, shape (n_samples, 1)\n",
    "      Correct answer value\n",
    "    batch_size : int\n",
    "      Batch size\n",
    "    seed : int\n",
    "      NumPy random seed\n",
    "    \"\"\"\n",
    "    def __init__(self, X, y, batch_size = 20, seed=0):\n",
    "        self.batch_size = batch_size\n",
    "        np.random.seed(seed)\n",
    "        shuffle_index = np.random.permutation(np.arange(X.shape[0]))\n",
    "        self._X = X[shuffle_index]\n",
    "        self._y = y[shuffle_index]\n",
    "        self._stop = np.ceil(X.shape[0]/self.batch_size).astype(np.int_)\n",
    "\n",
    "    def __len__(self):\n",
    "        return self._stop\n",
    "\n",
    "    def __getitem__(self,item):\n",
    "        p0 = item*self.batch_size\n",
    "        p1 = item*self.batch_size + self.batch_size\n",
    "        return self._X[p0:p1], self._y[p0:p1]        \n",
    "\n",
    "    def __iter__(self):\n",
    "        self._counter = 0\n",
    "        return self\n",
    "\n",
    "    def __next__(self):\n",
    "        if self._counter >= self._stop:\n",
    "            raise StopIteration()\n",
    "        p0 = self._counter*self.batch_size\n",
    "        p1 = self._counter*self.batch_size + self.batch_size\n",
    "        self._counter += 1\n",
    "        return self._X[p0:p1], self._y[p0:p1]"
   ]
  },
  {
   "cell_type": "code",
   "execution_count": 201,
   "metadata": {},
   "outputs": [],
   "source": [
    "iris = load_iris()\n",
    "features = iris[\"data\"]\n",
    "target = iris[\"target\"]\n",
    "\n",
    "x_train, x_test, y_train, y_test = train_test_split(features, target, test_size=0.2)\n",
    "\n",
    "x_train, y_train, x_test, y_test = x_train.astype(np.float32), y_train.astype(np.float32), x_test.astype(np.float32), y_test.astype(np.float32)\n",
    "y_train = y_train.reshape(-1, 1)\n",
    "onv = OneHotEncoder(sparse_output=False)\n",
    "y_train = onv.fit_transform(y_train)\n",
    "\n",
    "x_train, x_val, y_train, y_val = train_test_split(x_train, y_train, test_size=0.2)\n"
   ]
  },
  {
   "cell_type": "markdown",
   "metadata": {},
   "source": [
    "<h3>Problem 3</h3>"
   ]
  },
  {
   "cell_type": "code",
   "execution_count": 202,
   "metadata": {},
   "outputs": [],
   "source": [
    "\n",
    "\n",
    "# network parameters\n",
    "\n",
    "\n",
    "class Layer(tf.Module):\n",
    "    def __init__(self, n_input, n_output, activation=None, name=None):\n",
    "        super().__init__(name=name)\n",
    "        self.weight = tf.Variable(tf.random.normal([n_input, n_output]))\n",
    "        self.bais = tf.Variable(tf.random.normal([n_output]))\n",
    "        self.activation = activation\n",
    "    \n",
    "    def __call__(self, x):\n",
    "        y = tf.add(tf.matmul(x, self.weight), self.bais)\n",
    "        if self.activation == None:\n",
    "            return y\n",
    "        return self.activation(y)\n",
    "\n",
    "\n",
    "class LogisticRegression:\n",
    "    def __init__(self, n_input = 4, n_classes=3,  lr=0.01, epoch=100, batch_size = 20):\n",
    "        self.lr = lr\n",
    "        self.epoch = epoch\n",
    "        self.batch = batch_size\n",
    "        self.optimizer = tf.keras.optimizers.Adam(learning_rate=self.lr)\n",
    "        self.inputlayer = Layer(n_input, 100, tf.nn.relu, \"InputLayer\")\n",
    "        self.hidden1 = Layer(100, 50, tf.nn.relu, \"hidden1\")\n",
    "        self.output = Layer(50,n_classes , name=\"outputLayer\")\n",
    "    \n",
    "    #@tf.function\n",
    "    def forward(self, x):\n",
    "        logit = self.inputlayer(x)\n",
    "        logit = self.hidden1(logit)\n",
    "        logit = self.output(logit)\n",
    "\n",
    "        return logit\n",
    "    \n",
    "    def fit(self, x_train, y_train, x_val=None, y_val=None):\n",
    "        if x_val is None:\n",
    "            x_val = x_train\n",
    "            y_val = y_train\n",
    "        for i in range(self.epoch):\n",
    "            total_loss = 0\n",
    "            for mini_x, mini_y in GetMiniBatch(x_train, y_train, self.batch):\n",
    "                with tf.GradientTape() as tape:\n",
    "                    logit = self.forward(mini_x)\n",
    "                    loss = tf.reduce_mean(tf.nn.softmax_cross_entropy_with_logits(mini_y, logit))\n",
    "                \n",
    "                gradient = tape.gradient(loss, tape.watched_variables())\n",
    "                self.optimizer.apply_gradients(zip(gradient, tape.watched_variables()))\n",
    "                total_loss+= loss\n",
    "            total_loss/=self.batch\n",
    "            \n",
    "            with tf.GradientTape() as tape:\n",
    "                logit = self.forward(x_val)\n",
    "                loss_val = tf.reduce_mean(tf.nn.softmax_cross_entropy_with_logits(y_val, logit))\n",
    "            accuracy = accuracy_score(np.argmax(y_train, 1), self.predict(x_train))\n",
    "            gradient = tape.gradient(loss_val, tape.watched_variables())\n",
    "            self.optimizer.apply_gradients(zip(gradient, tape.watched_variables()))\n",
    "            \n",
    "            print(f\"Num epoch: {i} loss: {total_loss}: loss_val: {loss_val} accuracy: {accuracy}\")\n",
    "        return self\n",
    "    \n",
    "    def predict(self, x):\n",
    "        y = tf.nn.softmax(self.forward(x)).numpy()\n",
    "\n",
    "        return np.argmax(y, 1)\n",
    "        \n",
    "                \n",
    "def accuracy_score(y_true, pred):\n",
    "    correct = np.sum(np.round(y_true) == np.round(pred))\n",
    "    total = y_true.shape[0]\n",
    "    return correct/total\n",
    "\n"
   ]
  },
  {
   "cell_type": "code",
   "execution_count": 203,
   "metadata": {},
   "outputs": [
    {
     "name": "stdout",
     "output_type": "stream",
     "text": [
      "Num epoch: 0 loss: 64.81022644042969: loss_val: 141.96441650390625 accuracy: 0.3333333333333333\n",
      "Num epoch: 1 loss: 13.095169067382812: loss_val: 60.31312942504883 accuracy: 0.6666666666666666\n",
      "Num epoch: 2 loss: 12.731282234191895: loss_val: 45.04583740234375 accuracy: 0.6666666666666666\n",
      "Num epoch: 3 loss: 3.5586624145507812: loss_val: 13.4235200881958 accuracy: 0.6666666666666666\n",
      "Num epoch: 4 loss: 1.2941588163375854: loss_val: 7.449328899383545 accuracy: 0.75\n",
      "Num epoch: 5 loss: 0.7769892811775208: loss_val: 2.720351457595825 accuracy: 0.7916666666666666\n",
      "Num epoch: 6 loss: 0.5563865303993225: loss_val: 0.4177115857601166 accuracy: 0.9375\n",
      "Num epoch: 7 loss: 0.3524097502231598: loss_val: 0.18677596747875214 accuracy: 0.9583333333333334\n",
      "Num epoch: 8 loss: 0.2015172690153122: loss_val: 0.37634268403053284 accuracy: 0.9166666666666666\n",
      "Num epoch: 9 loss: 0.22352543473243713: loss_val: 0.46376073360443115 accuracy: 0.9479166666666666\n",
      "Num epoch: 10 loss: 0.17282110452651978: loss_val: 0.5505621433258057 accuracy: 0.9166666666666666\n",
      "Num epoch: 11 loss: 0.17605458199977875: loss_val: 0.1830500215291977 accuracy: 0.9583333333333334\n",
      "Num epoch: 12 loss: 0.1544339954853058: loss_val: 0.23005850613117218 accuracy: 0.9270833333333334\n",
      "Num epoch: 13 loss: 0.1588582545518875: loss_val: 0.11380039900541306 accuracy: 0.9479166666666666\n",
      "Num epoch: 14 loss: 0.12937624752521515: loss_val: 0.006973224226385355 accuracy: 0.9375\n",
      "Num epoch: 15 loss: 0.1367127001285553: loss_val: 0.007643442135304213 accuracy: 0.9375\n",
      "Num epoch: 16 loss: 0.12081661075353622: loss_val: 0.007000185549259186 accuracy: 0.9375\n",
      "Num epoch: 17 loss: 0.12178663909435272: loss_val: 0.005287570878863335 accuracy: 0.9375\n",
      "Num epoch: 18 loss: 0.11723507940769196: loss_val: 0.003637704299762845 accuracy: 0.9375\n",
      "Num epoch: 19 loss: 0.11584599316120148: loss_val: 0.009428237564861774 accuracy: 0.9479166666666666\n",
      "Num epoch: 20 loss: 0.11213191598653793: loss_val: 0.003578546456992626 accuracy: 0.9479166666666666\n",
      "Num epoch: 21 loss: 0.11088509857654572: loss_val: 0.01216137409210205 accuracy: 0.9479166666666666\n",
      "Num epoch: 22 loss: 0.10693850368261337: loss_val: 0.006895218510180712 accuracy: 0.9375\n",
      "Num epoch: 23 loss: 0.10544632375240326: loss_val: 0.008338073268532753 accuracy: 0.9479166666666666\n",
      "Num epoch: 24 loss: 0.10257621854543686: loss_val: 0.016969973221421242 accuracy: 0.9479166666666666\n",
      "Num epoch: 25 loss: 0.09989937394857407: loss_val: 0.01670095883309841 accuracy: 0.9583333333333334\n",
      "Num epoch: 26 loss: 0.09792307019233704: loss_val: 0.015650669112801552 accuracy: 0.9583333333333334\n",
      "Num epoch: 27 loss: 0.09606806933879852: loss_val: 0.02180469036102295 accuracy: 0.9583333333333334\n",
      "Num epoch: 28 loss: 0.09391457587480545: loss_val: 0.03641996532678604 accuracy: 0.9479166666666666\n",
      "Num epoch: 29 loss: 0.09211201965808868: loss_val: 0.05873648822307587 accuracy: 0.9479166666666666\n",
      "Num epoch: 30 loss: 0.09240762889385223: loss_val: 0.06345883011817932 accuracy: 0.9479166666666666\n",
      "Num epoch: 31 loss: 0.09542956203222275: loss_val: 0.0232318714261055 accuracy: 0.9583333333333334\n",
      "Num epoch: 32 loss: 0.09459948539733887: loss_val: 0.014854726381599903 accuracy: 0.9583333333333334\n",
      "Num epoch: 33 loss: 0.09152963012456894: loss_val: 0.013207118958234787 accuracy: 0.9583333333333334\n",
      "Num epoch: 34 loss: 0.08909416943788528: loss_val: 0.014627938158810139 accuracy: 0.9583333333333334\n",
      "Num epoch: 35 loss: 0.08718223869800568: loss_val: 0.023665035143494606 accuracy: 0.9583333333333334\n",
      "Num epoch: 36 loss: 0.08594034612178802: loss_val: 0.04472844675183296 accuracy: 0.9583333333333334\n",
      "Num epoch: 37 loss: 0.08702000230550766: loss_val: 0.04594914987683296 accuracy: 0.9583333333333334\n",
      "Num epoch: 38 loss: 0.08929161727428436: loss_val: 0.030350493267178535 accuracy: 0.9583333333333334\n",
      "Num epoch: 39 loss: 0.0889277309179306: loss_val: 0.02966534160077572 accuracy: 0.9583333333333334\n",
      "Num epoch: 40 loss: 0.08657516539096832: loss_val: 0.03970785066485405 accuracy: 0.9583333333333334\n",
      "Num epoch: 41 loss: 0.08566857874393463: loss_val: 0.048213373869657516 accuracy: 0.96875\n",
      "Num epoch: 42 loss: 0.08643433451652527: loss_val: 0.03718358650803566 accuracy: 0.9583333333333334\n",
      "Num epoch: 43 loss: 0.08512282371520996: loss_val: 0.03877780959010124 accuracy: 0.9583333333333334\n",
      "Num epoch: 44 loss: 0.08413688838481903: loss_val: 0.0504220686852932 accuracy: 0.96875\n",
      "Num epoch: 45 loss: 0.08380693197250366: loss_val: 0.054314833134412766 accuracy: 0.96875\n",
      "Num epoch: 46 loss: 0.08343435078859329: loss_val: 0.05375989153981209 accuracy: 0.9791666666666666\n",
      "Num epoch: 47 loss: 0.0813446193933487: loss_val: 0.06295598298311234 accuracy: 0.9791666666666666\n",
      "Num epoch: 48 loss: 0.0818340927362442: loss_val: 0.05316053330898285 accuracy: 0.96875\n",
      "Num epoch: 49 loss: 0.08182480931282043: loss_val: 0.04519861564040184 accuracy: 0.96875\n",
      "Num epoch: 50 loss: 0.08002842217683792: loss_val: 0.06288615614175797 accuracy: 0.9791666666666666\n",
      "Num epoch: 51 loss: 0.08046134561300278: loss_val: 0.05133223161101341 accuracy: 0.9791666666666666\n",
      "Num epoch: 52 loss: 0.07886133342981339: loss_val: 0.06638074666261673 accuracy: 0.9791666666666666\n",
      "Num epoch: 53 loss: 0.07885649800300598: loss_val: 0.0584854818880558 accuracy: 0.9791666666666666\n",
      "Num epoch: 54 loss: 0.07756073772907257: loss_val: 0.07034487277269363 accuracy: 0.9791666666666666\n",
      "Num epoch: 55 loss: 0.0779295340180397: loss_val: 0.05701684579253197 accuracy: 0.9791666666666666\n",
      "Num epoch: 56 loss: 0.07632257789373398: loss_val: 0.07300367206335068 accuracy: 0.9791666666666666\n",
      "Num epoch: 57 loss: 0.07655856758356094: loss_val: 0.06994244456291199 accuracy: 0.9895833333333334\n",
      "Num epoch: 58 loss: 0.0748792514204979: loss_val: 0.08423209190368652 accuracy: 0.9791666666666666\n",
      "Num epoch: 59 loss: 0.07536280900239944: loss_val: 0.060805827379226685 accuracy: 0.9895833333333334\n",
      "Num epoch: 60 loss: 0.07528126984834671: loss_val: 0.06022922694683075 accuracy: 0.9791666666666666\n",
      "Num epoch: 61 loss: 0.07528968155384064: loss_val: 0.06154480203986168 accuracy: 0.9895833333333334\n",
      "Num epoch: 62 loss: 0.07303711771965027: loss_val: 0.07232141494750977 accuracy: 0.9791666666666666\n",
      "Num epoch: 63 loss: 0.07272307574748993: loss_val: 0.07504492998123169 accuracy: 0.9895833333333334\n",
      "Num epoch: 64 loss: 0.07256034016609192: loss_val: 0.06471918523311615 accuracy: 0.9895833333333334\n",
      "Num epoch: 65 loss: 0.07139267027378082: loss_val: 0.07488257437944412 accuracy: 0.9791666666666666\n",
      "Num epoch: 66 loss: 0.07183542102575302: loss_val: 0.07013677805662155 accuracy: 0.9895833333333334\n",
      "Num epoch: 67 loss: 0.06936796009540558: loss_val: 0.08771700412034988 accuracy: 0.9791666666666666\n",
      "Num epoch: 68 loss: 0.07028170675039291: loss_val: 0.07069724053144455 accuracy: 0.9895833333333334\n",
      "Num epoch: 69 loss: 0.06884266436100006: loss_val: 0.07420366257429123 accuracy: 0.9895833333333334\n",
      "Num epoch: 70 loss: 0.06948859244585037: loss_val: 0.06551072746515274 accuracy: 0.9895833333333334\n",
      "Num epoch: 71 loss: 0.06848062574863434: loss_val: 0.07368240505456924 accuracy: 0.9895833333333334\n",
      "Num epoch: 72 loss: 0.06673490256071091: loss_val: 0.08320832997560501 accuracy: 0.9791666666666666\n",
      "Num epoch: 73 loss: 0.0676150918006897: loss_val: 0.06740982830524445 accuracy: 0.9895833333333334\n",
      "Num epoch: 74 loss: 0.06623634696006775: loss_val: 0.06929486989974976 accuracy: 0.9895833333333334\n",
      "Num epoch: 75 loss: 0.06639669090509415: loss_val: 0.06506294757127762 accuracy: 0.9895833333333334\n",
      "Num epoch: 76 loss: 0.0655234307050705: loss_val: 0.07198524475097656 accuracy: 0.9895833333333334\n",
      "Num epoch: 77 loss: 0.06349694728851318: loss_val: 0.08371435850858688 accuracy: 0.9895833333333334\n",
      "Num epoch: 78 loss: 0.06443002820014954: loss_val: 0.06817253679037094 accuracy: 0.9895833333333334\n",
      "Num epoch: 79 loss: 0.0633750855922699: loss_val: 0.06596338748931885 accuracy: 0.9895833333333334\n",
      "Num epoch: 80 loss: 0.06305310130119324: loss_val: 0.06403688341379166 accuracy: 0.9895833333333334\n",
      "Num epoch: 81 loss: 0.062205296009778976: loss_val: 0.07127650827169418 accuracy: 0.9895833333333334\n",
      "Num epoch: 82 loss: 0.06026393920183182: loss_val: 0.08114200085401535 accuracy: 0.9895833333333334\n",
      "Num epoch: 83 loss: 0.061287473887205124: loss_val: 0.055724382400512695 accuracy: 0.9895833333333334\n",
      "Num epoch: 84 loss: 0.06302013993263245: loss_val: 0.037732336670160294 accuracy: 0.9895833333333334\n",
      "Num epoch: 85 loss: 0.06066632270812988: loss_val: 0.04588282108306885 accuracy: 0.9895833333333334\n",
      "Num epoch: 86 loss: 0.054554976522922516: loss_val: 0.06574545055627823 accuracy: 0.9895833333333334\n",
      "Num epoch: 87 loss: 0.052219949662685394: loss_val: 0.08124411851167679 accuracy: 0.9895833333333334\n",
      "Num epoch: 88 loss: 0.05333699658513069: loss_val: 0.09248068183660507 accuracy: 0.9791666666666666\n",
      "Num epoch: 89 loss: 0.05835236981511116: loss_val: 0.061144739389419556 accuracy: 0.9895833333333334\n",
      "Num epoch: 90 loss: 0.05717523768544197: loss_val: 0.06195873022079468 accuracy: 0.9895833333333334\n",
      "Num epoch: 91 loss: 0.05341847613453865: loss_val: 0.07664366811513901 accuracy: 0.9895833333333334\n",
      "Num epoch: 92 loss: 0.05338796228170395: loss_val: 0.06652645021677017 accuracy: 0.9895833333333334\n",
      "Num epoch: 93 loss: 0.057919591665267944: loss_val: 0.037916913628578186 accuracy: 0.9895833333333334\n",
      "Num epoch: 94 loss: 0.057088594883680344: loss_val: 0.03262229636311531 accuracy: 0.9895833333333334\n",
      "Num epoch: 95 loss: 0.05020853877067566: loss_val: 0.036124203354120255 accuracy: 0.9895833333333334\n",
      "Num epoch: 96 loss: 0.04505688697099686: loss_val: 0.017897790297865868 accuracy: 0.9791666666666666\n",
      "Num epoch: 97 loss: 0.04206240177154541: loss_val: 0.01246553659439087 accuracy: 0.9791666666666666\n",
      "Num epoch: 98 loss: 0.03955615311861038: loss_val: 0.02295166254043579 accuracy: 0.9895833333333334\n",
      "Num epoch: 99 loss: 0.0382896289229393: loss_val: 0.06301789730787277 accuracy: 0.9895833333333334\n"
     ]
    },
    {
     "data": {
      "text/plain": [
       "<__main__.LogisticRegression at 0x282df4fc440>"
      ]
     },
     "execution_count": 203,
     "metadata": {},
     "output_type": "execute_result"
    }
   ],
   "source": [
    "model = LogisticRegression()\n",
    "model.fit(x_train, y_train, x_val, y_val)"
   ]
  },
  {
   "cell_type": "code",
   "execution_count": 204,
   "metadata": {},
   "outputs": [
    {
     "data": {
      "text/plain": [
       "0.9666666666666667"
      ]
     },
     "execution_count": 204,
     "metadata": {},
     "output_type": "execute_result"
    }
   ],
   "source": [
    "pred = model.predict(x_test)\n",
    "\n",
    "accuracy_score(y_test, pred)"
   ]
  },
  {
   "cell_type": "code",
   "execution_count": 205,
   "metadata": {},
   "outputs": [
    {
     "data": {
      "text/plain": [
       "Text(0, 0.5, 'True value')"
      ]
     },
     "execution_count": 205,
     "metadata": {},
     "output_type": "execute_result"
    },
    {
     "data": {
      "image/png": "[encoded data removed]",
      "text/plain": [
       "<Figure size 640x480 with 1 Axes>"
      ]
     },
     "metadata": {},
     "output_type": "display_data"
    }
   ],
   "source": [
    "plt.scatter(pred, y_test)\n",
    "plt.xlabel(\"prediction\")\n",
    "plt.ylabel(\"True value\")"
   ]
  },
  {
   "cell_type": "markdown",
   "metadata": {},
   "source": [
    "<h3>Problem 4</h3>"
   ]
  },
  {
   "cell_type": "code",
   "execution_count": 206,
   "metadata": {},
   "outputs": [],
   "source": [
    "house_train = pd.read_csv(\"./data/train.csv\")"
   ]
  },
  {
   "cell_type": "code",
   "execution_count": 207,
   "metadata": {},
   "outputs": [
    {
     "data": {
      "text/plain": [
       "<Axes: ylabel='SalePrice'>"
      ]
     },
     "execution_count": 207,
     "metadata": {},
     "output_type": "execute_result"
    },
    {
     "data": {
      "image/png": "[encoded data removed]",
      "text/plain": [
       "<Figure size 800x500 with 1 Axes>"
      ]
     },
     "metadata": {},
     "output_type": "display_data"
    }
   ],
   "source": [
    "import seaborn as sns\n",
    "\n",
    "test = house_train.dropna(axis=1).corr(numeric_only=True)\n",
    "test = test[\"SalePrice\"]\n",
    "test = test[test > 0.6]\n",
    "\n",
    "plt.figure(figsize=(8, 5))\n",
    "sns.barplot(test)"
   ]
  },
  {
   "cell_type": "code",
   "execution_count": 208,
   "metadata": {},
   "outputs": [],
   "source": [
    "def standardScaler(x):# standardization\n",
    "    num = x - np.mean(x)\n",
    "    return num/np.std(x)\n",
    "\n",
    "def normalization(x):\n",
    "    num = x - np.min(x)\n",
    "    denum = np.max(x) - np.min(x)\n",
    "    return num/denum\n",
    "\n",
    "features = [\"OverallQual\",\"GrLivArea\", \"YearBuilt\"]\n",
    "target = [\"SalePrice\"]\n",
    "\n",
    "y = house_train[target]\n",
    "x = house_train[features]\n",
    "\n",
    "x_train, x_test, y_train, y_test = train_test_split(x, y, test_size=0.2)\n",
    "\n",
    "# standardization of data\n",
    "#x_train = x.apply(standardScaler).to_numpy().astype(np.float32)\n",
    "#y_train = y.apply(standardScaler).to_numpy().astype(np.float32)\n",
    "\n",
    "x_train = x.to_numpy().astype(np.float32)\n",
    "y_train = y.to_numpy().astype(np.float32)\n",
    "\n",
    "# normalization\n",
    "# x_train = x.apply(normalization).to_numpy().astype(np.float32)\n",
    "# y_train = y.apply(normalization).to_numpy().astype(np.float32)\n",
    "\n",
    "x_train, x_val, y_train, y_val = train_test_split(x_train, y_train, test_size=0.2)\n",
    "\n",
    "x_test, y_test = x_test.to_numpy().astype(np.float32), y_test.to_numpy().astype(np.float32)"
   ]
  },
  {
   "cell_type": "code",
   "execution_count": 209,
   "metadata": {},
   "outputs": [],
   "source": [
    "class LinearRegression:\n",
    "    def __init__(self, n_input=3, lr=0.001, epoch= 100, batch_size=20):\n",
    "        self.lr = lr\n",
    "        self.batch_size = batch_size\n",
    "        self.epoch = epoch\n",
    "        self.optimizer = tf.keras.optimizers.Adam(learning_rate=self.lr)\n",
    "        self.inputLayer = Layer(n_input, 200, name= \"inputLayer\")\n",
    "        self.middleLayer1 = Layer(200, 100, name=\"middleLayer\")\n",
    "        self.middleLayer = Layer(100, 50, name=\"middleLayer\")\n",
    "        self.outputLayer = Layer(50, 1, name=\"outputLayer\")\n",
    "        self.loss = np.array([])\n",
    "    \n",
    "    def forward(self, x):\n",
    "        logit = self.inputLayer(x)\n",
    "        logit = self.middleLayer1(logit)\n",
    "        logit = self.middleLayer(logit)\n",
    "        logit = self.outputLayer(logit)\n",
    "\n",
    "        return logit\n",
    "\n",
    "    def predict(self, x):\n",
    "        return self.forward(x)\n",
    "    \n",
    "    def fit(self, x_train, y_train, x_val=None, y_val=None):\n",
    "        if x_val is None:\n",
    "            x_val = x_train\n",
    "            y_val = y_train\n",
    "\n",
    "        for i in range(self.epoch):\n",
    "            totalLoss = 0\n",
    "            for mini_x, mini_y in GetMiniBatch(x_train, y_train, batch_size= self.batch_size):\n",
    "                with tf.GradientTape() as tape:\n",
    "                    y = self.forward(mini_x)\n",
    "                    #MSE loss function\n",
    "                    loss = tf.reduce_mean(tf.pow(y - mini_y, 2))\n",
    "                    totalLoss += loss \n",
    "                \n",
    "                gradient = tape.gradient(loss, tape.watched_variables())\n",
    "                self.optimizer.apply_gradients(zip(gradient, tape.watched_variables()))\n",
    "\n",
    "            totalLoss/=self.batch_size\n",
    "            self.loss = np.append(self.loss, totalLoss)\n",
    "\n",
    "            with tf.GradientTape() as tape:\n",
    "                y = self.forward(x_val)\n",
    "                \n",
    "                loss_val = tf.reduce_mean(tf.pow(y-y_val, 2))\n",
    "            \n",
    "            gradient = tape.gradient(loss_val, y)\n",
    "\n",
    "            self.optimizer.apply_gradients(zip(gradient, tape.watched_variables()))\n",
    "            accuracy = accuracy_score(y_val, self.predict(x_val))\n",
    "\n",
    "            print(f\"Epoch: {i} loss: {totalLoss} Loss_val: {loss_val}\")\n",
    "        \n",
    "        return self\n",
    "\n",
    "        \n",
    "\n",
    "\n",
    "        \n",
    "        \n"
   ]
  },
  {
   "cell_type": "code",
   "execution_count": 210,
   "metadata": {},
   "outputs": [
    {
     "name": "stdout",
     "output_type": "stream",
     "text": [
      "Epoch: 0 loss: 5457230954496.0 Loss_val: 1504527122432.0\n",
      "Epoch: 1 loss: 3920153804800.0 Loss_val: 1059704799232.0\n",
      "Epoch: 2 loss: 2794886266880.0 Loss_val: 741867388928.0\n",
      "Epoch: 3 loss: 2003562790912.0 Loss_val: 523630346240.0\n",
      "Epoch: 4 loss: 1467822374912.0 Loss_val: 379530477568.0\n",
      "Epoch: 5 loss: 1117466132480.0 Loss_val: 287623479296.0\n",
      "Epoch: 6 loss: 894055612416.0 Loss_val: 230318931968.0\n",
      "Epoch: 7 loss: 752436707328.0 Loss_val: 194567864320.0\n",
      "Epoch: 8 loss: 660370751488.0 Loss_val: 171439325184.0\n",
      "Epoch: 9 loss: 596639875072.0 Loss_val: 155301609472.0\n",
      "Epoch: 10 loss: 548360224768.0 Loss_val: 142877278208.0\n",
      "Epoch: 11 loss: 508309536768.0 Loss_val: 132401856512.0\n",
      "Epoch: 12 loss: 472737972224.0 Loss_val: 122994188288.0\n",
      "Epoch: 13 loss: 439841521664.0 Loss_val: 114244837376.0\n",
      "Epoch: 14 loss: 408813600768.0 Loss_val: 105978208256.0\n",
      "Epoch: 15 loss: 379324694528.0 Loss_val: 98124283904.0\n",
      "Epoch: 16 loss: 351250612224.0 Loss_val: 90657538048.0\n",
      "Epoch: 17 loss: 324550557696.0 Loss_val: 83569475584.0\n",
      "Epoch: 18 loss: 299210899456.0 Loss_val: 76856262656.0\n",
      "Epoch: 19 loss: 275222298624.0 Loss_val: 70514925568.0\n",
      "Epoch: 20 loss: 252575481856.0 Loss_val: 64542150656.0\n",
      "Epoch: 21 loss: 231255146496.0 Loss_val: 58932350976.0\n",
      "Epoch: 22 loss: 211240910848.0 Loss_val: 53679280128.0\n",
      "Epoch: 23 loss: 192507609088.0 Loss_val: 48774926336.0\n",
      "Epoch: 24 loss: 175025143808.0 Loss_val: 44210339840.0\n",
      "Epoch: 25 loss: 158759387136.0 Loss_val: 39975424000.0\n",
      "Epoch: 26 loss: 143672754176.0 Loss_val: 36059086848.0\n",
      "Epoch: 27 loss: 129724006400.0 Loss_val: 32449341440.0\n",
      "Epoch: 28 loss: 116868579328.0 Loss_val: 29133420544.0\n",
      "Epoch: 29 loss: 105060548608.0 Loss_val: 26098280448.0\n",
      "Epoch: 30 loss: 94251876352.0 Loss_val: 23330416640.0\n",
      "Epoch: 31 loss: 84393459712.0 Loss_val: 20815720448.0\n",
      "Epoch: 32 loss: 75433984000.0 Loss_val: 18539835392.0\n",
      "Epoch: 33 loss: 67321974784.0 Loss_val: 16488640512.0\n",
      "Epoch: 34 loss: 60006453248.0 Loss_val: 14647670784.0\n",
      "Epoch: 35 loss: 53435346944.0 Loss_val: 13002572800.0\n",
      "Epoch: 36 loss: 47557464064.0 Loss_val: 11539310592.0\n",
      "Epoch: 37 loss: 42322468864.0 Loss_val: 10243909632.0\n",
      "Epoch: 38 loss: 37680283648.0 Loss_val: 9102789632.0\n",
      "Epoch: 39 loss: 33583337472.0 Loss_val: 8102866432.0\n",
      "Epoch: 40 loss: 29984370688.0 Loss_val: 7231266304.0\n",
      "Epoch: 41 loss: 26838360064.0 Loss_val: 6475899904.0\n",
      "Epoch: 42 loss: 24102551552.0 Loss_val: 5825180160.0\n",
      "Epoch: 43 loss: 21735884800.0 Loss_val: 5268136960.0\n",
      "Epoch: 44 loss: 19699580928.0 Loss_val: 4794298880.0\n",
      "Epoch: 45 loss: 17957416960.0 Loss_val: 4394156544.0\n",
      "Epoch: 46 loss: 16475717632.0 Loss_val: 4058735104.0\n",
      "Epoch: 47 loss: 15223087104.0 Loss_val: 3779692800.0\n",
      "Epoch: 48 loss: 14170691584.0 Loss_val: 3549594112.0\n",
      "Epoch: 49 loss: 13292283904.0 Loss_val: 3361486336.0\n",
      "Epoch: 50 loss: 12563775488.0 Loss_val: 3209218816.0\n",
      "Epoch: 51 loss: 11963770880.0 Loss_val: 3087271936.0\n",
      "Epoch: 52 loss: 11473043456.0 Loss_val: 2990726656.0\n",
      "Epoch: 53 loss: 11074657280.0 Loss_val: 2915315968.0\n",
      "Epoch: 54 loss: 10753601536.0 Loss_val: 2857243136.0\n",
      "Epoch: 55 loss: 10496953344.0 Loss_val: 2813314816.0\n",
      "Epoch: 56 loss: 10293384192.0 Loss_val: 2780783616.0\n",
      "Epoch: 57 loss: 10133183488.0 Loss_val: 2757221376.0\n",
      "Epoch: 58 loss: 10008242176.0 Loss_val: 2740782848.0\n",
      "Epoch: 59 loss: 9911710720.0 Loss_val: 2729787392.0\n",
      "Epoch: 60 loss: 9837725696.0 Loss_val: 2722895360.0\n",
      "Epoch: 61 loss: 9781678080.0 Loss_val: 2719038720.0\n",
      "Epoch: 62 loss: 9739565056.0 Loss_val: 2717400064.0\n",
      "Epoch: 63 loss: 9708281856.0 Loss_val: 2717272832.0\n",
      "Epoch: 64 loss: 9685329920.0 Loss_val: 2718217472.0\n",
      "Epoch: 65 loss: 9668773888.0 Loss_val: 2719768320.0\n",
      "Epoch: 66 loss: 9657019392.0 Loss_val: 2721654016.0\n",
      "Epoch: 67 loss: 9648859136.0 Loss_val: 2723715328.0\n",
      "Epoch: 68 loss: 9643407360.0 Loss_val: 2725744896.0\n",
      "Epoch: 69 loss: 9639869440.0 Loss_val: 2727661568.0\n",
      "Epoch: 70 loss: 9637761024.0 Loss_val: 2729434368.0\n",
      "Epoch: 71 loss: 9636645888.0 Loss_val: 2730998272.0\n",
      "Epoch: 72 loss: 9636272128.0 Loss_val: 2732379904.0\n",
      "Epoch: 73 loss: 9636455424.0 Loss_val: 2733551616.0\n",
      "Epoch: 74 loss: 9637012480.0 Loss_val: 2734526976.0\n",
      "Epoch: 75 loss: 9637812224.0 Loss_val: 2735326976.0\n",
      "Epoch: 76 loss: 9638799360.0 Loss_val: 2735985664.0\n",
      "Epoch: 77 loss: 9639914496.0 Loss_val: 2736482816.0\n",
      "Epoch: 78 loss: 9641186304.0 Loss_val: 2736866304.0\n",
      "Epoch: 79 loss: 9642529792.0 Loss_val: 2737142784.0\n",
      "Epoch: 80 loss: 9643874304.0 Loss_val: 2737299712.0\n",
      "Epoch: 81 loss: 9645293568.0 Loss_val: 2737389824.0\n",
      "Epoch: 82 loss: 9646765056.0 Loss_val: 2737403136.0\n",
      "Epoch: 83 loss: 9648233472.0 Loss_val: 2737360128.0\n",
      "Epoch: 84 loss: 9649772544.0 Loss_val: 2737255680.0\n",
      "Epoch: 85 loss: 9651257344.0 Loss_val: 2737099264.0\n",
      "Epoch: 86 loss: 9652701184.0 Loss_val: 2736873728.0\n",
      "Epoch: 87 loss: 9654171648.0 Loss_val: 2736627712.0\n",
      "Epoch: 88 loss: 9655616512.0 Loss_val: 2736325376.0\n",
      "Epoch: 89 loss: 9657090048.0 Loss_val: 2735988480.0\n",
      "Epoch: 90 loss: 9658488832.0 Loss_val: 2735587584.0\n",
      "Epoch: 91 loss: 9659840512.0 Loss_val: 2735180032.0\n",
      "Epoch: 92 loss: 9661184000.0 Loss_val: 2734717696.0\n",
      "Epoch: 93 loss: 9662496768.0 Loss_val: 2734244608.0\n",
      "Epoch: 94 loss: 9663768576.0 Loss_val: 2733749504.0\n",
      "Epoch: 95 loss: 9664960512.0 Loss_val: 2733225216.0\n",
      "Epoch: 96 loss: 9666057216.0 Loss_val: 2732690944.0\n",
      "Epoch: 97 loss: 9667152896.0 Loss_val: 2732139520.0\n",
      "Epoch: 98 loss: 9668200448.0 Loss_val: 2731590656.0\n",
      "Epoch: 99 loss: 9669167104.0 Loss_val: 2731047168.0\n"
     ]
    },
    {
     "data": {
      "text/plain": [
       "<__main__.LinearRegression at 0x282c80b4140>"
      ]
     },
     "execution_count": 210,
     "metadata": {},
     "output_type": "execute_result"
    }
   ],
   "source": [
    "linearModel = LinearRegression(epoch=100, lr=1e-5)\n",
    "\n",
    "linearModel.fit(x_train, y_train, x_val, y_val)"
   ]
  },
  {
   "cell_type": "code",
   "execution_count": 211,
   "metadata": {},
   "outputs": [
    {
     "data": {
      "text/plain": [
       "Text(0, 0.5, 'true value')"
      ]
     },
     "execution_count": 211,
     "metadata": {},
     "output_type": "execute_result"
    },
    {
     "data": {
      "image/png": "[encoded data removed]",
      "text/plain": [
       "<Figure size 640x480 with 1 Axes>"
      ]
     },
     "metadata": {},
     "output_type": "display_data"
    }
   ],
   "source": [
    "pred = linearModel.predict(x_test)\n",
    "\n",
    "plt.scatter(pred, y_test)\n",
    "plt.title(\"Housing price analysis\")\n",
    "plt.xlabel(\"prediction\")\n",
    "plt.ylabel(\"true value\")"
   ]
  },
  {
   "cell_type": "code",
   "execution_count": 212,
   "metadata": {},
   "outputs": [
    {
     "data": {
      "text/plain": [
       "[<matplotlib.lines.Line2D at 0x28346daba10>]"
      ]
     },
     "execution_count": 212,
     "metadata": {},
     "output_type": "execute_result"
    },
    {
     "data": {
      "image/png": "[encoded data removed]",
      "text/plain": [
       "<Figure size 640x480 with 1 Axes>"
      ]
     },
     "metadata": {},
     "output_type": "display_data"
    }
   ],
   "source": [
    "plt.plot(linearModel.loss)"
   ]
  },
  {
   "cell_type": "markdown",
   "metadata": {},
   "source": [
    "<h3>Problem 5</h3>"
   ]
  },
  {
   "cell_type": "code",
   "execution_count": 213,
   "metadata": {},
   "outputs": [],
   "source": [
    "class DeepNeuralNetwork:\n",
    "    def __init__(self, n_input = 4, n_classes=3,  lr=0.01, epoch=100, batch_size = 20):\n",
    "        self.lr = lr\n",
    "        self.epoch = epoch\n",
    "        self.batch = batch_size\n",
    "        self.optimizer = tf.keras.optimizers.Adam(learning_rate=self.lr)\n",
    "        self.inputlayer = Layer(n_input, 400, tf.nn.relu, \"InputLayer\")\n",
    "        self.hidden1 = Layer(400, 200, tf.nn.relu, \"hidden1\")\n",
    "        self.output = Layer(200, n_classes, name=\"outputLayer\")\n",
    "    \n",
    "    #@tf.function\n",
    "    def forward(self, x):\n",
    "        logit = self.inputlayer(x)\n",
    "        logit = self.hidden1(logit)\n",
    "        logit = self.output(logit)\n",
    "\n",
    "        return logit\n",
    "    \n",
    "    def fit(self, x_train, y_train, x_val=None, y_val=None):\n",
    "        if x_val is None:\n",
    "            x_val = x_train\n",
    "            y_val = y_train\n",
    "        for i in range(self.epoch):\n",
    "            total_loss = 0\n",
    "            for mini_x, mini_y in GetMiniBatch(x_train, y_train, self.batch):\n",
    "                with tf.GradientTape() as tape:\n",
    "                    logit = self.forward(mini_x)\n",
    "                    loss = tf.reduce_mean(tf.nn.softmax_cross_entropy_with_logits(mini_y, logit))\n",
    "                \n",
    "                gradient = tape.gradient(loss, tape.watched_variables())\n",
    "                self.optimizer.apply_gradients(zip(gradient, tape.watched_variables()))\n",
    "                total_loss+= loss\n",
    "            total_loss/=self.batch\n",
    "            \n",
    "            with tf.GradientTape() as tape:\n",
    "                logit = self.forward(x_val)\n",
    "                loss_val = tf.reduce_mean(tf.nn.softmax_cross_entropy_with_logits(y_val, logit))\n",
    "            accuracy = accuracy_score(np.argmax(y_train, 1), self.predict(x_train))\n",
    "            gradient = tape.gradient(loss_val, tape.watched_variables())\n",
    "            self.optimizer.apply_gradients(zip(gradient, tape.watched_variables()))\n",
    "            \n",
    "            print(f\"Num epoch: {i} loss: {total_loss}: loss_val: {loss_val} accuracy: {accuracy}\")\n",
    "        return self\n",
    "    \n",
    "    def predict(self, x):\n",
    "        y = tf.nn.softmax(self.forward(x)).numpy()\n",
    "\n",
    "        return np.argmax(y, 1)\n",
    "        \n",
    "                \n",
    "def accuracy_score(y_true, pred):\n",
    "    correct = np.sum(np.round(y_true) == np.round(pred))\n",
    "    total = y_true.shape[0]\n",
    "    return correct/total"
   ]
  },
  {
   "cell_type": "code",
   "execution_count": 220,
   "metadata": {},
   "outputs": [],
   "source": [
    "(x_train, y_train), (x_test, y_test) = mnist.load_data()\n",
    "y_train, y_test = y_train.reshape(-1, 1), y_test.reshape(-1, 1)\n",
    "x_train, x_test = x_train.reshape(-1, 784).astype(np.float32), x_train.reshape(-1, 784).astype(np.float32)\n",
    "\n",
    "x_train /= 255\n",
    "x_test /= 255\n",
    "\n",
    "y_train, y_test = onv.fit_transform(y_train), onv.fit_transform(y_test)\n",
    "\n",
    "x_train, x_val, y_train, y_val = train_test_split(x_train, y_train, test_size=0.2)"
   ]
  },
  {
   "cell_type": "code",
   "execution_count": 218,
   "metadata": {},
   "outputs": [],
   "source": [
    "x_train.shape\n",
    "#y_train.shape\n",
    "n_input = x_train.shape[1]\n",
    "n_classes = y_train.shape[1]"
   ]
  },
  {
   "cell_type": "code",
   "execution_count": 221,
   "metadata": {},
   "outputs": [],
   "source": [
    "model = DeepNeuralNetwork(lr=0.001, n_input=n_input, n_classes=n_classes, epoch=10).fit(x_train, y_train, x_val, y_val)"
   ]
  }
 ],
 "metadata": {
  "kernelspec": {
   "display_name": "Python 3",
   "language": "python",
   "name": "python3"
  },
  "language_info": {
   "codemirror_mode": {
    "name": "ipython",
    "version": 3
   },
   "file_extension": ".py",
   "mimetype": "text/x-python",
   "name": "python",
   "nbconvert_exporter": "python",
   "pygments_lexer": "ipython3",
   "version": "3.12.1"
  }
 },
 "nbformat": 4,
 "nbformat_minor": 2
}
